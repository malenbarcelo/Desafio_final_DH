{
 "cells": [
  {
   "cell_type": "markdown",
   "metadata": {},
   "source": [
    "### Desafío Integrador\n",
    "#### Análisis de las producciones del personal de Ciencia y Tecnología"
   ]
  },
  {
   "cell_type": "markdown",
   "metadata": {},
   "source": [
    "### Etapa 4: Desarrollo de un modelo para determinar la cantidad de publicaciones en revistas de prestigio de las personas"
   ]
  },
  {
   "cell_type": "markdown",
   "metadata": {},
   "source": [
    "#### 1. Lectura e interpretación de la tabla"
   ]
  },
  {
   "cell_type": "code",
   "execution_count": 162,
   "metadata": {},
   "outputs": [],
   "source": [
    "#Se importa la funcionalidad necesaria\n",
    "import pandas as pd\n",
    "import numpy as np\n",
    "from sklearn.neighbors import KNeighborsClassifier\n",
    "from sklearn.model_selection import cross_val_score, train_test_split\n",
    "%matplotlib inline\n",
    "import matplotlib.pyplot as plt\n",
    "import seaborn as sns\n",
    "import warnings\n",
    "warnings.filterwarnings('ignore')\n",
    "from sklearn.model_selection import GridSearchCV,RandomizedSearchCV\n",
    "from sklearn.metrics import confusion_matrix,roc_curve,auc,roc_auc_score\n",
    "from sklearn.metrics import precision_score, recall_score,accuracy_score\n",
    "from sklearn.linear_model  import LogisticRegression\n",
    "from sklearn.preprocessing import StandardScaler\n",
    "scaler = StandardScaler()\n",
    "from sklearn.linear_model import LinearRegression\n",
    "from sklearn import metrics\n",
    "from sklearn import datasets, linear_model\n",
    "from sklearn.model_selection import train_test_split, KFold, cross_val_score\n",
    "from sklearn.linear_model import LinearRegression, Lasso, LassoCV, Ridge, RidgeCV\n",
    "import statsmodels.api as sm\n",
    "from sklearn.metrics import mean_squared_error, r2_score\n",
    "\n"
   ]
  },
  {
   "cell_type": "code",
   "execution_count": 163,
   "metadata": {},
   "outputs": [
    {
     "data": {
      "text/html": [
       "<div>\n",
       "<style scoped>\n",
       "    .dataframe tbody tr th:only-of-type {\n",
       "        vertical-align: middle;\n",
       "    }\n",
       "\n",
       "    .dataframe tbody tr th {\n",
       "        vertical-align: top;\n",
       "    }\n",
       "\n",
       "    .dataframe thead th {\n",
       "        text-align: right;\n",
       "    }\n",
       "</style>\n",
       "<table border=\"1\" class=\"dataframe\">\n",
       "  <thead>\n",
       "    <tr style=\"text-align: right;\">\n",
       "      <th></th>\n",
       "      <th>Unnamed: 0</th>\n",
       "      <th>persona_id</th>\n",
       "      <th>publico_articulos</th>\n",
       "      <th>cant_articulos_prestigio</th>\n",
       "      <th>publico_prestigio</th>\n",
       "      <th>produccion_cantidad_articulos_total</th>\n",
       "      <th>movilidad_posgrado_exterior</th>\n",
       "      <th>movilidad_estancias_exterior</th>\n",
       "      <th>produccion_cantidad_libros</th>\n",
       "      <th>produccion_patentes_solicitadas</th>\n",
       "      <th>...</th>\n",
       "      <th>prod_2_años_ant</th>\n",
       "      <th>prod_3_años_ant</th>\n",
       "      <th>max_grado_academico</th>\n",
       "      <th>gran_area_experticia</th>\n",
       "      <th>tipo_personal</th>\n",
       "      <th>condicion_docente</th>\n",
       "      <th>ded_horaria_docente</th>\n",
       "      <th>clase_cargo_docente</th>\n",
       "      <th>categoria_conicet</th>\n",
       "      <th>rango_edad</th>\n",
       "    </tr>\n",
       "  </thead>\n",
       "  <tbody>\n",
       "    <tr>\n",
       "      <th>0</th>\n",
       "      <td>2</td>\n",
       "      <td>7</td>\n",
       "      <td>1</td>\n",
       "      <td>7</td>\n",
       "      <td>1</td>\n",
       "      <td>8</td>\n",
       "      <td>0.0</td>\n",
       "      <td>0.0</td>\n",
       "      <td>0.0</td>\n",
       "      <td>0.0</td>\n",
       "      <td>...</td>\n",
       "      <td>2.0</td>\n",
       "      <td>0.0</td>\n",
       "      <td>Universitario de grado</td>\n",
       "      <td>CIENCIAS MÉDICAS Y DE LA SALUD</td>\n",
       "      <td>BECARIO DE I+D</td>\n",
       "      <td>no docente</td>\n",
       "      <td>0</td>\n",
       "      <td>no docente</td>\n",
       "      <td>No pertenece a Conicet</td>\n",
       "      <td>(30, 40]</td>\n",
       "    </tr>\n",
       "    <tr>\n",
       "      <th>1</th>\n",
       "      <td>3</td>\n",
       "      <td>9</td>\n",
       "      <td>1</td>\n",
       "      <td>8</td>\n",
       "      <td>1</td>\n",
       "      <td>8</td>\n",
       "      <td>0.0</td>\n",
       "      <td>0.0</td>\n",
       "      <td>0.0</td>\n",
       "      <td>0.0</td>\n",
       "      <td>...</td>\n",
       "      <td>9.0</td>\n",
       "      <td>2.0</td>\n",
       "      <td>Universitario de posgrado/doctorado</td>\n",
       "      <td>CIENCIAS MÉDICAS Y DE LA SALUD</td>\n",
       "      <td>INVESTIGADOR</td>\n",
       "      <td>no docente</td>\n",
       "      <td>0</td>\n",
       "      <td>no docente</td>\n",
       "      <td>No pertenece a Conicet</td>\n",
       "      <td>(60, 70]</td>\n",
       "    </tr>\n",
       "    <tr>\n",
       "      <th>2</th>\n",
       "      <td>4</td>\n",
       "      <td>10</td>\n",
       "      <td>1</td>\n",
       "      <td>7</td>\n",
       "      <td>1</td>\n",
       "      <td>8</td>\n",
       "      <td>0.0</td>\n",
       "      <td>0.0</td>\n",
       "      <td>0.0</td>\n",
       "      <td>0.0</td>\n",
       "      <td>...</td>\n",
       "      <td>1.0</td>\n",
       "      <td>2.0</td>\n",
       "      <td>Universitario de grado</td>\n",
       "      <td>CIENCIAS NATURALES Y EXACTAS</td>\n",
       "      <td>DOCENTE</td>\n",
       "      <td>Regular o por concurso</td>\n",
       "      <td>De 0 hasta 19 horas</td>\n",
       "      <td>Ayudante de primera</td>\n",
       "      <td>No pertenece a Conicet</td>\n",
       "      <td>(50, 60]</td>\n",
       "    </tr>\n",
       "    <tr>\n",
       "      <th>3</th>\n",
       "      <td>6</td>\n",
       "      <td>12</td>\n",
       "      <td>1</td>\n",
       "      <td>1</td>\n",
       "      <td>1</td>\n",
       "      <td>1</td>\n",
       "      <td>0.0</td>\n",
       "      <td>0.0</td>\n",
       "      <td>0.0</td>\n",
       "      <td>0.0</td>\n",
       "      <td>...</td>\n",
       "      <td>1.0</td>\n",
       "      <td>0.0</td>\n",
       "      <td>Universitario de posgrado/doctorado</td>\n",
       "      <td>INGENIERÍAS Y TECNOLOGÍAS</td>\n",
       "      <td>DOCENTE</td>\n",
       "      <td>Regular o por concurso</td>\n",
       "      <td>40 horas o más</td>\n",
       "      <td>Profesor asociado</td>\n",
       "      <td>No pertenece a Conicet</td>\n",
       "      <td>(40, 50]</td>\n",
       "    </tr>\n",
       "    <tr>\n",
       "      <th>4</th>\n",
       "      <td>7</td>\n",
       "      <td>13</td>\n",
       "      <td>1</td>\n",
       "      <td>0</td>\n",
       "      <td>0</td>\n",
       "      <td>1</td>\n",
       "      <td>0.0</td>\n",
       "      <td>0.0</td>\n",
       "      <td>0.0</td>\n",
       "      <td>0.0</td>\n",
       "      <td>...</td>\n",
       "      <td>0.0</td>\n",
       "      <td>0.0</td>\n",
       "      <td>Universitario de grado</td>\n",
       "      <td>CIENCIAS SOCIALES</td>\n",
       "      <td>DOCENTE</td>\n",
       "      <td>Regular o por concurso</td>\n",
       "      <td>De 0 hasta 19 horas</td>\n",
       "      <td>Ayudante de primera</td>\n",
       "      <td>No pertenece a Conicet</td>\n",
       "      <td>(40, 50]</td>\n",
       "    </tr>\n",
       "  </tbody>\n",
       "</table>\n",
       "<p>5 rows × 39 columns</p>\n",
       "</div>"
      ],
      "text/plain": [
       "   Unnamed: 0  persona_id  publico_articulos  cant_articulos_prestigio  \\\n",
       "0           2           7                  1                         7   \n",
       "1           3           9                  1                         8   \n",
       "2           4          10                  1                         7   \n",
       "3           6          12                  1                         1   \n",
       "4           7          13                  1                         0   \n",
       "\n",
       "   publico_prestigio  produccion_cantidad_articulos_total  \\\n",
       "0                  1                                    8   \n",
       "1                  1                                    8   \n",
       "2                  1                                    8   \n",
       "3                  1                                    1   \n",
       "4                  0                                    1   \n",
       "\n",
       "   movilidad_posgrado_exterior  movilidad_estancias_exterior  \\\n",
       "0                          0.0                           0.0   \n",
       "1                          0.0                           0.0   \n",
       "2                          0.0                           0.0   \n",
       "3                          0.0                           0.0   \n",
       "4                          0.0                           0.0   \n",
       "\n",
       "   produccion_cantidad_libros  produccion_patentes_solicitadas     ...      \\\n",
       "0                         0.0                              0.0     ...       \n",
       "1                         0.0                              0.0     ...       \n",
       "2                         0.0                              0.0     ...       \n",
       "3                         0.0                              0.0     ...       \n",
       "4                         0.0                              0.0     ...       \n",
       "\n",
       "   prod_2_años_ant  prod_3_años_ant                  max_grado_academico  \\\n",
       "0              2.0              0.0               Universitario de grado   \n",
       "1              9.0              2.0  Universitario de posgrado/doctorado   \n",
       "2              1.0              2.0               Universitario de grado   \n",
       "3              1.0              0.0  Universitario de posgrado/doctorado   \n",
       "4              0.0              0.0               Universitario de grado   \n",
       "\n",
       "             gran_area_experticia   tipo_personal       condicion_docente  \\\n",
       "0  CIENCIAS MÉDICAS Y DE LA SALUD  BECARIO DE I+D              no docente   \n",
       "1  CIENCIAS MÉDICAS Y DE LA SALUD    INVESTIGADOR              no docente   \n",
       "2    CIENCIAS NATURALES Y EXACTAS         DOCENTE  Regular o por concurso   \n",
       "3       INGENIERÍAS Y TECNOLOGÍAS         DOCENTE  Regular o por concurso   \n",
       "4               CIENCIAS SOCIALES         DOCENTE  Regular o por concurso   \n",
       "\n",
       "   ded_horaria_docente  clase_cargo_docente       categoria_conicet  \\\n",
       "0                    0           no docente  No pertenece a Conicet   \n",
       "1                    0           no docente  No pertenece a Conicet   \n",
       "2  De 0 hasta 19 horas  Ayudante de primera  No pertenece a Conicet   \n",
       "3       40 horas o más    Profesor asociado  No pertenece a Conicet   \n",
       "4  De 0 hasta 19 horas  Ayudante de primera  No pertenece a Conicet   \n",
       "\n",
       "   rango_edad  \n",
       "0    (30, 40]  \n",
       "1    (60, 70]  \n",
       "2    (50, 60]  \n",
       "3    (40, 50]  \n",
       "4    (40, 50]  \n",
       "\n",
       "[5 rows x 39 columns]"
      ]
     },
     "execution_count": 163,
     "metadata": {},
     "output_type": "execute_result"
    }
   ],
   "source": [
    "#Lectura del archivo\n",
    "df=pd.read_csv('personas_2012_2016.csv')\n",
    "df_original=df\n",
    "df.head()"
   ]
  },
  {
   "cell_type": "code",
   "execution_count": 164,
   "metadata": {},
   "outputs": [],
   "source": [
    "df.drop(columns='Unnamed: 0',inplace=True)"
   ]
  },
  {
   "cell_type": "code",
   "execution_count": 165,
   "metadata": {},
   "outputs": [
    {
     "data": {
      "text/plain": [
       "(56052, 38)"
      ]
     },
     "execution_count": 165,
     "metadata": {},
     "output_type": "execute_result"
    }
   ],
   "source": [
    "df.shape"
   ]
  },
  {
   "cell_type": "markdown",
   "metadata": {},
   "source": [
    "#### 2. Generación de dummies"
   ]
  },
  {
   "cell_type": "code",
   "execution_count": 166,
   "metadata": {},
   "outputs": [],
   "source": [
    "#Se generan dummies para sexo \n",
    "df_dummies = pd.get_dummies(df['sexo'], prefix='sexo',drop_first=True)\n",
    "df=pd.concat([df,df_dummies], axis=1)\n",
    "df.drop(columns='sexo',inplace=True)"
   ]
  },
  {
   "cell_type": "code",
   "execution_count": 167,
   "metadata": {},
   "outputs": [],
   "source": [
    "#Se generan dummies para rango_edad \n",
    "df_dummies = pd.get_dummies(df['rango_edad'], prefix='edad',drop_first=True)\n",
    "df=pd.concat([df,df_dummies], axis=1)\n",
    "df.drop(columns='rango_edad',inplace=True)"
   ]
  },
  {
   "cell_type": "code",
   "execution_count": 168,
   "metadata": {},
   "outputs": [],
   "source": [
    "#Se generan dummies para tipo_personal\n",
    "df_dummies = pd.get_dummies(df['tipo_personal'], prefix='t_personal',drop_first=True)\n",
    "df=pd.concat([df,df_dummies], axis=1)\n",
    "df.drop(columns='tipo_personal',inplace=True)"
   ]
  },
  {
   "cell_type": "code",
   "execution_count": 169,
   "metadata": {},
   "outputs": [],
   "source": [
    "#Se generan dummies para condicion_docente\n",
    "df_dummies = pd.get_dummies(df['condicion_docente'], prefix='cond_docente',drop_first=True)\n",
    "df=pd.concat([df,df_dummies], axis=1)\n",
    "df.drop(columns='condicion_docente',inplace=True)"
   ]
  },
  {
   "cell_type": "code",
   "execution_count": 170,
   "metadata": {},
   "outputs": [],
   "source": [
    "#Se generan dummies para ded_horaria_docente\n",
    "df_dummies = pd.get_dummies(df['ded_horaria_docente'], prefix='ded_horaria',drop_first=True)\n",
    "df=pd.concat([df,df_dummies], axis=1)\n",
    "df.drop(columns='ded_horaria_docente',inplace=True)"
   ]
  },
  {
   "cell_type": "code",
   "execution_count": 171,
   "metadata": {},
   "outputs": [],
   "source": [
    "#Se generan dummies para max_grado_academico\n",
    "df_dummies = pd.get_dummies(df['max_grado_academico'], prefix='grado_acad',drop_first=True)\n",
    "df=pd.concat([df,df_dummies], axis=1)\n",
    "df.drop(columns='max_grado_academico',inplace=True)"
   ]
  },
  {
   "cell_type": "code",
   "execution_count": 172,
   "metadata": {},
   "outputs": [],
   "source": [
    "#Se generan dummies para categoria_conicet\n",
    "df_dummies = pd.get_dummies(df['categoria_conicet'], prefix='cat_conicet',drop_first=True)\n",
    "df=pd.concat([df,df_dummies], axis=1)\n",
    "df.drop(columns='categoria_conicet',inplace=True)"
   ]
  },
  {
   "cell_type": "code",
   "execution_count": 173,
   "metadata": {},
   "outputs": [],
   "source": [
    "#Se generan dummies para clase_cargo_docente\n",
    "df_dummies = pd.get_dummies(df['clase_cargo_docente'], prefix='clase_cargo_docente',drop_first=True)\n",
    "df=pd.concat([df,df_dummies], axis=1)\n",
    "df.drop(columns='clase_cargo_docente',inplace=True)"
   ]
  },
  {
   "cell_type": "code",
   "execution_count": 174,
   "metadata": {},
   "outputs": [],
   "source": [
    "#Se generan dummies para 'gran_area_experticia'\n",
    "df_dummies = pd.get_dummies(df['gran_area_experticia'], prefix='area_exp',drop_first=True)\n",
    "df=pd.concat([df,df_dummies], axis=1)\n",
    "df.drop(columns='gran_area_experticia',inplace=True)"
   ]
  },
  {
   "cell_type": "code",
   "execution_count": 175,
   "metadata": {},
   "outputs": [],
   "source": [
    "#df=df.loc[df['publico_prestigio']==1]"
   ]
  },
  {
   "cell_type": "code",
   "execution_count": 176,
   "metadata": {},
   "outputs": [
    {
     "data": {
      "text/plain": [
       "<matplotlib.axes._subplots.AxesSubplot at 0x7f762ca5d198>"
      ]
     },
     "execution_count": 176,
     "metadata": {},
     "output_type": "execute_result"
    },
    {
     "data": {
      "image/png": "[encoded data removed]",
      "text/plain": [
       "<Figure size 432x288 with 1 Axes>"
      ]
     },
     "metadata": {},
     "output_type": "display_data"
    }
   ],
   "source": [
    "#Se hace un boxplot para visualizar outliers.\n",
    "sns.boxplot(data=df,x='cant_articulos_prestigio')"
   ]
  },
  {
   "cell_type": "code",
   "execution_count": 177,
   "metadata": {},
   "outputs": [],
   "source": [
    "#De definen como outliers aquellos valores que se encuentran por encima de (Q3 + 1.5 IQR) \n",
    "\n",
    "umbral_superior=df['cant_articulos_prestigio'].quantile(\n",
    "    0.75)+1.5*(df['cant_articulos_prestigio'].quantile(0.75)-df[\n",
    "    'cant_articulos_prestigio'].quantile(0.25))"
   ]
  },
  {
   "cell_type": "code",
   "execution_count": 178,
   "metadata": {},
   "outputs": [
    {
     "data": {
      "text/plain": [
       "5.0"
      ]
     },
     "execution_count": 178,
     "metadata": {},
     "output_type": "execute_result"
    }
   ],
   "source": [
    "umbral_superior"
   ]
  },
  {
   "cell_type": "code",
   "execution_count": 179,
   "metadata": {},
   "outputs": [
    {
     "data": {
      "text/plain": [
       "(7822, 131)"
      ]
     },
     "execution_count": 179,
     "metadata": {},
     "output_type": "execute_result"
    }
   ],
   "source": [
    "#Se encuentras 7017 outliers\n",
    "df.loc[df['cant_articulos_prestigio']>=umbral_superior].shape"
   ]
  },
  {
   "cell_type": "code",
   "execution_count": 180,
   "metadata": {},
   "outputs": [
    {
     "data": {
      "text/plain": [
       "(36, 131)"
      ]
     },
     "execution_count": 180,
     "metadata": {},
     "output_type": "execute_result"
    }
   ],
   "source": [
    "df.loc[df['cant_articulos_prestigio']>=50].shape"
   ]
  },
  {
   "cell_type": "code",
   "execution_count": 181,
   "metadata": {},
   "outputs": [],
   "source": [
    "#Se eliminan\n",
    "#df=df.loc[df['cant_articulos_prestigio']<umbral_superior]"
   ]
  },
  {
   "cell_type": "code",
   "execution_count": 182,
   "metadata": {},
   "outputs": [],
   "source": [
    "df=df.loc[df['cant_articulos_prestigio']<50]"
   ]
  },
  {
   "cell_type": "code",
   "execution_count": 183,
   "metadata": {},
   "outputs": [],
   "source": [
    "#Se define la matriz target y la matriz de features\n",
    "X=df.drop(columns=[ 'publico_articulos','cant_articulos_prestigio',\n",
    "       'publico_prestigio','produccion_cantidad_articulos_total','persona_id'])\n",
    "\n",
    "y =df['cant_articulos_prestigio']"
   ]
  },
  {
   "cell_type": "code",
   "execution_count": 184,
   "metadata": {},
   "outputs": [],
   "source": [
    "# Hacemos el split entre train y test\n",
    "X_train, X_test, y_train, y_test = train_test_split(X, y, test_size = 0.33)"
   ]
  },
  {
   "cell_type": "code",
   "execution_count": 185,
   "metadata": {},
   "outputs": [
    {
     "data": {
      "text/plain": [
       "(37530, 126)"
      ]
     },
     "execution_count": 185,
     "metadata": {},
     "output_type": "execute_result"
    }
   ],
   "source": [
    "X_train.shape"
   ]
  },
  {
   "cell_type": "code",
   "execution_count": 186,
   "metadata": {},
   "outputs": [],
   "source": [
    "X_train['prod_ultimo_año']=scaler.fit_transform(X_train[['prod_ultimo_año']])\n",
    "X_train['prod_año_ant']=scaler.fit_transform(X_train[['prod_año_ant']])\n",
    "X_train['prod_2_años_ant']=scaler.fit_transform(X_train[['prod_2_años_ant']])\n",
    "X_train['prod_3_años_ant']=scaler.fit_transform(X_train[['prod_3_años_ant']])\n",
    "X_train['produccion_cantidad_libros']=scaler.fit_transform(X_train[['produccion_cantidad_libros']])\n",
    "X_train['produccion_patentes_otorgadas']=scaler.fit_transform(X_train[['produccion_patentes_otorgadas']])\n",
    "X_train['produccion_patentes_solicitadas']=scaler.fit_transform(X_train[['produccion_patentes_solicitadas']])\n",
    "\n",
    "\n",
    "X_test['prod_ultimo_año']=scaler.transform(X_test[['prod_ultimo_año']])\n",
    "X_test['prod_año_ant']=scaler.transform(X_test[['prod_año_ant']])\n",
    "X_test['prod_2_años_ant']=scaler.transform(X_test[['prod_2_años_ant']])\n",
    "X_test['prod_3_años_ant']=scaler.transform(X_test[['prod_3_años_ant']])\n",
    "X_test['produccion_cantidad_libros']=scaler.transform(X_test[['produccion_cantidad_libros']])\n",
    "X_test['produccion_patentes_otorgadas']=scaler.transform(X_test[['produccion_patentes_otorgadas']])\n",
    "X_test['produccion_patentes_solicitadas']=scaler.transform(X_test[['produccion_patentes_solicitadas']])\n"
   ]
  },
  {
   "cell_type": "code",
   "execution_count": 187,
   "metadata": {},
   "outputs": [],
   "source": [
    "#importamos las librerías necesarias\n",
    "from sklearn.linear_model import LinearRegression\n",
    "from sklearn import metrics\n",
    "from sklearn import datasets, linear_model\n",
    "from sklearn.model_selection import train_test_split, KFold, cross_val_score\n",
    "from sklearn.linear_model import LinearRegression, Lasso, LassoCV, Ridge, RidgeCV\n",
    "import statsmodels.api as sm\n",
    "from sklearn.metrics import mean_squared_error, r2_score"
   ]
  },
  {
   "cell_type": "code",
   "execution_count": 188,
   "metadata": {},
   "outputs": [
    {
     "name": "stdout",
     "output_type": "stream",
     "text": [
      "(39211, 126) (39211,)\n",
      "(16805, 126) (16805,)\n"
     ]
    }
   ],
   "source": [
    "X_train, X_test, y_train, y_test = train_test_split(X, y, test_size=0.30)\n",
    "print(X_train.shape, y_train.shape)\n",
    "print(X_test.shape, y_test.shape)"
   ]
  },
  {
   "cell_type": "markdown",
   "metadata": {},
   "source": [
    "#### 2. Regresión lineal"
   ]
  },
  {
   "cell_type": "code",
   "execution_count": 189,
   "metadata": {},
   "outputs": [],
   "source": [
    "# Seleccionamos alphas para ridge y lasso e instanciamos un Kfolds para la validación cruzada \n",
    "alphas_ridge = np.linspace(5, 20, 300)\n",
    "alphas_lasso = np.linspace(0.001, 0.01, 300)\n",
    "kf = KFold(n_splits=10, shuffle=True)\n",
    "\n",
    "# Instanciamos los modelos\n",
    "lm = LinearRegression(fit_intercept=False)\n",
    "lm_ridge= RidgeCV(alphas=alphas_ridge, cv=kf, normalize=False)\n",
    "lm_lasso = LassoCV(alphas=alphas_lasso, cv=kf, normalize=False)"
   ]
  },
  {
   "cell_type": "code",
   "execution_count": 190,
   "metadata": {},
   "outputs": [
    {
     "data": {
      "text/plain": [
       "LassoCV(alphas=array([0.001  , 0.00103, ..., 0.00997, 0.01   ]), copy_X=True,\n",
       "    cv=KFold(n_splits=10, random_state=None, shuffle=True), eps=0.001,\n",
       "    fit_intercept=True, max_iter=1000, n_alphas=100, n_jobs=1,\n",
       "    normalize=False, positive=False, precompute='auto', random_state=None,\n",
       "    selection='cyclic', tol=0.0001, verbose=False)"
      ]
     },
     "execution_count": 190,
     "metadata": {},
     "output_type": "execute_result"
    }
   ],
   "source": [
    "# Hacemos los fits respectivos\n",
    "\n",
    "lm.fit(X_train, y_train)\n",
    "lm_ridge.fit(X_train, y_train)\n",
    "lm_lasso.fit(X_train, y_train)"
   ]
  },
  {
   "cell_type": "code",
   "execution_count": 191,
   "metadata": {},
   "outputs": [
    {
     "name": "stdout",
     "output_type": "stream",
     "text": [
      "Alpha Ridge cub: 9.364548494983278 \n",
      "Alpha LASSO cub: 0.001 \n",
      "\n"
     ]
    }
   ],
   "source": [
    "#Vemos los valores de alpha para cada modelo\n",
    "print('Alpha Ridge cub:',lm_ridge.alpha_,'\\n'\n",
    "      'Alpha LASSO cub:',lm_lasso.alpha_,'\\n')"
   ]
  },
  {
   "cell_type": "code",
   "execution_count": 192,
   "metadata": {},
   "outputs": [
    {
     "name": "stdout",
     "output_type": "stream",
     "text": [
      " Score Train Lineal: 0.57056\n",
      " Score Train Ridge : 0.57044\n",
      " Score Train Lasso : 0.56981\n",
      "\n"
     ]
    }
   ],
   "source": [
    "# Calculamos el R2 para el train set\n",
    "\n",
    "print(\" Score Train Lineal: %.5f\\n\" % lm.score(X_train, y_train),\n",
    "      \"Score Train Ridge : %.5f\\n\" % lm_ridge.score(X_train, y_train),\n",
    "      \"Score Train Lasso : %.5f\\n\" %  lm_lasso.score(X_train, y_train))"
   ]
  },
  {
   "cell_type": "code",
   "execution_count": 193,
   "metadata": {},
   "outputs": [
    {
     "name": "stdout",
     "output_type": "stream",
     "text": [
      " Train RMSE lineal   : 2.62591 \n",
      " Train RMSE Ridge    : 2.62626 \n",
      " Train RMSE Lasso    : 2.62820 \n",
      "\n"
     ]
    }
   ],
   "source": [
    "# Hacemos las predicciones sobre la matriz de predictores del Train Set\n",
    "\n",
    "y_pred_tr_lm = lm.predict(X_train)\n",
    "y_pred_tr_ridge = lm_ridge.predict(X_train)\n",
    "y_pred_tr_lasso = lm_lasso.predict(X_train)\n",
    "\n",
    "# Calculamos el RMSE para el train set\n",
    "\n",
    "rmse = lambda y, y_pred: np.sqrt(mean_squared_error(y, y_pred))\n",
    "\n",
    "print(\" Train RMSE lineal   : %.5f \\n\" % rmse(y_train,y_pred_tr_lm),\n",
    "      \"Train RMSE Ridge    : %.5f \\n\" % rmse(y_train,y_pred_tr_ridge),\n",
    "      \"Train RMSE Lasso    : %.5f \\n\" % rmse(y_train,y_pred_tr_lasso))"
   ]
  },
  {
   "cell_type": "code",
   "execution_count": 194,
   "metadata": {},
   "outputs": [
    {
     "name": "stdout",
     "output_type": "stream",
     "text": [
      " Score Test Lineal: -700152946066.45361\n",
      " Score Test Ridge : 0.55925\n",
      " Score Test Lasso : 0.55897\n",
      "\n"
     ]
    }
   ],
   "source": [
    "# Calculamos el R2 para el test set\n",
    "\n",
    "print(\" Score Test Lineal: %.5f\\n\" % lm.score(X_test, y_test),\n",
    "      \"Score Test Ridge : %.5f\\n\" % lm_ridge.score(X_test, y_test),\n",
    "      \"Score Test Lasso : %.5f\\n\" %  lm_lasso.score(X_test, y_test))"
   ]
  },
  {
   "cell_type": "code",
   "execution_count": 195,
   "metadata": {},
   "outputs": [
    {
     "name": "stdout",
     "output_type": "stream",
     "text": [
      " Test RMSE lineal= 3382101.47\n",
      " Test RMSE Ridge = 2.68\n",
      " Test RMSE Lasso = 2.68\n",
      "\n"
     ]
    }
   ],
   "source": [
    "# Hacemos las predicciones sobre la matriz de predictores del Test Set\n",
    "\n",
    "y_pred_lm = lm.predict(X_test)\n",
    "y_pred_ridge = lm_ridge.predict(X_test)\n",
    "y_pred_lasso = lm_lasso.predict(X_test)\n",
    "\n",
    "\n",
    "# Testeo final del modelo sobre Test Set\n",
    "\n",
    "print(\" Test RMSE lineal= %.2f\\n\" % rmse(y_test, y_pred_lm),\n",
    "      \"Test RMSE Ridge = %.2f\\n\" %  rmse(y_test, y_pred_ridge),\n",
    "      \"Test RMSE Lasso = %.2f\\n\" %  rmse(y_test, y_pred_lasso),\n",
    "     )"
   ]
  },
  {
   "cell_type": "markdown",
   "metadata": {},
   "source": [
    "#### 3. Árboles de decisión"
   ]
  },
  {
   "cell_type": "code",
   "execution_count": 196,
   "metadata": {},
   "outputs": [],
   "source": [
    "from sklearn.tree import DecisionTreeRegressor\n",
    "from sklearn.tree import DecisionTreeClassifier\n",
    "from sklearn.tree import DecisionTreeRegressor\n",
    "from sklearn.tree import DecisionTreeClassifier\n",
    "from sklearn.ensemble import RandomForestRegressor, ExtraTreesRegressor, BaggingClassifier, BaggingRegressor"
   ]
  },
  {
   "cell_type": "code",
   "execution_count": 197,
   "metadata": {},
   "outputs": [],
   "source": [
    "def evaluar_rendimiento(modelo, nombre):\n",
    "    s = cross_val_score(modelo, X_train, y_train, cv=5, n_jobs=-1)\n",
    "    print(\"Rendimiento de {}:\\t{:0.3} ± {:0.3}\".format( \\\n",
    "        nombre, s.mean().round(3), s.std().round(3)))"
   ]
  },
  {
   "cell_type": "code",
   "execution_count": 198,
   "metadata": {},
   "outputs": [
    {
     "name": "stdout",
     "output_type": "stream",
     "text": [
      "Rendimiento de Árbol de decisión:\t0.176 ± 0.049\n",
      "Rendimiento de Bagging AD:\t0.554 ± 0.011\n",
      "Rendimiento de Random Forest:\t0.559 ± 0.01\n",
      "Rendimiento de Extra Trees:\t0.532 ± 0.011\n"
     ]
    }
   ],
   "source": [
    "dt = DecisionTreeRegressor()\n",
    "bdt = BaggingRegressor()\n",
    "rf = RandomForestRegressor()\n",
    "et = ExtraTreesRegressor()\n",
    "\n",
    "evaluar_rendimiento(dt,  \"Árbol de decisión\")\n",
    "evaluar_rendimiento(bdt, \"Bagging AD\")\n",
    "evaluar_rendimiento(rf,  \"Random Forest\")\n",
    "evaluar_rendimiento(et,  \"Extra Trees\")"
   ]
  },
  {
   "cell_type": "code",
   "execution_count": 199,
   "metadata": {},
   "outputs": [
    {
     "data": {
      "text/plain": [
       "ExtraTreesRegressor(bootstrap=False, criterion='mse', max_depth=None,\n",
       "          max_features='auto', max_leaf_nodes=None,\n",
       "          min_impurity_decrease=0.0, min_impurity_split=None,\n",
       "          min_samples_leaf=1, min_samples_split=2,\n",
       "          min_weight_fraction_leaf=0.0, n_estimators=10, n_jobs=1,\n",
       "          oob_score=False, random_state=None, verbose=0, warm_start=False)"
      ]
     },
     "execution_count": 199,
     "metadata": {},
     "output_type": "execute_result"
    }
   ],
   "source": [
    "dt.fit(X_train,y_train)\n",
    "bdt.fit(X_train,y_train)\n",
    "rf.fit(X_train,y_train)\n",
    "et.fit(X_train,y_train)"
   ]
  },
  {
   "cell_type": "code",
   "execution_count": 200,
   "metadata": {},
   "outputs": [],
   "source": [
    "dt_pred=dt.predict(X_test)\n",
    "bdt_pred=bdt.predict(X_test)\n",
    "rf_pred=rf.predict(X_test)\n",
    "et_pred=et.predict(X_test)"
   ]
  },
  {
   "cell_type": "code",
   "execution_count": 201,
   "metadata": {},
   "outputs": [
    {
     "name": "stdout",
     "output_type": "stream",
     "text": [
      " R dt: 0.17363\n",
      " R2 bdt: 0.54611\n",
      " R2 rf: 0.55284\n",
      " R2 et: 0.51609\n",
      "\n"
     ]
    }
   ],
   "source": [
    "print(\" R dt: %.5f\\n\" % dt.score(X_test, y_test),\n",
    "     \"R2 bdt: %.5f\\n\" % bdt.score(X_test, y_test),\n",
    "     \"R2 rf: %.5f\\n\" % rf.score(X_test, y_test),\n",
    "     \"R2 et: %.5f\\n\" % et.score(X_test, y_test))"
   ]
  },
  {
   "cell_type": "code",
   "execution_count": 202,
   "metadata": {},
   "outputs": [],
   "source": [
    "#Aplicamos GridSearch para el modelo de árboles que mejor nos dio\n",
    "from sklearn.model_selection import GridSearchCV, RandomizedSearchCV\n",
    "param_trees = {'n_estimators': [50, 100, 200], \n",
    "               'max_features': [1, 5, 8, 10, 21], \n",
    "               'max_depth': [5, 20, 50, 70, 100], \n",
    "               'min_samples_leaf':[1, 5, 8, 10, 50]}"
   ]
  },
  {
   "cell_type": "code",
   "execution_count": 203,
   "metadata": {},
   "outputs": [],
   "source": [
    "from sklearn.model_selection import cross_val_score,StratifiedKFold\n",
    "rf = RandomForestRegressor()\n",
    "kf = StratifiedKFold(n_splits=3, shuffle=True)"
   ]
  },
  {
   "cell_type": "code",
   "execution_count": 204,
   "metadata": {},
   "outputs": [],
   "source": [
    "grid_search_rf = GridSearchCV(rf, param_grid=param_trees, cv=kf, verbose=1, n_jobs=3)"
   ]
  },
  {
   "cell_type": "code",
   "execution_count": 205,
   "metadata": {},
   "outputs": [
    {
     "name": "stdout",
     "output_type": "stream",
     "text": [
      "Fitting 3 folds for each of 375 candidates, totalling 1125 fits\n"
     ]
    },
    {
     "name": "stderr",
     "output_type": "stream",
     "text": [
      "[Parallel(n_jobs=3)]: Done  44 tasks      | elapsed:   14.0s\n",
      "[Parallel(n_jobs=3)]: Done 194 tasks      | elapsed:  1.8min\n",
      "[Parallel(n_jobs=3)]: Done 444 tasks      | elapsed:  8.2min\n",
      "[Parallel(n_jobs=3)]: Done 794 tasks      | elapsed: 18.0min\n",
      "[Parallel(n_jobs=3)]: Done 1125 out of 1125 | elapsed: 29.0min finished\n"
     ]
    },
    {
     "data": {
      "text/plain": [
       "GridSearchCV(cv=StratifiedKFold(n_splits=3, random_state=None, shuffle=True),\n",
       "       error_score='raise',\n",
       "       estimator=RandomForestRegressor(bootstrap=True, criterion='mse', max_depth=None,\n",
       "           max_features='auto', max_leaf_nodes=None,\n",
       "           min_impurity_decrease=0.0, min_impurity_split=None,\n",
       "           min_samples_leaf=1, min_samples_split=2,\n",
       "           min_weight_fraction_leaf=0.0, n_estimators=10, n_jobs=1,\n",
       "           oob_score=False, random_state=None, verbose=0, warm_start=False),\n",
       "       fit_params=None, iid=True, n_jobs=3,\n",
       "       param_grid={'n_estimators': [50, 100, 200], 'max_features': [1, 5, 8, 10, 21], 'max_depth': [5, 20, 50, 70, 100], 'min_samples_leaf': [1, 5, 8, 10, 50]},\n",
       "       pre_dispatch='2*n_jobs', refit=True, return_train_score='warn',\n",
       "       scoring=None, verbose=1)"
      ]
     },
     "execution_count": 205,
     "metadata": {},
     "output_type": "execute_result"
    }
   ],
   "source": [
    "grid_search_rf.fit(X_train, y_train)"
   ]
  },
  {
   "cell_type": "code",
   "execution_count": 206,
   "metadata": {},
   "outputs": [],
   "source": [
    "modelo_rf_gridsearch=grid_search_rf"
   ]
  },
  {
   "cell_type": "code",
   "execution_count": 207,
   "metadata": {},
   "outputs": [],
   "source": [
    "y_pred_rf=modelo_rf_gridsearch.predict(X_test)"
   ]
  },
  {
   "cell_type": "code",
   "execution_count": 208,
   "metadata": {},
   "outputs": [
    {
     "name": "stdout",
     "output_type": "stream",
     "text": [
      " RMSE RF = 2.55\n",
      "\n",
      "R2 RF: 0.6021276311054224\n"
     ]
    }
   ],
   "source": [
    "print(\" RMSE RF = %.2f\\n\" % np.sqrt(metrics.mean_squared_error(y_test, y_pred_rf)))    \n",
    "print (\"R2 RF:\", modelo_rf_gridsearch.score(X_test,y_test))"
   ]
  },
  {
   "cell_type": "markdown",
   "metadata": {},
   "source": [
    "#### 4. XGBoost"
   ]
  },
  {
   "cell_type": "code",
   "execution_count": 209,
   "metadata": {},
   "outputs": [],
   "source": [
    "from xgboost.sklearn import XGBRegressor\n",
    "import scipy.stats as st"
   ]
  },
  {
   "cell_type": "code",
   "execution_count": 210,
   "metadata": {},
   "outputs": [],
   "source": [
    "xgb = XGBRegressor()"
   ]
  },
  {
   "cell_type": "code",
   "execution_count": 211,
   "metadata": {},
   "outputs": [],
   "source": [
    "one_to_left = st.beta(10, 1)"
   ]
  },
  {
   "cell_type": "code",
   "execution_count": 212,
   "metadata": {},
   "outputs": [],
   "source": [
    "params = {  \n",
    "    \"n_estimators\": st.randint(20,40), # Number of boosted trees to fit.\n",
    "    \"max_depth\": st.randint(3, 12),     # Maximum tree depth for base learners.\n",
    "    \"learning_rate\": st.uniform(0.05, 0.4), #     Boosting learning rate (xgb’s “eta”)\n",
    "    \"colsample_bytree\": one_to_left, #     Subsample ratio of columns when constructing each tree.\n",
    "    \"subsample\": one_to_left,     # Subsample ratio of the training instance.\n",
    "    \"gamma\": st.uniform(0, 10), #     Minimum loss reduction required to make a further partition on a leaf node of the tree.\n",
    "    'reg_alpha': st.uniform(0.05,10),   # L1 regularization term on weights\n",
    "    \"min_child_weight\": st.uniform(1,20), #    Minimum sum of instance weight(hessian) needed in a child.\n",
    "}"
   ]
  },
  {
   "cell_type": "code",
   "execution_count": 213,
   "metadata": {},
   "outputs": [],
   "source": [
    "xgb_rs = RandomizedSearchCV(xgb,params, n_iter=25, verbose= True)"
   ]
  },
  {
   "cell_type": "code",
   "execution_count": 214,
   "metadata": {},
   "outputs": [],
   "source": [
    "X_test_xgb=X_test.rename(columns={\"edad_(20, 30]\": \"edad_20_30\",\n",
    "                       \"edad_(30, 40]\": \"edad_30_40\",\n",
    "                       \"edad_(40, 50]\": \"edad_40_50\",\n",
    "                       \"edad_(50, 60]\": \"edad_50_60\",\n",
    "                       \"edad_(60, 70]\": \"edad_60_70\",\n",
    "                       \"edad_(70, 80]\": \"edad_70_80\",\n",
    "                       \"edad_(80, 90]\": \"edad_80_90\"})"
   ]
  },
  {
   "cell_type": "code",
   "execution_count": 215,
   "metadata": {},
   "outputs": [],
   "source": [
    "X_train_xgb=X_train.rename(columns={\"edad_(20, 30]\": \"edad_20_30\",\n",
    "                       \"edad_(30, 40]\": \"edad_30_40\",\n",
    "                       \"edad_(40, 50]\": \"edad_40_50\",\n",
    "                       \"edad_(50, 60]\": \"edad_50_60\",\n",
    "                       \"edad_(60, 70]\": \"edad_60_70\",\n",
    "                       \"edad_(70, 80]\": \"edad_70_80\",\n",
    "                       \"edad_(80, 90]\": \"edad_80_90\"})  "
   ]
  },
  {
   "cell_type": "code",
   "execution_count": 216,
   "metadata": {},
   "outputs": [
    {
     "name": "stdout",
     "output_type": "stream",
     "text": [
      "Fitting 3 folds for each of 25 candidates, totalling 75 fits\n",
      "[22:57:58] WARNING: /workspace/src/objective/regression_obj.cu:152: reg:linear is now deprecated in favor of reg:squarederror.\n",
      "[22:58:02] WARNING: /workspace/src/objective/regression_obj.cu:152: reg:linear is now deprecated in favor of reg:squarederror.\n",
      "[22:58:05] WARNING: /workspace/src/objective/regression_obj.cu:152: reg:linear is now deprecated in favor of reg:squarederror.\n",
      "[22:58:08] WARNING: /workspace/src/objective/regression_obj.cu:152: reg:linear is now deprecated in favor of reg:squarederror.\n",
      "[22:58:12] WARNING: /workspace/src/objective/regression_obj.cu:152: reg:linear is now deprecated in favor of reg:squarederror.\n",
      "[22:58:15] WARNING: /workspace/src/objective/regression_obj.cu:152: reg:linear is now deprecated in favor of reg:squarederror.\n",
      "[22:58:18] WARNING: /workspace/src/objective/regression_obj.cu:152: reg:linear is now deprecated in favor of reg:squarederror.\n",
      "[22:58:20] WARNING: /workspace/src/objective/regression_obj.cu:152: reg:linear is now deprecated in favor of reg:squarederror.\n",
      "[22:58:22] WARNING: /workspace/src/objective/regression_obj.cu:152: reg:linear is now deprecated in favor of reg:squarederror.\n",
      "[22:58:24] WARNING: /workspace/src/objective/regression_obj.cu:152: reg:linear is now deprecated in favor of reg:squarederror.\n",
      "[22:58:28] WARNING: /workspace/src/objective/regression_obj.cu:152: reg:linear is now deprecated in favor of reg:squarederror.\n",
      "[22:58:31] WARNING: /workspace/src/objective/regression_obj.cu:152: reg:linear is now deprecated in favor of reg:squarederror.\n",
      "[22:58:34] WARNING: /workspace/src/objective/regression_obj.cu:152: reg:linear is now deprecated in favor of reg:squarederror.\n",
      "[22:58:41] WARNING: /workspace/src/objective/regression_obj.cu:152: reg:linear is now deprecated in favor of reg:squarederror.\n",
      "[22:58:48] WARNING: /workspace/src/objective/regression_obj.cu:152: reg:linear is now deprecated in favor of reg:squarederror.\n",
      "[22:58:55] WARNING: /workspace/src/objective/regression_obj.cu:152: reg:linear is now deprecated in favor of reg:squarederror.\n",
      "[22:58:59] WARNING: /workspace/src/objective/regression_obj.cu:152: reg:linear is now deprecated in favor of reg:squarederror.\n",
      "[22:59:02] WARNING: /workspace/src/objective/regression_obj.cu:152: reg:linear is now deprecated in favor of reg:squarederror.\n",
      "[22:59:05] WARNING: /workspace/src/objective/regression_obj.cu:152: reg:linear is now deprecated in favor of reg:squarederror.\n",
      "[22:59:10] WARNING: /workspace/src/objective/regression_obj.cu:152: reg:linear is now deprecated in favor of reg:squarederror.\n",
      "[22:59:15] WARNING: /workspace/src/objective/regression_obj.cu:152: reg:linear is now deprecated in favor of reg:squarederror.\n",
      "[22:59:20] WARNING: /workspace/src/objective/regression_obj.cu:152: reg:linear is now deprecated in favor of reg:squarederror.\n",
      "[22:59:26] WARNING: /workspace/src/objective/regression_obj.cu:152: reg:linear is now deprecated in favor of reg:squarederror.\n",
      "[22:59:32] WARNING: /workspace/src/objective/regression_obj.cu:152: reg:linear is now deprecated in favor of reg:squarederror.\n",
      "[22:59:38] WARNING: /workspace/src/objective/regression_obj.cu:152: reg:linear is now deprecated in favor of reg:squarederror.\n",
      "[22:59:40] WARNING: /workspace/src/objective/regression_obj.cu:152: reg:linear is now deprecated in favor of reg:squarederror.\n",
      "[22:59:43] WARNING: /workspace/src/objective/regression_obj.cu:152: reg:linear is now deprecated in favor of reg:squarederror.\n",
      "[22:59:47] WARNING: /workspace/src/objective/regression_obj.cu:152: reg:linear is now deprecated in favor of reg:squarederror.\n",
      "[22:59:49] WARNING: /workspace/src/objective/regression_obj.cu:152: reg:linear is now deprecated in favor of reg:squarederror.\n",
      "[22:59:52] WARNING: /workspace/src/objective/regression_obj.cu:152: reg:linear is now deprecated in favor of reg:squarederror.\n",
      "[22:59:55] WARNING: /workspace/src/objective/regression_obj.cu:152: reg:linear is now deprecated in favor of reg:squarederror.\n",
      "[23:00:01] WARNING: /workspace/src/objective/regression_obj.cu:152: reg:linear is now deprecated in favor of reg:squarederror.\n",
      "[23:00:07] WARNING: /workspace/src/objective/regression_obj.cu:152: reg:linear is now deprecated in favor of reg:squarederror.\n",
      "[23:00:13] WARNING: /workspace/src/objective/regression_obj.cu:152: reg:linear is now deprecated in favor of reg:squarederror.\n",
      "[23:00:21] WARNING: /workspace/src/objective/regression_obj.cu:152: reg:linear is now deprecated in favor of reg:squarederror.\n",
      "[23:00:28] WARNING: /workspace/src/objective/regression_obj.cu:152: reg:linear is now deprecated in favor of reg:squarederror.\n",
      "[23:00:36] WARNING: /workspace/src/objective/regression_obj.cu:152: reg:linear is now deprecated in favor of reg:squarederror.\n",
      "[23:00:44] WARNING: /workspace/src/objective/regression_obj.cu:152: reg:linear is now deprecated in favor of reg:squarederror.\n",
      "[23:00:51] WARNING: /workspace/src/objective/regression_obj.cu:152: reg:linear is now deprecated in favor of reg:squarederror.\n",
      "[23:00:59] WARNING: /workspace/src/objective/regression_obj.cu:152: reg:linear is now deprecated in favor of reg:squarederror.\n",
      "[23:01:04] WARNING: /workspace/src/objective/regression_obj.cu:152: reg:linear is now deprecated in favor of reg:squarederror.\n",
      "[23:01:08] WARNING: /workspace/src/objective/regression_obj.cu:152: reg:linear is now deprecated in favor of reg:squarederror.\n",
      "[23:01:12] WARNING: /workspace/src/objective/regression_obj.cu:152: reg:linear is now deprecated in favor of reg:squarederror.\n",
      "[23:01:15] WARNING: /workspace/src/objective/regression_obj.cu:152: reg:linear is now deprecated in favor of reg:squarederror.\n",
      "[23:01:18] WARNING: /workspace/src/objective/regression_obj.cu:152: reg:linear is now deprecated in favor of reg:squarederror.\n",
      "[23:01:21] WARNING: /workspace/src/objective/regression_obj.cu:152: reg:linear is now deprecated in favor of reg:squarederror.\n",
      "[23:01:24] WARNING: /workspace/src/objective/regression_obj.cu:152: reg:linear is now deprecated in favor of reg:squarederror.\n",
      "[23:01:26] WARNING: /workspace/src/objective/regression_obj.cu:152: reg:linear is now deprecated in favor of reg:squarederror.\n",
      "[23:01:28] WARNING: /workspace/src/objective/regression_obj.cu:152: reg:linear is now deprecated in favor of reg:squarederror.\n",
      "[23:01:32] WARNING: /workspace/src/objective/regression_obj.cu:152: reg:linear is now deprecated in favor of reg:squarederror.\n",
      "[23:01:36] WARNING: /workspace/src/objective/regression_obj.cu:152: reg:linear is now deprecated in favor of reg:squarederror.\n",
      "[23:01:40] WARNING: /workspace/src/objective/regression_obj.cu:152: reg:linear is now deprecated in favor of reg:squarederror.\n",
      "[23:01:45] WARNING: /workspace/src/objective/regression_obj.cu:152: reg:linear is now deprecated in favor of reg:squarederror.\n",
      "[23:01:49] WARNING: /workspace/src/objective/regression_obj.cu:152: reg:linear is now deprecated in favor of reg:squarederror.\n",
      "[23:01:54] WARNING: /workspace/src/objective/regression_obj.cu:152: reg:linear is now deprecated in favor of reg:squarederror.\n",
      "[23:02:01] WARNING: /workspace/src/objective/regression_obj.cu:152: reg:linear is now deprecated in favor of reg:squarederror.\n",
      "[23:02:09] WARNING: /workspace/src/objective/regression_obj.cu:152: reg:linear is now deprecated in favor of reg:squarederror.\n",
      "[23:02:17] WARNING: /workspace/src/objective/regression_obj.cu:152: reg:linear is now deprecated in favor of reg:squarederror.\n",
      "[23:02:21] WARNING: /workspace/src/objective/regression_obj.cu:152: reg:linear is now deprecated in favor of reg:squarederror.\n",
      "[23:02:25] WARNING: /workspace/src/objective/regression_obj.cu:152: reg:linear is now deprecated in favor of reg:squarederror.\n",
      "[23:02:29] WARNING: /workspace/src/objective/regression_obj.cu:152: reg:linear is now deprecated in favor of reg:squarederror.\n",
      "[23:02:34] WARNING: /workspace/src/objective/regression_obj.cu:152: reg:linear is now deprecated in favor of reg:squarederror.\n",
      "[23:02:38] WARNING: /workspace/src/objective/regression_obj.cu:152: reg:linear is now deprecated in favor of reg:squarederror.\n",
      "[23:02:43] WARNING: /workspace/src/objective/regression_obj.cu:152: reg:linear is now deprecated in favor of reg:squarederror.\n",
      "[23:02:48] WARNING: /workspace/src/objective/regression_obj.cu:152: reg:linear is now deprecated in favor of reg:squarederror.\n"
     ]
    },
    {
     "name": "stdout",
     "output_type": "stream",
     "text": [
      "[23:02:54] WARNING: /workspace/src/objective/regression_obj.cu:152: reg:linear is now deprecated in favor of reg:squarederror.\n",
      "[23:02:59] WARNING: /workspace/src/objective/regression_obj.cu:152: reg:linear is now deprecated in favor of reg:squarederror.\n",
      "[23:03:04] WARNING: /workspace/src/objective/regression_obj.cu:152: reg:linear is now deprecated in favor of reg:squarederror.\n",
      "[23:03:09] WARNING: /workspace/src/objective/regression_obj.cu:152: reg:linear is now deprecated in favor of reg:squarederror.\n",
      "[23:03:13] WARNING: /workspace/src/objective/regression_obj.cu:152: reg:linear is now deprecated in favor of reg:squarederror.\n",
      "[23:03:17] WARNING: /workspace/src/objective/regression_obj.cu:152: reg:linear is now deprecated in favor of reg:squarederror.\n",
      "[23:03:21] WARNING: /workspace/src/objective/regression_obj.cu:152: reg:linear is now deprecated in favor of reg:squarederror.\n",
      "[23:03:25] WARNING: /workspace/src/objective/regression_obj.cu:152: reg:linear is now deprecated in favor of reg:squarederror.\n",
      "[23:03:28] WARNING: /workspace/src/objective/regression_obj.cu:152: reg:linear is now deprecated in favor of reg:squarederror.\n",
      "[23:03:31] WARNING: /workspace/src/objective/regression_obj.cu:152: reg:linear is now deprecated in favor of reg:squarederror.\n"
     ]
    },
    {
     "name": "stderr",
     "output_type": "stream",
     "text": [
      "[Parallel(n_jobs=1)]: Done  75 out of  75 | elapsed:  5.6min finished\n"
     ]
    },
    {
     "name": "stdout",
     "output_type": "stream",
     "text": [
      "[23:03:34] WARNING: /workspace/src/objective/regression_obj.cu:152: reg:linear is now deprecated in favor of reg:squarederror.\n"
     ]
    },
    {
     "data": {
      "text/plain": [
       "RandomizedSearchCV(cv=None, error_score='raise',\n",
       "          estimator=XGBRegressor(base_score=0.5, booster='gbtree', colsample_bylevel=1,\n",
       "       colsample_bynode=1, colsample_bytree=1, gamma=0,\n",
       "       importance_type='gain', learning_rate=0.1, max_delta_step=0,\n",
       "       max_depth=3, min_child_weight=1, missing=None, n_estimators=100,\n",
       "       n_jobs=1, nthread=None, objective='reg:linear', random_state=0,\n",
       "       reg_alpha=0, reg_lambda=1, scale_pos_weight=1, seed=None,\n",
       "       silent=None, subsample=1, verbosity=1),\n",
       "          fit_params=None, iid=True, n_iter=25, n_jobs=1,\n",
       "          param_distributions={'n_estimators': <scipy.stats._distn_infrastructure.rv_frozen object at 0x7f762c9f5748>, 'max_depth': <scipy.stats._distn_infrastructure.rv_frozen object at 0x7f762c9f5cc0>, 'learning_rate': <scipy.stats._distn_infrastructure.rv_frozen object at 0x7f762ca4bc50>, 'colsample_bytree...a4ba90>, 'min_child_weight': <scipy.stats._distn_infrastructure.rv_frozen object at 0x7f762c95c400>},\n",
       "          pre_dispatch='2*n_jobs', random_state=None, refit=True,\n",
       "          return_train_score='warn', scoring=None, verbose=True)"
      ]
     },
     "execution_count": 216,
     "metadata": {},
     "output_type": "execute_result"
    }
   ],
   "source": [
    "xgb_rs.fit(X_train_xgb,y_train)"
   ]
  },
  {
   "cell_type": "code",
   "execution_count": 217,
   "metadata": {},
   "outputs": [],
   "source": [
    "opt_xgb = xgb_rs.best_estimator_"
   ]
  },
  {
   "cell_type": "code",
   "execution_count": 218,
   "metadata": {},
   "outputs": [],
   "source": [
    "y_pred_xgb = opt_xgb.predict(X_test_xgb)"
   ]
  },
  {
   "cell_type": "code",
   "execution_count": 219,
   "metadata": {},
   "outputs": [],
   "source": [
    "from sklearn.metrics import mean_squared_error, r2_score"
   ]
  },
  {
   "cell_type": "code",
   "execution_count": 220,
   "metadata": {},
   "outputs": [
    {
     "name": "stdout",
     "output_type": "stream",
     "text": [
      " Test RMSE = 2.55\n",
      "\n",
      "Test R2: 0.6026310393478751\n"
     ]
    }
   ],
   "source": [
    "print(\" Test RMSE = %.2f\\n\" % np.sqrt(metrics.mean_squared_error(y_test, y_pred_xgb)))    \n",
    "print (\"Test R2:\", opt_xgb.score(X_test_xgb,y_test))"
   ]
  },
  {
   "cell_type": "code",
   "execution_count": 221,
   "metadata": {},
   "outputs": [
    {
     "data": {
      "text/plain": [
       "<matplotlib.axes._subplots.AxesSubplot at 0x7f762c9ce208>"
      ]
     },
     "execution_count": 221,
     "metadata": {},
     "output_type": "execute_result"
    },
    {
     "data": {
      "image/png": "[encoded data removed]",
      "text/plain": [
       "<Figure size 432x288 with 1 Axes>"
      ]
     },
     "metadata": {},
     "output_type": "display_data"
    }
   ],
   "source": [
    "from xgboost import plot_importance\n",
    "plot_importance(opt_xgb, height = 0.8,max_num_features=20)"
   ]
  },
  {
   "cell_type": "code",
   "execution_count": 222,
   "metadata": {},
   "outputs": [
    {
     "name": "stdout",
     "output_type": "stream",
     "text": [
      "[1.5200960e-03 8.3447360e-03 1.1841780e-02 3.8163911e-03 0.0000000e+00\n",
      " 1.1887458e-03 2.6082622e-02 2.3843152e-03 0.0000000e+00 5.5598137e-03\n",
      " 0.0000000e+00 1.4978541e-01 3.8081829e-03 2.7154580e-02 4.3019596e-03\n",
      " 0.0000000e+00 2.4839848e-02 2.2591760e-03 1.7883649e-02 8.8672703e-03\n",
      " 6.2728964e-02 3.4376711e-02 1.5711511e-02 5.9125647e-03 1.2991100e-02\n",
      " 2.4482328e-03 3.2915641e-03 4.6209479e-03 2.8179097e-03 5.5805733e-03\n",
      " 0.0000000e+00 0.0000000e+00 3.0691531e-03 5.6461920e-03 1.0478725e-02\n",
      " 2.7884328e-04 2.2258698e-03 1.9882401e-02 4.8765461e-03 1.1738427e-03\n",
      " 1.9463784e-03 1.8665396e-03 0.0000000e+00 1.7603227e-03 2.9057917e-01\n",
      " 1.4961986e-03 1.9174302e-04 1.0951679e-03 0.0000000e+00 3.3312412e-03\n",
      " 7.1648788e-04 9.2953322e-03 3.8097832e-02 5.1190779e-03 5.7596896e-02\n",
      " 0.0000000e+00 0.0000000e+00 1.9536575e-03 0.0000000e+00 0.0000000e+00\n",
      " 0.0000000e+00 0.0000000e+00 0.0000000e+00 0.0000000e+00 0.0000000e+00\n",
      " 0.0000000e+00 0.0000000e+00 0.0000000e+00 0.0000000e+00 0.0000000e+00\n",
      " 0.0000000e+00 0.0000000e+00 0.0000000e+00 0.0000000e+00 0.0000000e+00\n",
      " 0.0000000e+00 0.0000000e+00 1.3803774e-03 0.0000000e+00 0.0000000e+00\n",
      " 0.0000000e+00 7.6215959e-04 0.0000000e+00 0.0000000e+00 0.0000000e+00\n",
      " 0.0000000e+00 0.0000000e+00 0.0000000e+00 0.0000000e+00 0.0000000e+00\n",
      " 0.0000000e+00 2.2009301e-03 0.0000000e+00 0.0000000e+00 0.0000000e+00\n",
      " 0.0000000e+00 0.0000000e+00 0.0000000e+00 0.0000000e+00 2.0753657e-03\n",
      " 1.4046043e-03 4.4439901e-03 0.0000000e+00 0.0000000e+00 0.0000000e+00\n",
      " 0.0000000e+00 0.0000000e+00 0.0000000e+00 0.0000000e+00 0.0000000e+00\n",
      " 0.0000000e+00 0.0000000e+00 0.0000000e+00 0.0000000e+00 0.0000000e+00\n",
      " 0.0000000e+00 0.0000000e+00 4.3837577e-03 0.0000000e+00 0.0000000e+00\n",
      " 3.5385378e-03 6.2952014e-03 2.3117095e-02 1.9826090e-02 1.5976617e-02\n",
      " 1.7989560e-03]\n"
     ]
    }
   ],
   "source": [
    "print(opt_xgb.feature_importances_)"
   ]
  },
  {
   "cell_type": "markdown",
   "metadata": {},
   "source": [
    "#### 5. Light GBM"
   ]
  },
  {
   "cell_type": "code",
   "execution_count": 223,
   "metadata": {},
   "outputs": [],
   "source": [
    "import lightgbm as lgb\n",
    "from lightgbm.sklearn import LGBMRegressor"
   ]
  },
  {
   "cell_type": "code",
   "execution_count": 224,
   "metadata": {},
   "outputs": [],
   "source": [
    "modelo_LGBM_prestigio = lgb.LGBMRegressor()"
   ]
  },
  {
   "cell_type": "code",
   "execution_count": 225,
   "metadata": {},
   "outputs": [],
   "source": [
    "lgbm_cant_prestigio = RandomizedSearchCV(modelo_LGBM_prestigio, params, n_iter = 25, verbose= True)"
   ]
  },
  {
   "cell_type": "code",
   "execution_count": 226,
   "metadata": {},
   "outputs": [
    {
     "name": "stdout",
     "output_type": "stream",
     "text": [
      "Fitting 3 folds for each of 25 candidates, totalling 75 fits\n"
     ]
    },
    {
     "name": "stderr",
     "output_type": "stream",
     "text": [
      "[Parallel(n_jobs=1)]: Done  75 out of  75 | elapsed:   30.0s finished\n"
     ]
    },
    {
     "name": "stdout",
     "output_type": "stream",
     "text": [
      "La búsqueda con LightGBM llevó:  30.3634352684021  segundos\n"
     ]
    }
   ],
   "source": [
    "import time\n",
    "start = time.time()\n",
    "lgbm_cant_prestigio.fit(X_train, y_train)\n",
    "end = time.time()\n",
    "print(\"La búsqueda con LightGBM llevó: \", end - start, \" segundos\")"
   ]
  },
  {
   "cell_type": "code",
   "execution_count": 227,
   "metadata": {},
   "outputs": [
    {
     "name": "stdout",
     "output_type": "stream",
     "text": [
      "Best parameters found by grid search are: {'colsample_bytree': 0.9609237356804633, 'gamma': 5.229114899206623, 'learning_rate': 0.21560714010851423, 'max_depth': 6, 'min_child_weight': 1.867469254393216, 'n_estimators': 27, 'reg_alpha': 3.705158935431509, 'subsample': 0.9573112414502136}\n"
     ]
    }
   ],
   "source": [
    "print('Best parameters found by grid search are:', lgbm_cant_prestigio.best_params_)"
   ]
  },
  {
   "cell_type": "code",
   "execution_count": 228,
   "metadata": {},
   "outputs": [],
   "source": [
    "opt_lgbm_prestigio = lgbm_cant_prestigio.best_estimator_"
   ]
  },
  {
   "cell_type": "code",
   "execution_count": 229,
   "metadata": {},
   "outputs": [],
   "source": [
    "y_pred_lgbm_prestigio = opt_lgbm_prestigio.predict(X_test)"
   ]
  },
  {
   "cell_type": "code",
   "execution_count": 230,
   "metadata": {},
   "outputs": [
    {
     "name": "stdout",
     "output_type": "stream",
     "text": [
      " Test RMSE = 2.55\n",
      "\n",
      "Test R2: 0.6013901241989464\n"
     ]
    }
   ],
   "source": [
    "print(\" Test RMSE = %.2f\\n\" % np.sqrt(metrics.mean_squared_error(y_test, y_pred_lgbm_prestigio)))    \n",
    "print (\"Test R2:\", opt_lgbm_prestigio.score(X_test,y_test))"
   ]
  },
  {
   "cell_type": "code",
   "execution_count": 231,
   "metadata": {},
   "outputs": [
    {
     "data": {
      "text/plain": [
       "<matplotlib.axes._subplots.AxesSubplot at 0x7f762c93bcf8>"
      ]
     },
     "execution_count": 231,
     "metadata": {},
     "output_type": "execute_result"
    },
    {
     "data": {
      "image/png": "[encoded data removed]",
      "text/plain": [
       "<Figure size 432x288 with 1 Axes>"
      ]
     },
     "metadata": {},
     "output_type": "display_data"
    }
   ],
   "source": [
    "lgb.plot_importance(opt_lgbm_prestigio, max_num_features=20)"
   ]
  },
  {
   "cell_type": "code",
   "execution_count": null,
   "metadata": {},
   "outputs": [],
   "source": []
  },
  {
   "cell_type": "code",
   "execution_count": null,
   "metadata": {},
   "outputs": [],
   "source": []
  },
  {
   "cell_type": "markdown",
   "metadata": {},
   "source": [
    "#### 7. Estimación de las publicaciones en revistas de prestigio para 2021"
   ]
  },
  {
   "cell_type": "code",
   "execution_count": 232,
   "metadata": {},
   "outputs": [],
   "source": [
    "#Se trabaja con el modelo que mejor dio: LightGBM"
   ]
  },
  {
   "cell_type": "code",
   "execution_count": 233,
   "metadata": {},
   "outputs": [
    {
     "data": {
      "text/html": [
       "<div>\n",
       "<style scoped>\n",
       "    .dataframe tbody tr th:only-of-type {\n",
       "        vertical-align: middle;\n",
       "    }\n",
       "\n",
       "    .dataframe tbody tr th {\n",
       "        vertical-align: top;\n",
       "    }\n",
       "\n",
       "    .dataframe thead th {\n",
       "        text-align: right;\n",
       "    }\n",
       "</style>\n",
       "<table border=\"1\" class=\"dataframe\">\n",
       "  <thead>\n",
       "    <tr style=\"text-align: right;\">\n",
       "      <th></th>\n",
       "      <th>Unnamed: 0</th>\n",
       "      <th>persona_id</th>\n",
       "      <th>movilidad_posgrado_exterior</th>\n",
       "      <th>movilidad_estancias_exterior</th>\n",
       "      <th>produccion_cantidad_libros</th>\n",
       "      <th>produccion_patentes_solicitadas</th>\n",
       "      <th>produccion_patentes_otorgadas</th>\n",
       "      <th>actividad_evaluacion_rrhh_becarios</th>\n",
       "      <th>actividad_evaluacion_rrhh_investigadores</th>\n",
       "      <th>actividad_evaluacion_rrhh_premios</th>\n",
       "      <th>...</th>\n",
       "      <th>clase_cargo_docente_Profesor por convenio</th>\n",
       "      <th>clase_cargo_docente_Profesor titular</th>\n",
       "      <th>clase_cargo_docente_Profesor titular plenario</th>\n",
       "      <th>clase_cargo_docente_Profesor visitante</th>\n",
       "      <th>clase_cargo_docente_no docente</th>\n",
       "      <th>area_exp_CIENCIAS MÉDICAS Y DE LA SALUD</th>\n",
       "      <th>area_exp_CIENCIAS NATURALES Y EXACTAS</th>\n",
       "      <th>area_exp_CIENCIAS SOCIALES</th>\n",
       "      <th>area_exp_HUMANIDADES</th>\n",
       "      <th>area_exp_INGENIERÍAS Y TECNOLOGÍAS</th>\n",
       "    </tr>\n",
       "  </thead>\n",
       "  <tbody>\n",
       "    <tr>\n",
       "      <th>0</th>\n",
       "      <td>1</td>\n",
       "      <td>5</td>\n",
       "      <td>0</td>\n",
       "      <td>0</td>\n",
       "      <td>-0.318333</td>\n",
       "      <td>-0.100623</td>\n",
       "      <td>-0.042729</td>\n",
       "      <td>0</td>\n",
       "      <td>0</td>\n",
       "      <td>0</td>\n",
       "      <td>...</td>\n",
       "      <td>0</td>\n",
       "      <td>1</td>\n",
       "      <td>0</td>\n",
       "      <td>0</td>\n",
       "      <td>0</td>\n",
       "      <td>0</td>\n",
       "      <td>1</td>\n",
       "      <td>0</td>\n",
       "      <td>0</td>\n",
       "      <td>0</td>\n",
       "    </tr>\n",
       "    <tr>\n",
       "      <th>1</th>\n",
       "      <td>2</td>\n",
       "      <td>7</td>\n",
       "      <td>0</td>\n",
       "      <td>1</td>\n",
       "      <td>-0.318333</td>\n",
       "      <td>-0.100623</td>\n",
       "      <td>-0.042729</td>\n",
       "      <td>0</td>\n",
       "      <td>0</td>\n",
       "      <td>1</td>\n",
       "      <td>...</td>\n",
       "      <td>0</td>\n",
       "      <td>0</td>\n",
       "      <td>0</td>\n",
       "      <td>0</td>\n",
       "      <td>0</td>\n",
       "      <td>1</td>\n",
       "      <td>0</td>\n",
       "      <td>0</td>\n",
       "      <td>0</td>\n",
       "      <td>0</td>\n",
       "    </tr>\n",
       "    <tr>\n",
       "      <th>2</th>\n",
       "      <td>3</td>\n",
       "      <td>9</td>\n",
       "      <td>0</td>\n",
       "      <td>0</td>\n",
       "      <td>-0.318333</td>\n",
       "      <td>-0.100623</td>\n",
       "      <td>-0.042729</td>\n",
       "      <td>0</td>\n",
       "      <td>1</td>\n",
       "      <td>0</td>\n",
       "      <td>...</td>\n",
       "      <td>0</td>\n",
       "      <td>0</td>\n",
       "      <td>0</td>\n",
       "      <td>0</td>\n",
       "      <td>1</td>\n",
       "      <td>1</td>\n",
       "      <td>0</td>\n",
       "      <td>0</td>\n",
       "      <td>0</td>\n",
       "      <td>0</td>\n",
       "    </tr>\n",
       "    <tr>\n",
       "      <th>3</th>\n",
       "      <td>4</td>\n",
       "      <td>10</td>\n",
       "      <td>0</td>\n",
       "      <td>0</td>\n",
       "      <td>-0.318333</td>\n",
       "      <td>-0.100623</td>\n",
       "      <td>-0.042729</td>\n",
       "      <td>0</td>\n",
       "      <td>0</td>\n",
       "      <td>0</td>\n",
       "      <td>...</td>\n",
       "      <td>0</td>\n",
       "      <td>0</td>\n",
       "      <td>0</td>\n",
       "      <td>0</td>\n",
       "      <td>0</td>\n",
       "      <td>0</td>\n",
       "      <td>1</td>\n",
       "      <td>0</td>\n",
       "      <td>0</td>\n",
       "      <td>0</td>\n",
       "    </tr>\n",
       "    <tr>\n",
       "      <th>4</th>\n",
       "      <td>5</td>\n",
       "      <td>11</td>\n",
       "      <td>0</td>\n",
       "      <td>0</td>\n",
       "      <td>-0.318333</td>\n",
       "      <td>-0.100623</td>\n",
       "      <td>-0.042729</td>\n",
       "      <td>0</td>\n",
       "      <td>0</td>\n",
       "      <td>0</td>\n",
       "      <td>...</td>\n",
       "      <td>0</td>\n",
       "      <td>1</td>\n",
       "      <td>0</td>\n",
       "      <td>0</td>\n",
       "      <td>0</td>\n",
       "      <td>0</td>\n",
       "      <td>0</td>\n",
       "      <td>1</td>\n",
       "      <td>0</td>\n",
       "      <td>0</td>\n",
       "    </tr>\n",
       "  </tbody>\n",
       "</table>\n",
       "<p>5 rows × 124 columns</p>\n",
       "</div>"
      ],
      "text/plain": [
       "   Unnamed: 0  persona_id  movilidad_posgrado_exterior  \\\n",
       "0           1           5                            0   \n",
       "1           2           7                            0   \n",
       "2           3           9                            0   \n",
       "3           4          10                            0   \n",
       "4           5          11                            0   \n",
       "\n",
       "   movilidad_estancias_exterior  produccion_cantidad_libros  \\\n",
       "0                             0                   -0.318333   \n",
       "1                             1                   -0.318333   \n",
       "2                             0                   -0.318333   \n",
       "3                             0                   -0.318333   \n",
       "4                             0                   -0.318333   \n",
       "\n",
       "   produccion_patentes_solicitadas  produccion_patentes_otorgadas  \\\n",
       "0                        -0.100623                      -0.042729   \n",
       "1                        -0.100623                      -0.042729   \n",
       "2                        -0.100623                      -0.042729   \n",
       "3                        -0.100623                      -0.042729   \n",
       "4                        -0.100623                      -0.042729   \n",
       "\n",
       "   actividad_evaluacion_rrhh_becarios  \\\n",
       "0                                   0   \n",
       "1                                   0   \n",
       "2                                   0   \n",
       "3                                   0   \n",
       "4                                   0   \n",
       "\n",
       "   actividad_evaluacion_rrhh_investigadores  \\\n",
       "0                                         0   \n",
       "1                                         0   \n",
       "2                                         1   \n",
       "3                                         0   \n",
       "4                                         0   \n",
       "\n",
       "   actividad_evaluacion_rrhh_premios                 ...                  \\\n",
       "0                                  0                 ...                   \n",
       "1                                  1                 ...                   \n",
       "2                                  0                 ...                   \n",
       "3                                  0                 ...                   \n",
       "4                                  0                 ...                   \n",
       "\n",
       "   clase_cargo_docente_Profesor por convenio  \\\n",
       "0                                          0   \n",
       "1                                          0   \n",
       "2                                          0   \n",
       "3                                          0   \n",
       "4                                          0   \n",
       "\n",
       "   clase_cargo_docente_Profesor titular  \\\n",
       "0                                     1   \n",
       "1                                     0   \n",
       "2                                     0   \n",
       "3                                     0   \n",
       "4                                     1   \n",
       "\n",
       "   clase_cargo_docente_Profesor titular plenario  \\\n",
       "0                                              0   \n",
       "1                                              0   \n",
       "2                                              0   \n",
       "3                                              0   \n",
       "4                                              0   \n",
       "\n",
       "   clase_cargo_docente_Profesor visitante  clase_cargo_docente_no docente  \\\n",
       "0                                       0                               0   \n",
       "1                                       0                               0   \n",
       "2                                       0                               1   \n",
       "3                                       0                               0   \n",
       "4                                       0                               0   \n",
       "\n",
       "   area_exp_CIENCIAS MÉDICAS Y DE LA SALUD  \\\n",
       "0                                        0   \n",
       "1                                        1   \n",
       "2                                        1   \n",
       "3                                        0   \n",
       "4                                        0   \n",
       "\n",
       "   area_exp_CIENCIAS NATURALES Y EXACTAS  area_exp_CIENCIAS SOCIALES  \\\n",
       "0                                      1                           0   \n",
       "1                                      0                           0   \n",
       "2                                      0                           0   \n",
       "3                                      1                           0   \n",
       "4                                      0                           1   \n",
       "\n",
       "   area_exp_HUMANIDADES  area_exp_INGENIERÍAS Y TECNOLOGÍAS  \n",
       "0                     0                                   0  \n",
       "1                     0                                   0  \n",
       "2                     0                                   0  \n",
       "3                     0                                   0  \n",
       "4                     0                                   0  \n",
       "\n",
       "[5 rows x 124 columns]"
      ]
     },
     "execution_count": 233,
     "metadata": {},
     "output_type": "execute_result"
    }
   ],
   "source": [
    "#Lectura de la base 2017\n",
    "df_2017=pd.read_csv('personas_2017_para_estimar.csv')\n",
    "df_2017.head()"
   ]
  },
  {
   "cell_type": "code",
   "execution_count": 234,
   "metadata": {},
   "outputs": [
    {
     "data": {
      "text/html": [
       "<div>\n",
       "<style scoped>\n",
       "    .dataframe tbody tr th:only-of-type {\n",
       "        vertical-align: middle;\n",
       "    }\n",
       "\n",
       "    .dataframe tbody tr th {\n",
       "        vertical-align: top;\n",
       "    }\n",
       "\n",
       "    .dataframe thead th {\n",
       "        text-align: right;\n",
       "    }\n",
       "</style>\n",
       "<table border=\"1\" class=\"dataframe\">\n",
       "  <thead>\n",
       "    <tr style=\"text-align: right;\">\n",
       "      <th></th>\n",
       "      <th>Unnamed: 0</th>\n",
       "      <th>persona_id</th>\n",
       "      <th>movilidad_posgrado_exterior</th>\n",
       "      <th>movilidad_estancias_exterior</th>\n",
       "      <th>produccion_cantidad_libros</th>\n",
       "      <th>produccion_patentes_solicitadas</th>\n",
       "      <th>produccion_patentes_otorgadas</th>\n",
       "      <th>actividad_evaluacion_rrhh_becarios</th>\n",
       "      <th>actividad_evaluacion_rrhh_investigadores</th>\n",
       "      <th>actividad_evaluacion_rrhh_premios</th>\n",
       "      <th>...</th>\n",
       "      <th>clase_cargo_docente_Profesor por convenio</th>\n",
       "      <th>clase_cargo_docente_Profesor titular</th>\n",
       "      <th>clase_cargo_docente_Profesor titular plenario</th>\n",
       "      <th>clase_cargo_docente_Profesor visitante</th>\n",
       "      <th>clase_cargo_docente_no docente</th>\n",
       "      <th>area_exp_CIENCIAS MÉDICAS Y DE LA SALUD</th>\n",
       "      <th>area_exp_CIENCIAS NATURALES Y EXACTAS</th>\n",
       "      <th>area_exp_CIENCIAS SOCIALES</th>\n",
       "      <th>area_exp_HUMANIDADES</th>\n",
       "      <th>area_exp_INGENIERÍAS Y TECNOLOGÍAS</th>\n",
       "    </tr>\n",
       "  </thead>\n",
       "  <tbody>\n",
       "    <tr>\n",
       "      <th>0</th>\n",
       "      <td>1</td>\n",
       "      <td>5</td>\n",
       "      <td>0</td>\n",
       "      <td>0</td>\n",
       "      <td>-0.318333</td>\n",
       "      <td>-0.100623</td>\n",
       "      <td>-0.042729</td>\n",
       "      <td>0</td>\n",
       "      <td>0</td>\n",
       "      <td>0</td>\n",
       "      <td>...</td>\n",
       "      <td>0</td>\n",
       "      <td>1</td>\n",
       "      <td>0</td>\n",
       "      <td>0</td>\n",
       "      <td>0</td>\n",
       "      <td>0</td>\n",
       "      <td>1</td>\n",
       "      <td>0</td>\n",
       "      <td>0</td>\n",
       "      <td>0</td>\n",
       "    </tr>\n",
       "    <tr>\n",
       "      <th>1</th>\n",
       "      <td>2</td>\n",
       "      <td>7</td>\n",
       "      <td>0</td>\n",
       "      <td>1</td>\n",
       "      <td>-0.318333</td>\n",
       "      <td>-0.100623</td>\n",
       "      <td>-0.042729</td>\n",
       "      <td>0</td>\n",
       "      <td>0</td>\n",
       "      <td>1</td>\n",
       "      <td>...</td>\n",
       "      <td>0</td>\n",
       "      <td>0</td>\n",
       "      <td>0</td>\n",
       "      <td>0</td>\n",
       "      <td>0</td>\n",
       "      <td>1</td>\n",
       "      <td>0</td>\n",
       "      <td>0</td>\n",
       "      <td>0</td>\n",
       "      <td>0</td>\n",
       "    </tr>\n",
       "    <tr>\n",
       "      <th>2</th>\n",
       "      <td>3</td>\n",
       "      <td>9</td>\n",
       "      <td>0</td>\n",
       "      <td>0</td>\n",
       "      <td>-0.318333</td>\n",
       "      <td>-0.100623</td>\n",
       "      <td>-0.042729</td>\n",
       "      <td>0</td>\n",
       "      <td>1</td>\n",
       "      <td>0</td>\n",
       "      <td>...</td>\n",
       "      <td>0</td>\n",
       "      <td>0</td>\n",
       "      <td>0</td>\n",
       "      <td>0</td>\n",
       "      <td>1</td>\n",
       "      <td>1</td>\n",
       "      <td>0</td>\n",
       "      <td>0</td>\n",
       "      <td>0</td>\n",
       "      <td>0</td>\n",
       "    </tr>\n",
       "    <tr>\n",
       "      <th>3</th>\n",
       "      <td>4</td>\n",
       "      <td>10</td>\n",
       "      <td>0</td>\n",
       "      <td>0</td>\n",
       "      <td>-0.318333</td>\n",
       "      <td>-0.100623</td>\n",
       "      <td>-0.042729</td>\n",
       "      <td>0</td>\n",
       "      <td>0</td>\n",
       "      <td>0</td>\n",
       "      <td>...</td>\n",
       "      <td>0</td>\n",
       "      <td>0</td>\n",
       "      <td>0</td>\n",
       "      <td>0</td>\n",
       "      <td>0</td>\n",
       "      <td>0</td>\n",
       "      <td>1</td>\n",
       "      <td>0</td>\n",
       "      <td>0</td>\n",
       "      <td>0</td>\n",
       "    </tr>\n",
       "    <tr>\n",
       "      <th>4</th>\n",
       "      <td>5</td>\n",
       "      <td>11</td>\n",
       "      <td>0</td>\n",
       "      <td>0</td>\n",
       "      <td>-0.318333</td>\n",
       "      <td>-0.100623</td>\n",
       "      <td>-0.042729</td>\n",
       "      <td>0</td>\n",
       "      <td>0</td>\n",
       "      <td>0</td>\n",
       "      <td>...</td>\n",
       "      <td>0</td>\n",
       "      <td>1</td>\n",
       "      <td>0</td>\n",
       "      <td>0</td>\n",
       "      <td>0</td>\n",
       "      <td>0</td>\n",
       "      <td>0</td>\n",
       "      <td>1</td>\n",
       "      <td>0</td>\n",
       "      <td>0</td>\n",
       "    </tr>\n",
       "  </tbody>\n",
       "</table>\n",
       "<p>5 rows × 124 columns</p>\n",
       "</div>"
      ],
      "text/plain": [
       "   Unnamed: 0  persona_id  movilidad_posgrado_exterior  \\\n",
       "0           1           5                            0   \n",
       "1           2           7                            0   \n",
       "2           3           9                            0   \n",
       "3           4          10                            0   \n",
       "4           5          11                            0   \n",
       "\n",
       "   movilidad_estancias_exterior  produccion_cantidad_libros  \\\n",
       "0                             0                   -0.318333   \n",
       "1                             1                   -0.318333   \n",
       "2                             0                   -0.318333   \n",
       "3                             0                   -0.318333   \n",
       "4                             0                   -0.318333   \n",
       "\n",
       "   produccion_patentes_solicitadas  produccion_patentes_otorgadas  \\\n",
       "0                        -0.100623                      -0.042729   \n",
       "1                        -0.100623                      -0.042729   \n",
       "2                        -0.100623                      -0.042729   \n",
       "3                        -0.100623                      -0.042729   \n",
       "4                        -0.100623                      -0.042729   \n",
       "\n",
       "   actividad_evaluacion_rrhh_becarios  \\\n",
       "0                                   0   \n",
       "1                                   0   \n",
       "2                                   0   \n",
       "3                                   0   \n",
       "4                                   0   \n",
       "\n",
       "   actividad_evaluacion_rrhh_investigadores  \\\n",
       "0                                         0   \n",
       "1                                         0   \n",
       "2                                         1   \n",
       "3                                         0   \n",
       "4                                         0   \n",
       "\n",
       "   actividad_evaluacion_rrhh_premios                 ...                  \\\n",
       "0                                  0                 ...                   \n",
       "1                                  1                 ...                   \n",
       "2                                  0                 ...                   \n",
       "3                                  0                 ...                   \n",
       "4                                  0                 ...                   \n",
       "\n",
       "   clase_cargo_docente_Profesor por convenio  \\\n",
       "0                                          0   \n",
       "1                                          0   \n",
       "2                                          0   \n",
       "3                                          0   \n",
       "4                                          0   \n",
       "\n",
       "   clase_cargo_docente_Profesor titular  \\\n",
       "0                                     1   \n",
       "1                                     0   \n",
       "2                                     0   \n",
       "3                                     0   \n",
       "4                                     1   \n",
       "\n",
       "   clase_cargo_docente_Profesor titular plenario  \\\n",
       "0                                              0   \n",
       "1                                              0   \n",
       "2                                              0   \n",
       "3                                              0   \n",
       "4                                              0   \n",
       "\n",
       "   clase_cargo_docente_Profesor visitante  clase_cargo_docente_no docente  \\\n",
       "0                                       0                               0   \n",
       "1                                       0                               0   \n",
       "2                                       0                               1   \n",
       "3                                       0                               0   \n",
       "4                                       0                               0   \n",
       "\n",
       "   area_exp_CIENCIAS MÉDICAS Y DE LA SALUD  \\\n",
       "0                                        0   \n",
       "1                                        1   \n",
       "2                                        1   \n",
       "3                                        0   \n",
       "4                                        0   \n",
       "\n",
       "   area_exp_CIENCIAS NATURALES Y EXACTAS  area_exp_CIENCIAS SOCIALES  \\\n",
       "0                                      1                           0   \n",
       "1                                      0                           0   \n",
       "2                                      0                           0   \n",
       "3                                      1                           0   \n",
       "4                                      0                           1   \n",
       "\n",
       "   area_exp_HUMANIDADES  area_exp_INGENIERÍAS Y TECNOLOGÍAS  \n",
       "0                     0                                   0  \n",
       "1                     0                                   0  \n",
       "2                     0                                   0  \n",
       "3                     0                                   0  \n",
       "4                     0                                   0  \n",
       "\n",
       "[5 rows x 124 columns]"
      ]
     },
     "execution_count": 234,
     "metadata": {},
     "output_type": "execute_result"
    }
   ],
   "source": [
    "df_2017_original=pd.read_csv('personas_2017_para_estimar.csv')\n",
    "df_2017_original.head()"
   ]
  },
  {
   "cell_type": "code",
   "execution_count": 235,
   "metadata": {},
   "outputs": [],
   "source": [
    "#Se eliminan columnas que no se usarán\n",
    "df_2017.drop(columns=['Unnamed: 0','persona_id'],inplace=True)"
   ]
  },
  {
   "cell_type": "code",
   "execution_count": 236,
   "metadata": {},
   "outputs": [
    {
     "data": {
      "text/plain": [
       "(62553, 122)"
      ]
     },
     "execution_count": 236,
     "metadata": {},
     "output_type": "execute_result"
    }
   ],
   "source": [
    "df_2017.shape"
   ]
  },
  {
   "cell_type": "code",
   "execution_count": 237,
   "metadata": {},
   "outputs": [
    {
     "data": {
      "text/plain": [
       "(39211, 126)"
      ]
     },
     "execution_count": 237,
     "metadata": {},
     "output_type": "execute_result"
    }
   ],
   "source": [
    "X_train.shape"
   ]
  },
  {
   "cell_type": "code",
   "execution_count": 238,
   "metadata": {},
   "outputs": [],
   "source": [
    "columns_2017=df_2017.columns"
   ]
  },
  {
   "cell_type": "code",
   "execution_count": 239,
   "metadata": {},
   "outputs": [
    {
     "data": {
      "text/plain": [
       "Index(['cat_conicet_Gestión CyT', 'cat_conicet_Investigador correspondiente',\n",
       "       'cat_conicet_Pasante', 'clase_cargo_docente_Docente auxiliar alumno',\n",
       "       'clase_cargo_docente_Docente técnico profesional',\n",
       "       'clase_cargo_docente_Profesor asistente',\n",
       "       'clase_cargo_docente_Profesor ayudante A',\n",
       "       'clase_cargo_docente_Profesor de extensión',\n",
       "       'clase_cargo_docente_Profesor nivel A',\n",
       "       'clase_cargo_docente_Profesor nivel B', 'edad_(10, 20]',\n",
       "       'edad_(90, 100]'],\n",
       "      dtype='object')"
      ]
     },
     "execution_count": 239,
     "metadata": {},
     "output_type": "execute_result"
    }
   ],
   "source": [
    "#Analizamos las columnas que no se encuentran en una u otra matriz\n",
    "df_2017.columns ^ X_train.columns"
   ]
  },
  {
   "cell_type": "code",
   "execution_count": 240,
   "metadata": {},
   "outputs": [],
   "source": [
    "df_2017['cat_conicet_Gestión CyT']=0\n",
    "df_2017['clase_cargo_docente_Docente auxiliar alumno']=0\n",
    "df_2017['clase_cargo_docente_Docente técnico profesional']=0\n",
    "df_2017['clase_cargo_docente_Profesor asistente']=0\n",
    "df_2017['clase_cargo_docente_Profesor de extensión']=0\n",
    "df_2017['clase_cargo_docente_Profesor nivel A']=0\n",
    "df_2017.drop(columns=['edad_(10, 20]'],inplace=True)\n",
    "df_2017.drop(columns=['edad_(90, 100]'],inplace=True)"
   ]
  },
  {
   "cell_type": "code",
   "execution_count": 241,
   "metadata": {},
   "outputs": [],
   "source": [
    "df_2017.drop(columns=['cat_conicet_Investigador correspondiente'],inplace=True)\n",
    "df_2017.drop(columns=['clase_cargo_docente_Profesor nivel B'],inplace=True)\n",
    "df_2017['clase_cargo_docente_Profesor ayudante A']=0"
   ]
  },
  {
   "cell_type": "code",
   "execution_count": 242,
   "metadata": {},
   "outputs": [
    {
     "data": {
      "text/plain": [
       "Index(['cat_conicet_Pasante'], dtype='object')"
      ]
     },
     "execution_count": 242,
     "metadata": {},
     "output_type": "execute_result"
    }
   ],
   "source": [
    "#Analizamos las columnas que no se encuentran en una u otra matriz\n",
    "df_2017.columns ^ X_train.columns"
   ]
  },
  {
   "cell_type": "code",
   "execution_count": 243,
   "metadata": {},
   "outputs": [],
   "source": [
    "df_2017['cat_conicet_Pasante']=0"
   ]
  },
  {
   "cell_type": "code",
   "execution_count": 244,
   "metadata": {},
   "outputs": [
    {
     "data": {
      "text/plain": [
       "Index([], dtype='object')"
      ]
     },
     "execution_count": 244,
     "metadata": {},
     "output_type": "execute_result"
    }
   ],
   "source": [
    "#Analizamos las columnas que no se encuentran en una u otra matriz\n",
    "df_2017.columns ^ X_train.columns"
   ]
  },
  {
   "cell_type": "code",
   "execution_count": 245,
   "metadata": {},
   "outputs": [],
   "source": [
    "#ponemos las columnas en el mismo orden\n",
    "columnsTitles = X_train.columns\n",
    "df_2017=df_2017.reindex(columns=columnsTitles)"
   ]
  },
  {
   "cell_type": "code",
   "execution_count": 246,
   "metadata": {},
   "outputs": [],
   "source": [
    "y_pred_2017=lgbm_cant_prestigio.predict(df_2017)"
   ]
  },
  {
   "cell_type": "code",
   "execution_count": 247,
   "metadata": {},
   "outputs": [],
   "source": [
    "cant_prestigio=pd.DataFrame(y_pred_2017)"
   ]
  },
  {
   "cell_type": "code",
   "execution_count": 248,
   "metadata": {},
   "outputs": [],
   "source": [
    "cant_prestigio.rename(columns={0:'cant_prestigio'}, inplace=True)"
   ]
  },
  {
   "cell_type": "code",
   "execution_count": 249,
   "metadata": {},
   "outputs": [],
   "source": [
    "df_2017=pd.concat([df_2017,cant_prestigio], axis=1)"
   ]
  },
  {
   "cell_type": "code",
   "execution_count": 250,
   "metadata": {
    "scrolled": false
   },
   "outputs": [
    {
     "data": {
      "text/plain": [
       "77402.12874972424"
      ]
     },
     "execution_count": 250,
     "metadata": {},
     "output_type": "execute_result"
    }
   ],
   "source": [
    "df_2017['cant_prestigio'].sum()"
   ]
  },
  {
   "cell_type": "code",
   "execution_count": 251,
   "metadata": {},
   "outputs": [],
   "source": [
    "df_2017_cant_prestigio=pd.concat([df_2017_original['persona_id'],\n",
    "                                    df_2017['cant_prestigio']], axis=1)"
   ]
  },
  {
   "cell_type": "code",
   "execution_count": 252,
   "metadata": {},
   "outputs": [],
   "source": [
    "df_2017_cant_prestigio.to_csv('df_2017_cant_prestigio.csv')"
   ]
  },
  {
   "cell_type": "code",
   "execution_count": null,
   "metadata": {},
   "outputs": [],
   "source": []
  }
 ],
 "metadata": {
  "kernelspec": {
   "display_name": "Python 3",
   "language": "python",
   "name": "python3"
  },
  "language_info": {
   "codemirror_mode": {
    "name": "ipython",
    "version": 3
   },
   "file_extension": ".py",
   "mimetype": "text/x-python",
   "name": "python",
   "nbconvert_exporter": "python",
   "pygments_lexer": "ipython3",
   "version": "3.6.8"
  }
 },
 "nbformat": 4,
 "nbformat_minor": 2
}
