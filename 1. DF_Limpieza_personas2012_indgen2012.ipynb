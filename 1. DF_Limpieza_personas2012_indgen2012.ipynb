{
 "cells": [
  {
   "cell_type": "markdown",
   "metadata": {},
   "source": [
    "### Desafío Integrador\n",
    "#### Análisis de las producciones del personal de Ciencia y Tecnología"
   ]
  },
  {
   "cell_type": "markdown",
   "metadata": {},
   "source": [
    "El personal de CyT en una unidad estadística incluye a todas las personas involucradas directamente en I+D así como a aquellas que brindan servicios directos para las actividades de I + D (como gerentes de I + D, administradores, técnicos y personal de oficina). "
   ]
  },
  {
   "cell_type": "markdown",
   "metadata": {},
   "source": [
    "### Etapa 1: Limpieza de las bases de datos"
   ]
  },
  {
   "cell_type": "markdown",
   "metadata": {},
   "source": [
    "#### 1. Lectura e interpretación de la Personas 2016"
   ]
  },
  {
   "cell_type": "code",
   "execution_count": 301,
   "metadata": {},
   "outputs": [],
   "source": [
    "#Se importa la funcionalidad necesaria\n",
    "import pandas as pd\n",
    "import numpy as np\n",
    "import warnings\n",
    "warnings.filterwarnings('ignore')"
   ]
  },
  {
   "cell_type": "code",
   "execution_count": 302,
   "metadata": {},
   "outputs": [],
   "source": [
    "%matplotlib inline\n",
    "import matplotlib.pyplot as plt\n",
    "import seaborn as sns"
   ]
  },
  {
   "cell_type": "code",
   "execution_count": 303,
   "metadata": {},
   "outputs": [],
   "source": [
    "#Se lee la tabla Personas 2016\n",
    "personas_2012=pd.read_csv('personas_2012.csv',sep=\";\")\n",
    "#Se guarda la tabla original por si se necesita posteriormente\n",
    "personas_2012_original=personas_2012"
   ]
  },
  {
   "cell_type": "code",
   "execution_count": 304,
   "metadata": {},
   "outputs": [
    {
     "data": {
      "text/html": [
       "<div>\n",
       "<style scoped>\n",
       "    .dataframe tbody tr th:only-of-type {\n",
       "        vertical-align: middle;\n",
       "    }\n",
       "\n",
       "    .dataframe tbody tr th {\n",
       "        vertical-align: top;\n",
       "    }\n",
       "\n",
       "    .dataframe thead th {\n",
       "        text-align: right;\n",
       "    }\n",
       "</style>\n",
       "<table border=\"1\" class=\"dataframe\">\n",
       "  <thead>\n",
       "    <tr style=\"text-align: right;\">\n",
       "      <th></th>\n",
       "      <th>persona_id</th>\n",
       "      <th>anio</th>\n",
       "      <th>sexo_id</th>\n",
       "      <th>edad</th>\n",
       "      <th>maximo_grado_academico_id</th>\n",
       "      <th>disciplina_maximo_grado_academico_id</th>\n",
       "      <th>disciplina_titulo_grado_id</th>\n",
       "      <th>disciplina_experticia_id</th>\n",
       "      <th>tipo_personal_id</th>\n",
       "      <th>producciones_ult_anio</th>\n",
       "      <th>...</th>\n",
       "      <th>producciones_ult_3_anios</th>\n",
       "      <th>producciones_ult_4_anios</th>\n",
       "      <th>institucion_trabajo_id</th>\n",
       "      <th>seniority_level</th>\n",
       "      <th>categoria_conicet_id</th>\n",
       "      <th>categoria_incentivos</th>\n",
       "      <th>max_dedicacion_horaria_docente_id</th>\n",
       "      <th>institucion_cargo_docente_id</th>\n",
       "      <th>clase_cargo_docente_id</th>\n",
       "      <th>tipo_condicion_docente_id</th>\n",
       "    </tr>\n",
       "  </thead>\n",
       "  <tbody>\n",
       "    <tr>\n",
       "      <th>0</th>\n",
       "      <td>1</td>\n",
       "      <td>2012</td>\n",
       "      <td>2</td>\n",
       "      <td>37</td>\n",
       "      <td>-1</td>\n",
       "      <td>-1</td>\n",
       "      <td>-1</td>\n",
       "      <td>64</td>\n",
       "      <td>4</td>\n",
       "      <td>0</td>\n",
       "      <td>...</td>\n",
       "      <td>1</td>\n",
       "      <td>1</td>\n",
       "      <td>4488</td>\n",
       "      <td></td>\n",
       "      <td>11.0</td>\n",
       "      <td>-1.0</td>\n",
       "      <td>3.0</td>\n",
       "      <td>116.0</td>\n",
       "      <td>22.0</td>\n",
       "      <td>1.0</td>\n",
       "    </tr>\n",
       "    <tr>\n",
       "      <th>1</th>\n",
       "      <td>5</td>\n",
       "      <td>2012</td>\n",
       "      <td>1</td>\n",
       "      <td>49</td>\n",
       "      <td>1</td>\n",
       "      <td>255</td>\n",
       "      <td>255</td>\n",
       "      <td>255</td>\n",
       "      <td>3</td>\n",
       "      <td>4</td>\n",
       "      <td>...</td>\n",
       "      <td>11</td>\n",
       "      <td>17</td>\n",
       "      <td>118</td>\n",
       "      <td>B</td>\n",
       "      <td>2.0</td>\n",
       "      <td>3.0</td>\n",
       "      <td>3.0</td>\n",
       "      <td>118.0</td>\n",
       "      <td>19.0</td>\n",
       "      <td>2.0</td>\n",
       "    </tr>\n",
       "    <tr>\n",
       "      <th>2</th>\n",
       "      <td>7</td>\n",
       "      <td>2012</td>\n",
       "      <td>2</td>\n",
       "      <td>31</td>\n",
       "      <td>5</td>\n",
       "      <td>111</td>\n",
       "      <td>111</td>\n",
       "      <td>158</td>\n",
       "      <td>1</td>\n",
       "      <td>3</td>\n",
       "      <td>...</td>\n",
       "      <td>16</td>\n",
       "      <td>16</td>\n",
       "      <td>587</td>\n",
       "      <td>D</td>\n",
       "      <td>NaN</td>\n",
       "      <td>NaN</td>\n",
       "      <td>NaN</td>\n",
       "      <td>NaN</td>\n",
       "      <td>NaN</td>\n",
       "      <td>NaN</td>\n",
       "    </tr>\n",
       "    <tr>\n",
       "      <th>3</th>\n",
       "      <td>9</td>\n",
       "      <td>2012</td>\n",
       "      <td>2</td>\n",
       "      <td>62</td>\n",
       "      <td>1</td>\n",
       "      <td>256</td>\n",
       "      <td>256</td>\n",
       "      <td>157</td>\n",
       "      <td>3</td>\n",
       "      <td>7</td>\n",
       "      <td>...</td>\n",
       "      <td>21</td>\n",
       "      <td>23</td>\n",
       "      <td>5191</td>\n",
       "      <td>B</td>\n",
       "      <td>NaN</td>\n",
       "      <td>NaN</td>\n",
       "      <td>NaN</td>\n",
       "      <td>NaN</td>\n",
       "      <td>NaN</td>\n",
       "      <td>NaN</td>\n",
       "    </tr>\n",
       "    <tr>\n",
       "      <th>4</th>\n",
       "      <td>10</td>\n",
       "      <td>2012</td>\n",
       "      <td>2</td>\n",
       "      <td>52</td>\n",
       "      <td>5</td>\n",
       "      <td>248</td>\n",
       "      <td>248</td>\n",
       "      <td>29</td>\n",
       "      <td>4</td>\n",
       "      <td>2</td>\n",
       "      <td>...</td>\n",
       "      <td>3</td>\n",
       "      <td>5</td>\n",
       "      <td>44</td>\n",
       "      <td></td>\n",
       "      <td>-1.0</td>\n",
       "      <td>4.0</td>\n",
       "      <td>3.0</td>\n",
       "      <td>101.0</td>\n",
       "      <td>21.0</td>\n",
       "      <td>1.0</td>\n",
       "    </tr>\n",
       "  </tbody>\n",
       "</table>\n",
       "<p>5 rows × 21 columns</p>\n",
       "</div>"
      ],
      "text/plain": [
       "   persona_id  anio  sexo_id  edad  maximo_grado_academico_id  \\\n",
       "0           1  2012        2    37                         -1   \n",
       "1           5  2012        1    49                          1   \n",
       "2           7  2012        2    31                          5   \n",
       "3           9  2012        2    62                          1   \n",
       "4          10  2012        2    52                          5   \n",
       "\n",
       "   disciplina_maximo_grado_academico_id  disciplina_titulo_grado_id  \\\n",
       "0                                    -1                          -1   \n",
       "1                                   255                         255   \n",
       "2                                   111                         111   \n",
       "3                                   256                         256   \n",
       "4                                   248                         248   \n",
       "\n",
       "   disciplina_experticia_id  tipo_personal_id  producciones_ult_anio  \\\n",
       "0                        64                 4                      0   \n",
       "1                       255                 3                      4   \n",
       "2                       158                 1                      3   \n",
       "3                       157                 3                      7   \n",
       "4                        29                 4                      2   \n",
       "\n",
       "             ...              producciones_ult_3_anios  \\\n",
       "0            ...                                     1   \n",
       "1            ...                                    11   \n",
       "2            ...                                    16   \n",
       "3            ...                                    21   \n",
       "4            ...                                     3   \n",
       "\n",
       "   producciones_ult_4_anios  institucion_trabajo_id  seniority_level  \\\n",
       "0                         1                    4488                    \n",
       "1                        17                     118              B     \n",
       "2                        16                     587              D     \n",
       "3                        23                    5191              B     \n",
       "4                         5                      44                    \n",
       "\n",
       "  categoria_conicet_id  categoria_incentivos  \\\n",
       "0                 11.0                  -1.0   \n",
       "1                  2.0                   3.0   \n",
       "2                  NaN                   NaN   \n",
       "3                  NaN                   NaN   \n",
       "4                 -1.0                   4.0   \n",
       "\n",
       "   max_dedicacion_horaria_docente_id  institucion_cargo_docente_id  \\\n",
       "0                                3.0                         116.0   \n",
       "1                                3.0                         118.0   \n",
       "2                                NaN                           NaN   \n",
       "3                                NaN                           NaN   \n",
       "4                                3.0                         101.0   \n",
       "\n",
       "   clase_cargo_docente_id  tipo_condicion_docente_id  \n",
       "0                    22.0                        1.0  \n",
       "1                    19.0                        2.0  \n",
       "2                     NaN                        NaN  \n",
       "3                     NaN                        NaN  \n",
       "4                    21.0                        1.0  \n",
       "\n",
       "[5 rows x 21 columns]"
      ]
     },
     "execution_count": 304,
     "metadata": {},
     "output_type": "execute_result"
    }
   ],
   "source": [
    "personas_2012.head()"
   ]
  },
  {
   "cell_type": "code",
   "execution_count": 305,
   "metadata": {},
   "outputs": [
    {
     "data": {
      "text/html": [
       "<div>\n",
       "<style scoped>\n",
       "    .dataframe tbody tr th:only-of-type {\n",
       "        vertical-align: middle;\n",
       "    }\n",
       "\n",
       "    .dataframe tbody tr th {\n",
       "        vertical-align: top;\n",
       "    }\n",
       "\n",
       "    .dataframe thead th {\n",
       "        text-align: right;\n",
       "    }\n",
       "</style>\n",
       "<table border=\"1\" class=\"dataframe\">\n",
       "  <thead>\n",
       "    <tr style=\"text-align: right;\">\n",
       "      <th></th>\n",
       "      <th>persona_id</th>\n",
       "      <th>edad</th>\n",
       "      <th>producciones_ult_anio</th>\n",
       "      <th>producciones_ult_2_anios</th>\n",
       "      <th>producciones_ult_3_anios</th>\n",
       "      <th>producciones_ult_4_anios</th>\n",
       "    </tr>\n",
       "  </thead>\n",
       "  <tbody>\n",
       "    <tr>\n",
       "      <th>0</th>\n",
       "      <td>1</td>\n",
       "      <td>37</td>\n",
       "      <td>0</td>\n",
       "      <td>0</td>\n",
       "      <td>1</td>\n",
       "      <td>1</td>\n",
       "    </tr>\n",
       "    <tr>\n",
       "      <th>1</th>\n",
       "      <td>5</td>\n",
       "      <td>49</td>\n",
       "      <td>4</td>\n",
       "      <td>9</td>\n",
       "      <td>11</td>\n",
       "      <td>17</td>\n",
       "    </tr>\n",
       "    <tr>\n",
       "      <th>2</th>\n",
       "      <td>7</td>\n",
       "      <td>31</td>\n",
       "      <td>3</td>\n",
       "      <td>14</td>\n",
       "      <td>16</td>\n",
       "      <td>16</td>\n",
       "    </tr>\n",
       "    <tr>\n",
       "      <th>3</th>\n",
       "      <td>9</td>\n",
       "      <td>62</td>\n",
       "      <td>7</td>\n",
       "      <td>12</td>\n",
       "      <td>21</td>\n",
       "      <td>23</td>\n",
       "    </tr>\n",
       "    <tr>\n",
       "      <th>4</th>\n",
       "      <td>10</td>\n",
       "      <td>52</td>\n",
       "      <td>2</td>\n",
       "      <td>2</td>\n",
       "      <td>3</td>\n",
       "      <td>5</td>\n",
       "    </tr>\n",
       "  </tbody>\n",
       "</table>\n",
       "</div>"
      ],
      "text/plain": [
       "   persona_id  edad  producciones_ult_anio  producciones_ult_2_anios  \\\n",
       "0           1    37                      0                         0   \n",
       "1           5    49                      4                         9   \n",
       "2           7    31                      3                        14   \n",
       "3           9    62                      7                        12   \n",
       "4          10    52                      2                         2   \n",
       "\n",
       "   producciones_ult_3_anios  producciones_ult_4_anios  \n",
       "0                         1                         1  \n",
       "1                        11                        17  \n",
       "2                        16                        16  \n",
       "3                        21                        23  \n",
       "4                         3                         5  "
      ]
     },
     "execution_count": 305,
     "metadata": {},
     "output_type": "execute_result"
    }
   ],
   "source": [
    "personas_2012[['persona_id','edad','producciones_ult_anio','producciones_ult_2_anios', 'producciones_ult_3_anios',\n",
    "       'producciones_ult_4_anios']].head()"
   ]
  },
  {
   "cell_type": "code",
   "execution_count": 306,
   "metadata": {},
   "outputs": [
    {
     "data": {
      "text/plain": [
       "(66685, 21)"
      ]
     },
     "execution_count": 306,
     "metadata": {},
     "output_type": "execute_result"
    }
   ],
   "source": [
    "personas_2012.shape"
   ]
  },
  {
   "cell_type": "code",
   "execution_count": 307,
   "metadata": {},
   "outputs": [
    {
     "data": {
      "text/plain": [
       "Index(['persona_id', 'anio', 'sexo_id', 'edad', 'maximo_grado_academico_id',\n",
       "       'disciplina_maximo_grado_academico_id', 'disciplina_titulo_grado_id',\n",
       "       'disciplina_experticia_id', 'tipo_personal_id', 'producciones_ult_anio',\n",
       "       'producciones_ult_2_anios', 'producciones_ult_3_anios',\n",
       "       'producciones_ult_4_anios', 'institucion_trabajo_id', 'seniority_level',\n",
       "       'categoria_conicet_id', 'categoria_incentivos',\n",
       "       'max_dedicacion_horaria_docente_id', 'institucion_cargo_docente_id',\n",
       "       'clase_cargo_docente_id', 'tipo_condicion_docente_id'],\n",
       "      dtype='object')"
      ]
     },
     "execution_count": 307,
     "metadata": {},
     "output_type": "execute_result"
    }
   ],
   "source": [
    "personas_2012.columns"
   ]
  },
  {
   "cell_type": "markdown",
   "metadata": {},
   "source": [
    "#### 2. Unión de la tabla Personas 2016 con las tablas de referencias"
   ]
  },
  {
   "cell_type": "markdown",
   "metadata": {},
   "source": [
    "La base de datos original tiene la mayoría de sus datos con códigos, para poder interpretar a qué corresponde cada código se cuenta con tablas de referencias que los describen. Se procede a unir cada código con su identificación."
   ]
  },
  {
   "cell_type": "code",
   "execution_count": 308,
   "metadata": {},
   "outputs": [
    {
     "data": {
      "text/html": [
       "<div>\n",
       "<style scoped>\n",
       "    .dataframe tbody tr th:only-of-type {\n",
       "        vertical-align: middle;\n",
       "    }\n",
       "\n",
       "    .dataframe tbody tr th {\n",
       "        vertical-align: top;\n",
       "    }\n",
       "\n",
       "    .dataframe thead th {\n",
       "        text-align: right;\n",
       "    }\n",
       "</style>\n",
       "<table border=\"1\" class=\"dataframe\">\n",
       "  <thead>\n",
       "    <tr style=\"text-align: right;\">\n",
       "      <th></th>\n",
       "      <th>sexo_id</th>\n",
       "      <th>sexo_descripcion</th>\n",
       "    </tr>\n",
       "  </thead>\n",
       "  <tbody>\n",
       "    <tr>\n",
       "      <th>0</th>\n",
       "      <td>1</td>\n",
       "      <td>FEMENINO</td>\n",
       "    </tr>\n",
       "    <tr>\n",
       "      <th>1</th>\n",
       "      <td>2</td>\n",
       "      <td>MASCULINO</td>\n",
       "    </tr>\n",
       "  </tbody>\n",
       "</table>\n",
       "</div>"
      ],
      "text/plain": [
       "   sexo_id sexo_descripcion\n",
       "0        1         FEMENINO\n",
       "1        2        MASCULINO"
      ]
     },
     "execution_count": 308,
     "metadata": {},
     "output_type": "execute_result"
    }
   ],
   "source": [
    "#Analizamos las referencias de sexo:\n",
    "sexo=pd.read_csv('ref_sexo.csv',sep=\";\")\n",
    "sexo"
   ]
  },
  {
   "cell_type": "code",
   "execution_count": 309,
   "metadata": {},
   "outputs": [
    {
     "data": {
      "text/html": [
       "<div>\n",
       "<style scoped>\n",
       "    .dataframe tbody tr th:only-of-type {\n",
       "        vertical-align: middle;\n",
       "    }\n",
       "\n",
       "    .dataframe tbody tr th {\n",
       "        vertical-align: top;\n",
       "    }\n",
       "\n",
       "    .dataframe thead th {\n",
       "        text-align: right;\n",
       "    }\n",
       "</style>\n",
       "<table border=\"1\" class=\"dataframe\">\n",
       "  <thead>\n",
       "    <tr style=\"text-align: right;\">\n",
       "      <th></th>\n",
       "      <th>persona_id</th>\n",
       "      <th>anio</th>\n",
       "      <th>sexo</th>\n",
       "      <th>edad</th>\n",
       "      <th>maximo_grado_academico_id</th>\n",
       "      <th>disciplina_maximo_grado_academico_id</th>\n",
       "      <th>disciplina_titulo_grado_id</th>\n",
       "      <th>disciplina_experticia_id</th>\n",
       "      <th>tipo_personal_id</th>\n",
       "      <th>producciones_ult_anio</th>\n",
       "      <th>...</th>\n",
       "      <th>producciones_ult_3_anios</th>\n",
       "      <th>producciones_ult_4_anios</th>\n",
       "      <th>institucion_trabajo_id</th>\n",
       "      <th>seniority_level</th>\n",
       "      <th>categoria_conicet_id</th>\n",
       "      <th>categoria_incentivos</th>\n",
       "      <th>max_dedicacion_horaria_docente_id</th>\n",
       "      <th>institucion_cargo_docente_id</th>\n",
       "      <th>clase_cargo_docente_id</th>\n",
       "      <th>tipo_condicion_docente_id</th>\n",
       "    </tr>\n",
       "  </thead>\n",
       "  <tbody>\n",
       "    <tr>\n",
       "      <th>0</th>\n",
       "      <td>1</td>\n",
       "      <td>2012</td>\n",
       "      <td>M</td>\n",
       "      <td>37</td>\n",
       "      <td>-1</td>\n",
       "      <td>-1</td>\n",
       "      <td>-1</td>\n",
       "      <td>64</td>\n",
       "      <td>4</td>\n",
       "      <td>0</td>\n",
       "      <td>...</td>\n",
       "      <td>1</td>\n",
       "      <td>1</td>\n",
       "      <td>4488</td>\n",
       "      <td></td>\n",
       "      <td>11.0</td>\n",
       "      <td>-1.0</td>\n",
       "      <td>3.0</td>\n",
       "      <td>116.0</td>\n",
       "      <td>22.0</td>\n",
       "      <td>1.0</td>\n",
       "    </tr>\n",
       "    <tr>\n",
       "      <th>1</th>\n",
       "      <td>5</td>\n",
       "      <td>2012</td>\n",
       "      <td>F</td>\n",
       "      <td>49</td>\n",
       "      <td>1</td>\n",
       "      <td>255</td>\n",
       "      <td>255</td>\n",
       "      <td>255</td>\n",
       "      <td>3</td>\n",
       "      <td>4</td>\n",
       "      <td>...</td>\n",
       "      <td>11</td>\n",
       "      <td>17</td>\n",
       "      <td>118</td>\n",
       "      <td>B</td>\n",
       "      <td>2.0</td>\n",
       "      <td>3.0</td>\n",
       "      <td>3.0</td>\n",
       "      <td>118.0</td>\n",
       "      <td>19.0</td>\n",
       "      <td>2.0</td>\n",
       "    </tr>\n",
       "    <tr>\n",
       "      <th>2</th>\n",
       "      <td>7</td>\n",
       "      <td>2012</td>\n",
       "      <td>M</td>\n",
       "      <td>31</td>\n",
       "      <td>5</td>\n",
       "      <td>111</td>\n",
       "      <td>111</td>\n",
       "      <td>158</td>\n",
       "      <td>1</td>\n",
       "      <td>3</td>\n",
       "      <td>...</td>\n",
       "      <td>16</td>\n",
       "      <td>16</td>\n",
       "      <td>587</td>\n",
       "      <td>D</td>\n",
       "      <td>NaN</td>\n",
       "      <td>NaN</td>\n",
       "      <td>NaN</td>\n",
       "      <td>NaN</td>\n",
       "      <td>NaN</td>\n",
       "      <td>NaN</td>\n",
       "    </tr>\n",
       "    <tr>\n",
       "      <th>3</th>\n",
       "      <td>9</td>\n",
       "      <td>2012</td>\n",
       "      <td>M</td>\n",
       "      <td>62</td>\n",
       "      <td>1</td>\n",
       "      <td>256</td>\n",
       "      <td>256</td>\n",
       "      <td>157</td>\n",
       "      <td>3</td>\n",
       "      <td>7</td>\n",
       "      <td>...</td>\n",
       "      <td>21</td>\n",
       "      <td>23</td>\n",
       "      <td>5191</td>\n",
       "      <td>B</td>\n",
       "      <td>NaN</td>\n",
       "      <td>NaN</td>\n",
       "      <td>NaN</td>\n",
       "      <td>NaN</td>\n",
       "      <td>NaN</td>\n",
       "      <td>NaN</td>\n",
       "    </tr>\n",
       "    <tr>\n",
       "      <th>4</th>\n",
       "      <td>10</td>\n",
       "      <td>2012</td>\n",
       "      <td>M</td>\n",
       "      <td>52</td>\n",
       "      <td>5</td>\n",
       "      <td>248</td>\n",
       "      <td>248</td>\n",
       "      <td>29</td>\n",
       "      <td>4</td>\n",
       "      <td>2</td>\n",
       "      <td>...</td>\n",
       "      <td>3</td>\n",
       "      <td>5</td>\n",
       "      <td>44</td>\n",
       "      <td></td>\n",
       "      <td>-1.0</td>\n",
       "      <td>4.0</td>\n",
       "      <td>3.0</td>\n",
       "      <td>101.0</td>\n",
       "      <td>21.0</td>\n",
       "      <td>1.0</td>\n",
       "    </tr>\n",
       "  </tbody>\n",
       "</table>\n",
       "<p>5 rows × 21 columns</p>\n",
       "</div>"
      ],
      "text/plain": [
       "   persona_id  anio sexo  edad  maximo_grado_academico_id  \\\n",
       "0           1  2012    M    37                         -1   \n",
       "1           5  2012    F    49                          1   \n",
       "2           7  2012    M    31                          5   \n",
       "3           9  2012    M    62                          1   \n",
       "4          10  2012    M    52                          5   \n",
       "\n",
       "   disciplina_maximo_grado_academico_id  disciplina_titulo_grado_id  \\\n",
       "0                                    -1                          -1   \n",
       "1                                   255                         255   \n",
       "2                                   111                         111   \n",
       "3                                   256                         256   \n",
       "4                                   248                         248   \n",
       "\n",
       "   disciplina_experticia_id  tipo_personal_id  producciones_ult_anio  \\\n",
       "0                        64                 4                      0   \n",
       "1                       255                 3                      4   \n",
       "2                       158                 1                      3   \n",
       "3                       157                 3                      7   \n",
       "4                        29                 4                      2   \n",
       "\n",
       "             ...              producciones_ult_3_anios  \\\n",
       "0            ...                                     1   \n",
       "1            ...                                    11   \n",
       "2            ...                                    16   \n",
       "3            ...                                    21   \n",
       "4            ...                                     3   \n",
       "\n",
       "   producciones_ult_4_anios  institucion_trabajo_id  seniority_level  \\\n",
       "0                         1                    4488                    \n",
       "1                        17                     118              B     \n",
       "2                        16                     587              D     \n",
       "3                        23                    5191              B     \n",
       "4                         5                      44                    \n",
       "\n",
       "  categoria_conicet_id  categoria_incentivos  \\\n",
       "0                 11.0                  -1.0   \n",
       "1                  2.0                   3.0   \n",
       "2                  NaN                   NaN   \n",
       "3                  NaN                   NaN   \n",
       "4                 -1.0                   4.0   \n",
       "\n",
       "   max_dedicacion_horaria_docente_id  institucion_cargo_docente_id  \\\n",
       "0                                3.0                         116.0   \n",
       "1                                3.0                         118.0   \n",
       "2                                NaN                           NaN   \n",
       "3                                NaN                           NaN   \n",
       "4                                3.0                         101.0   \n",
       "\n",
       "   clase_cargo_docente_id  tipo_condicion_docente_id  \n",
       "0                    22.0                        1.0  \n",
       "1                    19.0                        2.0  \n",
       "2                     NaN                        NaN  \n",
       "3                     NaN                        NaN  \n",
       "4                    21.0                        1.0  \n",
       "\n",
       "[5 rows x 21 columns]"
      ]
     },
     "execution_count": 309,
     "metadata": {},
     "output_type": "execute_result"
    }
   ],
   "source": [
    "#Se cambian los números por \"F\" y \"M\" para hacer más simple la identificación de dummies\n",
    "personas_2012['sexo_id']= personas_2012['sexo_id'].apply(lambda x: 'F' if x ==1 else 'M')\n",
    "personas_2012.rename(columns={\"sexo_id\": \"sexo\"},inplace=True)\n",
    "personas_2012.head()"
   ]
  },
  {
   "cell_type": "code",
   "execution_count": 310,
   "metadata": {},
   "outputs": [
    {
     "data": {
      "text/html": [
       "<div>\n",
       "<style scoped>\n",
       "    .dataframe tbody tr th:only-of-type {\n",
       "        vertical-align: middle;\n",
       "    }\n",
       "\n",
       "    .dataframe tbody tr th {\n",
       "        vertical-align: top;\n",
       "    }\n",
       "\n",
       "    .dataframe thead th {\n",
       "        text-align: right;\n",
       "    }\n",
       "</style>\n",
       "<table border=\"1\" class=\"dataframe\">\n",
       "  <thead>\n",
       "    <tr style=\"text-align: right;\">\n",
       "      <th></th>\n",
       "      <th>grado_academico_id</th>\n",
       "      <th>descripcion</th>\n",
       "    </tr>\n",
       "  </thead>\n",
       "  <tbody>\n",
       "    <tr>\n",
       "      <th>0</th>\n",
       "      <td>-1</td>\n",
       "      <td>Sin datos</td>\n",
       "    </tr>\n",
       "    <tr>\n",
       "      <th>1</th>\n",
       "      <td>1</td>\n",
       "      <td>Universitario de posgrado/doctorado</td>\n",
       "    </tr>\n",
       "    <tr>\n",
       "      <th>2</th>\n",
       "      <td>2</td>\n",
       "      <td>Universitario de posgrado/maestría</td>\n",
       "    </tr>\n",
       "    <tr>\n",
       "      <th>3</th>\n",
       "      <td>3</td>\n",
       "      <td>Universitario de posgrado/especialización</td>\n",
       "    </tr>\n",
       "    <tr>\n",
       "      <th>4</th>\n",
       "      <td>4</td>\n",
       "      <td>Universitario de posgrado/perfeccionamiento</td>\n",
       "    </tr>\n",
       "    <tr>\n",
       "      <th>5</th>\n",
       "      <td>5</td>\n",
       "      <td>Universitario de grado</td>\n",
       "    </tr>\n",
       "    <tr>\n",
       "      <th>6</th>\n",
       "      <td>6</td>\n",
       "      <td>Terciario no universitario</td>\n",
       "    </tr>\n",
       "    <tr>\n",
       "      <th>7</th>\n",
       "      <td>7</td>\n",
       "      <td>Medio</td>\n",
       "    </tr>\n",
       "    <tr>\n",
       "      <th>8</th>\n",
       "      <td>8</td>\n",
       "      <td>Básico</td>\n",
       "    </tr>\n",
       "    <tr>\n",
       "      <th>9</th>\n",
       "      <td>9</td>\n",
       "      <td>Universitario de posdoctorado</td>\n",
       "    </tr>\n",
       "  </tbody>\n",
       "</table>\n",
       "</div>"
      ],
      "text/plain": [
       "   grado_academico_id                                  descripcion\n",
       "0                  -1                                    Sin datos\n",
       "1                   1          Universitario de posgrado/doctorado\n",
       "2                   2           Universitario de posgrado/maestría\n",
       "3                   3    Universitario de posgrado/especialización\n",
       "4                   4  Universitario de posgrado/perfeccionamiento\n",
       "5                   5                       Universitario de grado\n",
       "6                   6                   Terciario no universitario\n",
       "7                   7                                        Medio\n",
       "8                   8                                       Básico\n",
       "9                   9                Universitario de posdoctorado"
      ]
     },
     "execution_count": 310,
     "metadata": {},
     "output_type": "execute_result"
    }
   ],
   "source": [
    "#Analizamos las referencias de grado académico\n",
    "grado=pd.read_csv('ref_grado_academico.csv',sep=\";\")\n",
    "grado"
   ]
  },
  {
   "cell_type": "code",
   "execution_count": 311,
   "metadata": {},
   "outputs": [],
   "source": [
    "#Se hace un merge con la tabla original\n",
    "personas_2012=pd.merge(personas_2012, grado, how='left',left_on='maximo_grado_academico_id',right_on='grado_academico_id')\n",
    "#Se Se renombra la columna \"descripcion\" para mejor interpretación\n",
    "personas_2012.rename(columns={\"descripcion\": \"max_grado_academico\"},inplace=True)\n",
    "#Se eliminan las columnas que ya no se necesitan\n",
    "personas_2012.drop(columns=['maximo_grado_academico_id','grado_academico_id'],inplace=True)"
   ]
  },
  {
   "cell_type": "code",
   "execution_count": 312,
   "metadata": {},
   "outputs": [
    {
     "data": {
      "text/html": [
       "<div>\n",
       "<style scoped>\n",
       "    .dataframe tbody tr th:only-of-type {\n",
       "        vertical-align: middle;\n",
       "    }\n",
       "\n",
       "    .dataframe tbody tr th {\n",
       "        vertical-align: top;\n",
       "    }\n",
       "\n",
       "    .dataframe thead th {\n",
       "        text-align: right;\n",
       "    }\n",
       "</style>\n",
       "<table border=\"1\" class=\"dataframe\">\n",
       "  <thead>\n",
       "    <tr style=\"text-align: right;\">\n",
       "      <th></th>\n",
       "      <th>disciplina_id</th>\n",
       "      <th>gran_area_codigo</th>\n",
       "      <th>gran_area_descripcion</th>\n",
       "      <th>area_codigo</th>\n",
       "      <th>area_descripcion</th>\n",
       "      <th>disciplina_codigo</th>\n",
       "      <th>disciplina_descripcion</th>\n",
       "    </tr>\n",
       "  </thead>\n",
       "  <tbody>\n",
       "    <tr>\n",
       "      <th>0</th>\n",
       "      <td>-1</td>\n",
       "      <td>-1</td>\n",
       "      <td>SIN DATOS</td>\n",
       "      <td>-1.0</td>\n",
       "      <td>SIN DATOS</td>\n",
       "      <td>-1</td>\n",
       "      <td>SIN DATOS</td>\n",
       "    </tr>\n",
       "    <tr>\n",
       "      <th>1</th>\n",
       "      <td>1</td>\n",
       "      <td>1</td>\n",
       "      <td>CIENCIAS NATURALES Y EXACTAS</td>\n",
       "      <td>1.0</td>\n",
       "      <td>SIN DATOS</td>\n",
       "      <td>1.0.0</td>\n",
       "      <td>SIN DATOS</td>\n",
       "    </tr>\n",
       "    <tr>\n",
       "      <th>2</th>\n",
       "      <td>2</td>\n",
       "      <td>1</td>\n",
       "      <td>CIENCIAS NATURALES Y EXACTAS</td>\n",
       "      <td>1.1</td>\n",
       "      <td>Matemáticas</td>\n",
       "      <td>1.1.0</td>\n",
       "      <td>SIN DATOS</td>\n",
       "    </tr>\n",
       "    <tr>\n",
       "      <th>3</th>\n",
       "      <td>3</td>\n",
       "      <td>1</td>\n",
       "      <td>CIENCIAS NATURALES Y EXACTAS</td>\n",
       "      <td>1.1</td>\n",
       "      <td>Matemáticas</td>\n",
       "      <td>1.1.1</td>\n",
       "      <td>Matemática Pura</td>\n",
       "    </tr>\n",
       "    <tr>\n",
       "      <th>4</th>\n",
       "      <td>4</td>\n",
       "      <td>1</td>\n",
       "      <td>CIENCIAS NATURALES Y EXACTAS</td>\n",
       "      <td>1.1</td>\n",
       "      <td>Matemáticas</td>\n",
       "      <td>1.1.2</td>\n",
       "      <td>Matemática Aplicada</td>\n",
       "    </tr>\n",
       "  </tbody>\n",
       "</table>\n",
       "</div>"
      ],
      "text/plain": [
       "   disciplina_id  gran_area_codigo         gran_area_descripcion  area_codigo  \\\n",
       "0             -1                -1                     SIN DATOS         -1.0   \n",
       "1              1                 1  CIENCIAS NATURALES Y EXACTAS          1.0   \n",
       "2              2                 1  CIENCIAS NATURALES Y EXACTAS          1.1   \n",
       "3              3                 1  CIENCIAS NATURALES Y EXACTAS          1.1   \n",
       "4              4                 1  CIENCIAS NATURALES Y EXACTAS          1.1   \n",
       "\n",
       "  area_descripcion disciplina_codigo disciplina_descripcion  \n",
       "0        SIN DATOS                -1              SIN DATOS  \n",
       "1        SIN DATOS             1.0.0              SIN DATOS  \n",
       "2      Matemáticas             1.1.0              SIN DATOS  \n",
       "3      Matemáticas             1.1.1        Matemática Pura  \n",
       "4      Matemáticas             1.1.2    Matemática Aplicada  "
      ]
     },
     "execution_count": 312,
     "metadata": {},
     "output_type": "execute_result"
    }
   ],
   "source": [
    "#Analizamos las referenicas de diciplinas\n",
    "disciplina=pd.read_csv('ref_disciplina.csv',sep=\";\")\n",
    "disciplina.head()"
   ]
  },
  {
   "cell_type": "code",
   "execution_count": 313,
   "metadata": {},
   "outputs": [
    {
     "data": {
      "text/html": [
       "<div>\n",
       "<style scoped>\n",
       "    .dataframe tbody tr th:only-of-type {\n",
       "        vertical-align: middle;\n",
       "    }\n",
       "\n",
       "    .dataframe tbody tr th {\n",
       "        vertical-align: top;\n",
       "    }\n",
       "\n",
       "    .dataframe thead th {\n",
       "        text-align: right;\n",
       "    }\n",
       "</style>\n",
       "<table border=\"1\" class=\"dataframe\">\n",
       "  <thead>\n",
       "    <tr style=\"text-align: right;\">\n",
       "      <th></th>\n",
       "      <th>disciplina_id</th>\n",
       "      <th>gran_area_descripcion</th>\n",
       "    </tr>\n",
       "  </thead>\n",
       "  <tbody>\n",
       "    <tr>\n",
       "      <th>0</th>\n",
       "      <td>-1</td>\n",
       "      <td>SIN DATOS</td>\n",
       "    </tr>\n",
       "    <tr>\n",
       "      <th>1</th>\n",
       "      <td>1</td>\n",
       "      <td>CIENCIAS NATURALES Y EXACTAS</td>\n",
       "    </tr>\n",
       "    <tr>\n",
       "      <th>2</th>\n",
       "      <td>2</td>\n",
       "      <td>CIENCIAS NATURALES Y EXACTAS</td>\n",
       "    </tr>\n",
       "    <tr>\n",
       "      <th>3</th>\n",
       "      <td>3</td>\n",
       "      <td>CIENCIAS NATURALES Y EXACTAS</td>\n",
       "    </tr>\n",
       "    <tr>\n",
       "      <th>4</th>\n",
       "      <td>4</td>\n",
       "      <td>CIENCIAS NATURALES Y EXACTAS</td>\n",
       "    </tr>\n",
       "  </tbody>\n",
       "</table>\n",
       "</div>"
      ],
      "text/plain": [
       "   disciplina_id         gran_area_descripcion\n",
       "0             -1                     SIN DATOS\n",
       "1              1  CIENCIAS NATURALES Y EXACTAS\n",
       "2              2  CIENCIAS NATURALES Y EXACTAS\n",
       "3              3  CIENCIAS NATURALES Y EXACTAS\n",
       "4              4  CIENCIAS NATURALES Y EXACTAS"
      ]
     },
     "execution_count": 313,
     "metadata": {},
     "output_type": "execute_result"
    }
   ],
   "source": [
    "#Nos quedamos con Gran Área expertis\n",
    "disciplina=disciplina[['disciplina_id','gran_area_descripcion']]\n",
    "disciplina.head()"
   ]
  },
  {
   "cell_type": "code",
   "execution_count": 314,
   "metadata": {},
   "outputs": [],
   "source": [
    "#Hacemos merge con disciplina_experticia_id, renombramos columnas y eliminamos las que no se necesitan\n",
    "personas_2012=pd.merge(personas_2012, disciplina, how='left',left_on='disciplina_experticia_id',right_on='disciplina_id')\n",
    "personas_2012.rename(columns={\"gran_area_descripcion\": \"gran_area_experticia\"},inplace=True)\n",
    "personas_2012.drop(columns=['disciplina_experticia_id','disciplina_id'],inplace=True)"
   ]
  },
  {
   "cell_type": "code",
   "execution_count": 315,
   "metadata": {},
   "outputs": [
    {
     "data": {
      "text/html": [
       "<div>\n",
       "<style scoped>\n",
       "    .dataframe tbody tr th:only-of-type {\n",
       "        vertical-align: middle;\n",
       "    }\n",
       "\n",
       "    .dataframe tbody tr th {\n",
       "        vertical-align: top;\n",
       "    }\n",
       "\n",
       "    .dataframe thead th {\n",
       "        text-align: right;\n",
       "    }\n",
       "</style>\n",
       "<table border=\"1\" class=\"dataframe\">\n",
       "  <thead>\n",
       "    <tr style=\"text-align: right;\">\n",
       "      <th></th>\n",
       "      <th>tipo_personal_id</th>\n",
       "      <th>tipo_personal_descripcion</th>\n",
       "    </tr>\n",
       "  </thead>\n",
       "  <tbody>\n",
       "    <tr>\n",
       "      <th>0</th>\n",
       "      <td>-1</td>\n",
       "      <td>SIN DATOS</td>\n",
       "    </tr>\n",
       "    <tr>\n",
       "      <th>1</th>\n",
       "      <td>1</td>\n",
       "      <td>BECARIO DE I+D</td>\n",
       "    </tr>\n",
       "    <tr>\n",
       "      <th>2</th>\n",
       "      <td>2</td>\n",
       "      <td>OTRO PERSONAL DE LA INSTITUCION</td>\n",
       "    </tr>\n",
       "    <tr>\n",
       "      <th>3</th>\n",
       "      <td>3</td>\n",
       "      <td>INVESTIGADOR</td>\n",
       "    </tr>\n",
       "    <tr>\n",
       "      <th>4</th>\n",
       "      <td>4</td>\n",
       "      <td>DOCENTE</td>\n",
       "    </tr>\n",
       "  </tbody>\n",
       "</table>\n",
       "</div>"
      ],
      "text/plain": [
       "   tipo_personal_id        tipo_personal_descripcion\n",
       "0                -1                        SIN DATOS\n",
       "1                 1                   BECARIO DE I+D\n",
       "2                 2  OTRO PERSONAL DE LA INSTITUCION\n",
       "3                 3                     INVESTIGADOR\n",
       "4                 4                          DOCENTE"
      ]
     },
     "execution_count": 315,
     "metadata": {},
     "output_type": "execute_result"
    }
   ],
   "source": [
    "#Analizamos las referencias de tipo de personal\n",
    "personal=pd.read_csv('ref_tipo_personal.csv',sep=\";\")\n",
    "personal"
   ]
  },
  {
   "cell_type": "code",
   "execution_count": 316,
   "metadata": {},
   "outputs": [],
   "source": [
    "#Se hace un merge con la tabla original\n",
    "personas_2012=pd.merge(personas_2012, personal, how='left',left_on='tipo_personal_id',right_on='tipo_personal_id')\n",
    "#Se Se renombra la columna \"Tipo_personal_descripcion\" para simplificar\n",
    "personas_2012.rename(columns={\"tipo_personal_descripcion\": \"tipo_personal\"},inplace=True)\n",
    "#Se eliminan las columnas que ya no se necesitan\n",
    "personas_2012.drop(columns='tipo_personal_id',inplace=True)"
   ]
  },
  {
   "cell_type": "code",
   "execution_count": 317,
   "metadata": {},
   "outputs": [
    {
     "data": {
      "text/html": [
       "<div>\n",
       "<style scoped>\n",
       "    .dataframe tbody tr th:only-of-type {\n",
       "        vertical-align: middle;\n",
       "    }\n",
       "\n",
       "    .dataframe tbody tr th {\n",
       "        vertical-align: top;\n",
       "    }\n",
       "\n",
       "    .dataframe thead th {\n",
       "        text-align: right;\n",
       "    }\n",
       "</style>\n",
       "<table border=\"1\" class=\"dataframe\">\n",
       "  <thead>\n",
       "    <tr style=\"text-align: right;\">\n",
       "      <th></th>\n",
       "      <th>tipo_condicion_docente_id</th>\n",
       "      <th>tipo_condicion_docente_descripcion</th>\n",
       "    </tr>\n",
       "  </thead>\n",
       "  <tbody>\n",
       "    <tr>\n",
       "      <th>0</th>\n",
       "      <td>-1</td>\n",
       "      <td>Sin datos</td>\n",
       "    </tr>\n",
       "    <tr>\n",
       "      <th>1</th>\n",
       "      <td>1</td>\n",
       "      <td>Regular o por concurso</td>\n",
       "    </tr>\n",
       "    <tr>\n",
       "      <th>2</th>\n",
       "      <td>2</td>\n",
       "      <td>Interino</td>\n",
       "    </tr>\n",
       "    <tr>\n",
       "      <th>3</th>\n",
       "      <td>3</td>\n",
       "      <td>Por contrato</td>\n",
       "    </tr>\n",
       "  </tbody>\n",
       "</table>\n",
       "</div>"
      ],
      "text/plain": [
       "   tipo_condicion_docente_id tipo_condicion_docente_descripcion\n",
       "0                         -1                          Sin datos\n",
       "1                          1             Regular o por concurso\n",
       "2                          2                           Interino\n",
       "3                          3                       Por contrato"
      ]
     },
     "execution_count": 317,
     "metadata": {},
     "output_type": "execute_result"
    }
   ],
   "source": [
    "#Analizamos las referencias de tipo condicion docente\n",
    "condicion=pd.read_csv('ref_tipo_condicion_docente.csv',sep=\";\")\n",
    "condicion.head()"
   ]
  },
  {
   "cell_type": "code",
   "execution_count": 318,
   "metadata": {},
   "outputs": [],
   "source": [
    "#Hacemos merge con tipo_condicion_docente_id, renombramos columnas y eliminamos las que no se necesitan\n",
    "personas_2012=pd.merge(personas_2012, condicion, how='left',left_on='tipo_condicion_docente_id',right_on='tipo_condicion_docente_id')\n",
    "personas_2012.rename(columns={\"tipo_condicion_docente_descripcion\": \"condicion_docente\"},inplace=True)\n",
    "personas_2012.drop(columns=['tipo_condicion_docente_id'],inplace=True)"
   ]
  },
  {
   "cell_type": "code",
   "execution_count": 319,
   "metadata": {},
   "outputs": [
    {
     "data": {
      "text/html": [
       "<div>\n",
       "<style scoped>\n",
       "    .dataframe tbody tr th:only-of-type {\n",
       "        vertical-align: middle;\n",
       "    }\n",
       "\n",
       "    .dataframe tbody tr th {\n",
       "        vertical-align: top;\n",
       "    }\n",
       "\n",
       "    .dataframe thead th {\n",
       "        text-align: right;\n",
       "    }\n",
       "</style>\n",
       "<table border=\"1\" class=\"dataframe\">\n",
       "  <thead>\n",
       "    <tr style=\"text-align: right;\">\n",
       "      <th></th>\n",
       "      <th>tipo_dedicacion_horaria_semanal_id</th>\n",
       "      <th>tipo_dedicacion_horaria_semanal_descripcion</th>\n",
       "    </tr>\n",
       "  </thead>\n",
       "  <tbody>\n",
       "    <tr>\n",
       "      <th>0</th>\n",
       "      <td>-1</td>\n",
       "      <td>Sin datos</td>\n",
       "    </tr>\n",
       "    <tr>\n",
       "      <th>1</th>\n",
       "      <td>1</td>\n",
       "      <td>40 horas o más</td>\n",
       "    </tr>\n",
       "    <tr>\n",
       "      <th>2</th>\n",
       "      <td>2</td>\n",
       "      <td>De 20 hasta 39 horas</td>\n",
       "    </tr>\n",
       "    <tr>\n",
       "      <th>3</th>\n",
       "      <td>3</td>\n",
       "      <td>De 0 hasta 19 horas</td>\n",
       "    </tr>\n",
       "  </tbody>\n",
       "</table>\n",
       "</div>"
      ],
      "text/plain": [
       "   tipo_dedicacion_horaria_semanal_id  \\\n",
       "0                                  -1   \n",
       "1                                   1   \n",
       "2                                   2   \n",
       "3                                   3   \n",
       "\n",
       "  tipo_dedicacion_horaria_semanal_descripcion  \n",
       "0                                   Sin datos  \n",
       "1                              40 horas o más  \n",
       "2                        De 20 hasta 39 horas  \n",
       "3                         De 0 hasta 19 horas  "
      ]
     },
     "execution_count": 319,
     "metadata": {},
     "output_type": "execute_result"
    }
   ],
   "source": [
    "#Analizamos dedicacion horaria semanal\n",
    "dedicacion=pd.read_csv('ref_dedicacion_horaria.csv',sep=\";\")\n",
    "dedicacion"
   ]
  },
  {
   "cell_type": "code",
   "execution_count": 320,
   "metadata": {},
   "outputs": [],
   "source": [
    "#Hacemos merge con tipo_max_dedicacion_horaria_dicente_id, renombramos columnas y eliminamos las que no se necesitan\n",
    "personas_2012=pd.merge(personas_2012, dedicacion, how='left',left_on='max_dedicacion_horaria_docente_id',right_on='tipo_dedicacion_horaria_semanal_id')\n",
    "personas_2012.rename(columns={\"tipo_dedicacion_horaria_semanal_descripcion\": \"ded_horaria_docente\"},inplace=True)\n",
    "personas_2012.drop(columns=['max_dedicacion_horaria_docente_id','tipo_dedicacion_horaria_semanal_id'],inplace=True)"
   ]
  },
  {
   "cell_type": "code",
   "execution_count": 321,
   "metadata": {},
   "outputs": [
    {
     "data": {
      "text/html": [
       "<div>\n",
       "<style scoped>\n",
       "    .dataframe tbody tr th:only-of-type {\n",
       "        vertical-align: middle;\n",
       "    }\n",
       "\n",
       "    .dataframe tbody tr th {\n",
       "        vertical-align: top;\n",
       "    }\n",
       "\n",
       "    .dataframe thead th {\n",
       "        text-align: right;\n",
       "    }\n",
       "</style>\n",
       "<table border=\"1\" class=\"dataframe\">\n",
       "  <thead>\n",
       "    <tr style=\"text-align: right;\">\n",
       "      <th></th>\n",
       "      <th>clase_cargo_id</th>\n",
       "      <th>tipo_cargo_descripcion</th>\n",
       "      <th>grupo_cargo_descripcion</th>\n",
       "      <th>clase_cargo_descripcion</th>\n",
       "      <th>equivalencia_cargo_docente_descripcion</th>\n",
       "    </tr>\n",
       "  </thead>\n",
       "  <tbody>\n",
       "    <tr>\n",
       "      <th>0</th>\n",
       "      <td>1</td>\n",
       "      <td>VACIO/NULO</td>\n",
       "      <td>VACIO/NULO</td>\n",
       "      <td>VACIO/NULO</td>\n",
       "      <td>NaN</td>\n",
       "    </tr>\n",
       "    <tr>\n",
       "      <th>1</th>\n",
       "      <td>2</td>\n",
       "      <td>ERRONEO</td>\n",
       "      <td>ERRONEO</td>\n",
       "      <td>ERRONEO</td>\n",
       "      <td>NaN</td>\n",
       "    </tr>\n",
       "    <tr>\n",
       "      <th>2</th>\n",
       "      <td>3</td>\n",
       "      <td>Docente nivel superior universitario y/o posgrado</td>\n",
       "      <td>Cargos docentes de nivel superior universitari...</td>\n",
       "      <td>VACIO/NULO</td>\n",
       "      <td>NaN</td>\n",
       "    </tr>\n",
       "    <tr>\n",
       "      <th>3</th>\n",
       "      <td>4</td>\n",
       "      <td>Cargos de I+D - En organismos científico-tecno...</td>\n",
       "      <td>Cargos de I+D en OCTs - CONICET</td>\n",
       "      <td>Investigador asistente</td>\n",
       "      <td>NaN</td>\n",
       "    </tr>\n",
       "    <tr>\n",
       "      <th>4</th>\n",
       "      <td>5</td>\n",
       "      <td>Cargos de I+D - En organismos científico-tecno...</td>\n",
       "      <td>Cargos de I+D en OCTs - CONICET</td>\n",
       "      <td>Investigador adjunto</td>\n",
       "      <td>NaN</td>\n",
       "    </tr>\n",
       "  </tbody>\n",
       "</table>\n",
       "</div>"
      ],
      "text/plain": [
       "   clase_cargo_id                             tipo_cargo_descripcion  \\\n",
       "0               1                                         VACIO/NULO   \n",
       "1               2                                            ERRONEO   \n",
       "2               3  Docente nivel superior universitario y/o posgrado   \n",
       "3               4  Cargos de I+D - En organismos científico-tecno...   \n",
       "4               5  Cargos de I+D - En organismos científico-tecno...   \n",
       "\n",
       "                             grupo_cargo_descripcion clase_cargo_descripcion  \\\n",
       "0                                         VACIO/NULO              VACIO/NULO   \n",
       "1                                            ERRONEO                 ERRONEO   \n",
       "2  Cargos docentes de nivel superior universitari...              VACIO/NULO   \n",
       "3                    Cargos de I+D en OCTs - CONICET  Investigador asistente   \n",
       "4                    Cargos de I+D en OCTs - CONICET    Investigador adjunto   \n",
       "\n",
       "  equivalencia_cargo_docente_descripcion  \n",
       "0                                    NaN  \n",
       "1                                    NaN  \n",
       "2                                    NaN  \n",
       "3                                    NaN  \n",
       "4                                    NaN  "
      ]
     },
     "execution_count": 321,
     "metadata": {},
     "output_type": "execute_result"
    }
   ],
   "source": [
    "#Analizamos el cargo docente\n",
    "cargo=pd.read_csv('ref_clase_cargo.csv',sep=\";\")\n",
    "cargo.head()"
   ]
  },
  {
   "cell_type": "code",
   "execution_count": 322,
   "metadata": {},
   "outputs": [],
   "source": [
    "#Nos quedamos con tipo, grupo y clase de cargo\n",
    "cargo=cargo[['clase_cargo_id','tipo_cargo_descripcion','grupo_cargo_descripcion','clase_cargo_descripcion']]"
   ]
  },
  {
   "cell_type": "code",
   "execution_count": 323,
   "metadata": {},
   "outputs": [],
   "source": [
    "#Hacemos merge con clase_cargo_docente_id, renombramos columnas y eliminamos las que no se necesitan\n",
    "personas_2012=pd.merge(personas_2012, cargo, how='left',left_on='clase_cargo_docente_id',right_on='clase_cargo_id')\n",
    "personas_2012.rename(columns={'tipo_cargo_descripcion':'tipo_cargo_docente','grupo_cargo_descripcion': 'grupo_cargo_docente',\n",
    "                  'clase_cargo_descripcion':'clase_cargo_docente'},inplace=True)\n",
    "personas_2012.drop(columns=['clase_cargo_docente_id','clase_cargo_id'],inplace=True)"
   ]
  },
  {
   "cell_type": "code",
   "execution_count": 324,
   "metadata": {},
   "outputs": [
    {
     "data": {
      "text/html": [
       "<div>\n",
       "<style scoped>\n",
       "    .dataframe tbody tr th:only-of-type {\n",
       "        vertical-align: middle;\n",
       "    }\n",
       "\n",
       "    .dataframe tbody tr th {\n",
       "        vertical-align: top;\n",
       "    }\n",
       "\n",
       "    .dataframe thead th {\n",
       "        text-align: right;\n",
       "    }\n",
       "</style>\n",
       "<table border=\"1\" class=\"dataframe\">\n",
       "  <thead>\n",
       "    <tr style=\"text-align: right;\">\n",
       "      <th></th>\n",
       "      <th>categoria_conicet_id</th>\n",
       "      <th>categoria_conicet_descripcion</th>\n",
       "    </tr>\n",
       "  </thead>\n",
       "  <tbody>\n",
       "    <tr>\n",
       "      <th>0</th>\n",
       "      <td>-1</td>\n",
       "      <td>No pertenece a Conicet</td>\n",
       "    </tr>\n",
       "    <tr>\n",
       "      <th>1</th>\n",
       "      <td>1</td>\n",
       "      <td>Investigador asistente</td>\n",
       "    </tr>\n",
       "    <tr>\n",
       "      <th>2</th>\n",
       "      <td>2</td>\n",
       "      <td>Investigador adjunto</td>\n",
       "    </tr>\n",
       "    <tr>\n",
       "      <th>3</th>\n",
       "      <td>3</td>\n",
       "      <td>Investigador independiente</td>\n",
       "    </tr>\n",
       "    <tr>\n",
       "      <th>4</th>\n",
       "      <td>4</td>\n",
       "      <td>Investigador principal</td>\n",
       "    </tr>\n",
       "    <tr>\n",
       "      <th>5</th>\n",
       "      <td>5</td>\n",
       "      <td>Investigador superior</td>\n",
       "    </tr>\n",
       "    <tr>\n",
       "      <th>6</th>\n",
       "      <td>6</td>\n",
       "      <td>Becario doctoral</td>\n",
       "    </tr>\n",
       "    <tr>\n",
       "      <th>7</th>\n",
       "      <td>7</td>\n",
       "      <td>Becario postdoctoral</td>\n",
       "    </tr>\n",
       "    <tr>\n",
       "      <th>8</th>\n",
       "      <td>8</td>\n",
       "      <td>Personal de apoyo</td>\n",
       "    </tr>\n",
       "    <tr>\n",
       "      <th>9</th>\n",
       "      <td>9</td>\n",
       "      <td>Gestión CyT</td>\n",
       "    </tr>\n",
       "    <tr>\n",
       "      <th>10</th>\n",
       "      <td>10</td>\n",
       "      <td>Pasante</td>\n",
       "    </tr>\n",
       "    <tr>\n",
       "      <th>11</th>\n",
       "      <td>11</td>\n",
       "      <td>Otro personal Conicet</td>\n",
       "    </tr>\n",
       "    <tr>\n",
       "      <th>12</th>\n",
       "      <td>12</td>\n",
       "      <td>Investigador correspondiente</td>\n",
       "    </tr>\n",
       "    <tr>\n",
       "      <th>13</th>\n",
       "      <td>13</td>\n",
       "      <td>Investigador superior emérito</td>\n",
       "    </tr>\n",
       "  </tbody>\n",
       "</table>\n",
       "</div>"
      ],
      "text/plain": [
       "    categoria_conicet_id  categoria_conicet_descripcion\n",
       "0                     -1         No pertenece a Conicet\n",
       "1                      1         Investigador asistente\n",
       "2                      2           Investigador adjunto\n",
       "3                      3     Investigador independiente\n",
       "4                      4         Investigador principal\n",
       "5                      5          Investigador superior\n",
       "6                      6               Becario doctoral\n",
       "7                      7           Becario postdoctoral\n",
       "8                      8              Personal de apoyo\n",
       "9                      9                    Gestión CyT\n",
       "10                    10                        Pasante\n",
       "11                    11          Otro personal Conicet\n",
       "12                    12   Investigador correspondiente\n",
       "13                    13  Investigador superior emérito"
      ]
     },
     "execution_count": 324,
     "metadata": {},
     "output_type": "execute_result"
    }
   ],
   "source": [
    "#Analizamos categoria conicet\n",
    "conicet=pd.read_csv('ref_categoria_conicet.csv',sep=\";\")\n",
    "conicet"
   ]
  },
  {
   "cell_type": "code",
   "execution_count": 325,
   "metadata": {},
   "outputs": [],
   "source": [
    "#Hacemos merge con categoria_conicet_id renombramos columnas y eliminamos las que no se necesitan\n",
    "personas_2012=pd.merge(personas_2012, conicet, how='left',left_on='categoria_conicet_id',right_on='categoria_conicet_id')\n",
    "personas_2012.rename(columns={\"categoria_conicet_descripcion\": \"categoria_conicet\"},inplace=True)\n",
    "personas_2012.drop(columns=['categoria_conicet_id'],inplace=True)"
   ]
  },
  {
   "cell_type": "markdown",
   "metadata": {},
   "source": [
    "#### 3. Se lleva la edad a rangos de edades"
   ]
  },
  {
   "cell_type": "code",
   "execution_count": 326,
   "metadata": {},
   "outputs": [],
   "source": [
    "personas_2012['rango_edad']=pd.cut(personas_2012['edad'],[0,10,20,30,40,50,60,70,80,90,100])\n",
    "personas_2012.drop(columns='edad',inplace=True)"
   ]
  },
  {
   "cell_type": "markdown",
   "metadata": {},
   "source": [
    "#### 4. Transformación de los datos de producciones de los últimos años"
   ]
  },
  {
   "cell_type": "markdown",
   "metadata": {},
   "source": [
    "Los datos de producciones de los último 2, 3 y 4 años incluyen las producciones del último año. Como lo que se busca es determinar si una persona hará una producción durante el transcurso del año, hay que restarle a los datos mencionados anteriormente  las producciones del último año."
   ]
  },
  {
   "cell_type": "code",
   "execution_count": 327,
   "metadata": {},
   "outputs": [
    {
     "name": "stdout",
     "output_type": "stream",
     "text": [
      "Tipo de datos:  int64\n",
      "Nan:  False    66685\n",
      "Name: producciones_ult_anio, dtype: int64\n",
      "Cantidad valores negativos:  (4686, 23)\n",
      "Valores negativos:  [-1]\n"
     ]
    }
   ],
   "source": [
    "#Primero se analizan los datos de cada columnas para ver si hay errores\n",
    "#Producciones último año. \n",
    "#Son todos int, no hay NaN, pero se identifican 4686 valores negativos. Se detecta que son todos -1\n",
    "print('Tipo de datos: ',personas_2012['producciones_ult_anio'].dtypes)\n",
    "print('Nan: ',personas_2012['producciones_ult_anio'].isnull().value_counts())\n",
    "print('Cantidad valores negativos: ',personas_2012.loc[personas_2012['producciones_ult_anio']<0].shape)\n",
    "print('Valores negativos: ',personas_2012.loc[personas_2012['producciones_ult_anio']<0].producciones_ult_anio.unique())\n"
   ]
  },
  {
   "cell_type": "code",
   "execution_count": 328,
   "metadata": {},
   "outputs": [
    {
     "name": "stdout",
     "output_type": "stream",
     "text": [
      "\n",
      " Nan producciones_ult_2_anios:  False    66685\n",
      "Name: producciones_ult_2_anios, dtype: int64 \n",
      " Nan producciones_ult_3_anios:  False    66685\n",
      "Name: producciones_ult_3_anios, dtype: int64 \n",
      " Nan producciones_ult_4_anios:  False    66685\n",
      "Name: producciones_ult_4_anios, dtype: int64 \n",
      "\n",
      "Cantidad valores negativos:\n",
      " producciones_ult_2_anios:  (4686, 23) \n",
      " producciones_ult_3_anios:  (4686, 23) \n",
      " producciones_ult_4_anios:  (4686, 23) \n",
      "\n",
      "Valores negativos: \n",
      " producciones_ult_2_anios:  [-1] \n",
      " producciones_ult_3_anios:  [-1] \n",
      " producciones_ult_4_anios:  [-1] \n",
      "\n"
     ]
    }
   ],
   "source": [
    "#Producciones últimos 2, 3 y 4 años \n",
    "#Son todos int, no hay NaN, y se identifican la misma cantidad de valores negativos. Además son todos -1\n",
    "\n",
    "print('\\n Nan producciones_ult_2_anios: ',personas_2012['producciones_ult_2_anios'].isnull().value_counts(),\n",
    "      '\\n Nan producciones_ult_3_anios: ',personas_2012['producciones_ult_3_anios'].isnull().value_counts(),\n",
    "      '\\n Nan producciones_ult_4_anios: ',personas_2012['producciones_ult_4_anios'].isnull().value_counts(),'\\n')\n",
    "\n",
    "\n",
    "print('Cantidad valores negativos:\\n',\n",
    "      'producciones_ult_2_anios: ',personas_2012.loc[personas_2012['producciones_ult_2_anios']<0].shape,'\\n',\n",
    "      'producciones_ult_3_anios: ',personas_2012.loc[personas_2012['producciones_ult_3_anios']<0].shape,'\\n',\n",
    "      'producciones_ult_4_anios: ',personas_2012.loc[personas_2012['producciones_ult_4_anios']<0].shape,'\\n')\n",
    "\n",
    "\n",
    "print('Valores negativos: \\n',\n",
    "      'producciones_ult_2_anios: ',personas_2012.loc[personas_2012['producciones_ult_2_anios']<0].producciones_ult_2_anios.unique(),'\\n',\n",
    "      'producciones_ult_3_anios: ',personas_2012.loc[personas_2012['producciones_ult_3_anios']<0].producciones_ult_3_anios.unique(),'\\n',\n",
    "      'producciones_ult_4_anios: ',personas_2012.loc[personas_2012['producciones_ult_4_anios']<0].producciones_ult_4_anios.unique(),'\\n')\n",
    "    "
   ]
  },
  {
   "cell_type": "code",
   "execution_count": 329,
   "metadata": {},
   "outputs": [
    {
     "data": {
      "text/plain": [
       "(4686, 23)"
      ]
     },
     "execution_count": 329,
     "metadata": {},
     "output_type": "execute_result"
    }
   ],
   "source": [
    "#Se comprueba que los valores negativos son todos de los mismo registros:\n",
    "personas_2012.loc[(personas_2012['producciones_ult_anio']<0) &\n",
    "       (personas_2012['producciones_ult_2_anios']<0) &\n",
    "       (personas_2012['producciones_ult_3_anios']<0) &\n",
    "       (personas_2012['producciones_ult_4_anios']<0)].shape"
   ]
  },
  {
   "cell_type": "code",
   "execution_count": 330,
   "metadata": {},
   "outputs": [],
   "source": [
    "#Se asume que son 0 producciones y se cambian los datos\n",
    "personas_2012['producciones_ult_anio']= personas_2012['producciones_ult_anio'].apply(lambda x: x if x >=0 else 0)\n",
    "personas_2012['producciones_ult_2_anios']= personas_2012['producciones_ult_2_anios'].apply(lambda x: x if x >=0 else 0)\n",
    "personas_2012['producciones_ult_3_anios']= personas_2012['producciones_ult_3_anios'].apply(lambda x: x if x >=0 else 0)\n",
    "personas_2012['producciones_ult_4_anios']= personas_2012['producciones_ult_4_anios'].apply(lambda x: x if x >=0 else 0)"
   ]
  },
  {
   "cell_type": "code",
   "execution_count": 331,
   "metadata": {},
   "outputs": [
    {
     "name": "stdout",
     "output_type": "stream",
     "text": [
      "Cantidad valores negativos producciones_ult_anio:  (0, 23)\n",
      "Cantidad valores negativos:\n",
      " producciones_ult_2_anios:  (0, 23) \n",
      " producciones_ult_3_anios:  (0, 23) \n",
      " producciones_ult_4_anios:  (0, 23) \n",
      "\n"
     ]
    }
   ],
   "source": [
    "#Se comprueba que se hayan eliminado los valores negativos\n",
    "print('Cantidad valores negativos producciones_ult_anio: ',personas_2012.loc[personas_2012['producciones_ult_anio']<0].shape)\n",
    "print('Cantidad valores negativos:\\n',\n",
    "      'producciones_ult_2_anios: ',personas_2012.loc[personas_2012['producciones_ult_2_anios']<0].shape,'\\n',\n",
    "      'producciones_ult_3_anios: ',personas_2012.loc[personas_2012['producciones_ult_3_anios']<0].shape,'\\n',\n",
    "      'producciones_ult_4_anios: ',personas_2012.loc[personas_2012['producciones_ult_4_anios']<0].shape,'\\n')"
   ]
  },
  {
   "cell_type": "code",
   "execution_count": 332,
   "metadata": {},
   "outputs": [
    {
     "data": {
      "text/plain": [
       "<matplotlib.axes._subplots.AxesSubplot at 0x7f02b4543780>"
      ]
     },
     "execution_count": 332,
     "metadata": {},
     "output_type": "execute_result"
    },
    {
     "data": {
      "image/png": "[encoded data removed]",
      "text/plain": [
       "<Figure size 432x288 with 2 Axes>"
      ]
     },
     "metadata": {},
     "output_type": "display_data"
    }
   ],
   "source": [
    "#Se grafica una matriz de correlación y se puede ver una alta correlación entre las producciones de diferentes años\n",
    "#Esto es porque las producciones de cada año inlcuyen producciones de años anteriores\n",
    "sns.heatmap(personas_2012[['producciones_ult_anio','producciones_ult_2_anios','producciones_ult_3_anios','producciones_ult_4_anios']].corr(),annot=True)"
   ]
  },
  {
   "cell_type": "code",
   "execution_count": 333,
   "metadata": {},
   "outputs": [
    {
     "data": {
      "text/plain": [
       "<seaborn.axisgrid.PairGrid at 0x7f02b45439b0>"
      ]
     },
     "execution_count": 333,
     "metadata": {},
     "output_type": "execute_result"
    },
    {
     "data": {
      "image/png": "[encoded data removed]",
      "text/plain": [
       "<Figure size 720x720 with 20 Axes>"
      ]
     },
     "metadata": {},
     "output_type": "display_data"
    }
   ],
   "source": [
    "#Se grafica un pairpliot para ver las tendencias\n",
    "sns.pairplot(personas_2012[['producciones_ult_anio','producciones_ult_2_anios','producciones_ult_3_anios','producciones_ult_4_anios']])"
   ]
  },
  {
   "cell_type": "code",
   "execution_count": 334,
   "metadata": {},
   "outputs": [
    {
     "data": {
      "text/plain": [
       "Index(['persona_id', 'anio', 'sexo', 'disciplina_maximo_grado_academico_id',\n",
       "       'disciplina_titulo_grado_id', 'producciones_ult_anio',\n",
       "       'producciones_ult_2_anios', 'producciones_ult_3_anios',\n",
       "       'producciones_ult_4_anios', 'institucion_trabajo_id', 'seniority_level',\n",
       "       'categoria_incentivos', 'institucion_cargo_docente_id',\n",
       "       'max_grado_academico', 'gran_area_experticia', 'tipo_personal',\n",
       "       'condicion_docente', 'ded_horaria_docente', 'tipo_cargo_docente',\n",
       "       'grupo_cargo_docente', 'clase_cargo_docente', 'categoria_conicet',\n",
       "       'rango_edad'],\n",
       "      dtype='object')"
      ]
     },
     "execution_count": 334,
     "metadata": {},
     "output_type": "execute_result"
    }
   ],
   "source": [
    "personas_2012.columns"
   ]
  },
  {
   "cell_type": "code",
   "execution_count": 335,
   "metadata": {},
   "outputs": [],
   "source": [
    "#Para disminuir la correlación se le resta a cada año las producciones de los otros años\n",
    "\n",
    "personas_2012['producciones_ult_4_anios']=personas_2012['producciones_ult_4_anios']-personas_2012['producciones_ult_3_anios']\n",
    "personas_2012['producciones_ult_3_anios']=personas_2012['producciones_ult_3_anios']-personas_2012['producciones_ult_2_anios']\n",
    "personas_2012['producciones_ult_2_anios']=personas_2012['producciones_ult_2_anios']-personas_2012['producciones_ult_anio']\n",
    "\n",
    "#se renombran las columnas\n",
    "\n",
    "personas_2012.rename(columns={\"producciones_ult_4_anios\": \"prod_3_años_ant\",\n",
    "                              \"producciones_ult_3_anios\": \"prod_2_años_ant\",\n",
    "                             \"producciones_ult_2_anios\": \"prod_año_ant\",\n",
    "                             \"producciones_ult_anio\": \"prod_ultimo_año\"},inplace=True)"
   ]
  },
  {
   "cell_type": "code",
   "execution_count": 336,
   "metadata": {},
   "outputs": [
    {
     "name": "stdout",
     "output_type": "stream",
     "text": [
      "97077\n",
      "107919\n",
      "128202\n",
      "133031\n"
     ]
    }
   ],
   "source": [
    "print(personas_2012[\"prod_3_años_ant\"].sum())\n",
    "print(personas_2012[\"prod_2_años_ant\"].sum())\n",
    "print(personas_2012[\"prod_año_ant\"].sum())\n",
    "print(personas_2012[\"prod_ultimo_año\"].sum())"
   ]
  },
  {
   "cell_type": "code",
   "execution_count": 337,
   "metadata": {},
   "outputs": [
    {
     "data": {
      "text/plain": [
       "466229"
      ]
     },
     "execution_count": 337,
     "metadata": {},
     "output_type": "execute_result"
    }
   ],
   "source": [
    "97077+107919+128202+133031"
   ]
  },
  {
   "cell_type": "code",
   "execution_count": 188,
   "metadata": {},
   "outputs": [
    {
     "data": {
      "text/plain": [
       "<matplotlib.axes._subplots.AxesSubplot at 0x7f02b7f84e10>"
      ]
     },
     "execution_count": 188,
     "metadata": {},
     "output_type": "execute_result"
    },
    {
     "data": {
      "image/png": "[encoded data removed]",
      "text/plain": [
       "<Figure size 432x288 with 2 Axes>"
      ]
     },
     "metadata": {},
     "output_type": "display_data"
    }
   ],
   "source": [
    "sns.heatmap(personas_2012[['prod_3_años_ant',\n",
    "                           'prod_2_años_ant',\n",
    "                           'prod_año_ant',\n",
    "                           'prod_ultimo_año']].corr(),annot=True)"
   ]
  },
  {
   "cell_type": "code",
   "execution_count": null,
   "metadata": {},
   "outputs": [],
   "source": []
  },
  {
   "cell_type": "code",
   "execution_count": 189,
   "metadata": {},
   "outputs": [
    {
     "data": {
      "text/plain": [
       "<seaborn.axisgrid.PairGrid at 0x7f02b68e2438>"
      ]
     },
     "execution_count": 189,
     "metadata": {},
     "output_type": "execute_result"
    },
    {
     "data": {
      "image/png": "[encoded data removed]",
      "text/plain": [
       "<Figure size 720x720 with 20 Axes>"
      ]
     },
     "metadata": {},
     "output_type": "display_data"
    }
   ],
   "source": [
    "#Se grafica un pairpliot para ver las tendencias\n",
    "sns.pairplot(personas_2012[['prod_3_años_ant',\n",
    "                           'prod_2_años_ant',\n",
    "                           'prod_año_ant',\n",
    "                           'prod_ultimo_año']])"
   ]
  },
  {
   "cell_type": "markdown",
   "metadata": {},
   "source": [
    "#### 5. Se eliminan columnas que no se usarán"
   ]
  },
  {
   "cell_type": "code",
   "execution_count": 190,
   "metadata": {},
   "outputs": [],
   "source": [
    "personas_2012=personas_2012.drop(columns=['anio','disciplina_maximo_grado_academico_id',\n",
    "       'disciplina_titulo_grado_id','institucion_cargo_docente_id','categoria_incentivos','institucion_trabajo_id'])"
   ]
  },
  {
   "cell_type": "code",
   "execution_count": 191,
   "metadata": {},
   "outputs": [
    {
     "data": {
      "text/plain": [
       "Index(['persona_id', 'sexo', 'prod_ultimo_año', 'prod_año_ant',\n",
       "       'prod_2_años_ant', 'prod_3_años_ant', 'seniority_level',\n",
       "       'max_grado_academico', 'gran_area_experticia', 'tipo_personal',\n",
       "       'condicion_docente', 'ded_horaria_docente', 'tipo_cargo_docente',\n",
       "       'grupo_cargo_docente', 'clase_cargo_docente', 'categoria_conicet',\n",
       "       'rango_edad'],\n",
       "      dtype='object')"
      ]
     },
     "execution_count": 191,
     "metadata": {},
     "output_type": "execute_result"
    }
   ],
   "source": [
    "personas_2012.columns"
   ]
  },
  {
   "cell_type": "markdown",
   "metadata": {},
   "source": [
    "#### 5. Análisis de NaN y valores erróneos"
   ]
  },
  {
   "cell_type": "code",
   "execution_count": 192,
   "metadata": {},
   "outputs": [
    {
     "data": {
      "text/plain": [
       "F    38628\n",
       "M    28057\n",
       "Name: sexo, dtype: int64"
      ]
     },
     "execution_count": 192,
     "metadata": {},
     "output_type": "execute_result"
    }
   ],
   "source": [
    "#Sexo. No se identifican NaN ni valores erróneos\n",
    "personas_2012['sexo'].value_counts()"
   ]
  },
  {
   "cell_type": "code",
   "execution_count": 193,
   "metadata": {},
   "outputs": [
    {
     "data": {
      "text/plain": [
       "False    66685\n",
       "Name: sexo, dtype: int64"
      ]
     },
     "execution_count": 193,
     "metadata": {},
     "output_type": "execute_result"
    }
   ],
   "source": [
    "personas_2012['sexo'].isnull().value_counts()"
   ]
  },
  {
   "cell_type": "code",
   "execution_count": 194,
   "metadata": {},
   "outputs": [
    {
     "data": {
      "text/plain": [
       "(30, 40]     19307\n",
       "(20, 30]     16539\n",
       "(40, 50]     15018\n",
       "(50, 60]     10923\n",
       "(60, 70]      2959\n",
       "(10, 20]      1363\n",
       "(70, 80]       311\n",
       "(80, 90]        20\n",
       "(90, 100]        0\n",
       "(0, 10]          0\n",
       "Name: rango_edad, dtype: int64"
      ]
     },
     "execution_count": 194,
     "metadata": {},
     "output_type": "execute_result"
    }
   ],
   "source": [
    "#Edad. No hay valores erróneos\n",
    "personas_2012['rango_edad'].value_counts()"
   ]
  },
  {
   "cell_type": "code",
   "execution_count": 195,
   "metadata": {},
   "outputs": [
    {
     "data": {
      "text/plain": [
       "False    66440\n",
       "True       245\n",
       "Name: rango_edad, dtype: int64"
      ]
     },
     "execution_count": 195,
     "metadata": {},
     "output_type": "execute_result"
    }
   ],
   "source": [
    "#Se identifica 245 NaN\n",
    "personas_2012['rango_edad'].isnull().value_counts()"
   ]
  },
  {
   "cell_type": "code",
   "execution_count": 196,
   "metadata": {},
   "outputs": [],
   "source": [
    "#Se elimina, es un solo registro\n",
    "personas_2012=personas_2012.loc[personas_2012['rango_edad'].isnull()==False]"
   ]
  },
  {
   "cell_type": "code",
   "execution_count": 197,
   "metadata": {},
   "outputs": [
    {
     "data": {
      "text/plain": [
       "False    66440\n",
       "Name: seniority_level, dtype: int64"
      ]
     },
     "execution_count": 197,
     "metadata": {},
     "output_type": "execute_result"
    }
   ],
   "source": [
    "#Se analiza seniority, no se identifican NaN\n",
    "personas_2012['seniority_level'].isnull().value_counts()"
   ]
  },
  {
   "cell_type": "code",
   "execution_count": 198,
   "metadata": {
    "scrolled": true
   },
   "outputs": [
    {
     "data": {
      "text/plain": [
       "       28609\n",
       "C      14335\n",
       "B       6781\n",
       "D       6751\n",
       "S/D     5119\n",
       "A       4845\n",
       "Name: seniority_level, dtype: int64"
      ]
     },
     "execution_count": 198,
     "metadata": {},
     "output_type": "execute_result"
    }
   ],
   "source": [
    "#Se analizan los datos y se ve que hay muchos faltantes, se analizan\n",
    "personas_2012['seniority_level'].value_counts()"
   ]
  },
  {
   "cell_type": "code",
   "execution_count": 199,
   "metadata": {},
   "outputs": [
    {
     "data": {
      "text/html": [
       "<div>\n",
       "<style scoped>\n",
       "    .dataframe tbody tr th:only-of-type {\n",
       "        vertical-align: middle;\n",
       "    }\n",
       "\n",
       "    .dataframe tbody tr th {\n",
       "        vertical-align: top;\n",
       "    }\n",
       "\n",
       "    .dataframe thead th {\n",
       "        text-align: right;\n",
       "    }\n",
       "</style>\n",
       "<table border=\"1\" class=\"dataframe\">\n",
       "  <thead>\n",
       "    <tr style=\"text-align: right;\">\n",
       "      <th></th>\n",
       "      <th>persona_id</th>\n",
       "      <th>sexo</th>\n",
       "      <th>prod_ultimo_año</th>\n",
       "      <th>prod_año_ant</th>\n",
       "      <th>prod_2_años_ant</th>\n",
       "      <th>prod_3_años_ant</th>\n",
       "      <th>seniority_level</th>\n",
       "      <th>max_grado_academico</th>\n",
       "      <th>gran_area_experticia</th>\n",
       "      <th>tipo_personal</th>\n",
       "      <th>condicion_docente</th>\n",
       "      <th>ded_horaria_docente</th>\n",
       "      <th>tipo_cargo_docente</th>\n",
       "      <th>grupo_cargo_docente</th>\n",
       "      <th>clase_cargo_docente</th>\n",
       "      <th>categoria_conicet</th>\n",
       "      <th>rango_edad</th>\n",
       "    </tr>\n",
       "  </thead>\n",
       "  <tbody>\n",
       "    <tr>\n",
       "      <th>0</th>\n",
       "      <td>1</td>\n",
       "      <td>M</td>\n",
       "      <td>0</td>\n",
       "      <td>0</td>\n",
       "      <td>1</td>\n",
       "      <td>0</td>\n",
       "      <td></td>\n",
       "      <td>Sin datos</td>\n",
       "      <td>INGENIERÍAS Y TECNOLOGÍAS</td>\n",
       "      <td>DOCENTE</td>\n",
       "      <td>Regular o por concurso</td>\n",
       "      <td>De 0 hasta 19 horas</td>\n",
       "      <td>Docente nivel superior universitario y/o posgrado</td>\n",
       "      <td>Cargos docentes de nivel superior universitari...</td>\n",
       "      <td>Ayudante de segunda</td>\n",
       "      <td>Otro personal Conicet</td>\n",
       "      <td>(30, 40]</td>\n",
       "    </tr>\n",
       "    <tr>\n",
       "      <th>1</th>\n",
       "      <td>5</td>\n",
       "      <td>F</td>\n",
       "      <td>4</td>\n",
       "      <td>5</td>\n",
       "      <td>2</td>\n",
       "      <td>6</td>\n",
       "      <td>B</td>\n",
       "      <td>Universitario de posgrado/doctorado</td>\n",
       "      <td>CIENCIAS NATURALES Y EXACTAS</td>\n",
       "      <td>INVESTIGADOR</td>\n",
       "      <td>Interino</td>\n",
       "      <td>De 0 hasta 19 horas</td>\n",
       "      <td>Docente nivel superior universitario y/o posgrado</td>\n",
       "      <td>Cargos docentes de nivel superior universitari...</td>\n",
       "      <td>Profesor asociado</td>\n",
       "      <td>Investigador adjunto</td>\n",
       "      <td>(40, 50]</td>\n",
       "    </tr>\n",
       "    <tr>\n",
       "      <th>2</th>\n",
       "      <td>7</td>\n",
       "      <td>M</td>\n",
       "      <td>3</td>\n",
       "      <td>11</td>\n",
       "      <td>2</td>\n",
       "      <td>0</td>\n",
       "      <td>D</td>\n",
       "      <td>Universitario de grado</td>\n",
       "      <td>CIENCIAS MÉDICAS Y DE LA SALUD</td>\n",
       "      <td>BECARIO DE I+D</td>\n",
       "      <td>NaN</td>\n",
       "      <td>NaN</td>\n",
       "      <td>NaN</td>\n",
       "      <td>NaN</td>\n",
       "      <td>NaN</td>\n",
       "      <td>NaN</td>\n",
       "      <td>(30, 40]</td>\n",
       "    </tr>\n",
       "    <tr>\n",
       "      <th>3</th>\n",
       "      <td>9</td>\n",
       "      <td>M</td>\n",
       "      <td>7</td>\n",
       "      <td>5</td>\n",
       "      <td>9</td>\n",
       "      <td>2</td>\n",
       "      <td>B</td>\n",
       "      <td>Universitario de posgrado/doctorado</td>\n",
       "      <td>CIENCIAS MÉDICAS Y DE LA SALUD</td>\n",
       "      <td>INVESTIGADOR</td>\n",
       "      <td>NaN</td>\n",
       "      <td>NaN</td>\n",
       "      <td>NaN</td>\n",
       "      <td>NaN</td>\n",
       "      <td>NaN</td>\n",
       "      <td>NaN</td>\n",
       "      <td>(60, 70]</td>\n",
       "    </tr>\n",
       "    <tr>\n",
       "      <th>4</th>\n",
       "      <td>10</td>\n",
       "      <td>M</td>\n",
       "      <td>2</td>\n",
       "      <td>0</td>\n",
       "      <td>1</td>\n",
       "      <td>2</td>\n",
       "      <td></td>\n",
       "      <td>Universitario de grado</td>\n",
       "      <td>CIENCIAS NATURALES Y EXACTAS</td>\n",
       "      <td>DOCENTE</td>\n",
       "      <td>Regular o por concurso</td>\n",
       "      <td>De 0 hasta 19 horas</td>\n",
       "      <td>Docente nivel superior universitario y/o posgrado</td>\n",
       "      <td>Cargos docentes de nivel superior universitari...</td>\n",
       "      <td>Ayudante de primera</td>\n",
       "      <td>No pertenece a Conicet</td>\n",
       "      <td>(50, 60]</td>\n",
       "    </tr>\n",
       "    <tr>\n",
       "      <th>5</th>\n",
       "      <td>11</td>\n",
       "      <td>F</td>\n",
       "      <td>1</td>\n",
       "      <td>8</td>\n",
       "      <td>4</td>\n",
       "      <td>3</td>\n",
       "      <td>C</td>\n",
       "      <td>Universitario de posgrado/maestría</td>\n",
       "      <td>CIENCIAS SOCIALES</td>\n",
       "      <td>INVESTIGADOR</td>\n",
       "      <td>Por contrato</td>\n",
       "      <td>De 0 hasta 19 horas</td>\n",
       "      <td>Docente nivel superior universitario y/o posgrado</td>\n",
       "      <td>Cargos docentes de nivel superior universitari...</td>\n",
       "      <td>Profesor titular</td>\n",
       "      <td>No pertenece a Conicet</td>\n",
       "      <td>(30, 40]</td>\n",
       "    </tr>\n",
       "    <tr>\n",
       "      <th>6</th>\n",
       "      <td>12</td>\n",
       "      <td>M</td>\n",
       "      <td>2</td>\n",
       "      <td>1</td>\n",
       "      <td>1</td>\n",
       "      <td>0</td>\n",
       "      <td></td>\n",
       "      <td>Universitario de posgrado/doctorado</td>\n",
       "      <td>INGENIERÍAS Y TECNOLOGÍAS</td>\n",
       "      <td>DOCENTE</td>\n",
       "      <td>Regular o por concurso</td>\n",
       "      <td>40 horas o más</td>\n",
       "      <td>Docente nivel superior universitario y/o posgrado</td>\n",
       "      <td>Cargos docentes de nivel superior universitari...</td>\n",
       "      <td>Profesor asociado</td>\n",
       "      <td>No pertenece a Conicet</td>\n",
       "      <td>(40, 50]</td>\n",
       "    </tr>\n",
       "    <tr>\n",
       "      <th>7</th>\n",
       "      <td>13</td>\n",
       "      <td>M</td>\n",
       "      <td>1</td>\n",
       "      <td>0</td>\n",
       "      <td>0</td>\n",
       "      <td>0</td>\n",
       "      <td></td>\n",
       "      <td>Universitario de grado</td>\n",
       "      <td>CIENCIAS SOCIALES</td>\n",
       "      <td>DOCENTE</td>\n",
       "      <td>Regular o por concurso</td>\n",
       "      <td>De 0 hasta 19 horas</td>\n",
       "      <td>Docente nivel superior universitario y/o posgrado</td>\n",
       "      <td>Cargos docentes de nivel superior universitari...</td>\n",
       "      <td>Ayudante de primera</td>\n",
       "      <td>No pertenece a Conicet</td>\n",
       "      <td>(40, 50]</td>\n",
       "    </tr>\n",
       "    <tr>\n",
       "      <th>8</th>\n",
       "      <td>15</td>\n",
       "      <td>F</td>\n",
       "      <td>5</td>\n",
       "      <td>4</td>\n",
       "      <td>3</td>\n",
       "      <td>2</td>\n",
       "      <td>B</td>\n",
       "      <td>Universitario de posgrado/doctorado</td>\n",
       "      <td>CIENCIAS NATURALES Y EXACTAS</td>\n",
       "      <td>INVESTIGADOR</td>\n",
       "      <td>Regular o por concurso</td>\n",
       "      <td>40 horas o más</td>\n",
       "      <td>Docente nivel superior universitario y/o posgrado</td>\n",
       "      <td>Cargos docentes de nivel superior universitari...</td>\n",
       "      <td>Ayudante de primera</td>\n",
       "      <td>No pertenece a Conicet</td>\n",
       "      <td>(40, 50]</td>\n",
       "    </tr>\n",
       "    <tr>\n",
       "      <th>9</th>\n",
       "      <td>17</td>\n",
       "      <td>M</td>\n",
       "      <td>0</td>\n",
       "      <td>0</td>\n",
       "      <td>0</td>\n",
       "      <td>1</td>\n",
       "      <td>C</td>\n",
       "      <td>Universitario de posgrado/maestría</td>\n",
       "      <td>CIENCIAS MÉDICAS Y DE LA SALUD</td>\n",
       "      <td>INVESTIGADOR</td>\n",
       "      <td>Interino</td>\n",
       "      <td>De 0 hasta 19 horas</td>\n",
       "      <td>Docente nivel superior universitario y/o posgrado</td>\n",
       "      <td>Cargos docentes de nivel superior universitari...</td>\n",
       "      <td>Profesor adjunto</td>\n",
       "      <td>No pertenece a Conicet</td>\n",
       "      <td>(50, 60]</td>\n",
       "    </tr>\n",
       "    <tr>\n",
       "      <th>10</th>\n",
       "      <td>19</td>\n",
       "      <td>M</td>\n",
       "      <td>1</td>\n",
       "      <td>0</td>\n",
       "      <td>1</td>\n",
       "      <td>0</td>\n",
       "      <td>A</td>\n",
       "      <td>Universitario de posgrado/doctorado</td>\n",
       "      <td>CIENCIAS NATURALES Y EXACTAS</td>\n",
       "      <td>INVESTIGADOR</td>\n",
       "      <td>Regular o por concurso</td>\n",
       "      <td>40 horas o más</td>\n",
       "      <td>Docente nivel superior universitario y/o posgrado</td>\n",
       "      <td>Cargos docentes de nivel superior universitari...</td>\n",
       "      <td>Profesor adjunto</td>\n",
       "      <td>Investigador independiente</td>\n",
       "      <td>(50, 60]</td>\n",
       "    </tr>\n",
       "    <tr>\n",
       "      <th>11</th>\n",
       "      <td>21</td>\n",
       "      <td>F</td>\n",
       "      <td>0</td>\n",
       "      <td>6</td>\n",
       "      <td>1</td>\n",
       "      <td>3</td>\n",
       "      <td>C</td>\n",
       "      <td>Universitario de posgrado/doctorado</td>\n",
       "      <td>INGENIERÍAS Y TECNOLOGÍAS</td>\n",
       "      <td>BECARIO DE I+D</td>\n",
       "      <td>Regular o por concurso</td>\n",
       "      <td>De 0 hasta 19 horas</td>\n",
       "      <td>Docente nivel superior universitario y/o posgrado</td>\n",
       "      <td>Cargos docentes de nivel superior universitari...</td>\n",
       "      <td>Ayudante de primera</td>\n",
       "      <td>Becario postdoctoral</td>\n",
       "      <td>(30, 40]</td>\n",
       "    </tr>\n",
       "    <tr>\n",
       "      <th>12</th>\n",
       "      <td>22</td>\n",
       "      <td>M</td>\n",
       "      <td>6</td>\n",
       "      <td>7</td>\n",
       "      <td>3</td>\n",
       "      <td>1</td>\n",
       "      <td>B</td>\n",
       "      <td>Universitario de posgrado/doctorado</td>\n",
       "      <td>INGENIERÍAS Y TECNOLOGÍAS</td>\n",
       "      <td>INVESTIGADOR</td>\n",
       "      <td>Regular o por concurso</td>\n",
       "      <td>40 horas o más</td>\n",
       "      <td>Docente nivel superior universitario y/o posgrado</td>\n",
       "      <td>Cargos docentes de nivel superior universitari...</td>\n",
       "      <td>Profesor asociado</td>\n",
       "      <td>Investigador adjunto</td>\n",
       "      <td>(30, 40]</td>\n",
       "    </tr>\n",
       "    <tr>\n",
       "      <th>13</th>\n",
       "      <td>23</td>\n",
       "      <td>M</td>\n",
       "      <td>12</td>\n",
       "      <td>14</td>\n",
       "      <td>10</td>\n",
       "      <td>20</td>\n",
       "      <td>A</td>\n",
       "      <td>Universitario de posgrado/doctorado</td>\n",
       "      <td>CIENCIAS NATURALES Y EXACTAS</td>\n",
       "      <td>INVESTIGADOR</td>\n",
       "      <td>Regular o por concurso</td>\n",
       "      <td>40 horas o más</td>\n",
       "      <td>Docente nivel superior universitario y/o posgrado</td>\n",
       "      <td>Cargos docentes de nivel superior universitari...</td>\n",
       "      <td>Profesor titular</td>\n",
       "      <td>Investigador superior</td>\n",
       "      <td>(50, 60]</td>\n",
       "    </tr>\n",
       "    <tr>\n",
       "      <th>15</th>\n",
       "      <td>25</td>\n",
       "      <td>M</td>\n",
       "      <td>8</td>\n",
       "      <td>3</td>\n",
       "      <td>4</td>\n",
       "      <td>3</td>\n",
       "      <td>C</td>\n",
       "      <td>Universitario de posgrado/doctorado</td>\n",
       "      <td>CIENCIAS SOCIALES</td>\n",
       "      <td>BECARIO DE I+D</td>\n",
       "      <td>Regular o por concurso</td>\n",
       "      <td>De 0 hasta 19 horas</td>\n",
       "      <td>Docente nivel superior universitario y/o posgrado</td>\n",
       "      <td>Cargos docentes de nivel superior universitari...</td>\n",
       "      <td>Ayudante diplomado</td>\n",
       "      <td>Becario postdoctoral</td>\n",
       "      <td>(30, 40]</td>\n",
       "    </tr>\n",
       "    <tr>\n",
       "      <th>16</th>\n",
       "      <td>26</td>\n",
       "      <td>F</td>\n",
       "      <td>0</td>\n",
       "      <td>6</td>\n",
       "      <td>3</td>\n",
       "      <td>1</td>\n",
       "      <td>A</td>\n",
       "      <td>Universitario de posgrado/doctorado</td>\n",
       "      <td>CIENCIAS SOCIALES</td>\n",
       "      <td>INVESTIGADOR</td>\n",
       "      <td>Regular o por concurso</td>\n",
       "      <td>40 horas o más</td>\n",
       "      <td>Docente nivel superior universitario y/o posgrado</td>\n",
       "      <td>Cargos docentes de nivel superior universitari...</td>\n",
       "      <td>Profesor titular</td>\n",
       "      <td>No pertenece a Conicet</td>\n",
       "      <td>(60, 70]</td>\n",
       "    </tr>\n",
       "    <tr>\n",
       "      <th>17</th>\n",
       "      <td>27</td>\n",
       "      <td>F</td>\n",
       "      <td>3</td>\n",
       "      <td>1</td>\n",
       "      <td>4</td>\n",
       "      <td>10</td>\n",
       "      <td>A</td>\n",
       "      <td>Universitario de grado</td>\n",
       "      <td>CIENCIAS SOCIALES</td>\n",
       "      <td>INVESTIGADOR</td>\n",
       "      <td>Por contrato</td>\n",
       "      <td>De 0 hasta 19 horas</td>\n",
       "      <td>Docente nivel superior universitario y/o posgrado</td>\n",
       "      <td>Cargos docentes de nivel superior universitari...</td>\n",
       "      <td>Profesor titular</td>\n",
       "      <td>Personal de apoyo</td>\n",
       "      <td>(50, 60]</td>\n",
       "    </tr>\n",
       "    <tr>\n",
       "      <th>18</th>\n",
       "      <td>28</td>\n",
       "      <td>M</td>\n",
       "      <td>5</td>\n",
       "      <td>6</td>\n",
       "      <td>2</td>\n",
       "      <td>1</td>\n",
       "      <td>B</td>\n",
       "      <td>Universitario de posgrado/doctorado</td>\n",
       "      <td>CIENCIAS NATURALES Y EXACTAS</td>\n",
       "      <td>INVESTIGADOR</td>\n",
       "      <td>NaN</td>\n",
       "      <td>NaN</td>\n",
       "      <td>NaN</td>\n",
       "      <td>NaN</td>\n",
       "      <td>NaN</td>\n",
       "      <td>NaN</td>\n",
       "      <td>(40, 50]</td>\n",
       "    </tr>\n",
       "    <tr>\n",
       "      <th>19</th>\n",
       "      <td>29</td>\n",
       "      <td>F</td>\n",
       "      <td>0</td>\n",
       "      <td>0</td>\n",
       "      <td>0</td>\n",
       "      <td>0</td>\n",
       "      <td></td>\n",
       "      <td>Universitario de grado</td>\n",
       "      <td>CIENCIAS NATURALES Y EXACTAS</td>\n",
       "      <td>OTRO PERSONAL DE LA INSTITUCION</td>\n",
       "      <td>NaN</td>\n",
       "      <td>NaN</td>\n",
       "      <td>NaN</td>\n",
       "      <td>NaN</td>\n",
       "      <td>NaN</td>\n",
       "      <td>NaN</td>\n",
       "      <td>(50, 60]</td>\n",
       "    </tr>\n",
       "    <tr>\n",
       "      <th>20</th>\n",
       "      <td>32</td>\n",
       "      <td>F</td>\n",
       "      <td>12</td>\n",
       "      <td>11</td>\n",
       "      <td>8</td>\n",
       "      <td>2</td>\n",
       "      <td>A</td>\n",
       "      <td>Universitario de posgrado/doctorado</td>\n",
       "      <td>SIN DATOS</td>\n",
       "      <td>INVESTIGADOR</td>\n",
       "      <td>Interino</td>\n",
       "      <td>De 0 hasta 19 horas</td>\n",
       "      <td>Docente nivel superior universitario y/o posgrado</td>\n",
       "      <td>Cargos docentes de nivel superior universitari...</td>\n",
       "      <td>Profesor titular</td>\n",
       "      <td>Investigador independiente</td>\n",
       "      <td>(40, 50]</td>\n",
       "    </tr>\n",
       "    <tr>\n",
       "      <th>21</th>\n",
       "      <td>35</td>\n",
       "      <td>M</td>\n",
       "      <td>10</td>\n",
       "      <td>15</td>\n",
       "      <td>3</td>\n",
       "      <td>2</td>\n",
       "      <td>A</td>\n",
       "      <td>Universitario de posgrado/doctorado</td>\n",
       "      <td>CIENCIAS NATURALES Y EXACTAS</td>\n",
       "      <td>INVESTIGADOR</td>\n",
       "      <td>Regular o por concurso</td>\n",
       "      <td>40 horas o más</td>\n",
       "      <td>Docente nivel superior universitario y/o posgrado</td>\n",
       "      <td>Cargos docentes de nivel superior universitari...</td>\n",
       "      <td>Profesor adjunto</td>\n",
       "      <td>Investigador independiente</td>\n",
       "      <td>(40, 50]</td>\n",
       "    </tr>\n",
       "    <tr>\n",
       "      <th>22</th>\n",
       "      <td>36</td>\n",
       "      <td>M</td>\n",
       "      <td>2</td>\n",
       "      <td>4</td>\n",
       "      <td>4</td>\n",
       "      <td>5</td>\n",
       "      <td>B</td>\n",
       "      <td>Universitario de posgrado/maestría</td>\n",
       "      <td>CIENCIAS SOCIALES</td>\n",
       "      <td>INVESTIGADOR</td>\n",
       "      <td>Regular o por concurso</td>\n",
       "      <td>40 horas o más</td>\n",
       "      <td>Docente nivel superior universitario y/o posgrado</td>\n",
       "      <td>Cargos docentes de nivel superior universitari...</td>\n",
       "      <td>Profesor asociado</td>\n",
       "      <td>No pertenece a Conicet</td>\n",
       "      <td>(40, 50]</td>\n",
       "    </tr>\n",
       "    <tr>\n",
       "      <th>24</th>\n",
       "      <td>40</td>\n",
       "      <td>M</td>\n",
       "      <td>15</td>\n",
       "      <td>6</td>\n",
       "      <td>8</td>\n",
       "      <td>5</td>\n",
       "      <td>B</td>\n",
       "      <td>Universitario de posgrado/doctorado</td>\n",
       "      <td>CIENCIAS NATURALES Y EXACTAS</td>\n",
       "      <td>INVESTIGADOR</td>\n",
       "      <td>Regular o por concurso</td>\n",
       "      <td>De 0 hasta 19 horas</td>\n",
       "      <td>Docente nivel superior universitario y/o posgrado</td>\n",
       "      <td>Cargos docentes de nivel superior universitari...</td>\n",
       "      <td>Profesor adjunto</td>\n",
       "      <td>Investigador adjunto</td>\n",
       "      <td>(30, 40]</td>\n",
       "    </tr>\n",
       "    <tr>\n",
       "      <th>25</th>\n",
       "      <td>42</td>\n",
       "      <td>M</td>\n",
       "      <td>4</td>\n",
       "      <td>3</td>\n",
       "      <td>5</td>\n",
       "      <td>5</td>\n",
       "      <td>C</td>\n",
       "      <td>Universitario de posgrado/doctorado</td>\n",
       "      <td>CIENCIAS NATURALES Y EXACTAS</td>\n",
       "      <td>INVESTIGADOR</td>\n",
       "      <td>Interino</td>\n",
       "      <td>De 0 hasta 19 horas</td>\n",
       "      <td>Docente nivel superior universitario y/o posgrado</td>\n",
       "      <td>Cargos docentes de nivel superior universitari...</td>\n",
       "      <td>Ayudante adscripto</td>\n",
       "      <td>Investigador adjunto</td>\n",
       "      <td>(30, 40]</td>\n",
       "    </tr>\n",
       "    <tr>\n",
       "      <th>26</th>\n",
       "      <td>43</td>\n",
       "      <td>M</td>\n",
       "      <td>10</td>\n",
       "      <td>2</td>\n",
       "      <td>6</td>\n",
       "      <td>7</td>\n",
       "      <td>A</td>\n",
       "      <td>Universitario de posgrado/doctorado</td>\n",
       "      <td>CIENCIAS NATURALES Y EXACTAS</td>\n",
       "      <td>INVESTIGADOR</td>\n",
       "      <td>Sin datos</td>\n",
       "      <td>De 0 hasta 19 horas</td>\n",
       "      <td>Docente nivel superior universitario y/o posgrado</td>\n",
       "      <td>Cargos docentes de nivel superior universitari...</td>\n",
       "      <td>Otro de nivel superior</td>\n",
       "      <td>Investigador principal</td>\n",
       "      <td>(50, 60]</td>\n",
       "    </tr>\n",
       "    <tr>\n",
       "      <th>27</th>\n",
       "      <td>45</td>\n",
       "      <td>M</td>\n",
       "      <td>2</td>\n",
       "      <td>5</td>\n",
       "      <td>0</td>\n",
       "      <td>0</td>\n",
       "      <td>D</td>\n",
       "      <td>Universitario de grado</td>\n",
       "      <td>CIENCIAS NATURALES Y EXACTAS</td>\n",
       "      <td>BECARIO DE I+D</td>\n",
       "      <td>Por contrato</td>\n",
       "      <td>De 0 hasta 19 horas</td>\n",
       "      <td>Docente nivel superior universitario y/o posgrado</td>\n",
       "      <td>Cargos docentes de nivel superior universitari...</td>\n",
       "      <td>Ayudante de primera</td>\n",
       "      <td>Becario doctoral</td>\n",
       "      <td>(20, 30]</td>\n",
       "    </tr>\n",
       "    <tr>\n",
       "      <th>28</th>\n",
       "      <td>46</td>\n",
       "      <td>F</td>\n",
       "      <td>6</td>\n",
       "      <td>8</td>\n",
       "      <td>5</td>\n",
       "      <td>14</td>\n",
       "      <td>B</td>\n",
       "      <td>Universitario de posgrado/doctorado</td>\n",
       "      <td>CIENCIAS NATURALES Y EXACTAS</td>\n",
       "      <td>INVESTIGADOR</td>\n",
       "      <td>Regular o por concurso</td>\n",
       "      <td>40 horas o más</td>\n",
       "      <td>Docente nivel superior universitario y/o posgrado</td>\n",
       "      <td>Cargos docentes de nivel superior universitari...</td>\n",
       "      <td>Profesor adjunto</td>\n",
       "      <td>Investigador adjunto</td>\n",
       "      <td>(30, 40]</td>\n",
       "    </tr>\n",
       "    <tr>\n",
       "      <th>29</th>\n",
       "      <td>48</td>\n",
       "      <td>F</td>\n",
       "      <td>2</td>\n",
       "      <td>5</td>\n",
       "      <td>7</td>\n",
       "      <td>2</td>\n",
       "      <td>C</td>\n",
       "      <td>Universitario de posgrado/doctorado</td>\n",
       "      <td>CIENCIAS NATURALES Y EXACTAS</td>\n",
       "      <td>INVESTIGADOR</td>\n",
       "      <td>Interino</td>\n",
       "      <td>De 20 hasta 39 horas</td>\n",
       "      <td>Docente nivel superior universitario y/o posgrado</td>\n",
       "      <td>Cargos docentes de nivel superior universitari...</td>\n",
       "      <td>Jefe de trabajos prácticos</td>\n",
       "      <td>No pertenece a Conicet</td>\n",
       "      <td>(30, 40]</td>\n",
       "    </tr>\n",
       "    <tr>\n",
       "      <th>30</th>\n",
       "      <td>49</td>\n",
       "      <td>M</td>\n",
       "      <td>1</td>\n",
       "      <td>1</td>\n",
       "      <td>1</td>\n",
       "      <td>0</td>\n",
       "      <td>C</td>\n",
       "      <td>Universitario de posgrado/doctorado</td>\n",
       "      <td>CIENCIAS NATURALES Y EXACTAS</td>\n",
       "      <td>INVESTIGADOR</td>\n",
       "      <td>Interino</td>\n",
       "      <td>De 20 hasta 39 horas</td>\n",
       "      <td>Docente nivel superior universitario y/o posgrado</td>\n",
       "      <td>Cargos docentes de nivel superior universitari...</td>\n",
       "      <td>Profesor titular</td>\n",
       "      <td>No pertenece a Conicet</td>\n",
       "      <td>(60, 70]</td>\n",
       "    </tr>\n",
       "    <tr>\n",
       "      <th>31</th>\n",
       "      <td>50</td>\n",
       "      <td>M</td>\n",
       "      <td>1</td>\n",
       "      <td>2</td>\n",
       "      <td>5</td>\n",
       "      <td>11</td>\n",
       "      <td>B</td>\n",
       "      <td>Universitario de grado</td>\n",
       "      <td>INGENIERÍAS Y TECNOLOGÍAS</td>\n",
       "      <td>INVESTIGADOR</td>\n",
       "      <td>Regular o por concurso</td>\n",
       "      <td>40 horas o más</td>\n",
       "      <td>Docente nivel superior universitario y/o posgrado</td>\n",
       "      <td>Cargos docentes de nivel superior universitari...</td>\n",
       "      <td>Profesor adjunto</td>\n",
       "      <td>No pertenece a Conicet</td>\n",
       "      <td>(40, 50]</td>\n",
       "    </tr>\n",
       "  </tbody>\n",
       "</table>\n",
       "</div>"
      ],
      "text/plain": [
       "    persona_id sexo  prod_ultimo_año  prod_año_ant  prod_2_años_ant  \\\n",
       "0            1    M                0             0                1   \n",
       "1            5    F                4             5                2   \n",
       "2            7    M                3            11                2   \n",
       "3            9    M                7             5                9   \n",
       "4           10    M                2             0                1   \n",
       "5           11    F                1             8                4   \n",
       "6           12    M                2             1                1   \n",
       "7           13    M                1             0                0   \n",
       "8           15    F                5             4                3   \n",
       "9           17    M                0             0                0   \n",
       "10          19    M                1             0                1   \n",
       "11          21    F                0             6                1   \n",
       "12          22    M                6             7                3   \n",
       "13          23    M               12            14               10   \n",
       "15          25    M                8             3                4   \n",
       "16          26    F                0             6                3   \n",
       "17          27    F                3             1                4   \n",
       "18          28    M                5             6                2   \n",
       "19          29    F                0             0                0   \n",
       "20          32    F               12            11                8   \n",
       "21          35    M               10            15                3   \n",
       "22          36    M                2             4                4   \n",
       "24          40    M               15             6                8   \n",
       "25          42    M                4             3                5   \n",
       "26          43    M               10             2                6   \n",
       "27          45    M                2             5                0   \n",
       "28          46    F                6             8                5   \n",
       "29          48    F                2             5                7   \n",
       "30          49    M                1             1                1   \n",
       "31          50    M                1             2                5   \n",
       "\n",
       "    prod_3_años_ant seniority_level                  max_grado_academico  \\\n",
       "0                 0                                            Sin datos   \n",
       "1                 6             B    Universitario de posgrado/doctorado   \n",
       "2                 0             D                 Universitario de grado   \n",
       "3                 2             B    Universitario de posgrado/doctorado   \n",
       "4                 2                               Universitario de grado   \n",
       "5                 3             C     Universitario de posgrado/maestría   \n",
       "6                 0                  Universitario de posgrado/doctorado   \n",
       "7                 0                               Universitario de grado   \n",
       "8                 2             B    Universitario de posgrado/doctorado   \n",
       "9                 1             C     Universitario de posgrado/maestría   \n",
       "10                0             A    Universitario de posgrado/doctorado   \n",
       "11                3             C    Universitario de posgrado/doctorado   \n",
       "12                1             B    Universitario de posgrado/doctorado   \n",
       "13               20             A    Universitario de posgrado/doctorado   \n",
       "15                3             C    Universitario de posgrado/doctorado   \n",
       "16                1             A    Universitario de posgrado/doctorado   \n",
       "17               10             A                 Universitario de grado   \n",
       "18                1             B    Universitario de posgrado/doctorado   \n",
       "19                0                               Universitario de grado   \n",
       "20                2             A    Universitario de posgrado/doctorado   \n",
       "21                2             A    Universitario de posgrado/doctorado   \n",
       "22                5             B     Universitario de posgrado/maestría   \n",
       "24                5             B    Universitario de posgrado/doctorado   \n",
       "25                5             C    Universitario de posgrado/doctorado   \n",
       "26                7             A    Universitario de posgrado/doctorado   \n",
       "27                0             D                 Universitario de grado   \n",
       "28               14             B    Universitario de posgrado/doctorado   \n",
       "29                2             C    Universitario de posgrado/doctorado   \n",
       "30                0             C    Universitario de posgrado/doctorado   \n",
       "31               11             B                 Universitario de grado   \n",
       "\n",
       "              gran_area_experticia                    tipo_personal  \\\n",
       "0        INGENIERÍAS Y TECNOLOGÍAS                          DOCENTE   \n",
       "1     CIENCIAS NATURALES Y EXACTAS                     INVESTIGADOR   \n",
       "2   CIENCIAS MÉDICAS Y DE LA SALUD                   BECARIO DE I+D   \n",
       "3   CIENCIAS MÉDICAS Y DE LA SALUD                     INVESTIGADOR   \n",
       "4     CIENCIAS NATURALES Y EXACTAS                          DOCENTE   \n",
       "5                CIENCIAS SOCIALES                     INVESTIGADOR   \n",
       "6        INGENIERÍAS Y TECNOLOGÍAS                          DOCENTE   \n",
       "7                CIENCIAS SOCIALES                          DOCENTE   \n",
       "8     CIENCIAS NATURALES Y EXACTAS                     INVESTIGADOR   \n",
       "9   CIENCIAS MÉDICAS Y DE LA SALUD                     INVESTIGADOR   \n",
       "10    CIENCIAS NATURALES Y EXACTAS                     INVESTIGADOR   \n",
       "11       INGENIERÍAS Y TECNOLOGÍAS                   BECARIO DE I+D   \n",
       "12       INGENIERÍAS Y TECNOLOGÍAS                     INVESTIGADOR   \n",
       "13    CIENCIAS NATURALES Y EXACTAS                     INVESTIGADOR   \n",
       "15               CIENCIAS SOCIALES                   BECARIO DE I+D   \n",
       "16               CIENCIAS SOCIALES                     INVESTIGADOR   \n",
       "17               CIENCIAS SOCIALES                     INVESTIGADOR   \n",
       "18    CIENCIAS NATURALES Y EXACTAS                     INVESTIGADOR   \n",
       "19    CIENCIAS NATURALES Y EXACTAS  OTRO PERSONAL DE LA INSTITUCION   \n",
       "20                       SIN DATOS                     INVESTIGADOR   \n",
       "21    CIENCIAS NATURALES Y EXACTAS                     INVESTIGADOR   \n",
       "22               CIENCIAS SOCIALES                     INVESTIGADOR   \n",
       "24    CIENCIAS NATURALES Y EXACTAS                     INVESTIGADOR   \n",
       "25    CIENCIAS NATURALES Y EXACTAS                     INVESTIGADOR   \n",
       "26    CIENCIAS NATURALES Y EXACTAS                     INVESTIGADOR   \n",
       "27    CIENCIAS NATURALES Y EXACTAS                   BECARIO DE I+D   \n",
       "28    CIENCIAS NATURALES Y EXACTAS                     INVESTIGADOR   \n",
       "29    CIENCIAS NATURALES Y EXACTAS                     INVESTIGADOR   \n",
       "30    CIENCIAS NATURALES Y EXACTAS                     INVESTIGADOR   \n",
       "31       INGENIERÍAS Y TECNOLOGÍAS                     INVESTIGADOR   \n",
       "\n",
       "         condicion_docente   ded_horaria_docente  \\\n",
       "0   Regular o por concurso   De 0 hasta 19 horas   \n",
       "1                 Interino   De 0 hasta 19 horas   \n",
       "2                      NaN                   NaN   \n",
       "3                      NaN                   NaN   \n",
       "4   Regular o por concurso   De 0 hasta 19 horas   \n",
       "5             Por contrato   De 0 hasta 19 horas   \n",
       "6   Regular o por concurso        40 horas o más   \n",
       "7   Regular o por concurso   De 0 hasta 19 horas   \n",
       "8   Regular o por concurso        40 horas o más   \n",
       "9                 Interino   De 0 hasta 19 horas   \n",
       "10  Regular o por concurso        40 horas o más   \n",
       "11  Regular o por concurso   De 0 hasta 19 horas   \n",
       "12  Regular o por concurso        40 horas o más   \n",
       "13  Regular o por concurso        40 horas o más   \n",
       "15  Regular o por concurso   De 0 hasta 19 horas   \n",
       "16  Regular o por concurso        40 horas o más   \n",
       "17            Por contrato   De 0 hasta 19 horas   \n",
       "18                     NaN                   NaN   \n",
       "19                     NaN                   NaN   \n",
       "20                Interino   De 0 hasta 19 horas   \n",
       "21  Regular o por concurso        40 horas o más   \n",
       "22  Regular o por concurso        40 horas o más   \n",
       "24  Regular o por concurso   De 0 hasta 19 horas   \n",
       "25                Interino   De 0 hasta 19 horas   \n",
       "26               Sin datos   De 0 hasta 19 horas   \n",
       "27            Por contrato   De 0 hasta 19 horas   \n",
       "28  Regular o por concurso        40 horas o más   \n",
       "29                Interino  De 20 hasta 39 horas   \n",
       "30                Interino  De 20 hasta 39 horas   \n",
       "31  Regular o por concurso        40 horas o más   \n",
       "\n",
       "                                   tipo_cargo_docente  \\\n",
       "0   Docente nivel superior universitario y/o posgrado   \n",
       "1   Docente nivel superior universitario y/o posgrado   \n",
       "2                                                 NaN   \n",
       "3                                                 NaN   \n",
       "4   Docente nivel superior universitario y/o posgrado   \n",
       "5   Docente nivel superior universitario y/o posgrado   \n",
       "6   Docente nivel superior universitario y/o posgrado   \n",
       "7   Docente nivel superior universitario y/o posgrado   \n",
       "8   Docente nivel superior universitario y/o posgrado   \n",
       "9   Docente nivel superior universitario y/o posgrado   \n",
       "10  Docente nivel superior universitario y/o posgrado   \n",
       "11  Docente nivel superior universitario y/o posgrado   \n",
       "12  Docente nivel superior universitario y/o posgrado   \n",
       "13  Docente nivel superior universitario y/o posgrado   \n",
       "15  Docente nivel superior universitario y/o posgrado   \n",
       "16  Docente nivel superior universitario y/o posgrado   \n",
       "17  Docente nivel superior universitario y/o posgrado   \n",
       "18                                                NaN   \n",
       "19                                                NaN   \n",
       "20  Docente nivel superior universitario y/o posgrado   \n",
       "21  Docente nivel superior universitario y/o posgrado   \n",
       "22  Docente nivel superior universitario y/o posgrado   \n",
       "24  Docente nivel superior universitario y/o posgrado   \n",
       "25  Docente nivel superior universitario y/o posgrado   \n",
       "26  Docente nivel superior universitario y/o posgrado   \n",
       "27  Docente nivel superior universitario y/o posgrado   \n",
       "28  Docente nivel superior universitario y/o posgrado   \n",
       "29  Docente nivel superior universitario y/o posgrado   \n",
       "30  Docente nivel superior universitario y/o posgrado   \n",
       "31  Docente nivel superior universitario y/o posgrado   \n",
       "\n",
       "                                  grupo_cargo_docente  \\\n",
       "0   Cargos docentes de nivel superior universitari...   \n",
       "1   Cargos docentes de nivel superior universitari...   \n",
       "2                                                 NaN   \n",
       "3                                                 NaN   \n",
       "4   Cargos docentes de nivel superior universitari...   \n",
       "5   Cargos docentes de nivel superior universitari...   \n",
       "6   Cargos docentes de nivel superior universitari...   \n",
       "7   Cargos docentes de nivel superior universitari...   \n",
       "8   Cargos docentes de nivel superior universitari...   \n",
       "9   Cargos docentes de nivel superior universitari...   \n",
       "10  Cargos docentes de nivel superior universitari...   \n",
       "11  Cargos docentes de nivel superior universitari...   \n",
       "12  Cargos docentes de nivel superior universitari...   \n",
       "13  Cargos docentes de nivel superior universitari...   \n",
       "15  Cargos docentes de nivel superior universitari...   \n",
       "16  Cargos docentes de nivel superior universitari...   \n",
       "17  Cargos docentes de nivel superior universitari...   \n",
       "18                                                NaN   \n",
       "19                                                NaN   \n",
       "20  Cargos docentes de nivel superior universitari...   \n",
       "21  Cargos docentes de nivel superior universitari...   \n",
       "22  Cargos docentes de nivel superior universitari...   \n",
       "24  Cargos docentes de nivel superior universitari...   \n",
       "25  Cargos docentes de nivel superior universitari...   \n",
       "26  Cargos docentes de nivel superior universitari...   \n",
       "27  Cargos docentes de nivel superior universitari...   \n",
       "28  Cargos docentes de nivel superior universitari...   \n",
       "29  Cargos docentes de nivel superior universitari...   \n",
       "30  Cargos docentes de nivel superior universitari...   \n",
       "31  Cargos docentes de nivel superior universitari...   \n",
       "\n",
       "           clase_cargo_docente           categoria_conicet rango_edad  \n",
       "0          Ayudante de segunda       Otro personal Conicet   (30, 40]  \n",
       "1            Profesor asociado        Investigador adjunto   (40, 50]  \n",
       "2                          NaN                         NaN   (30, 40]  \n",
       "3                          NaN                         NaN   (60, 70]  \n",
       "4          Ayudante de primera      No pertenece a Conicet   (50, 60]  \n",
       "5             Profesor titular      No pertenece a Conicet   (30, 40]  \n",
       "6            Profesor asociado      No pertenece a Conicet   (40, 50]  \n",
       "7          Ayudante de primera      No pertenece a Conicet   (40, 50]  \n",
       "8          Ayudante de primera      No pertenece a Conicet   (40, 50]  \n",
       "9             Profesor adjunto      No pertenece a Conicet   (50, 60]  \n",
       "10            Profesor adjunto  Investigador independiente   (50, 60]  \n",
       "11         Ayudante de primera        Becario postdoctoral   (30, 40]  \n",
       "12           Profesor asociado        Investigador adjunto   (30, 40]  \n",
       "13            Profesor titular       Investigador superior   (50, 60]  \n",
       "15          Ayudante diplomado        Becario postdoctoral   (30, 40]  \n",
       "16            Profesor titular      No pertenece a Conicet   (60, 70]  \n",
       "17            Profesor titular           Personal de apoyo   (50, 60]  \n",
       "18                         NaN                         NaN   (40, 50]  \n",
       "19                         NaN                         NaN   (50, 60]  \n",
       "20            Profesor titular  Investigador independiente   (40, 50]  \n",
       "21            Profesor adjunto  Investigador independiente   (40, 50]  \n",
       "22           Profesor asociado      No pertenece a Conicet   (40, 50]  \n",
       "24            Profesor adjunto        Investigador adjunto   (30, 40]  \n",
       "25          Ayudante adscripto        Investigador adjunto   (30, 40]  \n",
       "26      Otro de nivel superior      Investigador principal   (50, 60]  \n",
       "27         Ayudante de primera            Becario doctoral   (20, 30]  \n",
       "28            Profesor adjunto        Investigador adjunto   (30, 40]  \n",
       "29  Jefe de trabajos prácticos      No pertenece a Conicet   (30, 40]  \n",
       "30            Profesor titular      No pertenece a Conicet   (60, 70]  \n",
       "31            Profesor adjunto      No pertenece a Conicet   (40, 50]  "
      ]
     },
     "execution_count": 199,
     "metadata": {},
     "output_type": "execute_result"
    }
   ],
   "source": [
    "#No parece tener relación con ninguna de las otras catergías, además se trata de demasiados datos, se decide eliminar \n",
    "#esa columna\n",
    "personas_2012.loc[(personas_2012['seniority_level']!='C') & (personas_2012['seniority_level']!='D') & \n",
    "                  (personas_2012['seniority_level']!='S/D') &\n",
    "       (personas_2012['seniority_level']!='B') & (personas_2012['seniority_level']!='A')].head(30)"
   ]
  },
  {
   "cell_type": "code",
   "execution_count": 200,
   "metadata": {},
   "outputs": [],
   "source": [
    "personas_2012.drop(columns='seniority_level',inplace=True)"
   ]
  },
  {
   "cell_type": "code",
   "execution_count": 201,
   "metadata": {},
   "outputs": [
    {
     "data": {
      "text/plain": [
       "False    66440\n",
       "Name: max_grado_academico, dtype: int64"
      ]
     },
     "execution_count": 201,
     "metadata": {},
     "output_type": "execute_result"
    }
   ],
   "source": [
    "#Se analiza max_grado_academico, No hay Null pero hay 3757 registros sin datos. \n",
    "personas_2012['max_grado_academico'].isnull().value_counts()"
   ]
  },
  {
   "cell_type": "code",
   "execution_count": 202,
   "metadata": {},
   "outputs": [
    {
     "data": {
      "text/plain": [
       "Universitario de grado                       26256\n",
       "Universitario de posgrado/doctorado          15992\n",
       "Universitario de posgrado/maestría            7950\n",
       "Universitario de posgrado/especialización     7250\n",
       "Medio                                         4322\n",
       "Sin datos                                     3757\n",
       "Terciario no universitario                     848\n",
       "Básico                                          65\n",
       "Name: max_grado_academico, dtype: int64"
      ]
     },
     "execution_count": 202,
     "metadata": {},
     "output_type": "execute_result"
    }
   ],
   "source": [
    "personas_2012['max_grado_academico'].value_counts()"
   ]
  },
  {
   "cell_type": "code",
   "execution_count": 203,
   "metadata": {},
   "outputs": [],
   "source": [
    "#Se decide eliminar esos registros\n",
    "personas_2012=personas_2012.loc[(personas_2012['max_grado_academico'] !='Sin datos')]"
   ]
  },
  {
   "cell_type": "code",
   "execution_count": 204,
   "metadata": {},
   "outputs": [
    {
     "data": {
      "text/plain": [
       "False    62683\n",
       "Name: tipo_personal, dtype: int64"
      ]
     },
     "execution_count": 204,
     "metadata": {},
     "output_type": "execute_result"
    }
   ],
   "source": [
    "#Se analiza tipo_personal. No hay NaN ni valores erróneos\n",
    "personas_2012['tipo_personal'].isnull().value_counts()"
   ]
  },
  {
   "cell_type": "code",
   "execution_count": 205,
   "metadata": {},
   "outputs": [
    {
     "data": {
      "text/plain": [
       "INVESTIGADOR                       26977\n",
       "DOCENTE                            16733\n",
       "BECARIO DE I+D                     10346\n",
       "OTRO PERSONAL DE LA INSTITUCION     8627\n",
       "Name: tipo_personal, dtype: int64"
      ]
     },
     "execution_count": 205,
     "metadata": {},
     "output_type": "execute_result"
    }
   ],
   "source": [
    "personas_2012['tipo_personal'].value_counts()"
   ]
  },
  {
   "cell_type": "code",
   "execution_count": 206,
   "metadata": {},
   "outputs": [
    {
     "data": {
      "text/plain": [
       "CIENCIAS SOCIALES                 18091\n",
       "CIENCIAS NATURALES Y EXACTAS      16752\n",
       "HUMANIDADES                        8550\n",
       "INGENIERÍAS Y TECNOLOGÍAS          7151\n",
       "CIENCIAS MÉDICAS Y DE LA SALUD     6550\n",
       "CIENCIAS AGRÍCOLAS                 4397\n",
       "SIN DATOS                          1192\n",
       "Name: gran_area_experticia, dtype: int64"
      ]
     },
     "execution_count": 206,
     "metadata": {},
     "output_type": "execute_result"
    }
   ],
   "source": [
    "#Gran area experticia. No hay Nan pero hay 1192 registros sin datos\n",
    "personas_2012['gran_area_experticia'].value_counts()"
   ]
  },
  {
   "cell_type": "code",
   "execution_count": 207,
   "metadata": {},
   "outputs": [],
   "source": [
    "#Se eliminan los 1192 casos en los que no hay datos\n",
    "personas_2012=personas_2012.loc[(personas_2012['gran_area_experticia']!=\"SIN DATOS\")]"
   ]
  },
  {
   "cell_type": "code",
   "execution_count": 208,
   "metadata": {},
   "outputs": [
    {
     "name": "stdout",
     "output_type": "stream",
     "text": [
      "False    61491\n",
      "Name: gran_area_experticia, dtype: int64\n"
     ]
    }
   ],
   "source": [
    "#Analizamos si hay NaN en areas experticia. No se detecta ninguno\n",
    "print(personas_2012['gran_area_experticia'].isnull().value_counts())\n"
   ]
  },
  {
   "cell_type": "code",
   "execution_count": 209,
   "metadata": {
    "scrolled": true
   },
   "outputs": [
    {
     "data": {
      "text/plain": [
       "Regular o por concurso    25749\n",
       "Interino                  17832\n",
       "Por contrato               4326\n",
       "Sin datos                    68\n",
       "Name: condicion_docente, dtype: int64"
      ]
     },
     "execution_count": 209,
     "metadata": {},
     "output_type": "execute_result"
    }
   ],
   "source": [
    "#Analizamos condición docente. Hay 68 registros sin datos.\n",
    "personas_2012['condicion_docente'].value_counts()"
   ]
  },
  {
   "cell_type": "code",
   "execution_count": 210,
   "metadata": {},
   "outputs": [],
   "source": [
    "#Se eliminan ya que no es un valor representativo\n",
    "personas_2012=personas_2012.loc[personas_2012['condicion_docente']!=\"Sin datos\"]"
   ]
  },
  {
   "cell_type": "code",
   "execution_count": 211,
   "metadata": {},
   "outputs": [
    {
     "data": {
      "text/plain": [
       "False    47907\n",
       "True     13516\n",
       "Name: condicion_docente, dtype: int64"
      ]
     },
     "execution_count": 211,
     "metadata": {},
     "output_type": "execute_result"
    }
   ],
   "source": [
    "#Analizamos los NaN. Son 13516 datos NaN.\n",
    "personas_2012['condicion_docente'].isnull().value_counts()"
   ]
  },
  {
   "cell_type": "code",
   "execution_count": 212,
   "metadata": {},
   "outputs": [
    {
     "data": {
      "text/plain": [
       "(13516, 6)"
      ]
     },
     "execution_count": 212,
     "metadata": {},
     "output_type": "execute_result"
    }
   ],
   "source": [
    "#Se detecta que hay la misma cantidad de Null en condicion docente, dedicacion horaria docente, tipo cargo docente,\n",
    "#grupo cargo docente y clase cargo docente. \n",
    "personas_2012[['tipo_personal', 'condicion_docente',\n",
    "       'ded_horaria_docente', 'tipo_cargo_docente', 'grupo_cargo_docente',\n",
    "       'clase_cargo_docente']].loc[\n",
    "    (personas_2012['condicion_docente'].isnull()==True) &\n",
    "    (personas_2012['ded_horaria_docente'].isnull()==True) &\n",
    "    (personas_2012['tipo_cargo_docente'].isnull()==True) &\n",
    "    (personas_2012['grupo_cargo_docente'].isnull()==True) &\n",
    "    (personas_2012['clase_cargo_docente'].isnull()==True)].shape\n",
    "    "
   ]
  },
  {
   "cell_type": "code",
   "execution_count": 213,
   "metadata": {},
   "outputs": [
    {
     "data": {
      "text/plain": [
       "OTRO PERSONAL DE LA INSTITUCION    8561\n",
       "BECARIO DE I+D                     2760\n",
       "INVESTIGADOR                       2195\n",
       "Name: tipo_personal, dtype: int64"
      ]
     },
     "execution_count": 213,
     "metadata": {},
     "output_type": "execute_result"
    }
   ],
   "source": [
    "#Se analiza el tipo de personal y se detecta que se trata de casos que no son docentes\n",
    "personas_2012[['tipo_personal', 'condicion_docente',\n",
    "       'ded_horaria_docente', 'tipo_cargo_docente', 'grupo_cargo_docente',\n",
    "       'clase_cargo_docente']].loc[\n",
    "    personas_2012['condicion_docente'].isnull()==True]['tipo_personal'].value_counts()"
   ]
  },
  {
   "cell_type": "code",
   "execution_count": 214,
   "metadata": {},
   "outputs": [],
   "source": [
    "#Se le asigna a esos NaN el dato: \"no docente\"\n",
    "personas_2012.fillna({'condicion_docente':'no docente',\n",
    "           'ded_horaria_docente':0,\n",
    "           'tipo_cargo_docente':'no docente',\n",
    "           'grupo_cargo_docente':'no docente',\n",
    "           'clase_cargo_docente':'no docente'},inplace=True)"
   ]
  },
  {
   "cell_type": "code",
   "execution_count": 215,
   "metadata": {},
   "outputs": [
    {
     "data": {
      "text/plain": [
       "De 0 hasta 19 horas     25177\n",
       "0                       13516\n",
       "40 horas o más          11979\n",
       "De 20 hasta 39 horas    10751\n",
       "Name: ded_horaria_docente, dtype: int64"
      ]
     },
     "execution_count": 215,
     "metadata": {},
     "output_type": "execute_result"
    }
   ],
   "source": [
    "#Se analizan los datos de ded_horaria_docente. No hay datos erróneos\n",
    "personas_2012['ded_horaria_docente'].value_counts()"
   ]
  },
  {
   "cell_type": "code",
   "execution_count": 216,
   "metadata": {},
   "outputs": [
    {
     "data": {
      "text/plain": [
       "Docente nivel superior universitario y/o posgrado    47907\n",
       "no docente                                           13516\n",
       "Name: tipo_cargo_docente, dtype: int64"
      ]
     },
     "execution_count": 216,
     "metadata": {},
     "output_type": "execute_result"
    }
   ],
   "source": [
    "#Se analizan los datos de tipo_cargo_docente. No hay datos erróneos\n",
    "personas_2012['tipo_cargo_docente'].value_counts()"
   ]
  },
  {
   "cell_type": "code",
   "execution_count": 217,
   "metadata": {},
   "outputs": [],
   "source": [
    "#Tipo cargo docente no aporta demasiada información, se decide eliminar la columna\n",
    "personas_2012.drop(columns='tipo_cargo_docente',inplace=True)"
   ]
  },
  {
   "cell_type": "code",
   "execution_count": 218,
   "metadata": {},
   "outputs": [
    {
     "data": {
      "text/plain": [
       "Cargos docentes de nivel superior universitario y/o posgrado    47907\n",
       "no docente                                                      13516\n",
       "Name: grupo_cargo_docente, dtype: int64"
      ]
     },
     "execution_count": 218,
     "metadata": {},
     "output_type": "execute_result"
    }
   ],
   "source": [
    "#Se analizan los datos de grupo_cargo_docente. No hay datos erróneos\n",
    "personas_2012['grupo_cargo_docente'].value_counts()"
   ]
  },
  {
   "cell_type": "code",
   "execution_count": 219,
   "metadata": {},
   "outputs": [],
   "source": [
    "#Grupo cargo docente no aporta demasiada información, se decide eliminar la columna\n",
    "personas_2012.drop(columns='grupo_cargo_docente',inplace=True)"
   ]
  },
  {
   "cell_type": "code",
   "execution_count": 220,
   "metadata": {},
   "outputs": [
    {
     "data": {
      "text/plain": [
       "no docente                                   13516\n",
       "Profesor adjunto                             12052\n",
       "Jefe de trabajos prácticos                   11050\n",
       "Profesor titular                              7353\n",
       "Ayudante de primera                           6148\n",
       "Profesor asociado                             1989\n",
       "Ayudante diplomado                            1681\n",
       "Ayudante de segunda                           1122\n",
       "Auxiliar de primera categoría                  693\n",
       "Otro de nivel superior                         608\n",
       "Ayudante alumno                                606\n",
       "Docente autorizado                             486\n",
       "Profesor contratado                            377\n",
       "Auxiliar docente de primera categoría          349\n",
       "Asistente de docencia                          315\n",
       "Profesor invitado                              260\n",
       "Ayudante de trabajos prácticos de primera      225\n",
       "Ayudante de cátedra                            204\n",
       "Asistente docente                              196\n",
       "Ayudante Docente A                             174\n",
       "Docente libre                                  159\n",
       "Auxiliar docente de segunda categoría          153\n",
       "Ayudante adscripto                             141\n",
       "Profesor instructor                            140\n",
       "Ayudante de docencia                           138\n",
       "Auxiliar docente graduado                      119\n",
       "Profesor visitante                             106\n",
       "Ayudante docente                                99\n",
       "Docente invitado                                85\n",
       "Docente Adscripto                               83\n",
       "                                             ...  \n",
       "Asistente de primera                            64\n",
       "Profesor emérito                                64\n",
       "Auxiliar de segunda categoría                   56\n",
       "Ayudante de trabajos prácticos de segunda       54\n",
       "Profesor por convenio                           39\n",
       "Ayudante Docente B                              32\n",
       "Auxiliar académico                              31\n",
       "Profesor honorario                              26\n",
       "Profesor libre                                  19\n",
       "Ayudante estudiantil                            18\n",
       "Auxiliares de primera categoría                 11\n",
       "Asistente nivel D-2                             11\n",
       "Asistente nivel D-1                             11\n",
       "Instructor                                      10\n",
       "Profesor titular plenario                       10\n",
       "Docente universitario libre                      6\n",
       "Auxiliares de segunda categoría                  5\n",
       "Asistente de segunda                             5\n",
       "Profesor de extensión                            4\n",
       "Jefe de laboratorio                              3\n",
       "Profesor asistente                               3\n",
       "Asistente nivel D-3                              3\n",
       "Profesor nivel C                                 3\n",
       "Docente técnico especializado                    3\n",
       "Docente auxiliar alumno                          2\n",
       "Profesor nivel A                                 2\n",
       "Profesor extraordinario                          1\n",
       "Docente técnico principal                        1\n",
       "Docente técnico profesional                      1\n",
       "Profesor ayudante A                              1\n",
       "Name: clase_cargo_docente, Length: 64, dtype: int64"
      ]
     },
     "execution_count": 220,
     "metadata": {},
     "output_type": "execute_result"
    }
   ],
   "source": [
    "#Se analizan los datos de clase_cargo_docente. No hay datos erróneos\n",
    "personas_2012['clase_cargo_docente'].value_counts()"
   ]
  },
  {
   "cell_type": "code",
   "execution_count": 221,
   "metadata": {},
   "outputs": [
    {
     "data": {
      "text/plain": [
       "False    47907\n",
       "True     13516\n",
       "Name: categoria_conicet, dtype: int64"
      ]
     },
     "execution_count": 221,
     "metadata": {},
     "output_type": "execute_result"
    }
   ],
   "source": [
    "#Se analiza la categoría conicet. Hay 13516 registros Null, se asume que no pertenecen a Conicet\n",
    "personas_2012['categoria_conicet'].isnull().value_counts()"
   ]
  },
  {
   "cell_type": "code",
   "execution_count": 222,
   "metadata": {},
   "outputs": [],
   "source": [
    "#Se asume que no poseen categoría Conicet\n",
    "personas_2012.fillna({'categoria_conicet':'No pertenece a Conicet'},inplace =True)"
   ]
  },
  {
   "cell_type": "code",
   "execution_count": 223,
   "metadata": {},
   "outputs": [
    {
     "data": {
      "text/plain": [
       "No pertenece a Conicet        50759\n",
       "Becario doctoral               3743\n",
       "Investigador adjunto           1741\n",
       "Investigador asistente         1497\n",
       "Becario postdoctoral           1334\n",
       "Investigador independiente     1327\n",
       "Investigador principal          576\n",
       "Personal de apoyo               314\n",
       "Investigador superior           115\n",
       "Otro personal Conicet            15\n",
       "Pasante                           1\n",
       "Gestión CyT                       1\n",
       "Name: categoria_conicet, dtype: int64"
      ]
     },
     "execution_count": 223,
     "metadata": {},
     "output_type": "execute_result"
    }
   ],
   "source": [
    "#Se analizan los datos de la categoría conicet. No hay valores erróneos\n",
    "personas_2012['categoria_conicet'].value_counts()"
   ]
  },
  {
   "cell_type": "code",
   "execution_count": 224,
   "metadata": {},
   "outputs": [
    {
     "name": "stdout",
     "output_type": "stream",
     "text": [
      "Se eliminaron:  5262 registros. El  0.08 % de los registros totales.\n"
     ]
    }
   ],
   "source": [
    "print('Se eliminaron: ',personas_2012_original.shape[0]-personas_2012.shape[0],'registros. El ',\n",
    "      round((personas_2012_original.shape[0]-personas_2012.shape[0])/personas_2012_original.shape[0],2),'% de los registros totales.')"
   ]
  },
  {
   "cell_type": "code",
   "execution_count": 225,
   "metadata": {},
   "outputs": [
    {
     "data": {
      "text/plain": [
       "(61423, 14)"
      ]
     },
     "execution_count": 225,
     "metadata": {},
     "output_type": "execute_result"
    }
   ],
   "source": [
    "personas_2012.shape"
   ]
  },
  {
   "cell_type": "code",
   "execution_count": 226,
   "metadata": {},
   "outputs": [
    {
     "data": {
      "text/html": [
       "<div>\n",
       "<style scoped>\n",
       "    .dataframe tbody tr th:only-of-type {\n",
       "        vertical-align: middle;\n",
       "    }\n",
       "\n",
       "    .dataframe tbody tr th {\n",
       "        vertical-align: top;\n",
       "    }\n",
       "\n",
       "    .dataframe thead th {\n",
       "        text-align: right;\n",
       "    }\n",
       "</style>\n",
       "<table border=\"1\" class=\"dataframe\">\n",
       "  <thead>\n",
       "    <tr style=\"text-align: right;\">\n",
       "      <th></th>\n",
       "      <th>persona_id</th>\n",
       "      <th>sexo</th>\n",
       "      <th>prod_ultimo_año</th>\n",
       "      <th>prod_año_ant</th>\n",
       "      <th>prod_2_años_ant</th>\n",
       "      <th>prod_3_años_ant</th>\n",
       "      <th>max_grado_academico</th>\n",
       "      <th>gran_area_experticia</th>\n",
       "      <th>tipo_personal</th>\n",
       "      <th>condicion_docente</th>\n",
       "      <th>ded_horaria_docente</th>\n",
       "      <th>clase_cargo_docente</th>\n",
       "      <th>categoria_conicet</th>\n",
       "      <th>rango_edad</th>\n",
       "    </tr>\n",
       "  </thead>\n",
       "  <tbody>\n",
       "    <tr>\n",
       "      <th>1</th>\n",
       "      <td>5</td>\n",
       "      <td>F</td>\n",
       "      <td>4</td>\n",
       "      <td>5</td>\n",
       "      <td>2</td>\n",
       "      <td>6</td>\n",
       "      <td>Universitario de posgrado/doctorado</td>\n",
       "      <td>CIENCIAS NATURALES Y EXACTAS</td>\n",
       "      <td>INVESTIGADOR</td>\n",
       "      <td>Interino</td>\n",
       "      <td>De 0 hasta 19 horas</td>\n",
       "      <td>Profesor asociado</td>\n",
       "      <td>Investigador adjunto</td>\n",
       "      <td>(40, 50]</td>\n",
       "    </tr>\n",
       "    <tr>\n",
       "      <th>2</th>\n",
       "      <td>7</td>\n",
       "      <td>M</td>\n",
       "      <td>3</td>\n",
       "      <td>11</td>\n",
       "      <td>2</td>\n",
       "      <td>0</td>\n",
       "      <td>Universitario de grado</td>\n",
       "      <td>CIENCIAS MÉDICAS Y DE LA SALUD</td>\n",
       "      <td>BECARIO DE I+D</td>\n",
       "      <td>no docente</td>\n",
       "      <td>0</td>\n",
       "      <td>no docente</td>\n",
       "      <td>No pertenece a Conicet</td>\n",
       "      <td>(30, 40]</td>\n",
       "    </tr>\n",
       "    <tr>\n",
       "      <th>3</th>\n",
       "      <td>9</td>\n",
       "      <td>M</td>\n",
       "      <td>7</td>\n",
       "      <td>5</td>\n",
       "      <td>9</td>\n",
       "      <td>2</td>\n",
       "      <td>Universitario de posgrado/doctorado</td>\n",
       "      <td>CIENCIAS MÉDICAS Y DE LA SALUD</td>\n",
       "      <td>INVESTIGADOR</td>\n",
       "      <td>no docente</td>\n",
       "      <td>0</td>\n",
       "      <td>no docente</td>\n",
       "      <td>No pertenece a Conicet</td>\n",
       "      <td>(60, 70]</td>\n",
       "    </tr>\n",
       "    <tr>\n",
       "      <th>4</th>\n",
       "      <td>10</td>\n",
       "      <td>M</td>\n",
       "      <td>2</td>\n",
       "      <td>0</td>\n",
       "      <td>1</td>\n",
       "      <td>2</td>\n",
       "      <td>Universitario de grado</td>\n",
       "      <td>CIENCIAS NATURALES Y EXACTAS</td>\n",
       "      <td>DOCENTE</td>\n",
       "      <td>Regular o por concurso</td>\n",
       "      <td>De 0 hasta 19 horas</td>\n",
       "      <td>Ayudante de primera</td>\n",
       "      <td>No pertenece a Conicet</td>\n",
       "      <td>(50, 60]</td>\n",
       "    </tr>\n",
       "    <tr>\n",
       "      <th>5</th>\n",
       "      <td>11</td>\n",
       "      <td>F</td>\n",
       "      <td>1</td>\n",
       "      <td>8</td>\n",
       "      <td>4</td>\n",
       "      <td>3</td>\n",
       "      <td>Universitario de posgrado/maestría</td>\n",
       "      <td>CIENCIAS SOCIALES</td>\n",
       "      <td>INVESTIGADOR</td>\n",
       "      <td>Por contrato</td>\n",
       "      <td>De 0 hasta 19 horas</td>\n",
       "      <td>Profesor titular</td>\n",
       "      <td>No pertenece a Conicet</td>\n",
       "      <td>(30, 40]</td>\n",
       "    </tr>\n",
       "  </tbody>\n",
       "</table>\n",
       "</div>"
      ],
      "text/plain": [
       "   persona_id sexo  prod_ultimo_año  prod_año_ant  prod_2_años_ant  \\\n",
       "1           5    F                4             5                2   \n",
       "2           7    M                3            11                2   \n",
       "3           9    M                7             5                9   \n",
       "4          10    M                2             0                1   \n",
       "5          11    F                1             8                4   \n",
       "\n",
       "   prod_3_años_ant                  max_grado_academico  \\\n",
       "1                6  Universitario de posgrado/doctorado   \n",
       "2                0               Universitario de grado   \n",
       "3                2  Universitario de posgrado/doctorado   \n",
       "4                2               Universitario de grado   \n",
       "5                3   Universitario de posgrado/maestría   \n",
       "\n",
       "             gran_area_experticia   tipo_personal       condicion_docente  \\\n",
       "1    CIENCIAS NATURALES Y EXACTAS    INVESTIGADOR                Interino   \n",
       "2  CIENCIAS MÉDICAS Y DE LA SALUD  BECARIO DE I+D              no docente   \n",
       "3  CIENCIAS MÉDICAS Y DE LA SALUD    INVESTIGADOR              no docente   \n",
       "4    CIENCIAS NATURALES Y EXACTAS         DOCENTE  Regular o por concurso   \n",
       "5               CIENCIAS SOCIALES    INVESTIGADOR            Por contrato   \n",
       "\n",
       "   ded_horaria_docente  clase_cargo_docente       categoria_conicet rango_edad  \n",
       "1  De 0 hasta 19 horas    Profesor asociado    Investigador adjunto   (40, 50]  \n",
       "2                    0           no docente  No pertenece a Conicet   (30, 40]  \n",
       "3                    0           no docente  No pertenece a Conicet   (60, 70]  \n",
       "4  De 0 hasta 19 horas  Ayudante de primera  No pertenece a Conicet   (50, 60]  \n",
       "5  De 0 hasta 19 horas     Profesor titular  No pertenece a Conicet   (30, 40]  "
      ]
     },
     "execution_count": 226,
     "metadata": {},
     "output_type": "execute_result"
    }
   ],
   "source": [
    "personas_2012.head()"
   ]
  },
  {
   "cell_type": "markdown",
   "metadata": {},
   "source": [
    "#### 7. Lectura e interpretación de la personas_indicadores_genero_2012"
   ]
  },
  {
   "cell_type": "code",
   "execution_count": 227,
   "metadata": {},
   "outputs": [],
   "source": [
    "from pandas.io.json import json_normalize\n",
    "ind_gen_2012=pd.read_csv('personas_indicadores_genero_2012.csv',sep=\";\")\n"
   ]
  },
  {
   "cell_type": "code",
   "execution_count": 228,
   "metadata": {},
   "outputs": [
    {
     "data": {
      "text/html": [
       "<div>\n",
       "<style scoped>\n",
       "    .dataframe tbody tr th:only-of-type {\n",
       "        vertical-align: middle;\n",
       "    }\n",
       "\n",
       "    .dataframe tbody tr th {\n",
       "        vertical-align: top;\n",
       "    }\n",
       "\n",
       "    .dataframe thead th {\n",
       "        text-align: right;\n",
       "    }\n",
       "</style>\n",
       "<table border=\"1\" class=\"dataframe\">\n",
       "  <thead>\n",
       "    <tr style=\"text-align: right;\">\n",
       "      <th></th>\n",
       "      <th>persona_id</th>\n",
       "      <th>anio_id</th>\n",
       "      <th>movilidad_posgrado_exterior</th>\n",
       "      <th>movilidad_estancias_exterior</th>\n",
       "      <th>produccion_cantidad_articulos_total</th>\n",
       "      <th>produccion_cantidad_articulos_SJR_Q1</th>\n",
       "      <th>produccion_cantidad_articulos_SJR_Q2</th>\n",
       "      <th>produccion_cantidad_articulos_SJR_Q3</th>\n",
       "      <th>produccion_cantidad_articulos_SJR_Q4</th>\n",
       "      <th>produccion_cantidad_articulos_NBR</th>\n",
       "      <th>...</th>\n",
       "      <th>actividad_evaluacion_comite_editorial_internacional</th>\n",
       "      <th>actividad_evaluacion_referato_internacional</th>\n",
       "      <th>actividad_evaluacion_proyectos</th>\n",
       "      <th>proyectos_direccion</th>\n",
       "      <th>formacion_participacion_taller</th>\n",
       "      <th>formacion_participacion_conferencia</th>\n",
       "      <th>produccion_publicacion_congreso</th>\n",
       "      <th>membresia_asociaciones_cyt</th>\n",
       "      <th>movilidad_posdoctorado_exterior</th>\n",
       "      <th>proyectos_financiamiento_externo</th>\n",
       "    </tr>\n",
       "  </thead>\n",
       "  <tbody>\n",
       "    <tr>\n",
       "      <th>0</th>\n",
       "      <td>1</td>\n",
       "      <td>2012</td>\n",
       "      <td>0</td>\n",
       "      <td>0</td>\n",
       "      <td>0</td>\n",
       "      <td>0</td>\n",
       "      <td>0</td>\n",
       "      <td>0</td>\n",
       "      <td>0</td>\n",
       "      <td>0</td>\n",
       "      <td>...</td>\n",
       "      <td>0</td>\n",
       "      <td>0</td>\n",
       "      <td>1</td>\n",
       "      <td>0</td>\n",
       "      <td>0</td>\n",
       "      <td>0</td>\n",
       "      <td>0</td>\n",
       "      <td>0</td>\n",
       "      <td>0</td>\n",
       "      <td>0</td>\n",
       "    </tr>\n",
       "    <tr>\n",
       "      <th>1</th>\n",
       "      <td>5</td>\n",
       "      <td>2012</td>\n",
       "      <td>0</td>\n",
       "      <td>0</td>\n",
       "      <td>9</td>\n",
       "      <td>6</td>\n",
       "      <td>0</td>\n",
       "      <td>1</td>\n",
       "      <td>0</td>\n",
       "      <td>0</td>\n",
       "      <td>...</td>\n",
       "      <td>0</td>\n",
       "      <td>1</td>\n",
       "      <td>1</td>\n",
       "      <td>1</td>\n",
       "      <td>0</td>\n",
       "      <td>0</td>\n",
       "      <td>1</td>\n",
       "      <td>0</td>\n",
       "      <td>0</td>\n",
       "      <td>0</td>\n",
       "    </tr>\n",
       "    <tr>\n",
       "      <th>2</th>\n",
       "      <td>7</td>\n",
       "      <td>2012</td>\n",
       "      <td>0</td>\n",
       "      <td>0</td>\n",
       "      <td>4</td>\n",
       "      <td>1</td>\n",
       "      <td>0</td>\n",
       "      <td>3</td>\n",
       "      <td>0</td>\n",
       "      <td>0</td>\n",
       "      <td>...</td>\n",
       "      <td>0</td>\n",
       "      <td>1</td>\n",
       "      <td>0</td>\n",
       "      <td>0</td>\n",
       "      <td>1</td>\n",
       "      <td>0</td>\n",
       "      <td>0</td>\n",
       "      <td>1</td>\n",
       "      <td>0</td>\n",
       "      <td>1</td>\n",
       "    </tr>\n",
       "    <tr>\n",
       "      <th>3</th>\n",
       "      <td>9</td>\n",
       "      <td>2012</td>\n",
       "      <td>0</td>\n",
       "      <td>0</td>\n",
       "      <td>10</td>\n",
       "      <td>8</td>\n",
       "      <td>1</td>\n",
       "      <td>0</td>\n",
       "      <td>0</td>\n",
       "      <td>1</td>\n",
       "      <td>...</td>\n",
       "      <td>0</td>\n",
       "      <td>0</td>\n",
       "      <td>1</td>\n",
       "      <td>0</td>\n",
       "      <td>0</td>\n",
       "      <td>0</td>\n",
       "      <td>1</td>\n",
       "      <td>0</td>\n",
       "      <td>0</td>\n",
       "      <td>0</td>\n",
       "    </tr>\n",
       "    <tr>\n",
       "      <th>4</th>\n",
       "      <td>10</td>\n",
       "      <td>2012</td>\n",
       "      <td>0</td>\n",
       "      <td>0</td>\n",
       "      <td>6</td>\n",
       "      <td>2</td>\n",
       "      <td>3</td>\n",
       "      <td>0</td>\n",
       "      <td>0</td>\n",
       "      <td>0</td>\n",
       "      <td>...</td>\n",
       "      <td>0</td>\n",
       "      <td>0</td>\n",
       "      <td>1</td>\n",
       "      <td>0</td>\n",
       "      <td>0</td>\n",
       "      <td>0</td>\n",
       "      <td>0</td>\n",
       "      <td>0</td>\n",
       "      <td>0</td>\n",
       "      <td>0</td>\n",
       "    </tr>\n",
       "  </tbody>\n",
       "</table>\n",
       "<p>5 rows × 31 columns</p>\n",
       "</div>"
      ],
      "text/plain": [
       "   persona_id  anio_id  movilidad_posgrado_exterior  \\\n",
       "0           1     2012                            0   \n",
       "1           5     2012                            0   \n",
       "2           7     2012                            0   \n",
       "3           9     2012                            0   \n",
       "4          10     2012                            0   \n",
       "\n",
       "   movilidad_estancias_exterior  produccion_cantidad_articulos_total  \\\n",
       "0                             0                                    0   \n",
       "1                             0                                    9   \n",
       "2                             0                                    4   \n",
       "3                             0                                   10   \n",
       "4                             0                                    6   \n",
       "\n",
       "   produccion_cantidad_articulos_SJR_Q1  produccion_cantidad_articulos_SJR_Q2  \\\n",
       "0                                     0                                     0   \n",
       "1                                     6                                     0   \n",
       "2                                     1                                     0   \n",
       "3                                     8                                     1   \n",
       "4                                     2                                     3   \n",
       "\n",
       "   produccion_cantidad_articulos_SJR_Q3  produccion_cantidad_articulos_SJR_Q4  \\\n",
       "0                                     0                                     0   \n",
       "1                                     1                                     0   \n",
       "2                                     3                                     0   \n",
       "3                                     0                                     0   \n",
       "4                                     0                                     0   \n",
       "\n",
       "   produccion_cantidad_articulos_NBR                ...                 \\\n",
       "0                                  0                ...                  \n",
       "1                                  0                ...                  \n",
       "2                                  0                ...                  \n",
       "3                                  1                ...                  \n",
       "4                                  0                ...                  \n",
       "\n",
       "   actividad_evaluacion_comite_editorial_internacional  \\\n",
       "0                                                  0     \n",
       "1                                                  0     \n",
       "2                                                  0     \n",
       "3                                                  0     \n",
       "4                                                  0     \n",
       "\n",
       "   actividad_evaluacion_referato_internacional  \\\n",
       "0                                            0   \n",
       "1                                            1   \n",
       "2                                            1   \n",
       "3                                            0   \n",
       "4                                            0   \n",
       "\n",
       "   actividad_evaluacion_proyectos  proyectos_direccion  \\\n",
       "0                               1                    0   \n",
       "1                               1                    1   \n",
       "2                               0                    0   \n",
       "3                               1                    0   \n",
       "4                               1                    0   \n",
       "\n",
       "   formacion_participacion_taller  formacion_participacion_conferencia  \\\n",
       "0                               0                                    0   \n",
       "1                               0                                    0   \n",
       "2                               1                                    0   \n",
       "3                               0                                    0   \n",
       "4                               0                                    0   \n",
       "\n",
       "   produccion_publicacion_congreso  membresia_asociaciones_cyt  \\\n",
       "0                                0                           0   \n",
       "1                                1                           0   \n",
       "2                                0                           1   \n",
       "3                                1                           0   \n",
       "4                                0                           0   \n",
       "\n",
       "   movilidad_posdoctorado_exterior  proyectos_financiamiento_externo  \n",
       "0                                0                                 0  \n",
       "1                                0                                 0  \n",
       "2                                0                                 1  \n",
       "3                                0                                 0  \n",
       "4                                0                                 0  \n",
       "\n",
       "[5 rows x 31 columns]"
      ]
     },
     "execution_count": 228,
     "metadata": {},
     "output_type": "execute_result"
    }
   ],
   "source": [
    "ind_gen_2012.head()"
   ]
  },
  {
   "cell_type": "code",
   "execution_count": 229,
   "metadata": {},
   "outputs": [
    {
     "data": {
      "text/html": [
       "<div>\n",
       "<style scoped>\n",
       "    .dataframe tbody tr th:only-of-type {\n",
       "        vertical-align: middle;\n",
       "    }\n",
       "\n",
       "    .dataframe tbody tr th {\n",
       "        vertical-align: top;\n",
       "    }\n",
       "\n",
       "    .dataframe thead th {\n",
       "        text-align: right;\n",
       "    }\n",
       "</style>\n",
       "<table border=\"1\" class=\"dataframe\">\n",
       "  <thead>\n",
       "    <tr style=\"text-align: right;\">\n",
       "      <th></th>\n",
       "      <th>persona_id</th>\n",
       "      <th>anio_id</th>\n",
       "      <th>movilidad_posgrado_exterior</th>\n",
       "      <th>movilidad_estancias_exterior</th>\n",
       "      <th>produccion_cantidad_articulos_total</th>\n",
       "      <th>produccion_cantidad_articulos_SJR_Q1</th>\n",
       "      <th>produccion_cantidad_articulos_SJR_Q2</th>\n",
       "      <th>produccion_cantidad_articulos_SJR_Q3</th>\n",
       "      <th>produccion_cantidad_articulos_SJR_Q4</th>\n",
       "      <th>produccion_cantidad_articulos_NBR</th>\n",
       "      <th>...</th>\n",
       "      <th>actividad_evaluacion_comite_editorial_internacional</th>\n",
       "      <th>actividad_evaluacion_referato_internacional</th>\n",
       "      <th>actividad_evaluacion_proyectos</th>\n",
       "      <th>proyectos_direccion</th>\n",
       "      <th>formacion_participacion_taller</th>\n",
       "      <th>formacion_participacion_conferencia</th>\n",
       "      <th>produccion_publicacion_congreso</th>\n",
       "      <th>membresia_asociaciones_cyt</th>\n",
       "      <th>movilidad_posdoctorado_exterior</th>\n",
       "      <th>proyectos_financiamiento_externo</th>\n",
       "    </tr>\n",
       "  </thead>\n",
       "  <tbody>\n",
       "    <tr>\n",
       "      <th>27023</th>\n",
       "      <td>36153</td>\n",
       "      <td>2012</td>\n",
       "      <td>0</td>\n",
       "      <td>0</td>\n",
       "      <td>2</td>\n",
       "      <td>0</td>\n",
       "      <td>0</td>\n",
       "      <td>0</td>\n",
       "      <td>0</td>\n",
       "      <td>0</td>\n",
       "      <td>...</td>\n",
       "      <td>0</td>\n",
       "      <td>0</td>\n",
       "      <td>0</td>\n",
       "      <td>0</td>\n",
       "      <td>0</td>\n",
       "      <td>0</td>\n",
       "      <td>0</td>\n",
       "      <td>1</td>\n",
       "      <td>0</td>\n",
       "      <td>0</td>\n",
       "    </tr>\n",
       "    <tr>\n",
       "      <th>45218</th>\n",
       "      <td>60003</td>\n",
       "      <td>2012</td>\n",
       "      <td>0</td>\n",
       "      <td>0</td>\n",
       "      <td>1</td>\n",
       "      <td>1</td>\n",
       "      <td>0</td>\n",
       "      <td>0</td>\n",
       "      <td>0</td>\n",
       "      <td>0</td>\n",
       "      <td>...</td>\n",
       "      <td>0</td>\n",
       "      <td>0</td>\n",
       "      <td>0</td>\n",
       "      <td>0</td>\n",
       "      <td>0</td>\n",
       "      <td>0</td>\n",
       "      <td>1</td>\n",
       "      <td>0</td>\n",
       "      <td>0</td>\n",
       "      <td>0</td>\n",
       "    </tr>\n",
       "    <tr>\n",
       "      <th>61794</th>\n",
       "      <td>120714</td>\n",
       "      <td>2012</td>\n",
       "      <td>0</td>\n",
       "      <td>0</td>\n",
       "      <td>3</td>\n",
       "      <td>0</td>\n",
       "      <td>0</td>\n",
       "      <td>0</td>\n",
       "      <td>0</td>\n",
       "      <td>0</td>\n",
       "      <td>...</td>\n",
       "      <td>0</td>\n",
       "      <td>0</td>\n",
       "      <td>0</td>\n",
       "      <td>0</td>\n",
       "      <td>0</td>\n",
       "      <td>0</td>\n",
       "      <td>0</td>\n",
       "      <td>0</td>\n",
       "      <td>0</td>\n",
       "      <td>0</td>\n",
       "    </tr>\n",
       "    <tr>\n",
       "      <th>34827</th>\n",
       "      <td>45416</td>\n",
       "      <td>2012</td>\n",
       "      <td>0</td>\n",
       "      <td>0</td>\n",
       "      <td>0</td>\n",
       "      <td>0</td>\n",
       "      <td>0</td>\n",
       "      <td>0</td>\n",
       "      <td>0</td>\n",
       "      <td>0</td>\n",
       "      <td>...</td>\n",
       "      <td>0</td>\n",
       "      <td>0</td>\n",
       "      <td>0</td>\n",
       "      <td>0</td>\n",
       "      <td>0</td>\n",
       "      <td>0</td>\n",
       "      <td>0</td>\n",
       "      <td>0</td>\n",
       "      <td>0</td>\n",
       "      <td>0</td>\n",
       "    </tr>\n",
       "    <tr>\n",
       "      <th>24433</th>\n",
       "      <td>32828</td>\n",
       "      <td>2012</td>\n",
       "      <td>0</td>\n",
       "      <td>0</td>\n",
       "      <td>0</td>\n",
       "      <td>0</td>\n",
       "      <td>0</td>\n",
       "      <td>0</td>\n",
       "      <td>0</td>\n",
       "      <td>0</td>\n",
       "      <td>...</td>\n",
       "      <td>0</td>\n",
       "      <td>0</td>\n",
       "      <td>0</td>\n",
       "      <td>0</td>\n",
       "      <td>0</td>\n",
       "      <td>0</td>\n",
       "      <td>1</td>\n",
       "      <td>1</td>\n",
       "      <td>0</td>\n",
       "      <td>0</td>\n",
       "    </tr>\n",
       "    <tr>\n",
       "      <th>48202</th>\n",
       "      <td>66543</td>\n",
       "      <td>2012</td>\n",
       "      <td>0</td>\n",
       "      <td>0</td>\n",
       "      <td>0</td>\n",
       "      <td>0</td>\n",
       "      <td>0</td>\n",
       "      <td>0</td>\n",
       "      <td>0</td>\n",
       "      <td>0</td>\n",
       "      <td>...</td>\n",
       "      <td>0</td>\n",
       "      <td>0</td>\n",
       "      <td>0</td>\n",
       "      <td>0</td>\n",
       "      <td>0</td>\n",
       "      <td>0</td>\n",
       "      <td>0</td>\n",
       "      <td>0</td>\n",
       "      <td>0</td>\n",
       "      <td>0</td>\n",
       "    </tr>\n",
       "    <tr>\n",
       "      <th>9916</th>\n",
       "      <td>12623</td>\n",
       "      <td>2012</td>\n",
       "      <td>0</td>\n",
       "      <td>0</td>\n",
       "      <td>7</td>\n",
       "      <td>1</td>\n",
       "      <td>2</td>\n",
       "      <td>1</td>\n",
       "      <td>1</td>\n",
       "      <td>1</td>\n",
       "      <td>...</td>\n",
       "      <td>0</td>\n",
       "      <td>0</td>\n",
       "      <td>0</td>\n",
       "      <td>0</td>\n",
       "      <td>0</td>\n",
       "      <td>0</td>\n",
       "      <td>0</td>\n",
       "      <td>0</td>\n",
       "      <td>0</td>\n",
       "      <td>0</td>\n",
       "    </tr>\n",
       "    <tr>\n",
       "      <th>17703</th>\n",
       "      <td>23126</td>\n",
       "      <td>2012</td>\n",
       "      <td>0</td>\n",
       "      <td>0</td>\n",
       "      <td>0</td>\n",
       "      <td>0</td>\n",
       "      <td>0</td>\n",
       "      <td>0</td>\n",
       "      <td>0</td>\n",
       "      <td>0</td>\n",
       "      <td>...</td>\n",
       "      <td>0</td>\n",
       "      <td>0</td>\n",
       "      <td>1</td>\n",
       "      <td>0</td>\n",
       "      <td>0</td>\n",
       "      <td>0</td>\n",
       "      <td>0</td>\n",
       "      <td>0</td>\n",
       "      <td>0</td>\n",
       "      <td>0</td>\n",
       "    </tr>\n",
       "    <tr>\n",
       "      <th>52255</th>\n",
       "      <td>76391</td>\n",
       "      <td>2012</td>\n",
       "      <td>0</td>\n",
       "      <td>0</td>\n",
       "      <td>0</td>\n",
       "      <td>0</td>\n",
       "      <td>0</td>\n",
       "      <td>0</td>\n",
       "      <td>0</td>\n",
       "      <td>0</td>\n",
       "      <td>...</td>\n",
       "      <td>0</td>\n",
       "      <td>0</td>\n",
       "      <td>0</td>\n",
       "      <td>0</td>\n",
       "      <td>0</td>\n",
       "      <td>0</td>\n",
       "      <td>0</td>\n",
       "      <td>0</td>\n",
       "      <td>0</td>\n",
       "      <td>0</td>\n",
       "    </tr>\n",
       "    <tr>\n",
       "      <th>57952</th>\n",
       "      <td>91973</td>\n",
       "      <td>2012</td>\n",
       "      <td>0</td>\n",
       "      <td>0</td>\n",
       "      <td>0</td>\n",
       "      <td>0</td>\n",
       "      <td>0</td>\n",
       "      <td>0</td>\n",
       "      <td>0</td>\n",
       "      <td>0</td>\n",
       "      <td>...</td>\n",
       "      <td>0</td>\n",
       "      <td>0</td>\n",
       "      <td>0</td>\n",
       "      <td>0</td>\n",
       "      <td>0</td>\n",
       "      <td>0</td>\n",
       "      <td>0</td>\n",
       "      <td>0</td>\n",
       "      <td>0</td>\n",
       "      <td>0</td>\n",
       "    </tr>\n",
       "  </tbody>\n",
       "</table>\n",
       "<p>10 rows × 31 columns</p>\n",
       "</div>"
      ],
      "text/plain": [
       "       persona_id  anio_id  movilidad_posgrado_exterior  \\\n",
       "27023       36153     2012                            0   \n",
       "45218       60003     2012                            0   \n",
       "61794      120714     2012                            0   \n",
       "34827       45416     2012                            0   \n",
       "24433       32828     2012                            0   \n",
       "48202       66543     2012                            0   \n",
       "9916        12623     2012                            0   \n",
       "17703       23126     2012                            0   \n",
       "52255       76391     2012                            0   \n",
       "57952       91973     2012                            0   \n",
       "\n",
       "       movilidad_estancias_exterior  produccion_cantidad_articulos_total  \\\n",
       "27023                             0                                    2   \n",
       "45218                             0                                    1   \n",
       "61794                             0                                    3   \n",
       "34827                             0                                    0   \n",
       "24433                             0                                    0   \n",
       "48202                             0                                    0   \n",
       "9916                              0                                    7   \n",
       "17703                             0                                    0   \n",
       "52255                             0                                    0   \n",
       "57952                             0                                    0   \n",
       "\n",
       "       produccion_cantidad_articulos_SJR_Q1  \\\n",
       "27023                                     0   \n",
       "45218                                     1   \n",
       "61794                                     0   \n",
       "34827                                     0   \n",
       "24433                                     0   \n",
       "48202                                     0   \n",
       "9916                                      1   \n",
       "17703                                     0   \n",
       "52255                                     0   \n",
       "57952                                     0   \n",
       "\n",
       "       produccion_cantidad_articulos_SJR_Q2  \\\n",
       "27023                                     0   \n",
       "45218                                     0   \n",
       "61794                                     0   \n",
       "34827                                     0   \n",
       "24433                                     0   \n",
       "48202                                     0   \n",
       "9916                                      2   \n",
       "17703                                     0   \n",
       "52255                                     0   \n",
       "57952                                     0   \n",
       "\n",
       "       produccion_cantidad_articulos_SJR_Q3  \\\n",
       "27023                                     0   \n",
       "45218                                     0   \n",
       "61794                                     0   \n",
       "34827                                     0   \n",
       "24433                                     0   \n",
       "48202                                     0   \n",
       "9916                                      1   \n",
       "17703                                     0   \n",
       "52255                                     0   \n",
       "57952                                     0   \n",
       "\n",
       "       produccion_cantidad_articulos_SJR_Q4  \\\n",
       "27023                                     0   \n",
       "45218                                     0   \n",
       "61794                                     0   \n",
       "34827                                     0   \n",
       "24433                                     0   \n",
       "48202                                     0   \n",
       "9916                                      1   \n",
       "17703                                     0   \n",
       "52255                                     0   \n",
       "57952                                     0   \n",
       "\n",
       "       produccion_cantidad_articulos_NBR                ...                 \\\n",
       "27023                                  0                ...                  \n",
       "45218                                  0                ...                  \n",
       "61794                                  0                ...                  \n",
       "34827                                  0                ...                  \n",
       "24433                                  0                ...                  \n",
       "48202                                  0                ...                  \n",
       "9916                                   1                ...                  \n",
       "17703                                  0                ...                  \n",
       "52255                                  0                ...                  \n",
       "57952                                  0                ...                  \n",
       "\n",
       "       actividad_evaluacion_comite_editorial_internacional  \\\n",
       "27023                                                  0     \n",
       "45218                                                  0     \n",
       "61794                                                  0     \n",
       "34827                                                  0     \n",
       "24433                                                  0     \n",
       "48202                                                  0     \n",
       "9916                                                   0     \n",
       "17703                                                  0     \n",
       "52255                                                  0     \n",
       "57952                                                  0     \n",
       "\n",
       "       actividad_evaluacion_referato_internacional  \\\n",
       "27023                                            0   \n",
       "45218                                            0   \n",
       "61794                                            0   \n",
       "34827                                            0   \n",
       "24433                                            0   \n",
       "48202                                            0   \n",
       "9916                                             0   \n",
       "17703                                            0   \n",
       "52255                                            0   \n",
       "57952                                            0   \n",
       "\n",
       "       actividad_evaluacion_proyectos  proyectos_direccion  \\\n",
       "27023                               0                    0   \n",
       "45218                               0                    0   \n",
       "61794                               0                    0   \n",
       "34827                               0                    0   \n",
       "24433                               0                    0   \n",
       "48202                               0                    0   \n",
       "9916                                0                    0   \n",
       "17703                               1                    0   \n",
       "52255                               0                    0   \n",
       "57952                               0                    0   \n",
       "\n",
       "       formacion_participacion_taller  formacion_participacion_conferencia  \\\n",
       "27023                               0                                    0   \n",
       "45218                               0                                    0   \n",
       "61794                               0                                    0   \n",
       "34827                               0                                    0   \n",
       "24433                               0                                    0   \n",
       "48202                               0                                    0   \n",
       "9916                                0                                    0   \n",
       "17703                               0                                    0   \n",
       "52255                               0                                    0   \n",
       "57952                               0                                    0   \n",
       "\n",
       "       produccion_publicacion_congreso  membresia_asociaciones_cyt  \\\n",
       "27023                                0                           1   \n",
       "45218                                1                           0   \n",
       "61794                                0                           0   \n",
       "34827                                0                           0   \n",
       "24433                                1                           1   \n",
       "48202                                0                           0   \n",
       "9916                                 0                           0   \n",
       "17703                                0                           0   \n",
       "52255                                0                           0   \n",
       "57952                                0                           0   \n",
       "\n",
       "       movilidad_posdoctorado_exterior  proyectos_financiamiento_externo  \n",
       "27023                                0                                 0  \n",
       "45218                                0                                 0  \n",
       "61794                                0                                 0  \n",
       "34827                                0                                 0  \n",
       "24433                                0                                 0  \n",
       "48202                                0                                 0  \n",
       "9916                                 0                                 0  \n",
       "17703                                0                                 0  \n",
       "52255                                0                                 0  \n",
       "57952                                0                                 0  \n",
       "\n",
       "[10 rows x 31 columns]"
      ]
     },
     "execution_count": 229,
     "metadata": {},
     "output_type": "execute_result"
    }
   ],
   "source": [
    "ind_gen_2012.sample(10)"
   ]
  },
  {
   "cell_type": "markdown",
   "metadata": {},
   "source": [
    "#### 7. Análisis de valores erróneos o nulos"
   ]
  },
  {
   "cell_type": "code",
   "execution_count": 230,
   "metadata": {},
   "outputs": [
    {
     "data": {
      "text/html": [
       "<div>\n",
       "<style scoped>\n",
       "    .dataframe tbody tr th:only-of-type {\n",
       "        vertical-align: middle;\n",
       "    }\n",
       "\n",
       "    .dataframe tbody tr th {\n",
       "        vertical-align: top;\n",
       "    }\n",
       "\n",
       "    .dataframe thead th {\n",
       "        text-align: right;\n",
       "    }\n",
       "</style>\n",
       "<table border=\"1\" class=\"dataframe\">\n",
       "  <thead>\n",
       "    <tr style=\"text-align: right;\">\n",
       "      <th></th>\n",
       "      <th>actividad_evaluacion_comite_editorial</th>\n",
       "      <th>actividad_evaluacion_comite_editorial_nacional</th>\n",
       "      <th>actividad_evaluacion_comite_editorial_internacional</th>\n",
       "    </tr>\n",
       "  </thead>\n",
       "  <tbody>\n",
       "    <tr>\n",
       "      <th>26977</th>\n",
       "      <td>1</td>\n",
       "      <td>1</td>\n",
       "      <td>1</td>\n",
       "    </tr>\n",
       "    <tr>\n",
       "      <th>27264</th>\n",
       "      <td>1</td>\n",
       "      <td>1</td>\n",
       "      <td>1</td>\n",
       "    </tr>\n",
       "    <tr>\n",
       "      <th>37107</th>\n",
       "      <td>1</td>\n",
       "      <td>1</td>\n",
       "      <td>1</td>\n",
       "    </tr>\n",
       "    <tr>\n",
       "      <th>55414</th>\n",
       "      <td>1</td>\n",
       "      <td>1</td>\n",
       "      <td>1</td>\n",
       "    </tr>\n",
       "  </tbody>\n",
       "</table>\n",
       "</div>"
      ],
      "text/plain": [
       "       actividad_evaluacion_comite_editorial  \\\n",
       "26977                                      1   \n",
       "27264                                      1   \n",
       "37107                                      1   \n",
       "55414                                      1   \n",
       "\n",
       "       actividad_evaluacion_comite_editorial_nacional  \\\n",
       "26977                                               1   \n",
       "27264                                               1   \n",
       "37107                                               1   \n",
       "55414                                               1   \n",
       "\n",
       "       actividad_evaluacion_comite_editorial_internacional  \n",
       "26977                                                  1    \n",
       "27264                                                  1    \n",
       "37107                                                  1    \n",
       "55414                                                  1    "
      ]
     },
     "execution_count": 230,
     "metadata": {},
     "output_type": "execute_result"
    }
   ],
   "source": [
    "#La columna actividad_evaluacion_comite_editorial debería ser la suma de las columnas\n",
    "# actividad_evaluacion_comite_editorial_internacional y actividad_evaluacion_comite_editorial_nacional\n",
    "#Se comprueba si hay casos que no lo sean\n",
    "\n",
    "ind_gen_2012[['actividad_evaluacion_comite_editorial',\n",
    "              'actividad_evaluacion_comite_editorial_nacional',\n",
    "             'actividad_evaluacion_comite_editorial_internacional']].loc[ind_gen_2012['actividad_evaluacion_comite_editorial']!=\n",
    "                (ind_gen_2012['actividad_evaluacion_comite_editorial_nacional'] +\n",
    "                 ind_gen_2012['actividad_evaluacion_comite_editorial_internacional'])]"
   ]
  },
  {
   "cell_type": "code",
   "execution_count": 231,
   "metadata": {},
   "outputs": [],
   "source": [
    "#Hay 4 casos que no coinciden, se eliminan porque no hay forma de saber cuál es el correcto\n",
    "ind_gen_2012=ind_gen_2012.loc[ind_gen_2012['actividad_evaluacion_comite_editorial']==\n",
    "                (ind_gen_2012['actividad_evaluacion_comite_editorial_nacional'] +\n",
    "                 ind_gen_2012['actividad_evaluacion_comite_editorial_internacional'])]"
   ]
  },
  {
   "cell_type": "code",
   "execution_count": 232,
   "metadata": {},
   "outputs": [],
   "source": [
    "#Se elimina la columna actividad_evaluacion_comite_editorial porque es la suma de las otras dos\n",
    "ind_gen_2012.drop(columns='actividad_evaluacion_comite_editorial',inplace=True)"
   ]
  },
  {
   "cell_type": "code",
   "execution_count": 233,
   "metadata": {},
   "outputs": [
    {
     "data": {
      "text/plain": [
       "(3567, 3)"
      ]
     },
     "execution_count": 233,
     "metadata": {},
     "output_type": "execute_result"
    }
   ],
   "source": [
    "#La columna actividad_evaluacion_referato debería ser la suma de las columnas\n",
    "# actividad_evaluacion_referato_internacional y actividad_evaluacion_referato_nacional\n",
    "#Se comprueba si hay casos que no lo sean\n",
    "\n",
    "ind_gen_2012[['actividad_evaluacion_referato',\n",
    "              'actividad_evaluacion_referato_nacional',\n",
    "             'actividad_evaluacion_referato_internacional']].loc[ind_gen_2012['actividad_evaluacion_referato']!=\n",
    "                (ind_gen_2012['actividad_evaluacion_referato_nacional'] +\n",
    "                 ind_gen_2012['actividad_evaluacion_referato_internacional'])].shape"
   ]
  },
  {
   "cell_type": "code",
   "execution_count": 234,
   "metadata": {},
   "outputs": [],
   "source": [
    "#Hay 3567 casos que no coinciden, se eliminan porque no hay forma de saber cuál es el correcto\n",
    "ind_gen_2012=ind_gen_2012.loc[ind_gen_2012['actividad_evaluacion_referato']==\n",
    "                (ind_gen_2012['actividad_evaluacion_referato_nacional'] +\n",
    "                 ind_gen_2012['actividad_evaluacion_referato_internacional'])]"
   ]
  },
  {
   "cell_type": "code",
   "execution_count": 235,
   "metadata": {},
   "outputs": [],
   "source": [
    "#Se elimina la columna actividad_evaluacion_referato porque es la suma de las otras dos\n",
    "ind_gen_2012.drop(columns='actividad_evaluacion_referato',inplace=True)"
   ]
  },
  {
   "cell_type": "code",
   "execution_count": 236,
   "metadata": {},
   "outputs": [
    {
     "name": "stdout",
     "output_type": "stream",
     "text": [
      "0    61781\n",
      "1        4\n",
      "Name: actividad_evaluacion_comite_editorial_internacional, dtype: int64\n",
      "False    61785\n",
      "Name: actividad_evaluacion_comite_editorial_internacional, dtype: int64\n"
     ]
    }
   ],
   "source": [
    "#Se analizan NaN\n",
    "print(ind_gen_2012['actividad_evaluacion_comite_editorial_internacional'].value_counts())\n",
    "print(ind_gen_2012['actividad_evaluacion_comite_editorial_internacional'].isnull().value_counts())"
   ]
  },
  {
   "cell_type": "code",
   "execution_count": 237,
   "metadata": {},
   "outputs": [
    {
     "name": "stdout",
     "output_type": "stream",
     "text": [
      "0    61758\n",
      "1       27\n",
      "Name: actividad_evaluacion_comite_editorial_nacional, dtype: int64\n",
      "False    61785\n",
      "Name: actividad_evaluacion_comite_editorial_nacional, dtype: int64\n"
     ]
    }
   ],
   "source": [
    "print(ind_gen_2012['actividad_evaluacion_comite_editorial_nacional'].value_counts())\n",
    "print(ind_gen_2012['actividad_evaluacion_comite_editorial_nacional'].isnull().value_counts())"
   ]
  },
  {
   "cell_type": "code",
   "execution_count": 238,
   "metadata": {},
   "outputs": [
    {
     "name": "stdout",
     "output_type": "stream",
     "text": [
      "0    56300\n",
      "1     5485\n",
      "Name: actividad_evaluacion_proyectos, dtype: int64\n",
      "False    61785\n",
      "Name: actividad_evaluacion_proyectos, dtype: int64\n"
     ]
    }
   ],
   "source": [
    "print(ind_gen_2012['actividad_evaluacion_proyectos'].value_counts())\n",
    "print(ind_gen_2012['actividad_evaluacion_proyectos'].isnull().value_counts())"
   ]
  },
  {
   "cell_type": "code",
   "execution_count": 239,
   "metadata": {},
   "outputs": [
    {
     "name": "stdout",
     "output_type": "stream",
     "text": [
      "0    56086\n",
      "1     5699\n",
      "Name: actividad_evaluacion_referato_internacional, dtype: int64\n",
      "False    61785\n",
      "Name: actividad_evaluacion_referato_internacional, dtype: int64\n"
     ]
    }
   ],
   "source": [
    "print(ind_gen_2012['actividad_evaluacion_referato_internacional'].value_counts())\n",
    "print(ind_gen_2012['actividad_evaluacion_referato_internacional'].isnull().value_counts())"
   ]
  },
  {
   "cell_type": "code",
   "execution_count": 240,
   "metadata": {},
   "outputs": [
    {
     "name": "stdout",
     "output_type": "stream",
     "text": [
      "0    59337\n",
      "1     2448\n",
      "Name: actividad_evaluacion_rrhh_becarios, dtype: int64\n",
      "False    61785\n",
      "Name: actividad_evaluacion_rrhh_becarios, dtype: int64\n"
     ]
    }
   ],
   "source": [
    "print(ind_gen_2012['actividad_evaluacion_rrhh_becarios'].value_counts())\n",
    "print(ind_gen_2012['actividad_evaluacion_rrhh_becarios'].isnull().value_counts())"
   ]
  },
  {
   "cell_type": "code",
   "execution_count": 241,
   "metadata": {},
   "outputs": [
    {
     "name": "stdout",
     "output_type": "stream",
     "text": [
      "0    58710\n",
      "1     3075\n",
      "Name: actividad_evaluacion_rrhh_investigadores, dtype: int64\n",
      "False    61785\n",
      "Name: actividad_evaluacion_rrhh_investigadores, dtype: int64\n"
     ]
    }
   ],
   "source": [
    "print(ind_gen_2012['actividad_evaluacion_rrhh_investigadores'].value_counts())\n",
    "print(ind_gen_2012['actividad_evaluacion_rrhh_investigadores'].isnull().value_counts())"
   ]
  },
  {
   "cell_type": "code",
   "execution_count": 242,
   "metadata": {},
   "outputs": [
    {
     "name": "stdout",
     "output_type": "stream",
     "text": [
      "0    60089\n",
      "1     1696\n",
      "Name: actividad_evaluacion_rrhh_premios, dtype: int64\n",
      "False    61785\n",
      "Name: actividad_evaluacion_rrhh_premios, dtype: int64\n"
     ]
    }
   ],
   "source": [
    "print(ind_gen_2012['actividad_evaluacion_rrhh_premios'].value_counts())\n",
    "print(ind_gen_2012['actividad_evaluacion_rrhh_premios'].isnull().value_counts())"
   ]
  },
  {
   "cell_type": "code",
   "execution_count": 243,
   "metadata": {},
   "outputs": [
    {
     "name": "stdout",
     "output_type": "stream",
     "text": [
      "0    60442\n",
      "1     1343\n",
      "Name: formacion_participacion_conferencia, dtype: int64\n",
      "False    61785\n",
      "Name: formacion_participacion_conferencia, dtype: int64\n"
     ]
    }
   ],
   "source": [
    "print(ind_gen_2012['formacion_participacion_conferencia'].value_counts())\n",
    "print(ind_gen_2012['formacion_participacion_conferencia'].isnull().value_counts())"
   ]
  },
  {
   "cell_type": "code",
   "execution_count": 244,
   "metadata": {},
   "outputs": [
    {
     "name": "stdout",
     "output_type": "stream",
     "text": [
      "0    60001\n",
      "1     1784\n",
      "Name: formacion_participacion_taller, dtype: int64\n",
      "False    61785\n",
      "Name: formacion_participacion_taller, dtype: int64\n"
     ]
    }
   ],
   "source": [
    "print(ind_gen_2012['formacion_participacion_taller'].value_counts())\n",
    "print(ind_gen_2012['formacion_participacion_taller'].isnull().value_counts())"
   ]
  },
  {
   "cell_type": "code",
   "execution_count": 245,
   "metadata": {},
   "outputs": [
    {
     "name": "stdout",
     "output_type": "stream",
     "text": [
      "0    47688\n",
      "1    14097\n",
      "Name: membresia_asociaciones_cyt, dtype: int64\n",
      "False    61785\n",
      "Name: membresia_asociaciones_cyt, dtype: int64\n"
     ]
    }
   ],
   "source": [
    "print(ind_gen_2012['membresia_asociaciones_cyt'].value_counts())\n",
    "print(ind_gen_2012['membresia_asociaciones_cyt'].isnull().value_counts())"
   ]
  },
  {
   "cell_type": "code",
   "execution_count": 246,
   "metadata": {},
   "outputs": [
    {
     "name": "stdout",
     "output_type": "stream",
     "text": [
      "0    57880\n",
      "1     3905\n",
      "Name: movilidad_estancias_exterior, dtype: int64\n",
      "False    61785\n",
      "Name: movilidad_estancias_exterior, dtype: int64\n"
     ]
    }
   ],
   "source": [
    "print(ind_gen_2012['movilidad_estancias_exterior'].value_counts())\n",
    "print(ind_gen_2012['movilidad_estancias_exterior'].isnull().value_counts())"
   ]
  },
  {
   "cell_type": "code",
   "execution_count": 247,
   "metadata": {},
   "outputs": [
    {
     "name": "stdout",
     "output_type": "stream",
     "text": [
      "0    58362\n",
      "1     3423\n",
      "Name: movilidad_posdoctorado_exterior, dtype: int64\n",
      "False    61785\n",
      "Name: movilidad_posdoctorado_exterior, dtype: int64\n"
     ]
    }
   ],
   "source": [
    "print(ind_gen_2012['movilidad_posdoctorado_exterior'].value_counts())\n",
    "print(ind_gen_2012['movilidad_posdoctorado_exterior'].isnull().value_counts())"
   ]
  },
  {
   "cell_type": "code",
   "execution_count": 248,
   "metadata": {},
   "outputs": [
    {
     "name": "stdout",
     "output_type": "stream",
     "text": [
      "0    57331\n",
      "1     4454\n",
      "Name: movilidad_posgrado_exterior, dtype: int64\n",
      "False    61785\n",
      "Name: movilidad_posgrado_exterior, dtype: int64\n"
     ]
    }
   ],
   "source": [
    "print(ind_gen_2012['movilidad_posgrado_exterior'].value_counts())\n",
    "print(ind_gen_2012['movilidad_posgrado_exterior'].isnull().value_counts())"
   ]
  },
  {
   "cell_type": "code",
   "execution_count": 249,
   "metadata": {},
   "outputs": [
    {
     "name": "stdout",
     "output_type": "stream",
     "text": [
      "0     52625\n",
      "1      5424\n",
      "2      1841\n",
      "3       887\n",
      "4       438\n",
      "5       213\n",
      "6       117\n",
      "7        83\n",
      "8        43\n",
      "10       28\n",
      "9        21\n",
      "11       14\n",
      "12       11\n",
      "14        6\n",
      "13        5\n",
      "17        5\n",
      "15        4\n",
      "18        4\n",
      "24        3\n",
      "16        3\n",
      "20        3\n",
      "22        2\n",
      "26        2\n",
      "71        1\n",
      "23        1\n",
      "32        1\n",
      "Name: produccion_cantidad_libros, dtype: int64\n",
      "False    61785\n",
      "Name: produccion_cantidad_libros, dtype: int64\n"
     ]
    }
   ],
   "source": [
    "print(ind_gen_2012['produccion_cantidad_libros'].value_counts())\n",
    "print(ind_gen_2012['produccion_cantidad_libros'].isnull().value_counts())"
   ]
  },
  {
   "cell_type": "code",
   "execution_count": 250,
   "metadata": {},
   "outputs": [
    {
     "name": "stdout",
     "output_type": "stream",
     "text": [
      "0    61573\n",
      "1      212\n",
      "Name: produccion_patentes_otorgadas, dtype: int64\n",
      "False    61785\n",
      "Name: produccion_patentes_otorgadas, dtype: int64\n"
     ]
    }
   ],
   "source": [
    "print(ind_gen_2012['produccion_patentes_otorgadas'].value_counts())\n",
    "print(ind_gen_2012['produccion_patentes_otorgadas'].isnull().value_counts())"
   ]
  },
  {
   "cell_type": "code",
   "execution_count": 251,
   "metadata": {},
   "outputs": [
    {
     "name": "stdout",
     "output_type": "stream",
     "text": [
      "0    61204\n",
      "1      581\n",
      "Name: produccion_patentes_solicitadas, dtype: int64\n",
      "False    61785\n",
      "Name: produccion_patentes_solicitadas, dtype: int64\n"
     ]
    }
   ],
   "source": [
    "print(ind_gen_2012['produccion_patentes_solicitadas'].value_counts())\n",
    "print(ind_gen_2012['produccion_patentes_solicitadas'].isnull().value_counts())"
   ]
  },
  {
   "cell_type": "code",
   "execution_count": 252,
   "metadata": {},
   "outputs": [
    {
     "name": "stdout",
     "output_type": "stream",
     "text": [
      "0    50750\n",
      "1    11035\n",
      "Name: produccion_publicacion_congreso, dtype: int64\n",
      "False    61785\n",
      "Name: produccion_publicacion_congreso, dtype: int64\n"
     ]
    }
   ],
   "source": [
    "print(ind_gen_2012['produccion_publicacion_congreso'].value_counts())\n",
    "print(ind_gen_2012['produccion_publicacion_congreso'].isnull().value_counts())"
   ]
  },
  {
   "cell_type": "code",
   "execution_count": 253,
   "metadata": {},
   "outputs": [
    {
     "name": "stdout",
     "output_type": "stream",
     "text": [
      "0    60558\n",
      "1     1227\n",
      "Name: proyectos_direccion, dtype: int64\n",
      "False    61785\n",
      "Name: proyectos_direccion, dtype: int64\n"
     ]
    }
   ],
   "source": [
    "print(ind_gen_2012['proyectos_direccion'].value_counts())\n",
    "print(ind_gen_2012['proyectos_direccion'].isnull().value_counts())"
   ]
  },
  {
   "cell_type": "code",
   "execution_count": 254,
   "metadata": {},
   "outputs": [
    {
     "name": "stdout",
     "output_type": "stream",
     "text": [
      "0    59209\n",
      "1     2576\n",
      "Name: proyectos_financiamiento_externo, dtype: int64\n",
      "False    61785\n",
      "Name: proyectos_financiamiento_externo, dtype: int64\n"
     ]
    }
   ],
   "source": [
    "print(ind_gen_2012['proyectos_financiamiento_externo'].value_counts())\n",
    "print(ind_gen_2012['proyectos_financiamiento_externo'].isnull().value_counts())"
   ]
  },
  {
   "cell_type": "code",
   "execution_count": 255,
   "metadata": {},
   "outputs": [],
   "source": [
    "#No se encontraron valores nulos o erróneos. "
   ]
  },
  {
   "cell_type": "code",
   "execution_count": 256,
   "metadata": {},
   "outputs": [
    {
     "data": {
      "text/plain": [
       "Index(['persona_id', 'anio_id', 'movilidad_posgrado_exterior',\n",
       "       'movilidad_estancias_exterior', 'produccion_cantidad_articulos_total',\n",
       "       'produccion_cantidad_articulos_SJR_Q1',\n",
       "       'produccion_cantidad_articulos_SJR_Q2',\n",
       "       'produccion_cantidad_articulos_SJR_Q3',\n",
       "       'produccion_cantidad_articulos_SJR_Q4',\n",
       "       'produccion_cantidad_articulos_NBR',\n",
       "       'produccion_cantidad_capitulos_libro', 'produccion_cantidad_libros',\n",
       "       'produccion_patentes_solicitadas', 'produccion_patentes_otorgadas',\n",
       "       'actividad_evaluacion_rrhh_becarios',\n",
       "       'actividad_evaluacion_rrhh_investigadores',\n",
       "       'actividad_evaluacion_rrhh_premios',\n",
       "       'actividad_evaluacion_comite_editorial_nacional',\n",
       "       'actividad_evaluacion_referato_nacional',\n",
       "       'actividad_evaluacion_comite_editorial_internacional',\n",
       "       'actividad_evaluacion_referato_internacional',\n",
       "       'actividad_evaluacion_proyectos', 'proyectos_direccion',\n",
       "       'formacion_participacion_taller', 'formacion_participacion_conferencia',\n",
       "       'produccion_publicacion_congreso', 'membresia_asociaciones_cyt',\n",
       "       'movilidad_posdoctorado_exterior', 'proyectos_financiamiento_externo'],\n",
       "      dtype='object')"
      ]
     },
     "execution_count": 256,
     "metadata": {},
     "output_type": "execute_result"
    }
   ],
   "source": [
    "ind_gen_2012.columns"
   ]
  },
  {
   "cell_type": "code",
   "execution_count": 257,
   "metadata": {},
   "outputs": [],
   "source": [
    "#Se eliminan columnas que no se utilizarán\n",
    "ind_gen_2012.drop(columns=['anio_id','produccion_cantidad_capitulos_libro',\n",
    "                          'produccion_cantidad_articulos_SJR_Q1',\n",
    "       'produccion_cantidad_articulos_SJR_Q2',\n",
    "       'produccion_cantidad_articulos_SJR_Q3',\n",
    "       'produccion_cantidad_articulos_SJR_Q4',\n",
    "       'produccion_cantidad_articulos_NBR','produccion_cantidad_articulos_total'],inplace=True)"
   ]
  },
  {
   "cell_type": "code",
   "execution_count": 258,
   "metadata": {},
   "outputs": [
    {
     "data": {
      "text/plain": [
       "(61423, 14)"
      ]
     },
     "execution_count": 258,
     "metadata": {},
     "output_type": "execute_result"
    }
   ],
   "source": [
    "personas_2012.shape"
   ]
  },
  {
   "cell_type": "code",
   "execution_count": 259,
   "metadata": {},
   "outputs": [],
   "source": [
    "#Se hace un merge con personas_2012"
   ]
  },
  {
   "cell_type": "code",
   "execution_count": 260,
   "metadata": {},
   "outputs": [],
   "source": [
    "personas=pd.merge(ind_gen_2012, personas_2012, how='left',left_on='persona_id',right_on='persona_id')"
   ]
  },
  {
   "cell_type": "code",
   "execution_count": 261,
   "metadata": {},
   "outputs": [
    {
     "data": {
      "text/plain": [
       "sexo                    5733\n",
       "prod_ultimo_año         5733\n",
       "prod_año_ant            5733\n",
       "prod_2_años_ant         5733\n",
       "prod_3_años_ant         5733\n",
       "max_grado_academico     5733\n",
       "gran_area_experticia    5733\n",
       "tipo_personal           5733\n",
       "condicion_docente       5733\n",
       "ded_horaria_docente     5733\n",
       "clase_cargo_docente     5733\n",
       "categoria_conicet       5733\n",
       "rango_edad              5733\n",
       "dtype: int64"
      ]
     },
     "execution_count": 261,
     "metadata": {},
     "output_type": "execute_result"
    }
   ],
   "source": [
    "#revisamos si se encontraron todas las personas. Hay 5733 personas que estaban en la base de ind_gen_2012 que no se\n",
    "#encontraron en la base de personas 2012. \n",
    "null_columns=personas.columns[personas.isnull().any()]\n",
    "personas[null_columns].isnull().sum()"
   ]
  },
  {
   "cell_type": "code",
   "execution_count": 262,
   "metadata": {},
   "outputs": [
    {
     "data": {
      "text/plain": [
       "(61785, 34)"
      ]
     },
     "execution_count": 262,
     "metadata": {},
     "output_type": "execute_result"
    }
   ],
   "source": [
    "personas.shape"
   ]
  },
  {
   "cell_type": "code",
   "execution_count": 263,
   "metadata": {},
   "outputs": [],
   "source": [
    "#Se eliminan\n",
    "personas=personas.dropna()"
   ]
  },
  {
   "cell_type": "code",
   "execution_count": 264,
   "metadata": {},
   "outputs": [
    {
     "data": {
      "text/plain": [
       "(56052, 34)"
      ]
     },
     "execution_count": 264,
     "metadata": {},
     "output_type": "execute_result"
    }
   ],
   "source": [
    "personas.shape"
   ]
  },
  {
   "cell_type": "markdown",
   "metadata": {},
   "source": [
    "#### 9. Transforamación de las variables target"
   ]
  },
  {
   "cell_type": "code",
   "execution_count": 265,
   "metadata": {},
   "outputs": [],
   "source": [
    "#La variable target se busca en la base de personas del 2016\n",
    "from pandas.io.json import json_normalize\n",
    "ind_gen_2016=pd.read_json('personas_indicadores_genero_2016.json')"
   ]
  },
  {
   "cell_type": "code",
   "execution_count": 266,
   "metadata": {},
   "outputs": [
    {
     "data": {
      "text/html": [
       "<div>\n",
       "<style scoped>\n",
       "    .dataframe tbody tr th:only-of-type {\n",
       "        vertical-align: middle;\n",
       "    }\n",
       "\n",
       "    .dataframe tbody tr th {\n",
       "        vertical-align: top;\n",
       "    }\n",
       "\n",
       "    .dataframe thead th {\n",
       "        text-align: right;\n",
       "    }\n",
       "</style>\n",
       "<table border=\"1\" class=\"dataframe\">\n",
       "  <thead>\n",
       "    <tr style=\"text-align: right;\">\n",
       "      <th></th>\n",
       "      <th>data</th>\n",
       "    </tr>\n",
       "  </thead>\n",
       "  <tbody>\n",
       "    <tr>\n",
       "      <th>0</th>\n",
       "      <td>{'produccion_cantidad_articulos_SJR_Q3': 0, 'p...</td>\n",
       "    </tr>\n",
       "    <tr>\n",
       "      <th>1</th>\n",
       "      <td>{'produccion_cantidad_articulos_SJR_Q3': 1, 'p...</td>\n",
       "    </tr>\n",
       "    <tr>\n",
       "      <th>2</th>\n",
       "      <td>{'produccion_cantidad_articulos_SJR_Q3': 0, 'p...</td>\n",
       "    </tr>\n",
       "    <tr>\n",
       "      <th>3</th>\n",
       "      <td>{'produccion_cantidad_articulos_SJR_Q3': 0, 'p...</td>\n",
       "    </tr>\n",
       "    <tr>\n",
       "      <th>4</th>\n",
       "      <td>{'produccion_cantidad_articulos_SJR_Q3': 0, 'p...</td>\n",
       "    </tr>\n",
       "  </tbody>\n",
       "</table>\n",
       "</div>"
      ],
      "text/plain": [
       "                                                data\n",
       "0  {'produccion_cantidad_articulos_SJR_Q3': 0, 'p...\n",
       "1  {'produccion_cantidad_articulos_SJR_Q3': 1, 'p...\n",
       "2  {'produccion_cantidad_articulos_SJR_Q3': 0, 'p...\n",
       "3  {'produccion_cantidad_articulos_SJR_Q3': 0, 'p...\n",
       "4  {'produccion_cantidad_articulos_SJR_Q3': 0, 'p..."
      ]
     },
     "execution_count": 266,
     "metadata": {},
     "output_type": "execute_result"
    }
   ],
   "source": [
    "ind_gen_2016.head()"
   ]
  },
  {
   "cell_type": "code",
   "execution_count": 267,
   "metadata": {},
   "outputs": [],
   "source": [
    "ind_gen_2016=json_normalize(ind_gen_2016['data'])"
   ]
  },
  {
   "cell_type": "code",
   "execution_count": 268,
   "metadata": {},
   "outputs": [
    {
     "data": {
      "text/html": [
       "<div>\n",
       "<style scoped>\n",
       "    .dataframe tbody tr th:only-of-type {\n",
       "        vertical-align: middle;\n",
       "    }\n",
       "\n",
       "    .dataframe tbody tr th {\n",
       "        vertical-align: top;\n",
       "    }\n",
       "\n",
       "    .dataframe thead th {\n",
       "        text-align: right;\n",
       "    }\n",
       "</style>\n",
       "<table border=\"1\" class=\"dataframe\">\n",
       "  <thead>\n",
       "    <tr style=\"text-align: right;\">\n",
       "      <th></th>\n",
       "      <th>actividad_evaluacion_comite_editorial</th>\n",
       "      <th>actividad_evaluacion_comite_editorial_internacional</th>\n",
       "      <th>actividad_evaluacion_comite_editorial_nacional</th>\n",
       "      <th>actividad_evaluacion_proyectos</th>\n",
       "      <th>actividad_evaluacion_referato</th>\n",
       "      <th>actividad_evaluacion_referato_internacional</th>\n",
       "      <th>actividad_evaluacion_referato_nacional</th>\n",
       "      <th>actividad_evaluacion_rrhh_becarios</th>\n",
       "      <th>actividad_evaluacion_rrhh_investigadores</th>\n",
       "      <th>actividad_evaluacion_rrhh_premios</th>\n",
       "      <th>...</th>\n",
       "      <th>produccion_cantidad_articulos_SJR_Q3</th>\n",
       "      <th>produccion_cantidad_articulos_SJR_Q4</th>\n",
       "      <th>produccion_cantidad_articulos_total</th>\n",
       "      <th>produccion_cantidad_capitulos_libro</th>\n",
       "      <th>produccion_cantidad_libros</th>\n",
       "      <th>produccion_patentes_otorgadas</th>\n",
       "      <th>produccion_patentes_solicitadas</th>\n",
       "      <th>produccion_publicacion_congreso</th>\n",
       "      <th>proyectos_direccion</th>\n",
       "      <th>proyectos_financiamiento_externo</th>\n",
       "    </tr>\n",
       "  </thead>\n",
       "  <tbody>\n",
       "    <tr>\n",
       "      <th>0</th>\n",
       "      <td>0</td>\n",
       "      <td>0</td>\n",
       "      <td>0</td>\n",
       "      <td>0</td>\n",
       "      <td>0</td>\n",
       "      <td>0</td>\n",
       "      <td>0</td>\n",
       "      <td>0</td>\n",
       "      <td>0</td>\n",
       "      <td>0</td>\n",
       "      <td>...</td>\n",
       "      <td>0</td>\n",
       "      <td>0</td>\n",
       "      <td>0</td>\n",
       "      <td>0</td>\n",
       "      <td>1</td>\n",
       "      <td>0</td>\n",
       "      <td>0</td>\n",
       "      <td>0</td>\n",
       "      <td>0</td>\n",
       "      <td>0</td>\n",
       "    </tr>\n",
       "    <tr>\n",
       "      <th>1</th>\n",
       "      <td>0</td>\n",
       "      <td>0</td>\n",
       "      <td>0</td>\n",
       "      <td>1</td>\n",
       "      <td>1</td>\n",
       "      <td>1</td>\n",
       "      <td>1</td>\n",
       "      <td>1</td>\n",
       "      <td>1</td>\n",
       "      <td>0</td>\n",
       "      <td>...</td>\n",
       "      <td>1</td>\n",
       "      <td>0</td>\n",
       "      <td>6</td>\n",
       "      <td>0</td>\n",
       "      <td>0</td>\n",
       "      <td>0</td>\n",
       "      <td>0</td>\n",
       "      <td>0</td>\n",
       "      <td>0</td>\n",
       "      <td>0</td>\n",
       "    </tr>\n",
       "    <tr>\n",
       "      <th>2</th>\n",
       "      <td>0</td>\n",
       "      <td>0</td>\n",
       "      <td>0</td>\n",
       "      <td>0</td>\n",
       "      <td>1</td>\n",
       "      <td>1</td>\n",
       "      <td>0</td>\n",
       "      <td>0</td>\n",
       "      <td>0</td>\n",
       "      <td>1</td>\n",
       "      <td>...</td>\n",
       "      <td>0</td>\n",
       "      <td>0</td>\n",
       "      <td>8</td>\n",
       "      <td>0</td>\n",
       "      <td>0</td>\n",
       "      <td>0</td>\n",
       "      <td>0</td>\n",
       "      <td>0</td>\n",
       "      <td>0</td>\n",
       "      <td>0</td>\n",
       "    </tr>\n",
       "    <tr>\n",
       "      <th>3</th>\n",
       "      <td>0</td>\n",
       "      <td>0</td>\n",
       "      <td>0</td>\n",
       "      <td>1</td>\n",
       "      <td>1</td>\n",
       "      <td>0</td>\n",
       "      <td>1</td>\n",
       "      <td>0</td>\n",
       "      <td>1</td>\n",
       "      <td>0</td>\n",
       "      <td>...</td>\n",
       "      <td>0</td>\n",
       "      <td>0</td>\n",
       "      <td>8</td>\n",
       "      <td>0</td>\n",
       "      <td>0</td>\n",
       "      <td>0</td>\n",
       "      <td>0</td>\n",
       "      <td>0</td>\n",
       "      <td>0</td>\n",
       "      <td>0</td>\n",
       "    </tr>\n",
       "    <tr>\n",
       "      <th>4</th>\n",
       "      <td>0</td>\n",
       "      <td>0</td>\n",
       "      <td>0</td>\n",
       "      <td>1</td>\n",
       "      <td>0</td>\n",
       "      <td>0</td>\n",
       "      <td>0</td>\n",
       "      <td>0</td>\n",
       "      <td>0</td>\n",
       "      <td>0</td>\n",
       "      <td>...</td>\n",
       "      <td>0</td>\n",
       "      <td>0</td>\n",
       "      <td>8</td>\n",
       "      <td>0</td>\n",
       "      <td>0</td>\n",
       "      <td>0</td>\n",
       "      <td>0</td>\n",
       "      <td>0</td>\n",
       "      <td>0</td>\n",
       "      <td>0</td>\n",
       "    </tr>\n",
       "  </tbody>\n",
       "</table>\n",
       "<p>5 rows × 31 columns</p>\n",
       "</div>"
      ],
      "text/plain": [
       "   actividad_evaluacion_comite_editorial  \\\n",
       "0                                      0   \n",
       "1                                      0   \n",
       "2                                      0   \n",
       "3                                      0   \n",
       "4                                      0   \n",
       "\n",
       "   actividad_evaluacion_comite_editorial_internacional  \\\n",
       "0                                                  0     \n",
       "1                                                  0     \n",
       "2                                                  0     \n",
       "3                                                  0     \n",
       "4                                                  0     \n",
       "\n",
       "   actividad_evaluacion_comite_editorial_nacional  \\\n",
       "0                                               0   \n",
       "1                                               0   \n",
       "2                                               0   \n",
       "3                                               0   \n",
       "4                                               0   \n",
       "\n",
       "   actividad_evaluacion_proyectos  actividad_evaluacion_referato  \\\n",
       "0                               0                              0   \n",
       "1                               1                              1   \n",
       "2                               0                              1   \n",
       "3                               1                              1   \n",
       "4                               1                              0   \n",
       "\n",
       "   actividad_evaluacion_referato_internacional  \\\n",
       "0                                            0   \n",
       "1                                            1   \n",
       "2                                            1   \n",
       "3                                            0   \n",
       "4                                            0   \n",
       "\n",
       "   actividad_evaluacion_referato_nacional  actividad_evaluacion_rrhh_becarios  \\\n",
       "0                                       0                                   0   \n",
       "1                                       1                                   1   \n",
       "2                                       0                                   0   \n",
       "3                                       1                                   0   \n",
       "4                                       0                                   0   \n",
       "\n",
       "   actividad_evaluacion_rrhh_investigadores  \\\n",
       "0                                         0   \n",
       "1                                         1   \n",
       "2                                         0   \n",
       "3                                         1   \n",
       "4                                         0   \n",
       "\n",
       "   actividad_evaluacion_rrhh_premios                ...                 \\\n",
       "0                                  0                ...                  \n",
       "1                                  0                ...                  \n",
       "2                                  1                ...                  \n",
       "3                                  0                ...                  \n",
       "4                                  0                ...                  \n",
       "\n",
       "   produccion_cantidad_articulos_SJR_Q3  produccion_cantidad_articulos_SJR_Q4  \\\n",
       "0                                     0                                     0   \n",
       "1                                     1                                     0   \n",
       "2                                     0                                     0   \n",
       "3                                     0                                     0   \n",
       "4                                     0                                     0   \n",
       "\n",
       "   produccion_cantidad_articulos_total  produccion_cantidad_capitulos_libro  \\\n",
       "0                                    0                                    0   \n",
       "1                                    6                                    0   \n",
       "2                                    8                                    0   \n",
       "3                                    8                                    0   \n",
       "4                                    8                                    0   \n",
       "\n",
       "   produccion_cantidad_libros  produccion_patentes_otorgadas  \\\n",
       "0                           1                              0   \n",
       "1                           0                              0   \n",
       "2                           0                              0   \n",
       "3                           0                              0   \n",
       "4                           0                              0   \n",
       "\n",
       "   produccion_patentes_solicitadas  produccion_publicacion_congreso  \\\n",
       "0                                0                                0   \n",
       "1                                0                                0   \n",
       "2                                0                                0   \n",
       "3                                0                                0   \n",
       "4                                0                                0   \n",
       "\n",
       "   proyectos_direccion  proyectos_financiamiento_externo  \n",
       "0                    0                                 0  \n",
       "1                    0                                 0  \n",
       "2                    0                                 0  \n",
       "3                    0                                 0  \n",
       "4                    0                                 0  \n",
       "\n",
       "[5 rows x 31 columns]"
      ]
     },
     "execution_count": 268,
     "metadata": {},
     "output_type": "execute_result"
    }
   ],
   "source": [
    "ind_gen_2016.head()"
   ]
  },
  {
   "cell_type": "code",
   "execution_count": 269,
   "metadata": {},
   "outputs": [],
   "source": [
    "#Dado que el objetivo es evaluar si se publicaron artículos en general  y en revistas de prestigio, debemos agregar\n",
    "#las columnas que indiquen\n",
    "\n",
    "#si publicó o no artículos\n",
    "ind_gen_2016['publico_articulos']=ind_gen_2016['produccion_cantidad_articulos_total'].apply(\n",
    "    lambda x: '1' if x !=0 else '0')\n",
    "\n",
    "#cantidad de artículos publicados en revistas de prestigio\n",
    "ind_gen_2016['cant_articulos_prestigio']=ind_gen_2016[\n",
    "    'produccion_cantidad_articulos_NBR']+ ind_gen_2016[\n",
    "    'produccion_cantidad_articulos_SJR_Q1'] + ind_gen_2016[\n",
    "    'produccion_cantidad_articulos_SJR_Q2'] + ind_gen_2016[\n",
    "    'produccion_cantidad_articulos_SJR_Q3'] + ind_gen_2016[\n",
    "    'produccion_cantidad_articulos_SJR_Q4']\n",
    "\n",
    "#si publicó en revistas de prestigio o no\n",
    "ind_gen_2016['publico_prestigio']=ind_gen_2016['cant_articulos_prestigio'].apply(\n",
    "    lambda x: '1' if x !=0 else '0')"
   ]
  },
  {
   "cell_type": "code",
   "execution_count": 270,
   "metadata": {},
   "outputs": [
    {
     "data": {
      "text/plain": [
       "(65356, 34)"
      ]
     },
     "execution_count": 270,
     "metadata": {},
     "output_type": "execute_result"
    }
   ],
   "source": [
    "ind_gen_2016.shape"
   ]
  },
  {
   "cell_type": "code",
   "execution_count": 271,
   "metadata": {},
   "outputs": [],
   "source": [
    "ind_gen_2016=ind_gen_2016[['persona_id','publico_articulos',\n",
    "       'cant_articulos_prestigio', 'publico_prestigio','produccion_cantidad_articulos_total']]"
   ]
  },
  {
   "cell_type": "markdown",
   "metadata": {},
   "source": [
    "#### 10. Union de las dos tablas"
   ]
  },
  {
   "cell_type": "code",
   "execution_count": 272,
   "metadata": {},
   "outputs": [],
   "source": [
    "personas=pd.merge(ind_gen_2016, personas, how='left',left_on='persona_id',right_on='persona_id')"
   ]
  },
  {
   "cell_type": "code",
   "execution_count": 273,
   "metadata": {},
   "outputs": [
    {
     "data": {
      "text/plain": [
       "(65356, 38)"
      ]
     },
     "execution_count": 273,
     "metadata": {},
     "output_type": "execute_result"
    }
   ],
   "source": [
    "personas.shape"
   ]
  },
  {
   "cell_type": "code",
   "execution_count": 274,
   "metadata": {},
   "outputs": [
    {
     "data": {
      "text/plain": [
       "movilidad_posgrado_exterior                            9304\n",
       "movilidad_estancias_exterior                           9304\n",
       "produccion_cantidad_libros                             9304\n",
       "produccion_patentes_solicitadas                        9304\n",
       "produccion_patentes_otorgadas                          9304\n",
       "actividad_evaluacion_rrhh_becarios                     9304\n",
       "actividad_evaluacion_rrhh_investigadores               9304\n",
       "actividad_evaluacion_rrhh_premios                      9304\n",
       "actividad_evaluacion_comite_editorial_nacional         9304\n",
       "actividad_evaluacion_referato_nacional                 9304\n",
       "actividad_evaluacion_comite_editorial_internacional    9304\n",
       "actividad_evaluacion_referato_internacional            9304\n",
       "actividad_evaluacion_proyectos                         9304\n",
       "proyectos_direccion                                    9304\n",
       "formacion_participacion_taller                         9304\n",
       "formacion_participacion_conferencia                    9304\n",
       "produccion_publicacion_congreso                        9304\n",
       "membresia_asociaciones_cyt                             9304\n",
       "movilidad_posdoctorado_exterior                        9304\n",
       "proyectos_financiamiento_externo                       9304\n",
       "sexo                                                   9304\n",
       "prod_ultimo_año                                        9304\n",
       "prod_año_ant                                           9304\n",
       "prod_2_años_ant                                        9304\n",
       "prod_3_años_ant                                        9304\n",
       "max_grado_academico                                    9304\n",
       "gran_area_experticia                                   9304\n",
       "tipo_personal                                          9304\n",
       "condicion_docente                                      9304\n",
       "ded_horaria_docente                                    9304\n",
       "clase_cargo_docente                                    9304\n",
       "categoria_conicet                                      9304\n",
       "rango_edad                                             9304\n",
       "dtype: int64"
      ]
     },
     "execution_count": 274,
     "metadata": {},
     "output_type": "execute_result"
    }
   ],
   "source": [
    "#revisamos si se encontraron todas las personas. Hay 9304 personas que estaban en la base de ind_gen_2016 que no se\n",
    "#encontraron en la base de personas \n",
    "null_columns=personas.columns[personas.isnull().any()]\n",
    "personas[null_columns].isnull().sum()"
   ]
  },
  {
   "cell_type": "code",
   "execution_count": 275,
   "metadata": {},
   "outputs": [],
   "source": [
    "#Se eliminan\n",
    "personas=personas.dropna()"
   ]
  },
  {
   "cell_type": "code",
   "execution_count": 276,
   "metadata": {},
   "outputs": [
    {
     "data": {
      "text/plain": [
       "(56052, 38)"
      ]
     },
     "execution_count": 276,
     "metadata": {},
     "output_type": "execute_result"
    }
   ],
   "source": [
    "personas.shape"
   ]
  },
  {
   "cell_type": "code",
   "execution_count": 277,
   "metadata": {},
   "outputs": [
    {
     "data": {
      "text/plain": [
       "1    32612\n",
       "0    23440\n",
       "Name: publico_articulos, dtype: int64"
      ]
     },
     "execution_count": 277,
     "metadata": {},
     "output_type": "execute_result"
    }
   ],
   "source": [
    "personas['publico_articulos'].value_counts()"
   ]
  },
  {
   "cell_type": "code",
   "execution_count": 278,
   "metadata": {},
   "outputs": [
    {
     "data": {
      "text/plain": [
       "0    35048\n",
       "1    21004\n",
       "Name: publico_prestigio, dtype: int64"
      ]
     },
     "execution_count": 278,
     "metadata": {},
     "output_type": "execute_result"
    }
   ],
   "source": [
    "personas['publico_prestigio'].value_counts()"
   ]
  },
  {
   "cell_type": "code",
   "execution_count": 279,
   "metadata": {},
   "outputs": [],
   "source": [
    "#Se guardan 3 bases de datos\n",
    "#1. Base balanceada en función de si se publicaron artículos\n",
    "#2. Base balanceada en función de si de publicaron artículos en revistas de prestigio\n",
    "#3. Base completa para estimar la cantidad de artículos a publicar. "
   ]
  },
  {
   "cell_type": "code",
   "execution_count": 280,
   "metadata": {},
   "outputs": [],
   "source": [
    "#1.Base balanceada en función de si se publicaron artículos"
   ]
  },
  {
   "cell_type": "code",
   "execution_count": 281,
   "metadata": {},
   "outputs": [],
   "source": [
    "#no_publico_articulo=personas[personas['publico_articulos']=='0']\n",
    "#publico_articulo=personas[personas['publico_articulos']=='1'].sample(23440)\n",
    "#personas_publico_articulo=pd.concat([no_publico_articulo,publico_articulo])"
   ]
  },
  {
   "cell_type": "code",
   "execution_count": 282,
   "metadata": {},
   "outputs": [],
   "source": [
    "personas_publico_articulo=personas"
   ]
  },
  {
   "cell_type": "code",
   "execution_count": 283,
   "metadata": {},
   "outputs": [],
   "source": [
    "personas_publico_articulo.to_csv('personas_publico_articulo_2012.csv')"
   ]
  },
  {
   "cell_type": "code",
   "execution_count": 284,
   "metadata": {},
   "outputs": [],
   "source": [
    "#2.Base balanceada en función de si de publicaron artículos en revistas de prestigio"
   ]
  },
  {
   "cell_type": "code",
   "execution_count": 285,
   "metadata": {},
   "outputs": [],
   "source": [
    "publico_prestigio=personas[personas['publico_prestigio']=='1']\n",
    "no_publico_prestigio=personas[personas['publico_prestigio']=='0'].sample(21004)\n",
    "personas_publico_prestigio=pd.concat([no_publico_prestigio,publico_prestigio])"
   ]
  },
  {
   "cell_type": "code",
   "execution_count": 286,
   "metadata": {},
   "outputs": [],
   "source": [
    "personas_publico_prestigio.to_csv('personas_publico_prestigio_2012.csv')"
   ]
  },
  {
   "cell_type": "code",
   "execution_count": 287,
   "metadata": {},
   "outputs": [],
   "source": [
    "#3. Base completa para estimar la cantidad de artículos a publicar. "
   ]
  },
  {
   "cell_type": "code",
   "execution_count": 288,
   "metadata": {},
   "outputs": [],
   "source": [
    "personas.to_csv('personas_2012_2016.csv')"
   ]
  },
  {
   "cell_type": "code",
   "execution_count": 338,
   "metadata": {},
   "outputs": [
    {
     "data": {
      "text/plain": [
       "Index(['persona_id', 'publico_articulos', 'cant_articulos_prestigio',\n",
       "       'publico_prestigio', 'produccion_cantidad_articulos_total',\n",
       "       'movilidad_posgrado_exterior', 'movilidad_estancias_exterior',\n",
       "       'produccion_cantidad_libros', 'produccion_patentes_solicitadas',\n",
       "       'produccion_patentes_otorgadas', 'actividad_evaluacion_rrhh_becarios',\n",
       "       'actividad_evaluacion_rrhh_investigadores',\n",
       "       'actividad_evaluacion_rrhh_premios',\n",
       "       'actividad_evaluacion_comite_editorial_nacional',\n",
       "       'actividad_evaluacion_referato_nacional',\n",
       "       'actividad_evaluacion_comite_editorial_internacional',\n",
       "       'actividad_evaluacion_referato_internacional',\n",
       "       'actividad_evaluacion_proyectos', 'proyectos_direccion',\n",
       "       'formacion_participacion_taller', 'formacion_participacion_conferencia',\n",
       "       'produccion_publicacion_congreso', 'membresia_asociaciones_cyt',\n",
       "       'movilidad_posdoctorado_exterior', 'proyectos_financiamiento_externo',\n",
       "       'sexo', 'prod_ultimo_año', 'prod_año_ant', 'prod_2_años_ant',\n",
       "       'prod_3_años_ant', 'max_grado_academico', 'gran_area_experticia',\n",
       "       'tipo_personal', 'condicion_docente', 'ded_horaria_docente',\n",
       "       'clase_cargo_docente', 'categoria_conicet', 'rango_edad'],\n",
       "      dtype='object')"
      ]
     },
     "execution_count": 338,
     "metadata": {},
     "output_type": "execute_result"
    }
   ],
   "source": [
    "personas.columns"
   ]
  },
  {
   "cell_type": "markdown",
   "metadata": {},
   "source": [
    "#### 11. Análisis de datos de la tabla final"
   ]
  },
  {
   "cell_type": "code",
   "execution_count": 289,
   "metadata": {},
   "outputs": [
    {
     "name": "stdout",
     "output_type": "stream",
     "text": [
      "Cant. artículos publicados:  173411\n",
      "Cant. artículos publicados en revistas de prestigio:  105783\n",
      "Personas que publicaron en prestigio:\n",
      " 0    35048\n",
      "1    21004\n",
      "Name: publico_prestigio, dtype: int64\n",
      "Personas que publicaron artículos:\n",
      " 1    32612\n",
      "0    23440\n",
      "Name: publico_articulos, dtype: int64\n"
     ]
    }
   ],
   "source": [
    "print('Cant. artículos publicados: ',personas['produccion_cantidad_articulos_total'].sum())\n",
    "print('Cant. artículos publicados en revistas de prestigio: ',personas['cant_articulos_prestigio'].sum())\n",
    "print('Personas que publicaron en prestigio:\\n',(personas['publico_prestigio']).value_counts())\n",
    "print('Personas que publicaron artículos:\\n',personas['publico_articulos'].value_counts())"
   ]
  },
  {
   "cell_type": "markdown",
   "metadata": {},
   "source": [
    "#### 12. Análisis exploratorio"
   ]
  },
  {
   "cell_type": "code",
   "execution_count": 290,
   "metadata": {},
   "outputs": [
    {
     "data": {
      "text/plain": [
       "(-1, 9)"
      ]
     },
     "execution_count": 290,
     "metadata": {},
     "output_type": "execute_result"
    },
    {
     "data": {
      "image/png": "[encoded data removed]",
      "text/plain": [
       "<Figure size 432x288 with 1 Axes>"
      ]
     },
     "metadata": {},
     "output_type": "display_data"
    }
   ],
   "source": [
    "sns.boxplot(data=personas,y='cant_articulos_prestigio',x='movilidad_posgrado_exterior')\n",
    "\n",
    "plt.ylim(-1,9)"
   ]
  },
  {
   "cell_type": "code",
   "execution_count": 291,
   "metadata": {},
   "outputs": [
    {
     "data": {
      "text/plain": [
       "(-1, 20)"
      ]
     },
     "execution_count": 291,
     "metadata": {},
     "output_type": "execute_result"
    },
    {
     "data": {
      "image/png": "[encoded data removed]",
      "text/plain": [
       "<Figure size 432x288 with 1 Axes>"
      ]
     },
     "metadata": {},
     "output_type": "display_data"
    }
   ],
   "source": [
    "\n",
    "sns.boxplot(data=personas,y='cant_articulos_prestigio',x='movilidad_estancias_exterior')\n",
    "\n",
    "plt.ylim(-1,20)"
   ]
  },
  {
   "cell_type": "code",
   "execution_count": 292,
   "metadata": {},
   "outputs": [
    {
     "data": {
      "text/plain": [
       "(-5, 25)"
      ]
     },
     "execution_count": 292,
     "metadata": {},
     "output_type": "execute_result"
    },
    {
     "data": {
      "image/png": "[encoded data removed]",
      "text/plain": [
       "<Figure size 432x288 with 1 Axes>"
      ]
     },
     "metadata": {},
     "output_type": "display_data"
    }
   ],
   "source": [
    "\n",
    "\n",
    "sns.boxplot(data=personas,y='cant_articulos_prestigio',x='produccion_patentes_otorgadas')\n",
    "\n",
    "plt.ylim(-5,25)"
   ]
  },
  {
   "cell_type": "code",
   "execution_count": 293,
   "metadata": {},
   "outputs": [
    {
     "data": {
      "text/plain": [
       "(-2, 50)"
      ]
     },
     "execution_count": 293,
     "metadata": {},
     "output_type": "execute_result"
    },
    {
     "data": {
      "image/png": "[encoded data removed]",
      "text/plain": [
       "<Figure size 1440x720 with 1 Axes>"
      ]
     },
     "metadata": {},
     "output_type": "display_data"
    }
   ],
   "source": [
    "plt.figure(figsize=(20,10))\n",
    "\n",
    "sns.boxplot(data=personas,y='cant_articulos_prestigio',x='produccion_cantidad_libros')\n",
    "\n",
    "plt.ylim(-2,50)"
   ]
  },
  {
   "cell_type": "code",
   "execution_count": 294,
   "metadata": {},
   "outputs": [
    {
     "data": {
      "text/plain": [
       "(-5, 25)"
      ]
     },
     "execution_count": 294,
     "metadata": {},
     "output_type": "execute_result"
    },
    {
     "data": {
      "image/png": "[encoded data removed]",
      "text/plain": [
       "<Figure size 1440x720 with 1 Axes>"
      ]
     },
     "metadata": {},
     "output_type": "display_data"
    }
   ],
   "source": [
    "plt.figure(figsize=(20,10))\n",
    "\n",
    "\n",
    "\n",
    "sns.boxplot(data=personas,y='cant_articulos_prestigio',x='ded_horaria_docente')\n",
    "\n",
    "plt.ylim(-5,25)"
   ]
  },
  {
   "cell_type": "code",
   "execution_count": 295,
   "metadata": {},
   "outputs": [
    {
     "data": {
      "text/plain": [
       "(-2, 25)"
      ]
     },
     "execution_count": 295,
     "metadata": {},
     "output_type": "execute_result"
    },
    {
     "data": {
      "image/png": "[encoded data removed]",
      "text/plain": [
       "<Figure size 1440x720 with 1 Axes>"
      ]
     },
     "metadata": {},
     "output_type": "display_data"
    }
   ],
   "source": [
    "\n",
    "\n",
    "plt.figure(figsize=(20,10))\n",
    "\n",
    "\n",
    "\n",
    "sns.boxplot(data=personas,y='cant_articulos_prestigio',x='proyectos_financiamiento_externo')\n",
    "\n",
    "plt.ylim(-2,25)"
   ]
  },
  {
   "cell_type": "code",
   "execution_count": 296,
   "metadata": {},
   "outputs": [
    {
     "data": {
      "text/html": [
       "<div>\n",
       "<style scoped>\n",
       "    .dataframe tbody tr th:only-of-type {\n",
       "        vertical-align: middle;\n",
       "    }\n",
       "\n",
       "    .dataframe tbody tr th {\n",
       "        vertical-align: top;\n",
       "    }\n",
       "\n",
       "    .dataframe thead tr th {\n",
       "        text-align: left;\n",
       "    }\n",
       "\n",
       "    .dataframe thead tr:last-of-type th {\n",
       "        text-align: right;\n",
       "    }\n",
       "</style>\n",
       "<table border=\"1\" class=\"dataframe\">\n",
       "  <thead>\n",
       "    <tr>\n",
       "      <th></th>\n",
       "      <th></th>\n",
       "      <th colspan=\"4\" halign=\"left\">cant_articulos_prestigio</th>\n",
       "      <th colspan=\"3\" halign=\"left\">produccion_cantidad_articulos_total</th>\n",
       "    </tr>\n",
       "    <tr>\n",
       "      <th></th>\n",
       "      <th></th>\n",
       "      <th>count</th>\n",
       "      <th>mean</th>\n",
       "      <th>median</th>\n",
       "      <th>sum</th>\n",
       "      <th>mean</th>\n",
       "      <th>median</th>\n",
       "      <th>sum</th>\n",
       "    </tr>\n",
       "    <tr>\n",
       "      <th>sexo</th>\n",
       "      <th>proyectos_direccion</th>\n",
       "      <th></th>\n",
       "      <th></th>\n",
       "      <th></th>\n",
       "      <th></th>\n",
       "      <th></th>\n",
       "      <th></th>\n",
       "      <th></th>\n",
       "    </tr>\n",
       "  </thead>\n",
       "  <tbody>\n",
       "    <tr>\n",
       "      <th rowspan=\"2\" valign=\"top\">F</th>\n",
       "      <th>0.0</th>\n",
       "      <td>32101.0</td>\n",
       "      <td>1.540949</td>\n",
       "      <td>0.0</td>\n",
       "      <td>49466.0</td>\n",
       "      <td>2.699822</td>\n",
       "      <td>1.0</td>\n",
       "      <td>86667.0</td>\n",
       "    </tr>\n",
       "    <tr>\n",
       "      <th>1.0</th>\n",
       "      <td>535.0</td>\n",
       "      <td>9.188785</td>\n",
       "      <td>7.0</td>\n",
       "      <td>4916.0</td>\n",
       "      <td>11.037383</td>\n",
       "      <td>9.0</td>\n",
       "      <td>5905.0</td>\n",
       "    </tr>\n",
       "    <tr>\n",
       "      <th rowspan=\"2\" valign=\"top\">M</th>\n",
       "      <th>0.0</th>\n",
       "      <td>22790.0</td>\n",
       "      <td>1.924309</td>\n",
       "      <td>0.0</td>\n",
       "      <td>43855.0</td>\n",
       "      <td>3.156999</td>\n",
       "      <td>1.0</td>\n",
       "      <td>71948.0</td>\n",
       "    </tr>\n",
       "    <tr>\n",
       "      <th>1.0</th>\n",
       "      <td>626.0</td>\n",
       "      <td>12.054313</td>\n",
       "      <td>9.0</td>\n",
       "      <td>7546.0</td>\n",
       "      <td>14.202875</td>\n",
       "      <td>11.0</td>\n",
       "      <td>8891.0</td>\n",
       "    </tr>\n",
       "  </tbody>\n",
       "</table>\n",
       "</div>"
      ],
      "text/plain": [
       "                         cant_articulos_prestigio                             \\\n",
       "                                            count       mean median      sum   \n",
       "sexo proyectos_direccion                                                       \n",
       "F    0.0                                  32101.0   1.540949    0.0  49466.0   \n",
       "     1.0                                    535.0   9.188785    7.0   4916.0   \n",
       "M    0.0                                  22790.0   1.924309    0.0  43855.0   \n",
       "     1.0                                    626.0  12.054313    9.0   7546.0   \n",
       "\n",
       "                         produccion_cantidad_articulos_total                  \n",
       "                                                        mean median      sum  \n",
       "sexo proyectos_direccion                                                      \n",
       "F    0.0                                            2.699822    1.0  86667.0  \n",
       "     1.0                                           11.037383    9.0   5905.0  \n",
       "M    0.0                                            3.156999    1.0  71948.0  \n",
       "     1.0                                           14.202875   11.0   8891.0  "
      ]
     },
     "execution_count": 296,
     "metadata": {},
     "output_type": "execute_result"
    }
   ],
   "source": [
    "personas.pivot_table(['cant_articulos_prestigio','produccion_cantidad_articulos_total'],['sexo','proyectos_direccion'],aggfunc={'cant_articulos_prestigio':['count','sum','median','mean'],\n",
    "                                                                                                                                'produccion_cantidad_articulos_total':['sum','median','mean']})"
   ]
  },
  {
   "cell_type": "code",
   "execution_count": 297,
   "metadata": {},
   "outputs": [
    {
     "data": {
      "text/plain": [
       "Index(['persona_id', 'publico_articulos', 'cant_articulos_prestigio',\n",
       "       'publico_prestigio', 'produccion_cantidad_articulos_total',\n",
       "       'movilidad_posgrado_exterior', 'movilidad_estancias_exterior',\n",
       "       'produccion_cantidad_libros', 'produccion_patentes_solicitadas',\n",
       "       'produccion_patentes_otorgadas', 'actividad_evaluacion_rrhh_becarios',\n",
       "       'actividad_evaluacion_rrhh_investigadores',\n",
       "       'actividad_evaluacion_rrhh_premios',\n",
       "       'actividad_evaluacion_comite_editorial_nacional',\n",
       "       'actividad_evaluacion_referato_nacional',\n",
       "       'actividad_evaluacion_comite_editorial_internacional',\n",
       "       'actividad_evaluacion_referato_internacional',\n",
       "       'actividad_evaluacion_proyectos', 'proyectos_direccion',\n",
       "       'formacion_participacion_taller', 'formacion_participacion_conferencia',\n",
       "       'produccion_publicacion_congreso', 'membresia_asociaciones_cyt',\n",
       "       'movilidad_posdoctorado_exterior', 'proyectos_financiamiento_externo',\n",
       "       'sexo', 'prod_ultimo_año', 'prod_año_ant', 'prod_2_años_ant',\n",
       "       'prod_3_años_ant', 'max_grado_academico', 'gran_area_experticia',\n",
       "       'tipo_personal', 'condicion_docente', 'ded_horaria_docente',\n",
       "       'clase_cargo_docente', 'categoria_conicet', 'rango_edad'],\n",
       "      dtype='object')"
      ]
     },
     "execution_count": 297,
     "metadata": {},
     "output_type": "execute_result"
    }
   ],
   "source": [
    "personas.columns"
   ]
  },
  {
   "cell_type": "code",
   "execution_count": 298,
   "metadata": {},
   "outputs": [
    {
     "data": {
      "text/plain": [
       "(-1, 30)"
      ]
     },
     "execution_count": 298,
     "metadata": {},
     "output_type": "execute_result"
    },
    {
     "data": {
      "image/png": "[encoded data removed]",
      "text/plain": [
       "<Figure size 432x288 with 1 Axes>"
      ]
     },
     "metadata": {},
     "output_type": "display_data"
    }
   ],
   "source": [
    "sns.violinplot(data=personas,y='cant_articulos_prestigio',hue='sexo',x='proyectos_direccion',split=True)\n",
    "\n",
    "plt.ylim(-1,30)"
   ]
  },
  {
   "cell_type": "code",
   "execution_count": 299,
   "metadata": {},
   "outputs": [
    {
     "data": {
      "text/plain": [
       "(-2, 40)"
      ]
     },
     "execution_count": 299,
     "metadata": {},
     "output_type": "execute_result"
    },
    {
     "data": {
      "image/png": "[encoded data removed]",
      "text/plain": [
       "<Figure size 1440x2160 with 1 Axes>"
      ]
     },
     "metadata": {},
     "output_type": "display_data"
    }
   ],
   "source": [
    "plt.figure(figsize=(20,30))\n",
    "\n",
    "\n",
    "\n",
    "sns.boxplot(data=personas,y='cant_articulos_prestigio',x='proyectos_direccion')\n",
    "\n",
    "plt.ylim(-2,40)"
   ]
  },
  {
   "cell_type": "code",
   "execution_count": 300,
   "metadata": {},
   "outputs": [
    {
     "data": {
      "text/plain": [
       "(-2, 40)"
      ]
     },
     "execution_count": 300,
     "metadata": {},
     "output_type": "execute_result"
    },
    {
     "data": {
      "image/png": "[encoded data removed]",
      "text/plain": [
       "<Figure size 2160x2160 with 1 Axes>"
      ]
     },
     "metadata": {},
     "output_type": "display_data"
    }
   ],
   "source": [
    "plt.figure(figsize=(30,30))\n",
    "\n",
    "\n",
    "sns.boxplot(data=personas,y='cant_articulos_prestigio',x='gran_area_experticia')\n",
    "\n",
    "plt.ylim(-2,40)"
   ]
  }
 ],
 "metadata": {
  "kernelspec": {
   "display_name": "Python 3",
   "language": "python",
   "name": "python3"
  },
  "language_info": {
   "codemirror_mode": {
    "name": "ipython",
    "version": 3
   },
   "file_extension": ".py",
   "mimetype": "text/x-python",
   "name": "python",
   "nbconvert_exporter": "python",
   "pygments_lexer": "ipython3",
   "version": "3.6.8"
  }
 },
 "nbformat": 4,
 "nbformat_minor": 2
}
