{
 "cells": [
  {
   "cell_type": "markdown",
   "metadata": {},
   "source": [
    "### Desafío Integrador\n",
    "#### Análisis de las producciones del personal de Ciencia y Tecnología"
   ]
  },
  {
   "cell_type": "markdown",
   "metadata": {},
   "source": [
    "### Etapa 3: Desarrollo de un modelo para determinar si las personas harán publicaciones en general"
   ]
  },
  {
   "cell_type": "markdown",
   "metadata": {},
   "source": [
    "#### 1. Lectura e interpretación de la tabla"
   ]
  },
  {
   "cell_type": "code",
   "execution_count": 1,
   "metadata": {},
   "outputs": [],
   "source": [
    "#Se importa la funcionalidad necesaria\n",
    "import pandas as pd\n",
    "import numpy as np\n",
    "from sklearn.neighbors import KNeighborsClassifier\n",
    "from sklearn.model_selection import cross_val_score, train_test_split\n",
    "%matplotlib inline\n",
    "import matplotlib.pyplot as plt\n",
    "import seaborn as sns\n",
    "import warnings\n",
    "warnings.filterwarnings('ignore')\n",
    "from sklearn.model_selection import GridSearchCV,RandomizedSearchCV\n",
    "from sklearn.metrics import confusion_matrix,roc_curve,auc,roc_auc_score\n",
    "from sklearn.metrics import precision_score, recall_score,accuracy_score\n",
    "from sklearn.linear_model  import LogisticRegression\n",
    "from sklearn.preprocessing import StandardScaler\n",
    "scaler = StandardScaler()\n",
    "from sklearn.linear_model import LinearRegression\n",
    "from sklearn import metrics\n",
    "from sklearn import datasets, linear_model\n",
    "from sklearn.model_selection import train_test_split, KFold, cross_val_score\n",
    "from sklearn.linear_model import LinearRegression, Lasso, LassoCV, Ridge, RidgeCV\n",
    "import statsmodels.api as sm\n",
    "from sklearn.metrics import mean_squared_error, r2_score\n",
    "\n"
   ]
  },
  {
   "cell_type": "code",
   "execution_count": 2,
   "metadata": {},
   "outputs": [
    {
     "data": {
      "text/html": [
       "<div>\n",
       "<style scoped>\n",
       "    .dataframe tbody tr th:only-of-type {\n",
       "        vertical-align: middle;\n",
       "    }\n",
       "\n",
       "    .dataframe tbody tr th {\n",
       "        vertical-align: top;\n",
       "    }\n",
       "\n",
       "    .dataframe thead th {\n",
       "        text-align: right;\n",
       "    }\n",
       "</style>\n",
       "<table border=\"1\" class=\"dataframe\">\n",
       "  <thead>\n",
       "    <tr style=\"text-align: right;\">\n",
       "      <th></th>\n",
       "      <th>Unnamed: 0</th>\n",
       "      <th>actividad_evaluacion_comite_editorial_internacional</th>\n",
       "      <th>actividad_evaluacion_comite_editorial_nacional</th>\n",
       "      <th>actividad_evaluacion_proyectos</th>\n",
       "      <th>actividad_evaluacion_referato_internacional</th>\n",
       "      <th>actividad_evaluacion_referato_nacional</th>\n",
       "      <th>actividad_evaluacion_rrhh_becarios</th>\n",
       "      <th>actividad_evaluacion_rrhh_investigadores</th>\n",
       "      <th>actividad_evaluacion_rrhh_premios</th>\n",
       "      <th>formacion_participacion_conferencia</th>\n",
       "      <th>...</th>\n",
       "      <th>prod_2_años_ant</th>\n",
       "      <th>prod_3_años_ant</th>\n",
       "      <th>max_grado_academico</th>\n",
       "      <th>gran_area_experticia</th>\n",
       "      <th>tipo_personal</th>\n",
       "      <th>condicion_docente</th>\n",
       "      <th>ded_horaria_docente</th>\n",
       "      <th>clase_cargo_docente</th>\n",
       "      <th>categoria_conicet</th>\n",
       "      <th>rango_edad</th>\n",
       "    </tr>\n",
       "  </thead>\n",
       "  <tbody>\n",
       "    <tr>\n",
       "      <th>0</th>\n",
       "      <td>8</td>\n",
       "      <td>0</td>\n",
       "      <td>0</td>\n",
       "      <td>0</td>\n",
       "      <td>0</td>\n",
       "      <td>0</td>\n",
       "      <td>0</td>\n",
       "      <td>0</td>\n",
       "      <td>0</td>\n",
       "      <td>0</td>\n",
       "      <td>...</td>\n",
       "      <td>0.0</td>\n",
       "      <td>1.0</td>\n",
       "      <td>Universitario de posgrado/maestría</td>\n",
       "      <td>CIENCIAS MÉDICAS Y DE LA SALUD</td>\n",
       "      <td>INVESTIGADOR</td>\n",
       "      <td>Interino</td>\n",
       "      <td>De 0 hasta 19 horas</td>\n",
       "      <td>Profesor adjunto</td>\n",
       "      <td>No pertenece a Conicet</td>\n",
       "      <td>(50, 60]</td>\n",
       "    </tr>\n",
       "    <tr>\n",
       "      <th>1</th>\n",
       "      <td>9</td>\n",
       "      <td>0</td>\n",
       "      <td>0</td>\n",
       "      <td>0</td>\n",
       "      <td>1</td>\n",
       "      <td>0</td>\n",
       "      <td>0</td>\n",
       "      <td>0</td>\n",
       "      <td>0</td>\n",
       "      <td>0</td>\n",
       "      <td>...</td>\n",
       "      <td>1.0</td>\n",
       "      <td>0.0</td>\n",
       "      <td>Universitario de posgrado/doctorado</td>\n",
       "      <td>CIENCIAS NATURALES Y EXACTAS</td>\n",
       "      <td>INVESTIGADOR</td>\n",
       "      <td>Regular o por concurso</td>\n",
       "      <td>40 horas o más</td>\n",
       "      <td>Profesor adjunto</td>\n",
       "      <td>Investigador independiente</td>\n",
       "      <td>(50, 60]</td>\n",
       "    </tr>\n",
       "    <tr>\n",
       "      <th>2</th>\n",
       "      <td>16</td>\n",
       "      <td>0</td>\n",
       "      <td>0</td>\n",
       "      <td>0</td>\n",
       "      <td>0</td>\n",
       "      <td>0</td>\n",
       "      <td>0</td>\n",
       "      <td>0</td>\n",
       "      <td>0</td>\n",
       "      <td>0</td>\n",
       "      <td>...</td>\n",
       "      <td>0.0</td>\n",
       "      <td>0.0</td>\n",
       "      <td>Universitario de grado</td>\n",
       "      <td>CIENCIAS NATURALES Y EXACTAS</td>\n",
       "      <td>OTRO PERSONAL DE LA INSTITUCION</td>\n",
       "      <td>no docente</td>\n",
       "      <td>0</td>\n",
       "      <td>no docente</td>\n",
       "      <td>No pertenece a Conicet</td>\n",
       "      <td>(50, 60]</td>\n",
       "    </tr>\n",
       "    <tr>\n",
       "      <th>3</th>\n",
       "      <td>27</td>\n",
       "      <td>0</td>\n",
       "      <td>0</td>\n",
       "      <td>1</td>\n",
       "      <td>0</td>\n",
       "      <td>0</td>\n",
       "      <td>1</td>\n",
       "      <td>1</td>\n",
       "      <td>0</td>\n",
       "      <td>0</td>\n",
       "      <td>...</td>\n",
       "      <td>4.0</td>\n",
       "      <td>2.0</td>\n",
       "      <td>Universitario de posgrado/maestría</td>\n",
       "      <td>CIENCIAS SOCIALES</td>\n",
       "      <td>INVESTIGADOR</td>\n",
       "      <td>Regular o por concurso</td>\n",
       "      <td>De 0 hasta 19 horas</td>\n",
       "      <td>Ayudante de segunda</td>\n",
       "      <td>No pertenece a Conicet</td>\n",
       "      <td>(30, 40]</td>\n",
       "    </tr>\n",
       "    <tr>\n",
       "      <th>4</th>\n",
       "      <td>28</td>\n",
       "      <td>0</td>\n",
       "      <td>0</td>\n",
       "      <td>0</td>\n",
       "      <td>0</td>\n",
       "      <td>0</td>\n",
       "      <td>0</td>\n",
       "      <td>0</td>\n",
       "      <td>0</td>\n",
       "      <td>0</td>\n",
       "      <td>...</td>\n",
       "      <td>1.0</td>\n",
       "      <td>0.0</td>\n",
       "      <td>Universitario de grado</td>\n",
       "      <td>CIENCIAS NATURALES Y EXACTAS</td>\n",
       "      <td>OTRO PERSONAL DE LA INSTITUCION</td>\n",
       "      <td>no docente</td>\n",
       "      <td>0</td>\n",
       "      <td>no docente</td>\n",
       "      <td>No pertenece a Conicet</td>\n",
       "      <td>(30, 40]</td>\n",
       "    </tr>\n",
       "  </tbody>\n",
       "</table>\n",
       "<p>5 rows × 39 columns</p>\n",
       "</div>"
      ],
      "text/plain": [
       "   Unnamed: 0  actividad_evaluacion_comite_editorial_internacional  \\\n",
       "0           8                                                  0     \n",
       "1           9                                                  0     \n",
       "2          16                                                  0     \n",
       "3          27                                                  0     \n",
       "4          28                                                  0     \n",
       "\n",
       "   actividad_evaluacion_comite_editorial_nacional  \\\n",
       "0                                               0   \n",
       "1                                               0   \n",
       "2                                               0   \n",
       "3                                               0   \n",
       "4                                               0   \n",
       "\n",
       "   actividad_evaluacion_proyectos  \\\n",
       "0                               0   \n",
       "1                               0   \n",
       "2                               0   \n",
       "3                               1   \n",
       "4                               0   \n",
       "\n",
       "   actividad_evaluacion_referato_internacional  \\\n",
       "0                                            0   \n",
       "1                                            1   \n",
       "2                                            0   \n",
       "3                                            0   \n",
       "4                                            0   \n",
       "\n",
       "   actividad_evaluacion_referato_nacional  actividad_evaluacion_rrhh_becarios  \\\n",
       "0                                       0                                   0   \n",
       "1                                       0                                   0   \n",
       "2                                       0                                   0   \n",
       "3                                       0                                   1   \n",
       "4                                       0                                   0   \n",
       "\n",
       "   actividad_evaluacion_rrhh_investigadores  \\\n",
       "0                                         0   \n",
       "1                                         0   \n",
       "2                                         0   \n",
       "3                                         1   \n",
       "4                                         0   \n",
       "\n",
       "   actividad_evaluacion_rrhh_premios  formacion_participacion_conferencia  \\\n",
       "0                                  0                                    0   \n",
       "1                                  0                                    0   \n",
       "2                                  0                                    0   \n",
       "3                                  0                                    0   \n",
       "4                                  0                                    0   \n",
       "\n",
       "      ...      prod_2_años_ant  prod_3_años_ant  \\\n",
       "0     ...                  0.0              1.0   \n",
       "1     ...                  1.0              0.0   \n",
       "2     ...                  0.0              0.0   \n",
       "3     ...                  4.0              2.0   \n",
       "4     ...                  1.0              0.0   \n",
       "\n",
       "                   max_grado_academico            gran_area_experticia  \\\n",
       "0   Universitario de posgrado/maestría  CIENCIAS MÉDICAS Y DE LA SALUD   \n",
       "1  Universitario de posgrado/doctorado    CIENCIAS NATURALES Y EXACTAS   \n",
       "2               Universitario de grado    CIENCIAS NATURALES Y EXACTAS   \n",
       "3   Universitario de posgrado/maestría               CIENCIAS SOCIALES   \n",
       "4               Universitario de grado    CIENCIAS NATURALES Y EXACTAS   \n",
       "\n",
       "                     tipo_personal       condicion_docente  \\\n",
       "0                     INVESTIGADOR                Interino   \n",
       "1                     INVESTIGADOR  Regular o por concurso   \n",
       "2  OTRO PERSONAL DE LA INSTITUCION              no docente   \n",
       "3                     INVESTIGADOR  Regular o por concurso   \n",
       "4  OTRO PERSONAL DE LA INSTITUCION              no docente   \n",
       "\n",
       "   ded_horaria_docente  clase_cargo_docente           categoria_conicet  \\\n",
       "0  De 0 hasta 19 horas     Profesor adjunto      No pertenece a Conicet   \n",
       "1       40 horas o más     Profesor adjunto  Investigador independiente   \n",
       "2                    0           no docente      No pertenece a Conicet   \n",
       "3  De 0 hasta 19 horas  Ayudante de segunda      No pertenece a Conicet   \n",
       "4                    0           no docente      No pertenece a Conicet   \n",
       "\n",
       "   rango_edad  \n",
       "0    (50, 60]  \n",
       "1    (50, 60]  \n",
       "2    (50, 60]  \n",
       "3    (30, 40]  \n",
       "4    (30, 40]  \n",
       "\n",
       "[5 rows x 39 columns]"
      ]
     },
     "execution_count": 2,
     "metadata": {},
     "output_type": "execute_result"
    }
   ],
   "source": [
    "#Lectura del archivo\n",
    "df=pd.read_csv('personas_publico_articulo.csv')\n",
    "df_original=df\n",
    "df.head()"
   ]
  },
  {
   "cell_type": "code",
   "execution_count": 3,
   "metadata": {},
   "outputs": [],
   "source": [
    "df.drop(columns='Unnamed: 0',inplace=True)"
   ]
  },
  {
   "cell_type": "markdown",
   "metadata": {},
   "source": [
    "#### 2. Generación de dummies"
   ]
  },
  {
   "cell_type": "code",
   "execution_count": 4,
   "metadata": {},
   "outputs": [],
   "source": [
    "#Se generan dummies para sexo \n",
    "df_dummies = pd.get_dummies(df['sexo'], prefix='sexo',drop_first=True)\n",
    "df=pd.concat([df,df_dummies], axis=1)\n",
    "df.drop(columns='sexo',inplace=True)"
   ]
  },
  {
   "cell_type": "code",
   "execution_count": 5,
   "metadata": {},
   "outputs": [],
   "source": [
    "#Se generan dummies para rango_edad \n",
    "df_dummies = pd.get_dummies(df['rango_edad'], prefix='edad',drop_first=True)\n",
    "df=pd.concat([df,df_dummies], axis=1)\n",
    "df.drop(columns='rango_edad',inplace=True)"
   ]
  },
  {
   "cell_type": "code",
   "execution_count": 6,
   "metadata": {},
   "outputs": [],
   "source": [
    "#Se generan dummies para tipo_personal\n",
    "df_dummies = pd.get_dummies(df['tipo_personal'], prefix='t_personal',drop_first=True)\n",
    "df=pd.concat([df,df_dummies], axis=1)\n",
    "df.drop(columns='tipo_personal',inplace=True)"
   ]
  },
  {
   "cell_type": "code",
   "execution_count": 7,
   "metadata": {},
   "outputs": [],
   "source": [
    "#Se generan dummies para condicion_docente\n",
    "df_dummies = pd.get_dummies(df['condicion_docente'], prefix='cond_docente',drop_first=True)\n",
    "df=pd.concat([df,df_dummies], axis=1)\n",
    "df.drop(columns='condicion_docente',inplace=True)"
   ]
  },
  {
   "cell_type": "code",
   "execution_count": 8,
   "metadata": {},
   "outputs": [],
   "source": [
    "#Se generan dummies para ded_horaria_docente\n",
    "df_dummies = pd.get_dummies(df['ded_horaria_docente'], prefix='ded_horaria',drop_first=True)\n",
    "df=pd.concat([df,df_dummies], axis=1)\n",
    "df.drop(columns='ded_horaria_docente',inplace=True)"
   ]
  },
  {
   "cell_type": "code",
   "execution_count": 9,
   "metadata": {},
   "outputs": [],
   "source": [
    "#Se generan dummies para max_grado_academico\n",
    "df_dummies = pd.get_dummies(df['max_grado_academico'], prefix='grado_acad',drop_first=True)\n",
    "df=pd.concat([df,df_dummies], axis=1)\n",
    "df.drop(columns='max_grado_academico',inplace=True)"
   ]
  },
  {
   "cell_type": "code",
   "execution_count": 10,
   "metadata": {},
   "outputs": [],
   "source": [
    "#Se generan dummies para categoria_conicet\n",
    "df_dummies = pd.get_dummies(df['categoria_conicet'], prefix='cat_conicet',drop_first=True)\n",
    "df=pd.concat([df,df_dummies], axis=1)\n",
    "df.drop(columns='categoria_conicet',inplace=True)"
   ]
  },
  {
   "cell_type": "code",
   "execution_count": 11,
   "metadata": {},
   "outputs": [],
   "source": [
    "#Se generan dummies para clase_cargo_docente\n",
    "df_dummies = pd.get_dummies(df['clase_cargo_docente'], prefix='clase_cargo_docente',drop_first=True)\n",
    "df=pd.concat([df,df_dummies], axis=1)\n",
    "df.drop(columns='clase_cargo_docente',inplace=True)"
   ]
  },
  {
   "cell_type": "code",
   "execution_count": 12,
   "metadata": {},
   "outputs": [],
   "source": [
    "#Se prueba un primer modelo tomando de las opciones de área la más abarcativa (gran area experticia)\n",
    "#Se generan dummies para 'gran_area_experticia'\n",
    "df_dummies = pd.get_dummies(df['gran_area_experticia'], prefix='area_exp',drop_first=True)\n",
    "df=pd.concat([df,df_dummies], axis=1)\n",
    "df.drop(columns='gran_area_experticia',inplace=True)"
   ]
  },
  {
   "cell_type": "code",
   "execution_count": 13,
   "metadata": {},
   "outputs": [
    {
     "name": "stdout",
     "output_type": "stream",
     "text": [
      "actividad_evaluacion_comite_editorial_internacional\n",
      "actividad_evaluacion_comite_editorial_nacional\n",
      "actividad_evaluacion_proyectos\n",
      "actividad_evaluacion_referato_internacional\n",
      "actividad_evaluacion_referato_nacional\n",
      "actividad_evaluacion_rrhh_becarios\n",
      "actividad_evaluacion_rrhh_investigadores\n",
      "actividad_evaluacion_rrhh_premios\n",
      "formacion_participacion_conferencia\n",
      "formacion_participacion_taller\n",
      "membresia_asociaciones_cyt\n",
      "movilidad_estancias_exterior\n",
      "movilidad_posdoctorado_exterior\n",
      "movilidad_posgrado_exterior\n",
      "persona_id\n",
      "produccion_cantidad_articulos_total\n",
      "produccion_cantidad_libros\n",
      "produccion_patentes_otorgadas\n",
      "produccion_patentes_solicitadas\n",
      "produccion_publicacion_congreso\n",
      "proyectos_direccion\n",
      "proyectos_financiamiento_externo\n",
      "publico_articulos\n",
      "cant_articulos_prestigio\n",
      "publico_prestigio\n",
      "prod_ultimo_año\n",
      "prod_año_ant\n",
      "prod_2_años_ant\n",
      "prod_3_años_ant\n",
      "sexo_M\n",
      "edad_(20, 30]\n",
      "edad_(30, 40]\n",
      "edad_(40, 50]\n",
      "edad_(50, 60]\n",
      "edad_(60, 70]\n",
      "edad_(70, 80]\n",
      "edad_(80, 90]\n",
      "t_personal_DOCENTE\n",
      "t_personal_INVESTIGADOR\n",
      "t_personal_OTRO PERSONAL DE LA INSTITUCION\n",
      "cond_docente_Por contrato\n",
      "cond_docente_Regular o por concurso\n",
      "cond_docente_no docente\n",
      "ded_horaria_40 horas o más\n",
      "ded_horaria_De 0 hasta 19 horas\n",
      "ded_horaria_De 20 hasta 39 horas\n",
      "grado_acad_Medio\n",
      "grado_acad_Terciario no universitario\n",
      "grado_acad_Universitario de grado\n",
      "grado_acad_Universitario de posgrado/doctorado\n",
      "grado_acad_Universitario de posgrado/especialización\n",
      "grado_acad_Universitario de posgrado/maestría\n",
      "cat_conicet_Becario postdoctoral\n",
      "cat_conicet_Gestión CyT\n",
      "cat_conicet_Investigador adjunto\n",
      "cat_conicet_Investigador asistente\n",
      "cat_conicet_Investigador independiente\n",
      "cat_conicet_Investigador principal\n",
      "cat_conicet_Investigador superior\n",
      "cat_conicet_No pertenece a Conicet\n",
      "cat_conicet_Otro personal Conicet\n",
      "cat_conicet_Personal de apoyo\n",
      "clase_cargo_docente_Asistente de primera\n",
      "clase_cargo_docente_Asistente de segunda\n",
      "clase_cargo_docente_Asistente docente\n",
      "clase_cargo_docente_Asistente nivel D-1\n",
      "clase_cargo_docente_Asistente nivel D-2\n",
      "clase_cargo_docente_Asistente nivel D-3\n",
      "clase_cargo_docente_Asistente principal\n",
      "clase_cargo_docente_Auxiliar académico\n",
      "clase_cargo_docente_Auxiliar de primera categoría\n",
      "clase_cargo_docente_Auxiliar de segunda categoría\n",
      "clase_cargo_docente_Auxiliar docente\n",
      "clase_cargo_docente_Auxiliar docente adscripto\n",
      "clase_cargo_docente_Auxiliar docente de primera categoría\n",
      "clase_cargo_docente_Auxiliar docente de segunda categoría\n",
      "clase_cargo_docente_Auxiliar docente graduado\n",
      "clase_cargo_docente_Auxiliares de primera categoría\n",
      "clase_cargo_docente_Auxiliares de segunda categoría\n",
      "clase_cargo_docente_Ayudante Docente A\n",
      "clase_cargo_docente_Ayudante Docente B\n",
      "clase_cargo_docente_Ayudante adscripto\n",
      "clase_cargo_docente_Ayudante alumno\n",
      "clase_cargo_docente_Ayudante de cátedra\n",
      "clase_cargo_docente_Ayudante de docencia\n",
      "clase_cargo_docente_Ayudante de primera\n",
      "clase_cargo_docente_Ayudante de segunda\n",
      "clase_cargo_docente_Ayudante de trabajos prácticos de primera\n",
      "clase_cargo_docente_Ayudante de trabajos prácticos de segunda\n",
      "clase_cargo_docente_Ayudante diplomado\n",
      "clase_cargo_docente_Ayudante docente\n",
      "clase_cargo_docente_Ayudante estudiantil\n",
      "clase_cargo_docente_Docente Adscripto\n",
      "clase_cargo_docente_Docente autorizado\n",
      "clase_cargo_docente_Docente auxiliar alumno\n",
      "clase_cargo_docente_Docente invitado\n",
      "clase_cargo_docente_Docente libre\n",
      "clase_cargo_docente_Docente técnico especializado\n",
      "clase_cargo_docente_Docente técnico principal\n",
      "clase_cargo_docente_Docente técnico profesional\n",
      "clase_cargo_docente_Docente universitario libre\n",
      "clase_cargo_docente_Instructor\n",
      "clase_cargo_docente_Jefe de laboratorio\n",
      "clase_cargo_docente_Jefe de trabajos prácticos\n",
      "clase_cargo_docente_Otro de nivel superior\n",
      "clase_cargo_docente_Profesor adjunto\n",
      "clase_cargo_docente_Profesor asistente\n",
      "clase_cargo_docente_Profesor asociado\n",
      "clase_cargo_docente_Profesor ayudante A\n",
      "clase_cargo_docente_Profesor consulto\n",
      "clase_cargo_docente_Profesor contratado\n",
      "clase_cargo_docente_Profesor de extensión\n",
      "clase_cargo_docente_Profesor emérito\n",
      "clase_cargo_docente_Profesor extraordinario\n",
      "clase_cargo_docente_Profesor honorario\n",
      "clase_cargo_docente_Profesor instructor\n",
      "clase_cargo_docente_Profesor invitado\n",
      "clase_cargo_docente_Profesor libre\n",
      "clase_cargo_docente_Profesor nivel A\n",
      "clase_cargo_docente_Profesor por convenio\n",
      "clase_cargo_docente_Profesor titular\n",
      "clase_cargo_docente_Profesor titular plenario\n",
      "clase_cargo_docente_Profesor visitante\n",
      "clase_cargo_docente_no docente\n",
      "area_exp_CIENCIAS MÉDICAS Y DE LA SALUD\n",
      "area_exp_CIENCIAS NATURALES Y EXACTAS\n",
      "area_exp_CIENCIAS SOCIALES\n",
      "area_exp_HUMANIDADES\n",
      "area_exp_INGENIERÍAS Y TECNOLOGÍAS\n"
     ]
    }
   ],
   "source": [
    "for i in df.columns:\n",
    "    print(i)"
   ]
  },
  {
   "cell_type": "code",
   "execution_count": 14,
   "metadata": {},
   "outputs": [],
   "source": [
    "#Se define la matriz target y la matriz de features\n",
    "X=df.drop(columns=[ 'publico_articulos','cant_articulos_prestigio',\n",
    "       'publico_prestigio','produccion_cantidad_articulos_total','persona_id'])\n",
    "\n",
    "y =df['publico_articulos']\n"
   ]
  },
  {
   "cell_type": "code",
   "execution_count": 15,
   "metadata": {},
   "outputs": [
    {
     "name": "stdout",
     "output_type": "stream",
     "text": [
      "actividad_evaluacion_comite_editorial_internacional\n",
      "actividad_evaluacion_comite_editorial_nacional\n",
      "actividad_evaluacion_proyectos\n",
      "actividad_evaluacion_referato_internacional\n",
      "actividad_evaluacion_referato_nacional\n",
      "actividad_evaluacion_rrhh_becarios\n",
      "actividad_evaluacion_rrhh_investigadores\n",
      "actividad_evaluacion_rrhh_premios\n",
      "formacion_participacion_conferencia\n",
      "formacion_participacion_taller\n",
      "membresia_asociaciones_cyt\n",
      "movilidad_estancias_exterior\n",
      "movilidad_posdoctorado_exterior\n",
      "movilidad_posgrado_exterior\n",
      "produccion_cantidad_libros\n",
      "produccion_patentes_otorgadas\n",
      "produccion_patentes_solicitadas\n",
      "produccion_publicacion_congreso\n",
      "proyectos_direccion\n",
      "proyectos_financiamiento_externo\n",
      "prod_ultimo_año\n",
      "prod_año_ant\n",
      "prod_2_años_ant\n",
      "prod_3_años_ant\n",
      "sexo_M\n",
      "edad_(20, 30]\n",
      "edad_(30, 40]\n",
      "edad_(40, 50]\n",
      "edad_(50, 60]\n",
      "edad_(60, 70]\n",
      "edad_(70, 80]\n",
      "edad_(80, 90]\n",
      "t_personal_DOCENTE\n",
      "t_personal_INVESTIGADOR\n",
      "t_personal_OTRO PERSONAL DE LA INSTITUCION\n",
      "cond_docente_Por contrato\n",
      "cond_docente_Regular o por concurso\n",
      "cond_docente_no docente\n",
      "ded_horaria_40 horas o más\n",
      "ded_horaria_De 0 hasta 19 horas\n",
      "ded_horaria_De 20 hasta 39 horas\n",
      "grado_acad_Medio\n",
      "grado_acad_Terciario no universitario\n",
      "grado_acad_Universitario de grado\n",
      "grado_acad_Universitario de posgrado/doctorado\n",
      "grado_acad_Universitario de posgrado/especialización\n",
      "grado_acad_Universitario de posgrado/maestría\n",
      "cat_conicet_Becario postdoctoral\n",
      "cat_conicet_Gestión CyT\n",
      "cat_conicet_Investigador adjunto\n",
      "cat_conicet_Investigador asistente\n",
      "cat_conicet_Investigador independiente\n",
      "cat_conicet_Investigador principal\n",
      "cat_conicet_Investigador superior\n",
      "cat_conicet_No pertenece a Conicet\n",
      "cat_conicet_Otro personal Conicet\n",
      "cat_conicet_Personal de apoyo\n",
      "clase_cargo_docente_Asistente de primera\n",
      "clase_cargo_docente_Asistente de segunda\n",
      "clase_cargo_docente_Asistente docente\n",
      "clase_cargo_docente_Asistente nivel D-1\n",
      "clase_cargo_docente_Asistente nivel D-2\n",
      "clase_cargo_docente_Asistente nivel D-3\n",
      "clase_cargo_docente_Asistente principal\n",
      "clase_cargo_docente_Auxiliar académico\n",
      "clase_cargo_docente_Auxiliar de primera categoría\n",
      "clase_cargo_docente_Auxiliar de segunda categoría\n",
      "clase_cargo_docente_Auxiliar docente\n",
      "clase_cargo_docente_Auxiliar docente adscripto\n",
      "clase_cargo_docente_Auxiliar docente de primera categoría\n",
      "clase_cargo_docente_Auxiliar docente de segunda categoría\n",
      "clase_cargo_docente_Auxiliar docente graduado\n",
      "clase_cargo_docente_Auxiliares de primera categoría\n",
      "clase_cargo_docente_Auxiliares de segunda categoría\n",
      "clase_cargo_docente_Ayudante Docente A\n",
      "clase_cargo_docente_Ayudante Docente B\n",
      "clase_cargo_docente_Ayudante adscripto\n",
      "clase_cargo_docente_Ayudante alumno\n",
      "clase_cargo_docente_Ayudante de cátedra\n",
      "clase_cargo_docente_Ayudante de docencia\n",
      "clase_cargo_docente_Ayudante de primera\n",
      "clase_cargo_docente_Ayudante de segunda\n",
      "clase_cargo_docente_Ayudante de trabajos prácticos de primera\n",
      "clase_cargo_docente_Ayudante de trabajos prácticos de segunda\n",
      "clase_cargo_docente_Ayudante diplomado\n",
      "clase_cargo_docente_Ayudante docente\n",
      "clase_cargo_docente_Ayudante estudiantil\n",
      "clase_cargo_docente_Docente Adscripto\n",
      "clase_cargo_docente_Docente autorizado\n",
      "clase_cargo_docente_Docente auxiliar alumno\n",
      "clase_cargo_docente_Docente invitado\n",
      "clase_cargo_docente_Docente libre\n",
      "clase_cargo_docente_Docente técnico especializado\n",
      "clase_cargo_docente_Docente técnico principal\n",
      "clase_cargo_docente_Docente técnico profesional\n",
      "clase_cargo_docente_Docente universitario libre\n",
      "clase_cargo_docente_Instructor\n",
      "clase_cargo_docente_Jefe de laboratorio\n",
      "clase_cargo_docente_Jefe de trabajos prácticos\n",
      "clase_cargo_docente_Otro de nivel superior\n",
      "clase_cargo_docente_Profesor adjunto\n",
      "clase_cargo_docente_Profesor asistente\n",
      "clase_cargo_docente_Profesor asociado\n",
      "clase_cargo_docente_Profesor ayudante A\n",
      "clase_cargo_docente_Profesor consulto\n",
      "clase_cargo_docente_Profesor contratado\n",
      "clase_cargo_docente_Profesor de extensión\n",
      "clase_cargo_docente_Profesor emérito\n",
      "clase_cargo_docente_Profesor extraordinario\n",
      "clase_cargo_docente_Profesor honorario\n",
      "clase_cargo_docente_Profesor instructor\n",
      "clase_cargo_docente_Profesor invitado\n",
      "clase_cargo_docente_Profesor libre\n",
      "clase_cargo_docente_Profesor nivel A\n",
      "clase_cargo_docente_Profesor por convenio\n",
      "clase_cargo_docente_Profesor titular\n",
      "clase_cargo_docente_Profesor titular plenario\n",
      "clase_cargo_docente_Profesor visitante\n",
      "clase_cargo_docente_no docente\n",
      "area_exp_CIENCIAS MÉDICAS Y DE LA SALUD\n",
      "area_exp_CIENCIAS NATURALES Y EXACTAS\n",
      "area_exp_CIENCIAS SOCIALES\n",
      "area_exp_HUMANIDADES\n",
      "area_exp_INGENIERÍAS Y TECNOLOGÍAS\n"
     ]
    }
   ],
   "source": [
    "for i in X.columns:\n",
    "    print(i)"
   ]
  },
  {
   "cell_type": "code",
   "execution_count": 16,
   "metadata": {},
   "outputs": [],
   "source": [
    "# Hacemos el split entre train y test\n",
    "X_train, X_test, y_train, y_test = train_test_split(X, y, test_size = 0.33)"
   ]
  },
  {
   "cell_type": "markdown",
   "metadata": {},
   "source": [
    "#### 3. Regresión logística"
   ]
  },
  {
   "cell_type": "code",
   "execution_count": 17,
   "metadata": {},
   "outputs": [
    {
     "name": "stdout",
     "output_type": "stream",
     "text": [
      "Mejor Penalización: l2\n",
      "Mejor C: 1.0\n"
     ]
    },
    {
     "data": {
      "text/plain": [
       "0.7864795918367347"
      ]
     },
     "execution_count": 17,
     "metadata": {},
     "output_type": "execute_result"
    }
   ],
   "source": [
    "#Se hace GridSearch para Logistic Regression\n",
    "\n",
    "X_train['prod_ultimo_año']=scaler.fit_transform(X_train[['prod_ultimo_año']])\n",
    "X_train['prod_año_ant']=scaler.fit_transform(X_train[['prod_año_ant']])\n",
    "X_train['prod_2_años_ant']=scaler.fit_transform(X_train[['prod_2_años_ant']])\n",
    "X_train['prod_3_años_ant']=scaler.fit_transform(X_train[['prod_3_años_ant']])\n",
    "X_train['produccion_cantidad_libros']=scaler.fit_transform(X_train[['produccion_cantidad_libros']])\n",
    "X_train['produccion_patentes_otorgadas']=scaler.fit_transform(X_train[['produccion_patentes_otorgadas']])\n",
    "X_train['produccion_patentes_solicitadas']=scaler.fit_transform(X_train[['produccion_patentes_solicitadas']])\n",
    "\n",
    "\n",
    "X_test['prod_ultimo_año']=scaler.transform(X_test[['prod_ultimo_año']])\n",
    "X_test['prod_año_ant']=scaler.transform(X_test[['prod_año_ant']])\n",
    "X_test['prod_2_años_ant']=scaler.transform(X_test[['prod_2_años_ant']])\n",
    "X_test['prod_3_años_ant']=scaler.transform(X_test[['prod_3_años_ant']])\n",
    "X_test['produccion_cantidad_libros']=scaler.transform(X_test[['produccion_cantidad_libros']])\n",
    "X_test['produccion_patentes_otorgadas']=scaler.transform(X_test[['produccion_patentes_otorgadas']])\n",
    "X_test['produccion_patentes_solicitadas']=scaler.transform(X_test[['produccion_patentes_solicitadas']])\n",
    "\n",
    "\n",
    "modelo_LR_publico =  LogisticRegression()\n",
    "\n",
    "hyperparameters = {'C': np.logspace(0, 4, 8), \n",
    "                   'penalty': ['l1', 'l2']}\n",
    "\n",
    "clasificador = GridSearchCV(modelo_LR_publico, hyperparameters, cv=5, verbose=0)\n",
    "\n",
    "mejor_modelo_LR_publico = clasificador.fit(X_train, y_train)\n",
    "\n",
    "print('Mejor Penalización:', mejor_modelo_LR_publico.best_estimator_.get_params()['penalty'])\n",
    "print('Mejor C:', mejor_modelo_LR_publico.best_estimator_.get_params()['C'])\n",
    "\n",
    "mejor_modelo_LR_publico.best_score_\n",
    "\n"
   ]
  },
  {
   "cell_type": "code",
   "execution_count": 18,
   "metadata": {},
   "outputs": [
    {
     "name": "stdout",
     "output_type": "stream",
     "text": [
      "0.7182442056195779\n",
      "0.9213951067152525\n",
      "0.6538603620243812\n"
     ]
    }
   ],
   "source": [
    "#Se genera el modelo\n",
    "modelo_LR_publico =  LogisticRegression(penalty='l2',C=1)\n",
    "modelo_LR_publico.fit(X_train,y_train)\n",
    "y_pred_LR_publico=modelo_LR_publico.predict(X_test)\n",
    "\n",
    "print(accuracy_score(y_test, y_pred_LR_publico))\n",
    "print(recall_score(y_test, y_pred_LR_publico))\n",
    "print(precision_score(y_test, y_pred_LR_publico))\n"
   ]
  },
  {
   "cell_type": "code",
   "execution_count": 19,
   "metadata": {},
   "outputs": [
    {
     "name": "stdout",
     "output_type": "stream",
     "text": [
      "             precision    recall  f1-score   support\n",
      "\n",
      "          0       0.87      0.52      0.65      7762\n",
      "          1       0.65      0.92      0.76      7684\n",
      "\n",
      "avg / total       0.76      0.72      0.71     15446\n",
      "\n"
     ]
    }
   ],
   "source": [
    "from sklearn.metrics import classification_report, confusion_matrix\n",
    "\n",
    "print(classification_report(y_test, y_pred_LR_publico))"
   ]
  },
  {
   "cell_type": "code",
   "execution_count": 20,
   "metadata": {},
   "outputs": [
    {
     "name": "stdout",
     "output_type": "stream",
     "text": [
      "0.7182442056195779\n"
     ]
    },
    {
     "data": {
      "image/png": "[encoded data removed]",
      "text/plain": [
       "<Figure size 432x288 with 2 Axes>"
      ]
     },
     "metadata": {},
     "output_type": "display_data"
    }
   ],
   "source": [
    "# Elaboramos la matriz de confusión:\n",
    "from sklearn.metrics import confusion_matrix, accuracy_score\n",
    "\n",
    "confusion_matrix(y_test, y_pred_LR_publico)\n",
    "\n",
    "sns.heatmap(confusion_matrix(y_test, y_pred_LR_publico), annot=True)\n",
    "\n",
    "print(accuracy_score(y_test, y_pred_LR_publico))\n",
    "plt.ylabel('Verdaderos')\n",
    "plt.xlabel('Predichos');"
   ]
  },
  {
   "cell_type": "code",
   "execution_count": 21,
   "metadata": {},
   "outputs": [
    {
     "data": {
      "text/html": [
       "<div>\n",
       "<style scoped>\n",
       "    .dataframe tbody tr th:only-of-type {\n",
       "        vertical-align: middle;\n",
       "    }\n",
       "\n",
       "    .dataframe tbody tr th {\n",
       "        vertical-align: top;\n",
       "    }\n",
       "\n",
       "    .dataframe thead th {\n",
       "        text-align: right;\n",
       "    }\n",
       "</style>\n",
       "<table border=\"1\" class=\"dataframe\">\n",
       "  <thead>\n",
       "    <tr style=\"text-align: right;\">\n",
       "      <th></th>\n",
       "      <th>fpr</th>\n",
       "      <th>tpr</th>\n",
       "      <th>thr</th>\n",
       "    </tr>\n",
       "  </thead>\n",
       "  <tbody>\n",
       "    <tr>\n",
       "      <th>0</th>\n",
       "      <td>0.000000</td>\n",
       "      <td>0.000000</td>\n",
       "      <td>2.0</td>\n",
       "    </tr>\n",
       "    <tr>\n",
       "      <th>1</th>\n",
       "      <td>0.053723</td>\n",
       "      <td>0.448334</td>\n",
       "      <td>1.0</td>\n",
       "    </tr>\n",
       "    <tr>\n",
       "      <th>2</th>\n",
       "      <td>0.055785</td>\n",
       "      <td>0.458615</td>\n",
       "      <td>1.0</td>\n",
       "    </tr>\n",
       "    <tr>\n",
       "      <th>3</th>\n",
       "      <td>0.057459</td>\n",
       "      <td>0.464081</td>\n",
       "      <td>1.0</td>\n",
       "    </tr>\n",
       "    <tr>\n",
       "      <th>4</th>\n",
       "      <td>0.058619</td>\n",
       "      <td>0.467465</td>\n",
       "      <td>1.0</td>\n",
       "    </tr>\n",
       "  </tbody>\n",
       "</table>\n",
       "</div>"
      ],
      "text/plain": [
       "        fpr       tpr  thr\n",
       "0  0.000000  0.000000  2.0\n",
       "1  0.053723  0.448334  1.0\n",
       "2  0.055785  0.458615  1.0\n",
       "3  0.057459  0.464081  1.0\n",
       "4  0.058619  0.467465  1.0"
      ]
     },
     "execution_count": 21,
     "metadata": {},
     "output_type": "execute_result"
    }
   ],
   "source": [
    "#Curva ROC\n",
    "y_probs_logit = modelo_LR_publico.predict_proba(X_test)\n",
    "fpr_log,tpr_log,thr_log = roc_curve(y_test, y_probs_logit[:,1])\n",
    "df_RL = pd.DataFrame(dict(fpr=fpr_log, tpr=tpr_log, thr = thr_log))\n",
    "df_RL.head()"
   ]
  },
  {
   "cell_type": "code",
   "execution_count": 22,
   "metadata": {},
   "outputs": [
    {
     "data": {
      "image/png": "[encoded data removed]",
      "text/plain": [
       "<Figure size 432x288 with 1 Axes>"
      ]
     },
     "metadata": {},
     "output_type": "display_data"
    }
   ],
   "source": [
    "plt.axis([0, 1.01, 0, 1.01])\n",
    "plt.xlabel('1 - Specificty')\n",
    "plt.ylabel('TPR / Sensitivity')\n",
    "plt.title('ROC Curve')\n",
    "plt.plot(df_RL['fpr'],df_RL['tpr'])\n",
    "plt.plot(np.arange(0,1, step =0.01), np.arange(0,1, step =0.01))\n",
    "plt.show() "
   ]
  },
  {
   "cell_type": "code",
   "execution_count": 23,
   "metadata": {},
   "outputs": [
    {
     "name": "stdout",
     "output_type": "stream",
     "text": [
      "AUC= 0.8460807892828299\n"
     ]
    }
   ],
   "source": [
    "print('AUC=', auc(fpr_log, tpr_log))"
   ]
  },
  {
   "cell_type": "code",
   "execution_count": 24,
   "metadata": {},
   "outputs": [
    {
     "data": {
      "text/plain": [
       "((15446, 124), (15446, 124))"
      ]
     },
     "execution_count": 24,
     "metadata": {},
     "output_type": "execute_result"
    }
   ],
   "source": [
    "X_test.shape,X_test.shape"
   ]
  },
  {
   "cell_type": "code",
   "execution_count": 25,
   "metadata": {},
   "outputs": [],
   "source": [
    "coef=pd.DataFrame(X_test.columns,columns=['Feature'])\n",
    "coef['ponderador']=modelo_LR_publico.coef_.reshape(124,1)"
   ]
  },
  {
   "cell_type": "code",
   "execution_count": 26,
   "metadata": {},
   "outputs": [
    {
     "data": {
      "text/html": [
       "<div>\n",
       "<style scoped>\n",
       "    .dataframe tbody tr th:only-of-type {\n",
       "        vertical-align: middle;\n",
       "    }\n",
       "\n",
       "    .dataframe tbody tr th {\n",
       "        vertical-align: top;\n",
       "    }\n",
       "\n",
       "    .dataframe thead th {\n",
       "        text-align: right;\n",
       "    }\n",
       "</style>\n",
       "<table border=\"1\" class=\"dataframe\">\n",
       "  <thead>\n",
       "    <tr style=\"text-align: right;\">\n",
       "      <th></th>\n",
       "      <th>Feature</th>\n",
       "      <th>ponderador</th>\n",
       "    </tr>\n",
       "  </thead>\n",
       "  <tbody>\n",
       "    <tr>\n",
       "      <th>1</th>\n",
       "      <td>actividad_evaluacion_comite_editorial_nacional</td>\n",
       "      <td>2.238746</td>\n",
       "    </tr>\n",
       "    <tr>\n",
       "      <th>3</th>\n",
       "      <td>actividad_evaluacion_referato_internacional</td>\n",
       "      <td>1.305469</td>\n",
       "    </tr>\n",
       "    <tr>\n",
       "      <th>25</th>\n",
       "      <td>edad_(20, 30]</td>\n",
       "      <td>1.159704</td>\n",
       "    </tr>\n",
       "    <tr>\n",
       "      <th>44</th>\n",
       "      <td>grado_acad_Universitario de posgrado/doctorado</td>\n",
       "      <td>1.067905</td>\n",
       "    </tr>\n",
       "    <tr>\n",
       "      <th>20</th>\n",
       "      <td>prod_ultimo_año</td>\n",
       "      <td>1.060905</td>\n",
       "    </tr>\n",
       "    <tr>\n",
       "      <th>50</th>\n",
       "      <td>cat_conicet_Investigador asistente</td>\n",
       "      <td>1.053444</td>\n",
       "    </tr>\n",
       "    <tr>\n",
       "      <th>87</th>\n",
       "      <td>clase_cargo_docente_Docente Adscripto</td>\n",
       "      <td>0.936653</td>\n",
       "    </tr>\n",
       "    <tr>\n",
       "      <th>4</th>\n",
       "      <td>actividad_evaluacion_referato_nacional</td>\n",
       "      <td>0.808782</td>\n",
       "    </tr>\n",
       "    <tr>\n",
       "      <th>76</th>\n",
       "      <td>clase_cargo_docente_Ayudante adscripto</td>\n",
       "      <td>0.801791</td>\n",
       "    </tr>\n",
       "    <tr>\n",
       "      <th>90</th>\n",
       "      <td>clase_cargo_docente_Docente invitado</td>\n",
       "      <td>0.774138</td>\n",
       "    </tr>\n",
       "    <tr>\n",
       "      <th>26</th>\n",
       "      <td>edad_(30, 40]</td>\n",
       "      <td>0.756942</td>\n",
       "    </tr>\n",
       "    <tr>\n",
       "      <th>51</th>\n",
       "      <td>cat_conicet_Investigador independiente</td>\n",
       "      <td>0.750688</td>\n",
       "    </tr>\n",
       "    <tr>\n",
       "      <th>57</th>\n",
       "      <td>clase_cargo_docente_Asistente de primera</td>\n",
       "      <td>0.663662</td>\n",
       "    </tr>\n",
       "    <tr>\n",
       "      <th>11</th>\n",
       "      <td>movilidad_estancias_exterior</td>\n",
       "      <td>0.638024</td>\n",
       "    </tr>\n",
       "    <tr>\n",
       "      <th>93</th>\n",
       "      <td>clase_cargo_docente_Docente técnico principal</td>\n",
       "      <td>0.603047</td>\n",
       "    </tr>\n",
       "    <tr>\n",
       "      <th>19</th>\n",
       "      <td>proyectos_financiamiento_externo</td>\n",
       "      <td>0.588869</td>\n",
       "    </tr>\n",
       "    <tr>\n",
       "      <th>27</th>\n",
       "      <td>edad_(40, 50]</td>\n",
       "      <td>0.535897</td>\n",
       "    </tr>\n",
       "    <tr>\n",
       "      <th>94</th>\n",
       "      <td>clase_cargo_docente_Docente técnico profesional</td>\n",
       "      <td>0.517555</td>\n",
       "    </tr>\n",
       "    <tr>\n",
       "      <th>75</th>\n",
       "      <td>clase_cargo_docente_Ayudante Docente B</td>\n",
       "      <td>0.495885</td>\n",
       "    </tr>\n",
       "    <tr>\n",
       "      <th>58</th>\n",
       "      <td>clase_cargo_docente_Asistente de segunda</td>\n",
       "      <td>0.488798</td>\n",
       "    </tr>\n",
       "    <tr>\n",
       "      <th>64</th>\n",
       "      <td>clase_cargo_docente_Auxiliar académico</td>\n",
       "      <td>0.468355</td>\n",
       "    </tr>\n",
       "    <tr>\n",
       "      <th>61</th>\n",
       "      <td>clase_cargo_docente_Asistente nivel D-2</td>\n",
       "      <td>0.458753</td>\n",
       "    </tr>\n",
       "    <tr>\n",
       "      <th>52</th>\n",
       "      <td>cat_conicet_Investigador principal</td>\n",
       "      <td>0.455348</td>\n",
       "    </tr>\n",
       "    <tr>\n",
       "      <th>12</th>\n",
       "      <td>movilidad_posdoctorado_exterior</td>\n",
       "      <td>0.445503</td>\n",
       "    </tr>\n",
       "    <tr>\n",
       "      <th>92</th>\n",
       "      <td>clase_cargo_docente_Docente técnico especializado</td>\n",
       "      <td>0.422537</td>\n",
       "    </tr>\n",
       "    <tr>\n",
       "      <th>28</th>\n",
       "      <td>edad_(50, 60]</td>\n",
       "      <td>0.411547</td>\n",
       "    </tr>\n",
       "    <tr>\n",
       "      <th>49</th>\n",
       "      <td>cat_conicet_Investigador adjunto</td>\n",
       "      <td>0.367746</td>\n",
       "    </tr>\n",
       "    <tr>\n",
       "      <th>46</th>\n",
       "      <td>grado_acad_Universitario de posgrado/maestría</td>\n",
       "      <td>0.348356</td>\n",
       "    </tr>\n",
       "    <tr>\n",
       "      <th>18</th>\n",
       "      <td>proyectos_direccion</td>\n",
       "      <td>0.341784</td>\n",
       "    </tr>\n",
       "    <tr>\n",
       "      <th>21</th>\n",
       "      <td>prod_año_ant</td>\n",
       "      <td>0.332439</td>\n",
       "    </tr>\n",
       "    <tr>\n",
       "      <th>...</th>\n",
       "      <td>...</td>\n",
       "      <td>...</td>\n",
       "    </tr>\n",
       "    <tr>\n",
       "      <th>47</th>\n",
       "      <td>cat_conicet_Becario postdoctoral</td>\n",
       "      <td>-0.216076</td>\n",
       "    </tr>\n",
       "    <tr>\n",
       "      <th>60</th>\n",
       "      <td>clase_cargo_docente_Asistente nivel D-1</td>\n",
       "      <td>-0.230910</td>\n",
       "    </tr>\n",
       "    <tr>\n",
       "      <th>67</th>\n",
       "      <td>clase_cargo_docente_Auxiliar docente</td>\n",
       "      <td>-0.234455</td>\n",
       "    </tr>\n",
       "    <tr>\n",
       "      <th>41</th>\n",
       "      <td>grado_acad_Medio</td>\n",
       "      <td>-0.254845</td>\n",
       "    </tr>\n",
       "    <tr>\n",
       "      <th>71</th>\n",
       "      <td>clase_cargo_docente_Auxiliar docente graduado</td>\n",
       "      <td>-0.255016</td>\n",
       "    </tr>\n",
       "    <tr>\n",
       "      <th>65</th>\n",
       "      <td>clase_cargo_docente_Auxiliar de primera categoría</td>\n",
       "      <td>-0.260883</td>\n",
       "    </tr>\n",
       "    <tr>\n",
       "      <th>100</th>\n",
       "      <td>clase_cargo_docente_Profesor adjunto</td>\n",
       "      <td>-0.261696</td>\n",
       "    </tr>\n",
       "    <tr>\n",
       "      <th>66</th>\n",
       "      <td>clase_cargo_docente_Auxiliar de segunda categoría</td>\n",
       "      <td>-0.290996</td>\n",
       "    </tr>\n",
       "    <tr>\n",
       "      <th>98</th>\n",
       "      <td>clase_cargo_docente_Jefe de trabajos prácticos</td>\n",
       "      <td>-0.300299</td>\n",
       "    </tr>\n",
       "    <tr>\n",
       "      <th>69</th>\n",
       "      <td>clase_cargo_docente_Auxiliar docente de primer...</td>\n",
       "      <td>-0.312998</td>\n",
       "    </tr>\n",
       "    <tr>\n",
       "      <th>102</th>\n",
       "      <td>clase_cargo_docente_Profesor asociado</td>\n",
       "      <td>-0.322772</td>\n",
       "    </tr>\n",
       "    <tr>\n",
       "      <th>74</th>\n",
       "      <td>clase_cargo_docente_Ayudante Docente A</td>\n",
       "      <td>-0.331596</td>\n",
       "    </tr>\n",
       "    <tr>\n",
       "      <th>97</th>\n",
       "      <td>clase_cargo_docente_Jefe de laboratorio</td>\n",
       "      <td>-0.345470</td>\n",
       "    </tr>\n",
       "    <tr>\n",
       "      <th>89</th>\n",
       "      <td>clase_cargo_docente_Docente auxiliar alumno</td>\n",
       "      <td>-0.346278</td>\n",
       "    </tr>\n",
       "    <tr>\n",
       "      <th>83</th>\n",
       "      <td>clase_cargo_docente_Ayudante de trabajos práct...</td>\n",
       "      <td>-0.359576</td>\n",
       "    </tr>\n",
       "    <tr>\n",
       "      <th>115</th>\n",
       "      <td>clase_cargo_docente_Profesor titular</td>\n",
       "      <td>-0.367168</td>\n",
       "    </tr>\n",
       "    <tr>\n",
       "      <th>78</th>\n",
       "      <td>clase_cargo_docente_Ayudante de cátedra</td>\n",
       "      <td>-0.396253</td>\n",
       "    </tr>\n",
       "    <tr>\n",
       "      <th>121</th>\n",
       "      <td>area_exp_CIENCIAS SOCIALES</td>\n",
       "      <td>-0.397320</td>\n",
       "    </tr>\n",
       "    <tr>\n",
       "      <th>42</th>\n",
       "      <td>grado_acad_Terciario no universitario</td>\n",
       "      <td>-0.437711</td>\n",
       "    </tr>\n",
       "    <tr>\n",
       "      <th>82</th>\n",
       "      <td>clase_cargo_docente_Ayudante de trabajos práct...</td>\n",
       "      <td>-0.446924</td>\n",
       "    </tr>\n",
       "    <tr>\n",
       "      <th>122</th>\n",
       "      <td>area_exp_HUMANIDADES</td>\n",
       "      <td>-0.453233</td>\n",
       "    </tr>\n",
       "    <tr>\n",
       "      <th>79</th>\n",
       "      <td>clase_cargo_docente_Ayudante de docencia</td>\n",
       "      <td>-0.466379</td>\n",
       "    </tr>\n",
       "    <tr>\n",
       "      <th>123</th>\n",
       "      <td>area_exp_INGENIERÍAS Y TECNOLOGÍAS</td>\n",
       "      <td>-0.599642</td>\n",
       "    </tr>\n",
       "    <tr>\n",
       "      <th>33</th>\n",
       "      <td>t_personal_INVESTIGADOR</td>\n",
       "      <td>-0.678001</td>\n",
       "    </tr>\n",
       "    <tr>\n",
       "      <th>54</th>\n",
       "      <td>cat_conicet_No pertenece a Conicet</td>\n",
       "      <td>-0.687258</td>\n",
       "    </tr>\n",
       "    <tr>\n",
       "      <th>114</th>\n",
       "      <td>clase_cargo_docente_Profesor por convenio</td>\n",
       "      <td>-0.709157</td>\n",
       "    </tr>\n",
       "    <tr>\n",
       "      <th>103</th>\n",
       "      <td>clase_cargo_docente_Profesor ayudante A</td>\n",
       "      <td>-0.712589</td>\n",
       "    </tr>\n",
       "    <tr>\n",
       "      <th>109</th>\n",
       "      <td>clase_cargo_docente_Profesor honorario</td>\n",
       "      <td>-0.732060</td>\n",
       "    </tr>\n",
       "    <tr>\n",
       "      <th>32</th>\n",
       "      <td>t_personal_DOCENTE</td>\n",
       "      <td>-1.065493</td>\n",
       "    </tr>\n",
       "    <tr>\n",
       "      <th>34</th>\n",
       "      <td>t_personal_OTRO PERSONAL DE LA INSTITUCION</td>\n",
       "      <td>-1.461068</td>\n",
       "    </tr>\n",
       "  </tbody>\n",
       "</table>\n",
       "<p>124 rows × 2 columns</p>\n",
       "</div>"
      ],
      "text/plain": [
       "                                               Feature  ponderador\n",
       "1       actividad_evaluacion_comite_editorial_nacional    2.238746\n",
       "3          actividad_evaluacion_referato_internacional    1.305469\n",
       "25                                       edad_(20, 30]    1.159704\n",
       "44      grado_acad_Universitario de posgrado/doctorado    1.067905\n",
       "20                                     prod_ultimo_año    1.060905\n",
       "50                  cat_conicet_Investigador asistente    1.053444\n",
       "87               clase_cargo_docente_Docente Adscripto    0.936653\n",
       "4               actividad_evaluacion_referato_nacional    0.808782\n",
       "76              clase_cargo_docente_Ayudante adscripto    0.801791\n",
       "90                clase_cargo_docente_Docente invitado    0.774138\n",
       "26                                       edad_(30, 40]    0.756942\n",
       "51              cat_conicet_Investigador independiente    0.750688\n",
       "57            clase_cargo_docente_Asistente de primera    0.663662\n",
       "11                        movilidad_estancias_exterior    0.638024\n",
       "93       clase_cargo_docente_Docente técnico principal    0.603047\n",
       "19                    proyectos_financiamiento_externo    0.588869\n",
       "27                                       edad_(40, 50]    0.535897\n",
       "94     clase_cargo_docente_Docente técnico profesional    0.517555\n",
       "75              clase_cargo_docente_Ayudante Docente B    0.495885\n",
       "58            clase_cargo_docente_Asistente de segunda    0.488798\n",
       "64              clase_cargo_docente_Auxiliar académico    0.468355\n",
       "61             clase_cargo_docente_Asistente nivel D-2    0.458753\n",
       "52                  cat_conicet_Investigador principal    0.455348\n",
       "12                     movilidad_posdoctorado_exterior    0.445503\n",
       "92   clase_cargo_docente_Docente técnico especializado    0.422537\n",
       "28                                       edad_(50, 60]    0.411547\n",
       "49                    cat_conicet_Investigador adjunto    0.367746\n",
       "46       grado_acad_Universitario de posgrado/maestría    0.348356\n",
       "18                                 proyectos_direccion    0.341784\n",
       "21                                        prod_año_ant    0.332439\n",
       "..                                                 ...         ...\n",
       "47                    cat_conicet_Becario postdoctoral   -0.216076\n",
       "60             clase_cargo_docente_Asistente nivel D-1   -0.230910\n",
       "67                clase_cargo_docente_Auxiliar docente   -0.234455\n",
       "41                                    grado_acad_Medio   -0.254845\n",
       "71       clase_cargo_docente_Auxiliar docente graduado   -0.255016\n",
       "65   clase_cargo_docente_Auxiliar de primera categoría   -0.260883\n",
       "100               clase_cargo_docente_Profesor adjunto   -0.261696\n",
       "66   clase_cargo_docente_Auxiliar de segunda categoría   -0.290996\n",
       "98      clase_cargo_docente_Jefe de trabajos prácticos   -0.300299\n",
       "69   clase_cargo_docente_Auxiliar docente de primer...   -0.312998\n",
       "102              clase_cargo_docente_Profesor asociado   -0.322772\n",
       "74              clase_cargo_docente_Ayudante Docente A   -0.331596\n",
       "97             clase_cargo_docente_Jefe de laboratorio   -0.345470\n",
       "89         clase_cargo_docente_Docente auxiliar alumno   -0.346278\n",
       "83   clase_cargo_docente_Ayudante de trabajos práct...   -0.359576\n",
       "115               clase_cargo_docente_Profesor titular   -0.367168\n",
       "78             clase_cargo_docente_Ayudante de cátedra   -0.396253\n",
       "121                         area_exp_CIENCIAS SOCIALES   -0.397320\n",
       "42               grado_acad_Terciario no universitario   -0.437711\n",
       "82   clase_cargo_docente_Ayudante de trabajos práct...   -0.446924\n",
       "122                               area_exp_HUMANIDADES   -0.453233\n",
       "79            clase_cargo_docente_Ayudante de docencia   -0.466379\n",
       "123                 area_exp_INGENIERÍAS Y TECNOLOGÍAS   -0.599642\n",
       "33                             t_personal_INVESTIGADOR   -0.678001\n",
       "54                  cat_conicet_No pertenece a Conicet   -0.687258\n",
       "114          clase_cargo_docente_Profesor por convenio   -0.709157\n",
       "103            clase_cargo_docente_Profesor ayudante A   -0.712589\n",
       "109             clase_cargo_docente_Profesor honorario   -0.732060\n",
       "32                                  t_personal_DOCENTE   -1.065493\n",
       "34          t_personal_OTRO PERSONAL DE LA INSTITUCION   -1.461068\n",
       "\n",
       "[124 rows x 2 columns]"
      ]
     },
     "execution_count": 26,
     "metadata": {},
     "output_type": "execute_result"
    }
   ],
   "source": [
    "coef.sort_values(by='ponderador',ascending=False)"
   ]
  },
  {
   "cell_type": "markdown",
   "metadata": {},
   "source": [
    "#### 4. Árboles de decisión"
   ]
  },
  {
   "cell_type": "code",
   "execution_count": 27,
   "metadata": {},
   "outputs": [],
   "source": [
    "from sklearn.tree import DecisionTreeRegressor\n",
    "from sklearn.tree import DecisionTreeClassifier\n",
    "from sklearn.tree import DecisionTreeRegressor\n",
    "from sklearn.tree import DecisionTreeClassifier\n",
    "from sklearn.ensemble import RandomForestClassifier, ExtraTreesClassifier, BaggingClassifier"
   ]
  },
  {
   "cell_type": "code",
   "execution_count": 28,
   "metadata": {},
   "outputs": [],
   "source": [
    "def evaluar_rendimiento(modelo, nombre):\n",
    "    s = cross_val_score(modelo, X_train, y_train, cv=5, n_jobs=-1)\n",
    "    print(\"Rendimiento de {}:\\t{:0.3} ± {:0.3}\".format( \\\n",
    "        nombre, s.mean().round(3), s.std().round(3)))\n"
   ]
  },
  {
   "cell_type": "code",
   "execution_count": 29,
   "metadata": {},
   "outputs": [
    {
     "name": "stdout",
     "output_type": "stream",
     "text": [
      "Rendimiento de Árbol de decisión:\t0.72 ± 0.002\n",
      "Rendimiento de Bagging AD:\t0.755 ± 0.005\n",
      "Rendimiento de Random Forest:\t0.762 ± 0.002\n",
      "Rendimiento de Extra Trees:\t0.755 ± 0.002\n"
     ]
    }
   ],
   "source": [
    "dt = DecisionTreeClassifier(class_weight='balanced')\n",
    "bdt = BaggingClassifier(DecisionTreeClassifier())\n",
    "rf = RandomForestClassifier(class_weight='balanced')\n",
    "et = ExtraTreesClassifier(class_weight='balanced')\n",
    "\n",
    "evaluar_rendimiento(dt,  \"Árbol de decisión\")\n",
    "evaluar_rendimiento(bdt, \"Bagging AD\")\n",
    "evaluar_rendimiento(rf,  \"Random Forest\")\n",
    "evaluar_rendimiento(et,  \"Extra Trees\")"
   ]
  },
  {
   "cell_type": "code",
   "execution_count": 30,
   "metadata": {},
   "outputs": [
    {
     "data": {
      "text/plain": [
       "ExtraTreesClassifier(bootstrap=False, class_weight='balanced',\n",
       "           criterion='gini', max_depth=None, max_features='auto',\n",
       "           max_leaf_nodes=None, min_impurity_decrease=0.0,\n",
       "           min_impurity_split=None, min_samples_leaf=1,\n",
       "           min_samples_split=2, min_weight_fraction_leaf=0.0,\n",
       "           n_estimators=10, n_jobs=1, oob_score=False, random_state=None,\n",
       "           verbose=0, warm_start=False)"
      ]
     },
     "execution_count": 30,
     "metadata": {},
     "output_type": "execute_result"
    }
   ],
   "source": [
    "dt.fit(X_train,y_train)\n",
    "bdt.fit(X_train,y_train)\n",
    "rf.fit(X_train,y_train)\n",
    "et.fit(X_train,y_train)"
   ]
  },
  {
   "cell_type": "code",
   "execution_count": 31,
   "metadata": {},
   "outputs": [],
   "source": [
    "dt_pred=dt.predict(X_test)\n",
    "bdt_pred=bdt.predict(X_test)\n",
    "rf_pred=rf.predict(X_test)\n",
    "et_pred=et.predict(X_test)"
   ]
  },
  {
   "cell_type": "code",
   "execution_count": 32,
   "metadata": {},
   "outputs": [
    {
     "name": "stdout",
     "output_type": "stream",
     "text": [
      "0.5715513947267864\n",
      "0.6044340723453909\n",
      "0.6019571541920127\n",
      "0.6284741395177619\n"
     ]
    }
   ],
   "source": [
    "print(precision_score(y_test, dt_pred))\n",
    "print(precision_score(y_test, bdt_pred))\n",
    "print(precision_score(y_test, rf_pred))\n",
    "print(precision_score(y_test, et_pred))"
   ]
  },
  {
   "cell_type": "code",
   "execution_count": 33,
   "metadata": {},
   "outputs": [],
   "source": [
    "#Aplicamos GridSearch para el modelo de árboles que mejor nos dio\n",
    "from sklearn.model_selection import GridSearchCV, RandomizedSearchCV\n",
    "param_trees = {'n_estimators': [50, 100, 200], \n",
    "               'max_features': [1, 5, 8, 10, 21], \n",
    "               'max_depth': [5, 20, 50, 70, 100], \n",
    "               'min_samples_leaf':[1, 5, 8, 10, 50]}"
   ]
  },
  {
   "cell_type": "code",
   "execution_count": 34,
   "metadata": {},
   "outputs": [],
   "source": [
    "from sklearn.model_selection import cross_val_score,StratifiedKFold\n",
    "et = ExtraTreesClassifier(class_weight='balanced')\n",
    "kf = StratifiedKFold(n_splits=3, shuffle=True)"
   ]
  },
  {
   "cell_type": "code",
   "execution_count": 35,
   "metadata": {},
   "outputs": [],
   "source": [
    "grid_search_et = GridSearchCV(et, param_grid=param_trees, cv=kf, verbose=1, n_jobs=3)"
   ]
  },
  {
   "cell_type": "code",
   "execution_count": 36,
   "metadata": {},
   "outputs": [
    {
     "name": "stdout",
     "output_type": "stream",
     "text": [
      "Fitting 3 folds for each of 375 candidates, totalling 1125 fits\n"
     ]
    },
    {
     "name": "stderr",
     "output_type": "stream",
     "text": [
      "[Parallel(n_jobs=3)]: Done  44 tasks      | elapsed:   28.4s\n",
      "[Parallel(n_jobs=3)]: Done 194 tasks      | elapsed:  4.0min\n",
      "[Parallel(n_jobs=3)]: Done 444 tasks      | elapsed: 18.6min\n",
      "[Parallel(n_jobs=3)]: Done 794 tasks      | elapsed: 42.7min\n",
      "[Parallel(n_jobs=3)]: Done 1125 out of 1125 | elapsed: 65.6min finished\n"
     ]
    },
    {
     "data": {
      "text/plain": [
       "GridSearchCV(cv=StratifiedKFold(n_splits=3, random_state=None, shuffle=True),\n",
       "       error_score='raise',\n",
       "       estimator=ExtraTreesClassifier(bootstrap=False, class_weight='balanced',\n",
       "           criterion='gini', max_depth=None, max_features='auto',\n",
       "           max_leaf_nodes=None, min_impurity_decrease=0.0,\n",
       "           min_impurity_split=None, min_samples_leaf=1,\n",
       "           min_samples_split=2, min_weight_fraction_leaf=0.0,\n",
       "           n_estimators=10, n_jobs=1, oob_score=False, random_state=None,\n",
       "           verbose=0, warm_start=False),\n",
       "       fit_params=None, iid=True, n_jobs=3,\n",
       "       param_grid={'n_estimators': [50, 100, 200], 'max_features': [1, 5, 8, 10, 21], 'max_depth': [5, 20, 50, 70, 100], 'min_samples_leaf': [1, 5, 8, 10, 50]},\n",
       "       pre_dispatch='2*n_jobs', refit=True, return_train_score='warn',\n",
       "       scoring=None, verbose=1)"
      ]
     },
     "execution_count": 36,
     "metadata": {},
     "output_type": "execute_result"
    }
   ],
   "source": [
    "grid_search_et.fit(X_train, y_train)"
   ]
  },
  {
   "cell_type": "code",
   "execution_count": 37,
   "metadata": {},
   "outputs": [],
   "source": [
    "y_pred_et_publico=grid_search_et.predict(X_test)"
   ]
  },
  {
   "cell_type": "code",
   "execution_count": 38,
   "metadata": {},
   "outputs": [
    {
     "name": "stdout",
     "output_type": "stream",
     "text": [
      "0.6605593681211964\n",
      "0.9521082769390942\n",
      "0.6001148388155196\n"
     ]
    }
   ],
   "source": [
    "print(accuracy_score(y_test, y_pred_et_publico))\n",
    "print(recall_score(y_test, y_pred_et_publico))\n",
    "print(precision_score(y_test, y_pred_et_publico))"
   ]
  },
  {
   "cell_type": "markdown",
   "metadata": {},
   "source": [
    "#### 5. XGBoost"
   ]
  },
  {
   "cell_type": "code",
   "execution_count": 39,
   "metadata": {},
   "outputs": [],
   "source": [
    "from xgboost.sklearn import XGBClassifier,XGBRFRegressor\n",
    "import scipy.stats as st"
   ]
  },
  {
   "cell_type": "code",
   "execution_count": 40,
   "metadata": {},
   "outputs": [],
   "source": [
    "modelo_xgb_publico = XGBClassifier(nthreads=-1)"
   ]
  },
  {
   "cell_type": "code",
   "execution_count": 41,
   "metadata": {},
   "outputs": [],
   "source": [
    "one_to_left = st.beta(10, 1)"
   ]
  },
  {
   "cell_type": "code",
   "execution_count": 42,
   "metadata": {},
   "outputs": [],
   "source": [
    "params = {  \n",
    "    \"n_estimators\": st.randint(20,40), # Number of boosted trees to fit.\n",
    "    \"max_depth\": st.randint(3, 12),     # Maximum tree depth for base learners.\n",
    "    \"learning_rate\": st.uniform(0.05, 0.4), #     Boosting learning rate (xgb’s “eta”)\n",
    "    \"colsample_bytree\": one_to_left, #     Subsample ratio of columns when constructing each tree.\n",
    "    \"subsample\": one_to_left,     # Subsample ratio of the training instance.\n",
    "    \"gamma\": st.uniform(0, 10), #     Minimum loss reduction required to make a further partition on a leaf node of the tree.\n",
    "    'reg_alpha': st.uniform(0.05,10),   # L1 regularization term on weights\n",
    "    \"min_child_weight\": st.uniform(1,20), #    Minimum sum of instance weight(hessian) needed in a child.\n",
    "}"
   ]
  },
  {
   "cell_type": "code",
   "execution_count": 43,
   "metadata": {},
   "outputs": [],
   "source": [
    "xgb = RandomizedSearchCV(modelo_xgb_publico,params, n_iter=25, verbose= True)"
   ]
  },
  {
   "cell_type": "code",
   "execution_count": 44,
   "metadata": {},
   "outputs": [
    {
     "name": "stdout",
     "output_type": "stream",
     "text": [
      "actividad_evaluacion_comite_editorial_internacional\n",
      "actividad_evaluacion_comite_editorial_nacional\n",
      "actividad_evaluacion_proyectos\n",
      "actividad_evaluacion_referato_internacional\n",
      "actividad_evaluacion_referato_nacional\n",
      "actividad_evaluacion_rrhh_becarios\n",
      "actividad_evaluacion_rrhh_investigadores\n",
      "actividad_evaluacion_rrhh_premios\n",
      "formacion_participacion_conferencia\n",
      "formacion_participacion_taller\n",
      "membresia_asociaciones_cyt\n",
      "movilidad_estancias_exterior\n",
      "movilidad_posdoctorado_exterior\n",
      "movilidad_posgrado_exterior\n",
      "produccion_cantidad_libros\n",
      "produccion_patentes_otorgadas\n",
      "produccion_patentes_solicitadas\n",
      "produccion_publicacion_congreso\n",
      "proyectos_direccion\n",
      "proyectos_financiamiento_externo\n",
      "prod_ultimo_año\n",
      "prod_año_ant\n",
      "prod_2_años_ant\n",
      "prod_3_años_ant\n",
      "sexo_M\n",
      "edad_(20, 30]\n",
      "edad_(30, 40]\n",
      "edad_(40, 50]\n",
      "edad_(50, 60]\n",
      "edad_(60, 70]\n",
      "edad_(70, 80]\n",
      "edad_(80, 90]\n",
      "t_personal_DOCENTE\n",
      "t_personal_INVESTIGADOR\n",
      "t_personal_OTRO PERSONAL DE LA INSTITUCION\n",
      "cond_docente_Por contrato\n",
      "cond_docente_Regular o por concurso\n",
      "cond_docente_no docente\n",
      "ded_horaria_40 horas o más\n",
      "ded_horaria_De 0 hasta 19 horas\n",
      "ded_horaria_De 20 hasta 39 horas\n",
      "grado_acad_Medio\n",
      "grado_acad_Terciario no universitario\n",
      "grado_acad_Universitario de grado\n",
      "grado_acad_Universitario de posgrado/doctorado\n",
      "grado_acad_Universitario de posgrado/especialización\n",
      "grado_acad_Universitario de posgrado/maestría\n",
      "cat_conicet_Becario postdoctoral\n",
      "cat_conicet_Gestión CyT\n",
      "cat_conicet_Investigador adjunto\n",
      "cat_conicet_Investigador asistente\n",
      "cat_conicet_Investigador independiente\n",
      "cat_conicet_Investigador principal\n",
      "cat_conicet_Investigador superior\n",
      "cat_conicet_No pertenece a Conicet\n",
      "cat_conicet_Otro personal Conicet\n",
      "cat_conicet_Personal de apoyo\n",
      "clase_cargo_docente_Asistente de primera\n",
      "clase_cargo_docente_Asistente de segunda\n",
      "clase_cargo_docente_Asistente docente\n",
      "clase_cargo_docente_Asistente nivel D-1\n",
      "clase_cargo_docente_Asistente nivel D-2\n",
      "clase_cargo_docente_Asistente nivel D-3\n",
      "clase_cargo_docente_Asistente principal\n",
      "clase_cargo_docente_Auxiliar académico\n",
      "clase_cargo_docente_Auxiliar de primera categoría\n",
      "clase_cargo_docente_Auxiliar de segunda categoría\n",
      "clase_cargo_docente_Auxiliar docente\n",
      "clase_cargo_docente_Auxiliar docente adscripto\n",
      "clase_cargo_docente_Auxiliar docente de primera categoría\n",
      "clase_cargo_docente_Auxiliar docente de segunda categoría\n",
      "clase_cargo_docente_Auxiliar docente graduado\n",
      "clase_cargo_docente_Auxiliares de primera categoría\n",
      "clase_cargo_docente_Auxiliares de segunda categoría\n",
      "clase_cargo_docente_Ayudante Docente A\n",
      "clase_cargo_docente_Ayudante Docente B\n",
      "clase_cargo_docente_Ayudante adscripto\n",
      "clase_cargo_docente_Ayudante alumno\n",
      "clase_cargo_docente_Ayudante de cátedra\n",
      "clase_cargo_docente_Ayudante de docencia\n",
      "clase_cargo_docente_Ayudante de primera\n",
      "clase_cargo_docente_Ayudante de segunda\n",
      "clase_cargo_docente_Ayudante de trabajos prácticos de primera\n",
      "clase_cargo_docente_Ayudante de trabajos prácticos de segunda\n",
      "clase_cargo_docente_Ayudante diplomado\n",
      "clase_cargo_docente_Ayudante docente\n",
      "clase_cargo_docente_Ayudante estudiantil\n",
      "clase_cargo_docente_Docente Adscripto\n",
      "clase_cargo_docente_Docente autorizado\n",
      "clase_cargo_docente_Docente auxiliar alumno\n",
      "clase_cargo_docente_Docente invitado\n",
      "clase_cargo_docente_Docente libre\n",
      "clase_cargo_docente_Docente técnico especializado\n",
      "clase_cargo_docente_Docente técnico principal\n",
      "clase_cargo_docente_Docente técnico profesional\n",
      "clase_cargo_docente_Docente universitario libre\n",
      "clase_cargo_docente_Instructor\n",
      "clase_cargo_docente_Jefe de laboratorio\n",
      "clase_cargo_docente_Jefe de trabajos prácticos\n",
      "clase_cargo_docente_Otro de nivel superior\n",
      "clase_cargo_docente_Profesor adjunto\n",
      "clase_cargo_docente_Profesor asistente\n",
      "clase_cargo_docente_Profesor asociado\n",
      "clase_cargo_docente_Profesor ayudante A\n",
      "clase_cargo_docente_Profesor consulto\n",
      "clase_cargo_docente_Profesor contratado\n",
      "clase_cargo_docente_Profesor de extensión\n",
      "clase_cargo_docente_Profesor emérito\n",
      "clase_cargo_docente_Profesor extraordinario\n",
      "clase_cargo_docente_Profesor honorario\n",
      "clase_cargo_docente_Profesor instructor\n",
      "clase_cargo_docente_Profesor invitado\n",
      "clase_cargo_docente_Profesor libre\n",
      "clase_cargo_docente_Profesor nivel A\n",
      "clase_cargo_docente_Profesor por convenio\n",
      "clase_cargo_docente_Profesor titular\n",
      "clase_cargo_docente_Profesor titular plenario\n",
      "clase_cargo_docente_Profesor visitante\n",
      "clase_cargo_docente_no docente\n",
      "area_exp_CIENCIAS MÉDICAS Y DE LA SALUD\n",
      "area_exp_CIENCIAS NATURALES Y EXACTAS\n",
      "area_exp_CIENCIAS SOCIALES\n",
      "area_exp_HUMANIDADES\n",
      "area_exp_INGENIERÍAS Y TECNOLOGÍAS\n"
     ]
    }
   ],
   "source": [
    "for i in X_train.columns:\n",
    "    print(i)"
   ]
  },
  {
   "cell_type": "code",
   "execution_count": 45,
   "metadata": {},
   "outputs": [],
   "source": [
    "X_test_xgb=X_test.rename(columns={\"edad_(20, 30]\": \"edad_20_30\",\n",
    "                       \"edad_(30, 40]\": \"edad_30_40\",\n",
    "                       \"edad_(40, 50]\": \"edad_40_50\",\n",
    "                       \"edad_(50, 60]\": \"edad_50_60\",\n",
    "                       \"edad_(60, 70]\": \"edad_60_70\",\n",
    "                       \"edad_(70, 80]\": \"edad_70_80\",\n",
    "                       \"edad_(80, 90]\": \"edad_80_90\"})\n",
    "                       "
   ]
  },
  {
   "cell_type": "code",
   "execution_count": 46,
   "metadata": {},
   "outputs": [],
   "source": [
    "X_train_xgb=X_train.rename(columns={\"edad_(20, 30]\": \"edad_20_30\",\n",
    "                       \"edad_(30, 40]\": \"edad_30_40\",\n",
    "                       \"edad_(40, 50]\": \"edad_40_50\",\n",
    "                       \"edad_(50, 60]\": \"edad_50_60\",\n",
    "                       \"edad_(60, 70]\": \"edad_60_70\",\n",
    "                       \"edad_(70, 80]\": \"edad_70_80\",\n",
    "                       \"edad_(80, 90]\": \"edad_80_90\"})                     "
   ]
  },
  {
   "cell_type": "code",
   "execution_count": 47,
   "metadata": {},
   "outputs": [
    {
     "name": "stdout",
     "output_type": "stream",
     "text": [
      "Fitting 3 folds for each of 25 candidates, totalling 75 fits\n"
     ]
    },
    {
     "name": "stderr",
     "output_type": "stream",
     "text": [
      "[Parallel(n_jobs=1)]: Done  75 out of  75 | elapsed:  5.6min finished\n"
     ]
    },
    {
     "name": "stdout",
     "output_type": "stream",
     "text": [
      "La búsqueda con XGBoost llevó:  344.1941468715668  segundos\n"
     ]
    }
   ],
   "source": [
    "import time\n",
    "start = time.time()\n",
    "xgb.fit(X_train_xgb,y_train)\n",
    "end = time.time()\n",
    "print(\"La búsqueda con XGBoost llevó: \", end - start, \" segundos\")"
   ]
  },
  {
   "cell_type": "code",
   "execution_count": 48,
   "metadata": {},
   "outputs": [],
   "source": [
    "opt_xgb = xgb.best_estimator_"
   ]
  },
  {
   "cell_type": "code",
   "execution_count": 49,
   "metadata": {},
   "outputs": [],
   "source": [
    "y_pred_xgb_publico_predictproba = opt_xgb.predict_proba(X_test_xgb)"
   ]
  },
  {
   "cell_type": "code",
   "execution_count": 50,
   "metadata": {},
   "outputs": [],
   "source": [
    "y_pred_xgb_publico = opt_xgb.predict(X_test_xgb)"
   ]
  },
  {
   "cell_type": "code",
   "execution_count": 51,
   "metadata": {},
   "outputs": [
    {
     "data": {
      "text/plain": [
       "<matplotlib.axes._subplots.AxesSubplot at 0x7f0a44c1ac18>"
      ]
     },
     "execution_count": 51,
     "metadata": {},
     "output_type": "execute_result"
    },
    {
     "data": {
      "image/png": "[encoded data removed]",
      "text/plain": [
       "<Figure size 432x288 with 1 Axes>"
      ]
     },
     "metadata": {},
     "output_type": "display_data"
    }
   ],
   "source": [
    "from scikitplot.metrics import plot_roc\n",
    "plot_roc(y_test,y_pred_xgb_publico_predictproba, plot_micro = False, plot_macro= False)"
   ]
  },
  {
   "cell_type": "code",
   "execution_count": 52,
   "metadata": {},
   "outputs": [
    {
     "name": "stdout",
     "output_type": "stream",
     "text": [
      "El valor del AUC es:  0.8642601601845428\n"
     ]
    }
   ],
   "source": [
    "xgb_auc = roc_auc_score(y_test,y_pred_xgb_publico_predictproba[:,1])\n",
    "print(\"El valor del AUC es: \", xgb_auc)"
   ]
  },
  {
   "cell_type": "code",
   "execution_count": 53,
   "metadata": {},
   "outputs": [
    {
     "name": "stdout",
     "output_type": "stream",
     "text": [
      "0.6215848763433899\n",
      "0.963430504945341\n",
      "0.5709107735019665\n"
     ]
    }
   ],
   "source": [
    "print(accuracy_score(y_test, y_pred_xgb_publico))\n",
    "print(recall_score(y_test, y_pred_xgb_publico))\n",
    "print(precision_score(y_test, y_pred_xgb_publico))"
   ]
  },
  {
   "cell_type": "code",
   "execution_count": 54,
   "metadata": {},
   "outputs": [
    {
     "data": {
      "text/plain": [
       "<matplotlib.axes._subplots.AxesSubplot at 0x7f0a44bb5908>"
      ]
     },
     "execution_count": 54,
     "metadata": {},
     "output_type": "execute_result"
    },
    {
     "data": {
      "image/png": "[encoded data removed]",
      "text/plain": [
       "<Figure size 432x288 with 1 Axes>"
      ]
     },
     "metadata": {},
     "output_type": "display_data"
    }
   ],
   "source": [
    "from xgboost import plot_importance\n",
    "plot_importance(opt_xgb, height = 0.8,max_num_features=10)"
   ]
  },
  {
   "cell_type": "code",
   "execution_count": 55,
   "metadata": {},
   "outputs": [
    {
     "name": "stdout",
     "output_type": "stream",
     "text": [
      "[0.         0.         0.01066224 0.07463415 0.01138955 0.00879227\n",
      " 0.00326441 0.00139145 0.00346295 0.00296677 0.01215264 0.01368214\n",
      " 0.01433402 0.0078898  0.00614405 0.         0.         0.00837935\n",
      " 0.         0.01081311 0.4354446  0.03928172 0.0096571  0.01389248\n",
      " 0.00415439 0.02263671 0.00756378 0.00824229 0.00377992 0.00653728\n",
      " 0.         0.         0.01855309 0.01285052 0.00831451 0.0020852\n",
      " 0.00503367 0.01059277 0.00518514 0.         0.0083103  0.01083345\n",
      " 0.00341624 0.00489813 0.04499088 0.0052747  0.00534307 0.\n",
      " 0.         0.         0.         0.         0.         0.\n",
      " 0.04790001 0.         0.         0.         0.         0.\n",
      " 0.         0.         0.         0.         0.         0.\n",
      " 0.         0.         0.         0.00192199 0.         0.\n",
      " 0.         0.         0.         0.         0.         0.00595814\n",
      " 0.         0.         0.00490295 0.         0.         0.\n",
      " 0.         0.         0.         0.         0.00101954 0.\n",
      " 0.         0.         0.         0.         0.         0.\n",
      " 0.         0.         0.00477572 0.         0.00403398 0.\n",
      " 0.0027743  0.         0.         0.         0.         0.\n",
      " 0.         0.         0.         0.         0.         0.\n",
      " 0.         0.00430781 0.         0.         0.         0.00671483\n",
      " 0.01173909 0.0057852  0.00503859 0.00629707]\n"
     ]
    }
   ],
   "source": [
    "print(opt_xgb.feature_importances_)"
   ]
  },
  {
   "cell_type": "markdown",
   "metadata": {},
   "source": [
    "#### 6. Light GBM"
   ]
  },
  {
   "cell_type": "code",
   "execution_count": 56,
   "metadata": {},
   "outputs": [],
   "source": [
    "import lightgbm as lgb"
   ]
  },
  {
   "cell_type": "code",
   "execution_count": 57,
   "metadata": {},
   "outputs": [],
   "source": [
    "modelo_LGBM_publico = lgb.LGBMClassifier()"
   ]
  },
  {
   "cell_type": "code",
   "execution_count": 58,
   "metadata": {},
   "outputs": [],
   "source": [
    "lgbm_publico = RandomizedSearchCV(modelo_LGBM_publico, params, n_iter = 25, verbose= True)"
   ]
  },
  {
   "cell_type": "code",
   "execution_count": 59,
   "metadata": {},
   "outputs": [
    {
     "name": "stdout",
     "output_type": "stream",
     "text": [
      "Fitting 3 folds for each of 25 candidates, totalling 75 fits\n"
     ]
    },
    {
     "name": "stderr",
     "output_type": "stream",
     "text": [
      "[Parallel(n_jobs=1)]: Done  75 out of  75 | elapsed:   27.7s finished\n"
     ]
    },
    {
     "name": "stdout",
     "output_type": "stream",
     "text": [
      "La búsqueda con LightGBM llevó:  28.004364728927612  segundos\n"
     ]
    }
   ],
   "source": [
    "start = time.time()\n",
    "lgbm_publico.fit(X_train, y_train)\n",
    "end = time.time()\n",
    "print(\"La búsqueda con LightGBM llevó: \", end - start, \" segundos\")"
   ]
  },
  {
   "cell_type": "code",
   "execution_count": 60,
   "metadata": {},
   "outputs": [],
   "source": [
    "opt_lgbm_publico = lgbm_publico.best_estimator_"
   ]
  },
  {
   "cell_type": "code",
   "execution_count": 61,
   "metadata": {},
   "outputs": [],
   "source": [
    "y_pred_lgbm_predictproba = opt_lgbm_publico.predict_proba(X_test)"
   ]
  },
  {
   "cell_type": "code",
   "execution_count": 62,
   "metadata": {},
   "outputs": [],
   "source": [
    "y_pred_lgbm_publico = opt_lgbm_publico.predict(X_test)"
   ]
  },
  {
   "cell_type": "code",
   "execution_count": 63,
   "metadata": {},
   "outputs": [
    {
     "name": "stdout",
     "output_type": "stream",
     "text": [
      "El valor del AUC es:  0.864585570246322\n"
     ]
    }
   ],
   "source": [
    "lgbm_auc_publico = roc_auc_score(y_test,y_pred_lgbm_predictproba[:,1])\n",
    "print(\"El valor del AUC es: \", lgbm_auc_publico)"
   ]
  },
  {
   "cell_type": "code",
   "execution_count": 64,
   "metadata": {},
   "outputs": [
    {
     "data": {
      "text/plain": [
       "<matplotlib.axes._subplots.AxesSubplot at 0x7f0a400c54a8>"
      ]
     },
     "execution_count": 64,
     "metadata": {},
     "output_type": "execute_result"
    },
    {
     "data": {
      "image/png": "[encoded data removed]",
      "text/plain": [
       "<Figure size 432x288 with 1 Axes>"
      ]
     },
     "metadata": {},
     "output_type": "display_data"
    }
   ],
   "source": [
    "plot_roc(y_test,y_pred_lgbm_predictproba, plot_micro = False, plot_macro= False)"
   ]
  },
  {
   "cell_type": "code",
   "execution_count": 65,
   "metadata": {},
   "outputs": [
    {
     "data": {
      "text/plain": [
       "<matplotlib.axes._subplots.AxesSubplot at 0x7f0a400eb3c8>"
      ]
     },
     "execution_count": 65,
     "metadata": {},
     "output_type": "execute_result"
    },
    {
     "data": {
      "image/png": "[encoded data removed]",
      "text/plain": [
       "<Figure size 432x288 with 1 Axes>"
      ]
     },
     "metadata": {},
     "output_type": "display_data"
    }
   ],
   "source": [
    "lgb.plot_importance(opt_lgbm_publico, max_num_features=10)"
   ]
  },
  {
   "cell_type": "code",
   "execution_count": 66,
   "metadata": {},
   "outputs": [
    {
     "name": "stdout",
     "output_type": "stream",
     "text": [
      "0.6402952220639648\n",
      "0.9575741801145237\n",
      "0.584524944391484\n"
     ]
    }
   ],
   "source": [
    "print(accuracy_score(y_test, y_pred_lgbm_publico))\n",
    "print(recall_score(y_test, y_pred_lgbm_publico))\n",
    "print(precision_score(y_test, y_pred_lgbm_publico))"
   ]
  },
  {
   "cell_type": "markdown",
   "metadata": {},
   "source": [
    "#### 7. Estimación de las publicaciones en revistas de prestigio para 2021"
   ]
  },
  {
   "cell_type": "code",
   "execution_count": 67,
   "metadata": {},
   "outputs": [],
   "source": [
    "#Se trabaja con el modelo que mejor dio: Regresión logística"
   ]
  },
  {
   "cell_type": "code",
   "execution_count": 68,
   "metadata": {},
   "outputs": [
    {
     "data": {
      "text/html": [
       "<div>\n",
       "<style scoped>\n",
       "    .dataframe tbody tr th:only-of-type {\n",
       "        vertical-align: middle;\n",
       "    }\n",
       "\n",
       "    .dataframe tbody tr th {\n",
       "        vertical-align: top;\n",
       "    }\n",
       "\n",
       "    .dataframe thead th {\n",
       "        text-align: right;\n",
       "    }\n",
       "</style>\n",
       "<table border=\"1\" class=\"dataframe\">\n",
       "  <thead>\n",
       "    <tr style=\"text-align: right;\">\n",
       "      <th></th>\n",
       "      <th>Unnamed: 0</th>\n",
       "      <th>persona_id</th>\n",
       "      <th>movilidad_posgrado_exterior</th>\n",
       "      <th>movilidad_estancias_exterior</th>\n",
       "      <th>produccion_cantidad_libros</th>\n",
       "      <th>produccion_patentes_solicitadas</th>\n",
       "      <th>produccion_patentes_otorgadas</th>\n",
       "      <th>actividad_evaluacion_rrhh_becarios</th>\n",
       "      <th>actividad_evaluacion_rrhh_investigadores</th>\n",
       "      <th>actividad_evaluacion_rrhh_premios</th>\n",
       "      <th>...</th>\n",
       "      <th>clase_cargo_docente_Profesor por convenio</th>\n",
       "      <th>clase_cargo_docente_Profesor titular</th>\n",
       "      <th>clase_cargo_docente_Profesor titular plenario</th>\n",
       "      <th>clase_cargo_docente_Profesor visitante</th>\n",
       "      <th>clase_cargo_docente_no docente</th>\n",
       "      <th>area_exp_CIENCIAS MÉDICAS Y DE LA SALUD</th>\n",
       "      <th>area_exp_CIENCIAS NATURALES Y EXACTAS</th>\n",
       "      <th>area_exp_CIENCIAS SOCIALES</th>\n",
       "      <th>area_exp_HUMANIDADES</th>\n",
       "      <th>area_exp_INGENIERÍAS Y TECNOLOGÍAS</th>\n",
       "    </tr>\n",
       "  </thead>\n",
       "  <tbody>\n",
       "    <tr>\n",
       "      <th>0</th>\n",
       "      <td>1</td>\n",
       "      <td>5</td>\n",
       "      <td>0</td>\n",
       "      <td>0</td>\n",
       "      <td>-0.318333</td>\n",
       "      <td>-0.100623</td>\n",
       "      <td>-0.042729</td>\n",
       "      <td>0</td>\n",
       "      <td>0</td>\n",
       "      <td>0</td>\n",
       "      <td>...</td>\n",
       "      <td>0</td>\n",
       "      <td>1</td>\n",
       "      <td>0</td>\n",
       "      <td>0</td>\n",
       "      <td>0</td>\n",
       "      <td>0</td>\n",
       "      <td>1</td>\n",
       "      <td>0</td>\n",
       "      <td>0</td>\n",
       "      <td>0</td>\n",
       "    </tr>\n",
       "    <tr>\n",
       "      <th>1</th>\n",
       "      <td>2</td>\n",
       "      <td>7</td>\n",
       "      <td>0</td>\n",
       "      <td>1</td>\n",
       "      <td>-0.318333</td>\n",
       "      <td>-0.100623</td>\n",
       "      <td>-0.042729</td>\n",
       "      <td>0</td>\n",
       "      <td>0</td>\n",
       "      <td>1</td>\n",
       "      <td>...</td>\n",
       "      <td>0</td>\n",
       "      <td>0</td>\n",
       "      <td>0</td>\n",
       "      <td>0</td>\n",
       "      <td>0</td>\n",
       "      <td>1</td>\n",
       "      <td>0</td>\n",
       "      <td>0</td>\n",
       "      <td>0</td>\n",
       "      <td>0</td>\n",
       "    </tr>\n",
       "    <tr>\n",
       "      <th>2</th>\n",
       "      <td>3</td>\n",
       "      <td>9</td>\n",
       "      <td>0</td>\n",
       "      <td>0</td>\n",
       "      <td>-0.318333</td>\n",
       "      <td>-0.100623</td>\n",
       "      <td>-0.042729</td>\n",
       "      <td>0</td>\n",
       "      <td>1</td>\n",
       "      <td>0</td>\n",
       "      <td>...</td>\n",
       "      <td>0</td>\n",
       "      <td>0</td>\n",
       "      <td>0</td>\n",
       "      <td>0</td>\n",
       "      <td>1</td>\n",
       "      <td>1</td>\n",
       "      <td>0</td>\n",
       "      <td>0</td>\n",
       "      <td>0</td>\n",
       "      <td>0</td>\n",
       "    </tr>\n",
       "    <tr>\n",
       "      <th>3</th>\n",
       "      <td>4</td>\n",
       "      <td>10</td>\n",
       "      <td>0</td>\n",
       "      <td>0</td>\n",
       "      <td>-0.318333</td>\n",
       "      <td>-0.100623</td>\n",
       "      <td>-0.042729</td>\n",
       "      <td>0</td>\n",
       "      <td>0</td>\n",
       "      <td>0</td>\n",
       "      <td>...</td>\n",
       "      <td>0</td>\n",
       "      <td>0</td>\n",
       "      <td>0</td>\n",
       "      <td>0</td>\n",
       "      <td>0</td>\n",
       "      <td>0</td>\n",
       "      <td>1</td>\n",
       "      <td>0</td>\n",
       "      <td>0</td>\n",
       "      <td>0</td>\n",
       "    </tr>\n",
       "    <tr>\n",
       "      <th>4</th>\n",
       "      <td>5</td>\n",
       "      <td>11</td>\n",
       "      <td>0</td>\n",
       "      <td>0</td>\n",
       "      <td>-0.318333</td>\n",
       "      <td>-0.100623</td>\n",
       "      <td>-0.042729</td>\n",
       "      <td>0</td>\n",
       "      <td>0</td>\n",
       "      <td>0</td>\n",
       "      <td>...</td>\n",
       "      <td>0</td>\n",
       "      <td>1</td>\n",
       "      <td>0</td>\n",
       "      <td>0</td>\n",
       "      <td>0</td>\n",
       "      <td>0</td>\n",
       "      <td>0</td>\n",
       "      <td>1</td>\n",
       "      <td>0</td>\n",
       "      <td>0</td>\n",
       "    </tr>\n",
       "  </tbody>\n",
       "</table>\n",
       "<p>5 rows × 124 columns</p>\n",
       "</div>"
      ],
      "text/plain": [
       "   Unnamed: 0  persona_id  movilidad_posgrado_exterior  \\\n",
       "0           1           5                            0   \n",
       "1           2           7                            0   \n",
       "2           3           9                            0   \n",
       "3           4          10                            0   \n",
       "4           5          11                            0   \n",
       "\n",
       "   movilidad_estancias_exterior  produccion_cantidad_libros  \\\n",
       "0                             0                   -0.318333   \n",
       "1                             1                   -0.318333   \n",
       "2                             0                   -0.318333   \n",
       "3                             0                   -0.318333   \n",
       "4                             0                   -0.318333   \n",
       "\n",
       "   produccion_patentes_solicitadas  produccion_patentes_otorgadas  \\\n",
       "0                        -0.100623                      -0.042729   \n",
       "1                        -0.100623                      -0.042729   \n",
       "2                        -0.100623                      -0.042729   \n",
       "3                        -0.100623                      -0.042729   \n",
       "4                        -0.100623                      -0.042729   \n",
       "\n",
       "   actividad_evaluacion_rrhh_becarios  \\\n",
       "0                                   0   \n",
       "1                                   0   \n",
       "2                                   0   \n",
       "3                                   0   \n",
       "4                                   0   \n",
       "\n",
       "   actividad_evaluacion_rrhh_investigadores  \\\n",
       "0                                         0   \n",
       "1                                         0   \n",
       "2                                         1   \n",
       "3                                         0   \n",
       "4                                         0   \n",
       "\n",
       "   actividad_evaluacion_rrhh_premios                 ...                  \\\n",
       "0                                  0                 ...                   \n",
       "1                                  1                 ...                   \n",
       "2                                  0                 ...                   \n",
       "3                                  0                 ...                   \n",
       "4                                  0                 ...                   \n",
       "\n",
       "   clase_cargo_docente_Profesor por convenio  \\\n",
       "0                                          0   \n",
       "1                                          0   \n",
       "2                                          0   \n",
       "3                                          0   \n",
       "4                                          0   \n",
       "\n",
       "   clase_cargo_docente_Profesor titular  \\\n",
       "0                                     1   \n",
       "1                                     0   \n",
       "2                                     0   \n",
       "3                                     0   \n",
       "4                                     1   \n",
       "\n",
       "   clase_cargo_docente_Profesor titular plenario  \\\n",
       "0                                              0   \n",
       "1                                              0   \n",
       "2                                              0   \n",
       "3                                              0   \n",
       "4                                              0   \n",
       "\n",
       "   clase_cargo_docente_Profesor visitante  clase_cargo_docente_no docente  \\\n",
       "0                                       0                               0   \n",
       "1                                       0                               0   \n",
       "2                                       0                               1   \n",
       "3                                       0                               0   \n",
       "4                                       0                               0   \n",
       "\n",
       "   area_exp_CIENCIAS MÉDICAS Y DE LA SALUD  \\\n",
       "0                                        0   \n",
       "1                                        1   \n",
       "2                                        1   \n",
       "3                                        0   \n",
       "4                                        0   \n",
       "\n",
       "   area_exp_CIENCIAS NATURALES Y EXACTAS  area_exp_CIENCIAS SOCIALES  \\\n",
       "0                                      1                           0   \n",
       "1                                      0                           0   \n",
       "2                                      0                           0   \n",
       "3                                      1                           0   \n",
       "4                                      0                           1   \n",
       "\n",
       "   area_exp_HUMANIDADES  area_exp_INGENIERÍAS Y TECNOLOGÍAS  \n",
       "0                     0                                   0  \n",
       "1                     0                                   0  \n",
       "2                     0                                   0  \n",
       "3                     0                                   0  \n",
       "4                     0                                   0  \n",
       "\n",
       "[5 rows x 124 columns]"
      ]
     },
     "execution_count": 68,
     "metadata": {},
     "output_type": "execute_result"
    }
   ],
   "source": [
    "#Lectura de la base 2017\n",
    "df_2017=pd.read_csv('personas_2017_para_estimar.csv')\n",
    "df_2017.head()"
   ]
  },
  {
   "cell_type": "code",
   "execution_count": 69,
   "metadata": {},
   "outputs": [
    {
     "data": {
      "text/html": [
       "<div>\n",
       "<style scoped>\n",
       "    .dataframe tbody tr th:only-of-type {\n",
       "        vertical-align: middle;\n",
       "    }\n",
       "\n",
       "    .dataframe tbody tr th {\n",
       "        vertical-align: top;\n",
       "    }\n",
       "\n",
       "    .dataframe thead th {\n",
       "        text-align: right;\n",
       "    }\n",
       "</style>\n",
       "<table border=\"1\" class=\"dataframe\">\n",
       "  <thead>\n",
       "    <tr style=\"text-align: right;\">\n",
       "      <th></th>\n",
       "      <th>Unnamed: 0</th>\n",
       "      <th>persona_id</th>\n",
       "      <th>movilidad_posgrado_exterior</th>\n",
       "      <th>movilidad_estancias_exterior</th>\n",
       "      <th>produccion_cantidad_libros</th>\n",
       "      <th>produccion_patentes_solicitadas</th>\n",
       "      <th>produccion_patentes_otorgadas</th>\n",
       "      <th>actividad_evaluacion_rrhh_becarios</th>\n",
       "      <th>actividad_evaluacion_rrhh_investigadores</th>\n",
       "      <th>actividad_evaluacion_rrhh_premios</th>\n",
       "      <th>...</th>\n",
       "      <th>clase_cargo_docente_Profesor por convenio</th>\n",
       "      <th>clase_cargo_docente_Profesor titular</th>\n",
       "      <th>clase_cargo_docente_Profesor titular plenario</th>\n",
       "      <th>clase_cargo_docente_Profesor visitante</th>\n",
       "      <th>clase_cargo_docente_no docente</th>\n",
       "      <th>area_exp_CIENCIAS MÉDICAS Y DE LA SALUD</th>\n",
       "      <th>area_exp_CIENCIAS NATURALES Y EXACTAS</th>\n",
       "      <th>area_exp_CIENCIAS SOCIALES</th>\n",
       "      <th>area_exp_HUMANIDADES</th>\n",
       "      <th>area_exp_INGENIERÍAS Y TECNOLOGÍAS</th>\n",
       "    </tr>\n",
       "  </thead>\n",
       "  <tbody>\n",
       "    <tr>\n",
       "      <th>0</th>\n",
       "      <td>1</td>\n",
       "      <td>5</td>\n",
       "      <td>0</td>\n",
       "      <td>0</td>\n",
       "      <td>-0.318333</td>\n",
       "      <td>-0.100623</td>\n",
       "      <td>-0.042729</td>\n",
       "      <td>0</td>\n",
       "      <td>0</td>\n",
       "      <td>0</td>\n",
       "      <td>...</td>\n",
       "      <td>0</td>\n",
       "      <td>1</td>\n",
       "      <td>0</td>\n",
       "      <td>0</td>\n",
       "      <td>0</td>\n",
       "      <td>0</td>\n",
       "      <td>1</td>\n",
       "      <td>0</td>\n",
       "      <td>0</td>\n",
       "      <td>0</td>\n",
       "    </tr>\n",
       "    <tr>\n",
       "      <th>1</th>\n",
       "      <td>2</td>\n",
       "      <td>7</td>\n",
       "      <td>0</td>\n",
       "      <td>1</td>\n",
       "      <td>-0.318333</td>\n",
       "      <td>-0.100623</td>\n",
       "      <td>-0.042729</td>\n",
       "      <td>0</td>\n",
       "      <td>0</td>\n",
       "      <td>1</td>\n",
       "      <td>...</td>\n",
       "      <td>0</td>\n",
       "      <td>0</td>\n",
       "      <td>0</td>\n",
       "      <td>0</td>\n",
       "      <td>0</td>\n",
       "      <td>1</td>\n",
       "      <td>0</td>\n",
       "      <td>0</td>\n",
       "      <td>0</td>\n",
       "      <td>0</td>\n",
       "    </tr>\n",
       "    <tr>\n",
       "      <th>2</th>\n",
       "      <td>3</td>\n",
       "      <td>9</td>\n",
       "      <td>0</td>\n",
       "      <td>0</td>\n",
       "      <td>-0.318333</td>\n",
       "      <td>-0.100623</td>\n",
       "      <td>-0.042729</td>\n",
       "      <td>0</td>\n",
       "      <td>1</td>\n",
       "      <td>0</td>\n",
       "      <td>...</td>\n",
       "      <td>0</td>\n",
       "      <td>0</td>\n",
       "      <td>0</td>\n",
       "      <td>0</td>\n",
       "      <td>1</td>\n",
       "      <td>1</td>\n",
       "      <td>0</td>\n",
       "      <td>0</td>\n",
       "      <td>0</td>\n",
       "      <td>0</td>\n",
       "    </tr>\n",
       "    <tr>\n",
       "      <th>3</th>\n",
       "      <td>4</td>\n",
       "      <td>10</td>\n",
       "      <td>0</td>\n",
       "      <td>0</td>\n",
       "      <td>-0.318333</td>\n",
       "      <td>-0.100623</td>\n",
       "      <td>-0.042729</td>\n",
       "      <td>0</td>\n",
       "      <td>0</td>\n",
       "      <td>0</td>\n",
       "      <td>...</td>\n",
       "      <td>0</td>\n",
       "      <td>0</td>\n",
       "      <td>0</td>\n",
       "      <td>0</td>\n",
       "      <td>0</td>\n",
       "      <td>0</td>\n",
       "      <td>1</td>\n",
       "      <td>0</td>\n",
       "      <td>0</td>\n",
       "      <td>0</td>\n",
       "    </tr>\n",
       "    <tr>\n",
       "      <th>4</th>\n",
       "      <td>5</td>\n",
       "      <td>11</td>\n",
       "      <td>0</td>\n",
       "      <td>0</td>\n",
       "      <td>-0.318333</td>\n",
       "      <td>-0.100623</td>\n",
       "      <td>-0.042729</td>\n",
       "      <td>0</td>\n",
       "      <td>0</td>\n",
       "      <td>0</td>\n",
       "      <td>...</td>\n",
       "      <td>0</td>\n",
       "      <td>1</td>\n",
       "      <td>0</td>\n",
       "      <td>0</td>\n",
       "      <td>0</td>\n",
       "      <td>0</td>\n",
       "      <td>0</td>\n",
       "      <td>1</td>\n",
       "      <td>0</td>\n",
       "      <td>0</td>\n",
       "    </tr>\n",
       "  </tbody>\n",
       "</table>\n",
       "<p>5 rows × 124 columns</p>\n",
       "</div>"
      ],
      "text/plain": [
       "   Unnamed: 0  persona_id  movilidad_posgrado_exterior  \\\n",
       "0           1           5                            0   \n",
       "1           2           7                            0   \n",
       "2           3           9                            0   \n",
       "3           4          10                            0   \n",
       "4           5          11                            0   \n",
       "\n",
       "   movilidad_estancias_exterior  produccion_cantidad_libros  \\\n",
       "0                             0                   -0.318333   \n",
       "1                             1                   -0.318333   \n",
       "2                             0                   -0.318333   \n",
       "3                             0                   -0.318333   \n",
       "4                             0                   -0.318333   \n",
       "\n",
       "   produccion_patentes_solicitadas  produccion_patentes_otorgadas  \\\n",
       "0                        -0.100623                      -0.042729   \n",
       "1                        -0.100623                      -0.042729   \n",
       "2                        -0.100623                      -0.042729   \n",
       "3                        -0.100623                      -0.042729   \n",
       "4                        -0.100623                      -0.042729   \n",
       "\n",
       "   actividad_evaluacion_rrhh_becarios  \\\n",
       "0                                   0   \n",
       "1                                   0   \n",
       "2                                   0   \n",
       "3                                   0   \n",
       "4                                   0   \n",
       "\n",
       "   actividad_evaluacion_rrhh_investigadores  \\\n",
       "0                                         0   \n",
       "1                                         0   \n",
       "2                                         1   \n",
       "3                                         0   \n",
       "4                                         0   \n",
       "\n",
       "   actividad_evaluacion_rrhh_premios                 ...                  \\\n",
       "0                                  0                 ...                   \n",
       "1                                  1                 ...                   \n",
       "2                                  0                 ...                   \n",
       "3                                  0                 ...                   \n",
       "4                                  0                 ...                   \n",
       "\n",
       "   clase_cargo_docente_Profesor por convenio  \\\n",
       "0                                          0   \n",
       "1                                          0   \n",
       "2                                          0   \n",
       "3                                          0   \n",
       "4                                          0   \n",
       "\n",
       "   clase_cargo_docente_Profesor titular  \\\n",
       "0                                     1   \n",
       "1                                     0   \n",
       "2                                     0   \n",
       "3                                     0   \n",
       "4                                     1   \n",
       "\n",
       "   clase_cargo_docente_Profesor titular plenario  \\\n",
       "0                                              0   \n",
       "1                                              0   \n",
       "2                                              0   \n",
       "3                                              0   \n",
       "4                                              0   \n",
       "\n",
       "   clase_cargo_docente_Profesor visitante  clase_cargo_docente_no docente  \\\n",
       "0                                       0                               0   \n",
       "1                                       0                               0   \n",
       "2                                       0                               1   \n",
       "3                                       0                               0   \n",
       "4                                       0                               0   \n",
       "\n",
       "   area_exp_CIENCIAS MÉDICAS Y DE LA SALUD  \\\n",
       "0                                        0   \n",
       "1                                        1   \n",
       "2                                        1   \n",
       "3                                        0   \n",
       "4                                        0   \n",
       "\n",
       "   area_exp_CIENCIAS NATURALES Y EXACTAS  area_exp_CIENCIAS SOCIALES  \\\n",
       "0                                      1                           0   \n",
       "1                                      0                           0   \n",
       "2                                      0                           0   \n",
       "3                                      1                           0   \n",
       "4                                      0                           1   \n",
       "\n",
       "   area_exp_HUMANIDADES  area_exp_INGENIERÍAS Y TECNOLOGÍAS  \n",
       "0                     0                                   0  \n",
       "1                     0                                   0  \n",
       "2                     0                                   0  \n",
       "3                     0                                   0  \n",
       "4                     0                                   0  \n",
       "\n",
       "[5 rows x 124 columns]"
      ]
     },
     "execution_count": 69,
     "metadata": {},
     "output_type": "execute_result"
    }
   ],
   "source": [
    "df_2017_original=pd.read_csv('personas_2017_para_estimar.csv')\n",
    "df_2017_original.head()"
   ]
  },
  {
   "cell_type": "code",
   "execution_count": 70,
   "metadata": {},
   "outputs": [],
   "source": [
    "#Se eliminan columnas que no se usarán\n",
    "df_2017.drop(columns=['Unnamed: 0','persona_id'],inplace=True)"
   ]
  },
  {
   "cell_type": "code",
   "execution_count": 71,
   "metadata": {},
   "outputs": [
    {
     "data": {
      "text/plain": [
       "(62553, 122)"
      ]
     },
     "execution_count": 71,
     "metadata": {},
     "output_type": "execute_result"
    }
   ],
   "source": [
    "df_2017.shape"
   ]
  },
  {
   "cell_type": "code",
   "execution_count": 72,
   "metadata": {},
   "outputs": [
    {
     "data": {
      "text/plain": [
       "(31360, 124)"
      ]
     },
     "execution_count": 72,
     "metadata": {},
     "output_type": "execute_result"
    }
   ],
   "source": [
    "X_train.shape"
   ]
  },
  {
   "cell_type": "code",
   "execution_count": 73,
   "metadata": {},
   "outputs": [
    {
     "data": {
      "text/plain": [
       "Index(['cat_conicet_Gestión CyT', 'cat_conicet_Investigador correspondiente',\n",
       "       'clase_cargo_docente_Docente auxiliar alumno',\n",
       "       'clase_cargo_docente_Docente técnico profesional',\n",
       "       'clase_cargo_docente_Profesor asistente',\n",
       "       'clase_cargo_docente_Profesor ayudante A',\n",
       "       'clase_cargo_docente_Profesor de extensión',\n",
       "       'clase_cargo_docente_Profesor nivel A',\n",
       "       'clase_cargo_docente_Profesor nivel B',\n",
       "       'clase_cargo_docente_Profesor nivel C', 'edad_(10, 20]',\n",
       "       'edad_(90, 100]'],\n",
       "      dtype='object')"
      ]
     },
     "execution_count": 73,
     "metadata": {},
     "output_type": "execute_result"
    }
   ],
   "source": [
    "#Analizamos las columnas que no se encuentran en una u otra matriz\n",
    "df_2017.columns ^ X_train.columns"
   ]
  },
  {
   "cell_type": "code",
   "execution_count": 74,
   "metadata": {},
   "outputs": [],
   "source": [
    "df_2017['cat_conicet_Gestión CyT']=0\n",
    "df_2017['clase_cargo_docente_Docente auxiliar alumno']=0\n",
    "df_2017['clase_cargo_docente_Docente técnico profesional']=0\n",
    "df_2017['clase_cargo_docente_Profesor asistente']=0\n",
    "df_2017['clase_cargo_docente_Profesor de extensión']=0\n",
    "df_2017['clase_cargo_docente_Profesor nivel A']=0\n",
    "df_2017.drop(columns=['edad_(10, 20]'],inplace=True)\n",
    "df_2017.drop(columns=['edad_(90, 100]'],inplace=True)"
   ]
  },
  {
   "cell_type": "code",
   "execution_count": 75,
   "metadata": {},
   "outputs": [
    {
     "data": {
      "text/plain": [
       "Index(['cat_conicet_Investigador correspondiente',\n",
       "       'clase_cargo_docente_Profesor ayudante A',\n",
       "       'clase_cargo_docente_Profesor nivel B',\n",
       "       'clase_cargo_docente_Profesor nivel C'],\n",
       "      dtype='object')"
      ]
     },
     "execution_count": 75,
     "metadata": {},
     "output_type": "execute_result"
    }
   ],
   "source": [
    "#Analizamos las columnas que no se encuentran en una u otra matriz\n",
    "df_2017.columns ^ X_train.columns"
   ]
  },
  {
   "cell_type": "code",
   "execution_count": 76,
   "metadata": {},
   "outputs": [],
   "source": [
    "df_2017.drop(columns=['cat_conicet_Investigador correspondiente'],inplace=True)\n",
    "df_2017.drop(columns=['clase_cargo_docente_Profesor nivel B'],inplace=True)"
   ]
  },
  {
   "cell_type": "code",
   "execution_count": 77,
   "metadata": {},
   "outputs": [
    {
     "data": {
      "text/plain": [
       "Index(['clase_cargo_docente_Profesor ayudante A', 'clase_cargo_docente_Profesor nivel C'], dtype='object')"
      ]
     },
     "execution_count": 77,
     "metadata": {},
     "output_type": "execute_result"
    }
   ],
   "source": [
    "#Analizamos las columnas que no se encuentran en una u otra matriz\n",
    "df_2017.columns ^ X_train.columns"
   ]
  },
  {
   "cell_type": "code",
   "execution_count": 78,
   "metadata": {},
   "outputs": [],
   "source": [
    "df_2017['clase_cargo_docente_Profesor ayudante A']=0"
   ]
  },
  {
   "cell_type": "code",
   "execution_count": 79,
   "metadata": {},
   "outputs": [],
   "source": [
    "df_2017.drop(columns=['clase_cargo_docente_Profesor nivel C'],inplace=True)"
   ]
  },
  {
   "cell_type": "code",
   "execution_count": 80,
   "metadata": {},
   "outputs": [
    {
     "data": {
      "text/plain": [
       "Index([], dtype='object')"
      ]
     },
     "execution_count": 80,
     "metadata": {},
     "output_type": "execute_result"
    }
   ],
   "source": [
    "#Analizamos las columnas que no se encuentran en una u otra matriz\n",
    "df_2017.columns ^ X_train.columns"
   ]
  },
  {
   "cell_type": "code",
   "execution_count": 81,
   "metadata": {},
   "outputs": [],
   "source": [
    "#ponemos las columnas en el mismo orden\n",
    "columnsTitles = X_train.columns\n",
    "df_2017=df_2017.reindex(columns=columnsTitles)"
   ]
  },
  {
   "cell_type": "code",
   "execution_count": 82,
   "metadata": {},
   "outputs": [
    {
     "data": {
      "text/html": [
       "<div>\n",
       "<style scoped>\n",
       "    .dataframe tbody tr th:only-of-type {\n",
       "        vertical-align: middle;\n",
       "    }\n",
       "\n",
       "    .dataframe tbody tr th {\n",
       "        vertical-align: top;\n",
       "    }\n",
       "\n",
       "    .dataframe thead th {\n",
       "        text-align: right;\n",
       "    }\n",
       "</style>\n",
       "<table border=\"1\" class=\"dataframe\">\n",
       "  <thead>\n",
       "    <tr style=\"text-align: right;\">\n",
       "      <th></th>\n",
       "      <th>2017</th>\n",
       "      <th>2012</th>\n",
       "    </tr>\n",
       "  </thead>\n",
       "  <tbody>\n",
       "  </tbody>\n",
       "</table>\n",
       "</div>"
      ],
      "text/plain": [
       "Empty DataFrame\n",
       "Columns: [2017, 2012]\n",
       "Index: []"
      ]
     },
     "execution_count": 82,
     "metadata": {},
     "output_type": "execute_result"
    }
   ],
   "source": [
    "columnas_2017=pd.DataFrame(df_2017.columns)\n",
    "columnas_X_train=pd.DataFrame(X_train.columns)\n",
    "\n",
    "columnas_2017.rename(columns={0:'2017'}, inplace=True)\n",
    "columnas_X_train.rename(columns={0:'2012'}, inplace=True)\n",
    "\n",
    "columnas=pd.concat([columnas_2017,columnas_X_train], axis=1)\n",
    "\n",
    "columnas.loc[columnas['2017']!=columnas['2012']].head()"
   ]
  },
  {
   "cell_type": "code",
   "execution_count": 83,
   "metadata": {},
   "outputs": [],
   "source": [
    "y_pred_2017=opt_lgbm_publico.predict(df_2017)"
   ]
  },
  {
   "cell_type": "code",
   "execution_count": 84,
   "metadata": {},
   "outputs": [],
   "source": [
    "publicara=pd.DataFrame(y_pred_2017)"
   ]
  },
  {
   "cell_type": "code",
   "execution_count": 85,
   "metadata": {},
   "outputs": [],
   "source": [
    "publicara.rename(columns={0:'publicara'}, inplace=True)"
   ]
  },
  {
   "cell_type": "code",
   "execution_count": 86,
   "metadata": {},
   "outputs": [],
   "source": [
    "df_2017=pd.concat([df_2017,publicara], axis=1)"
   ]
  },
  {
   "cell_type": "code",
   "execution_count": 87,
   "metadata": {},
   "outputs": [
    {
     "data": {
      "text/plain": [
       "0    31717\n",
       "1    30836\n",
       "Name: publicara, dtype: int64"
      ]
     },
     "execution_count": 87,
     "metadata": {},
     "output_type": "execute_result"
    }
   ],
   "source": [
    "df_2017['publicara'].value_counts()"
   ]
  },
  {
   "cell_type": "code",
   "execution_count": 88,
   "metadata": {},
   "outputs": [
    {
     "data": {
      "text/html": [
       "<div>\n",
       "<style scoped>\n",
       "    .dataframe tbody tr th:only-of-type {\n",
       "        vertical-align: middle;\n",
       "    }\n",
       "\n",
       "    .dataframe tbody tr th {\n",
       "        vertical-align: top;\n",
       "    }\n",
       "\n",
       "    .dataframe thead th {\n",
       "        text-align: right;\n",
       "    }\n",
       "</style>\n",
       "<table border=\"1\" class=\"dataframe\">\n",
       "  <thead>\n",
       "    <tr style=\"text-align: right;\">\n",
       "      <th></th>\n",
       "      <th>area_exp_CIENCIAS MÉDICAS Y DE LA SALUD</th>\n",
       "      <th>area_exp_CIENCIAS NATURALES Y EXACTAS</th>\n",
       "      <th>area_exp_CIENCIAS SOCIALES</th>\n",
       "      <th>area_exp_HUMANIDADES</th>\n",
       "      <th>area_exp_INGENIERÍAS Y TECNOLOGÍAS</th>\n",
       "    </tr>\n",
       "    <tr>\n",
       "      <th>publicara</th>\n",
       "      <th></th>\n",
       "      <th></th>\n",
       "      <th></th>\n",
       "      <th></th>\n",
       "      <th></th>\n",
       "    </tr>\n",
       "  </thead>\n",
       "  <tbody>\n",
       "    <tr>\n",
       "      <th>0</th>\n",
       "      <td>3724</td>\n",
       "      <td>4949</td>\n",
       "      <td>11740</td>\n",
       "      <td>5321</td>\n",
       "      <td>3996</td>\n",
       "    </tr>\n",
       "    <tr>\n",
       "      <th>1</th>\n",
       "      <td>2914</td>\n",
       "      <td>12908</td>\n",
       "      <td>5803</td>\n",
       "      <td>3248</td>\n",
       "      <td>3394</td>\n",
       "    </tr>\n",
       "  </tbody>\n",
       "</table>\n",
       "</div>"
      ],
      "text/plain": [
       "           area_exp_CIENCIAS MÉDICAS Y DE LA SALUD  \\\n",
       "publicara                                            \n",
       "0                                             3724   \n",
       "1                                             2914   \n",
       "\n",
       "           area_exp_CIENCIAS NATURALES Y EXACTAS  area_exp_CIENCIAS SOCIALES  \\\n",
       "publicara                                                                      \n",
       "0                                           4949                       11740   \n",
       "1                                          12908                        5803   \n",
       "\n",
       "           area_exp_HUMANIDADES  area_exp_INGENIERÍAS Y TECNOLOGÍAS  \n",
       "publicara                                                            \n",
       "0                          5321                                3996  \n",
       "1                          3248                                3394  "
      ]
     },
     "execution_count": 88,
     "metadata": {},
     "output_type": "execute_result"
    }
   ],
   "source": [
    "#Analizamos de qué área son los que publicaran\n",
    "\n",
    "\n",
    "df_2017[['area_exp_CIENCIAS MÉDICAS Y DE LA SALUD','area_exp_CIENCIAS NATURALES Y EXACTAS',\n",
    "                           'area_exp_CIENCIAS SOCIALES',\n",
    "                                 'area_exp_HUMANIDADES',\n",
    "                   'area_exp_INGENIERÍAS Y TECNOLOGÍAS','publicara']].groupby(['publicara']).sum()"
   ]
  },
  {
   "cell_type": "code",
   "execution_count": 89,
   "metadata": {},
   "outputs": [],
   "source": [
    "df_2017_publico_articulo=pd.concat([df_2017_original['persona_id'],\n",
    "                                    df_2017['publicara']], axis=1)"
   ]
  },
  {
   "cell_type": "code",
   "execution_count": 90,
   "metadata": {},
   "outputs": [
    {
     "data": {
      "text/html": [
       "<div>\n",
       "<style scoped>\n",
       "    .dataframe tbody tr th:only-of-type {\n",
       "        vertical-align: middle;\n",
       "    }\n",
       "\n",
       "    .dataframe tbody tr th {\n",
       "        vertical-align: top;\n",
       "    }\n",
       "\n",
       "    .dataframe thead th {\n",
       "        text-align: right;\n",
       "    }\n",
       "</style>\n",
       "<table border=\"1\" class=\"dataframe\">\n",
       "  <thead>\n",
       "    <tr style=\"text-align: right;\">\n",
       "      <th></th>\n",
       "      <th>persona_id</th>\n",
       "      <th>publicara</th>\n",
       "    </tr>\n",
       "  </thead>\n",
       "  <tbody>\n",
       "    <tr>\n",
       "      <th>0</th>\n",
       "      <td>5</td>\n",
       "      <td>1</td>\n",
       "    </tr>\n",
       "    <tr>\n",
       "      <th>1</th>\n",
       "      <td>7</td>\n",
       "      <td>1</td>\n",
       "    </tr>\n",
       "    <tr>\n",
       "      <th>2</th>\n",
       "      <td>9</td>\n",
       "      <td>1</td>\n",
       "    </tr>\n",
       "    <tr>\n",
       "      <th>3</th>\n",
       "      <td>10</td>\n",
       "      <td>1</td>\n",
       "    </tr>\n",
       "    <tr>\n",
       "      <th>4</th>\n",
       "      <td>11</td>\n",
       "      <td>1</td>\n",
       "    </tr>\n",
       "  </tbody>\n",
       "</table>\n",
       "</div>"
      ],
      "text/plain": [
       "   persona_id  publicara\n",
       "0           5          1\n",
       "1           7          1\n",
       "2           9          1\n",
       "3          10          1\n",
       "4          11          1"
      ]
     },
     "execution_count": 90,
     "metadata": {},
     "output_type": "execute_result"
    }
   ],
   "source": [
    "df_2017_publico_articulo.head()"
   ]
  },
  {
   "cell_type": "code",
   "execution_count": 91,
   "metadata": {},
   "outputs": [],
   "source": [
    "df_2017_publico_articulo.to_csv('df_2017_publico_articulo.csv')"
   ]
  },
  {
   "cell_type": "code",
   "execution_count": null,
   "metadata": {},
   "outputs": [],
   "source": []
  }
 ],
 "metadata": {
  "kernelspec": {
   "display_name": "Python 3",
   "language": "python",
   "name": "python3"
  },
  "language_info": {
   "codemirror_mode": {
    "name": "ipython",
    "version": 3
   },
   "file_extension": ".py",
   "mimetype": "text/x-python",
   "name": "python",
   "nbconvert_exporter": "python",
   "pygments_lexer": "ipython3",
   "version": "3.6.8"
  }
 },
 "nbformat": 4,
 "nbformat_minor": 2
}
