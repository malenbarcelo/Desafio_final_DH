{
 "cells": [
  {
   "cell_type": "markdown",
   "metadata": {},
   "source": [
    "### Desafío Integrador\n",
    "#### Análisis de las producciones del personal de Ciencia y Tecnología"
   ]
  },
  {
   "cell_type": "markdown",
   "metadata": {},
   "source": [
    "El personal de CyT en una unidad estadística incluye a todas las personas involucradas directamente en I+D así como a aquellas que brindan servicios directos para las actividades de I + D (como gerentes de I + D, administradores, técnicos y personal de oficina). "
   ]
  },
  {
   "cell_type": "markdown",
   "metadata": {},
   "source": [
    "### Etapa 1: Limpieza de las bases de datos"
   ]
  },
  {
   "cell_type": "markdown",
   "metadata": {},
   "source": [
    "#### 1. Lectura e interpretación de la Personas 2017"
   ]
  },
  {
   "cell_type": "code",
   "execution_count": 1,
   "metadata": {},
   "outputs": [],
   "source": [
    "#Se importa la funcionalidad necesaria\n",
    "import pandas as pd\n",
    "import numpy as np\n",
    "import warnings\n",
    "warnings.filterwarnings('ignore')"
   ]
  },
  {
   "cell_type": "code",
   "execution_count": 2,
   "metadata": {},
   "outputs": [],
   "source": [
    "%matplotlib inline\n",
    "import matplotlib.pyplot as plt\n",
    "import seaborn as sns"
   ]
  },
  {
   "cell_type": "code",
   "execution_count": 3,
   "metadata": {},
   "outputs": [],
   "source": [
    "#Se lee la tabla Personas 2016\n",
    "personas_2017=pd.read_csv('personas_2017.csv',sep=\";\")\n",
    "#Se guarda la tabla original por si se necesita posteriormente\n",
    "personas_2017_original=personas_2017"
   ]
  },
  {
   "cell_type": "code",
   "execution_count": 4,
   "metadata": {},
   "outputs": [
    {
     "data": {
      "text/html": [
       "<div>\n",
       "<style scoped>\n",
       "    .dataframe tbody tr th:only-of-type {\n",
       "        vertical-align: middle;\n",
       "    }\n",
       "\n",
       "    .dataframe tbody tr th {\n",
       "        vertical-align: top;\n",
       "    }\n",
       "\n",
       "    .dataframe thead th {\n",
       "        text-align: right;\n",
       "    }\n",
       "</style>\n",
       "<table border=\"1\" class=\"dataframe\">\n",
       "  <thead>\n",
       "    <tr style=\"text-align: right;\">\n",
       "      <th></th>\n",
       "      <th>persona_id</th>\n",
       "      <th>anio</th>\n",
       "      <th>sexo_id</th>\n",
       "      <th>edad</th>\n",
       "      <th>maximo_grado_academico_id</th>\n",
       "      <th>disciplina_maximo_grado_academico_id</th>\n",
       "      <th>disciplina_titulo_grado_id</th>\n",
       "      <th>disciplina_experticia_id</th>\n",
       "      <th>tipo_personal_id</th>\n",
       "      <th>producciones_ult_anio</th>\n",
       "      <th>...</th>\n",
       "      <th>producciones_ult_3_anios</th>\n",
       "      <th>producciones_ult_4_anios</th>\n",
       "      <th>institucion_trabajo_id</th>\n",
       "      <th>seniority_level</th>\n",
       "      <th>categoria_conicet_id</th>\n",
       "      <th>categoria_incentivos</th>\n",
       "      <th>max_dedicacion_horaria_docente_id</th>\n",
       "      <th>institucion_cargo_docente_id</th>\n",
       "      <th>clase_cargo_docente_id</th>\n",
       "      <th>tipo_condicion_docente_id</th>\n",
       "    </tr>\n",
       "  </thead>\n",
       "  <tbody>\n",
       "    <tr>\n",
       "      <th>0</th>\n",
       "      <td>1</td>\n",
       "      <td>2017</td>\n",
       "      <td>2</td>\n",
       "      <td>42</td>\n",
       "      <td>-1</td>\n",
       "      <td>-1</td>\n",
       "      <td>-1</td>\n",
       "      <td>64</td>\n",
       "      <td>1</td>\n",
       "      <td>0</td>\n",
       "      <td>...</td>\n",
       "      <td>0</td>\n",
       "      <td>1</td>\n",
       "      <td>4488</td>\n",
       "      <td>D</td>\n",
       "      <td>11.0</td>\n",
       "      <td>-1.0</td>\n",
       "      <td>3.0</td>\n",
       "      <td>116.0</td>\n",
       "      <td>22.0</td>\n",
       "      <td>1.0</td>\n",
       "    </tr>\n",
       "    <tr>\n",
       "      <th>1</th>\n",
       "      <td>5</td>\n",
       "      <td>2017</td>\n",
       "      <td>1</td>\n",
       "      <td>54</td>\n",
       "      <td>1</td>\n",
       "      <td>255</td>\n",
       "      <td>255</td>\n",
       "      <td>255</td>\n",
       "      <td>3</td>\n",
       "      <td>1</td>\n",
       "      <td>...</td>\n",
       "      <td>6</td>\n",
       "      <td>8</td>\n",
       "      <td>118</td>\n",
       "      <td>B</td>\n",
       "      <td>3.0</td>\n",
       "      <td>3.0</td>\n",
       "      <td>3.0</td>\n",
       "      <td>118.0</td>\n",
       "      <td>17.0</td>\n",
       "      <td>2.0</td>\n",
       "    </tr>\n",
       "    <tr>\n",
       "      <th>2</th>\n",
       "      <td>7</td>\n",
       "      <td>2017</td>\n",
       "      <td>2</td>\n",
       "      <td>36</td>\n",
       "      <td>1</td>\n",
       "      <td>158</td>\n",
       "      <td>111</td>\n",
       "      <td>158</td>\n",
       "      <td>3</td>\n",
       "      <td>9</td>\n",
       "      <td>...</td>\n",
       "      <td>16</td>\n",
       "      <td>20</td>\n",
       "      <td>587</td>\n",
       "      <td>C</td>\n",
       "      <td>1.0</td>\n",
       "      <td>-1.0</td>\n",
       "      <td>2.0</td>\n",
       "      <td>3507.0</td>\n",
       "      <td>20.0</td>\n",
       "      <td>2.0</td>\n",
       "    </tr>\n",
       "    <tr>\n",
       "      <th>3</th>\n",
       "      <td>9</td>\n",
       "      <td>2017</td>\n",
       "      <td>2</td>\n",
       "      <td>67</td>\n",
       "      <td>1</td>\n",
       "      <td>256</td>\n",
       "      <td>256</td>\n",
       "      <td>157</td>\n",
       "      <td>3</td>\n",
       "      <td>0</td>\n",
       "      <td>...</td>\n",
       "      <td>0</td>\n",
       "      <td>6</td>\n",
       "      <td>5191</td>\n",
       "      <td>B</td>\n",
       "      <td>NaN</td>\n",
       "      <td>NaN</td>\n",
       "      <td>NaN</td>\n",
       "      <td>NaN</td>\n",
       "      <td>NaN</td>\n",
       "      <td>NaN</td>\n",
       "    </tr>\n",
       "    <tr>\n",
       "      <th>4</th>\n",
       "      <td>10</td>\n",
       "      <td>2017</td>\n",
       "      <td>2</td>\n",
       "      <td>57</td>\n",
       "      <td>5</td>\n",
       "      <td>248</td>\n",
       "      <td>248</td>\n",
       "      <td>29</td>\n",
       "      <td>3</td>\n",
       "      <td>4</td>\n",
       "      <td>...</td>\n",
       "      <td>6</td>\n",
       "      <td>9</td>\n",
       "      <td>44</td>\n",
       "      <td>C</td>\n",
       "      <td>-1.0</td>\n",
       "      <td>4.0</td>\n",
       "      <td>3.0</td>\n",
       "      <td>101.0</td>\n",
       "      <td>21.0</td>\n",
       "      <td>1.0</td>\n",
       "    </tr>\n",
       "  </tbody>\n",
       "</table>\n",
       "<p>5 rows × 21 columns</p>\n",
       "</div>"
      ],
      "text/plain": [
       "   persona_id  anio  sexo_id  edad  maximo_grado_academico_id  \\\n",
       "0           1  2017        2    42                         -1   \n",
       "1           5  2017        1    54                          1   \n",
       "2           7  2017        2    36                          1   \n",
       "3           9  2017        2    67                          1   \n",
       "4          10  2017        2    57                          5   \n",
       "\n",
       "   disciplina_maximo_grado_academico_id  disciplina_titulo_grado_id  \\\n",
       "0                                    -1                          -1   \n",
       "1                                   255                         255   \n",
       "2                                   158                         111   \n",
       "3                                   256                         256   \n",
       "4                                   248                         248   \n",
       "\n",
       "   disciplina_experticia_id  tipo_personal_id  producciones_ult_anio  \\\n",
       "0                        64                 1                      0   \n",
       "1                       255                 3                      1   \n",
       "2                       158                 3                      9   \n",
       "3                       157                 3                      0   \n",
       "4                        29                 3                      4   \n",
       "\n",
       "             ...              producciones_ult_3_anios  \\\n",
       "0            ...                                     0   \n",
       "1            ...                                     6   \n",
       "2            ...                                    16   \n",
       "3            ...                                     0   \n",
       "4            ...                                     6   \n",
       "\n",
       "   producciones_ult_4_anios  institucion_trabajo_id  seniority_level  \\\n",
       "0                         1                    4488              D     \n",
       "1                         8                     118              B     \n",
       "2                        20                     587              C     \n",
       "3                         6                    5191              B     \n",
       "4                         9                      44              C     \n",
       "\n",
       "  categoria_conicet_id  categoria_incentivos  \\\n",
       "0                 11.0                  -1.0   \n",
       "1                  3.0                   3.0   \n",
       "2                  1.0                  -1.0   \n",
       "3                  NaN                   NaN   \n",
       "4                 -1.0                   4.0   \n",
       "\n",
       "   max_dedicacion_horaria_docente_id  institucion_cargo_docente_id  \\\n",
       "0                                3.0                         116.0   \n",
       "1                                3.0                         118.0   \n",
       "2                                2.0                        3507.0   \n",
       "3                                NaN                           NaN   \n",
       "4                                3.0                         101.0   \n",
       "\n",
       "   clase_cargo_docente_id  tipo_condicion_docente_id  \n",
       "0                    22.0                        1.0  \n",
       "1                    17.0                        2.0  \n",
       "2                    20.0                        2.0  \n",
       "3                     NaN                        NaN  \n",
       "4                    21.0                        1.0  \n",
       "\n",
       "[5 rows x 21 columns]"
      ]
     },
     "execution_count": 4,
     "metadata": {},
     "output_type": "execute_result"
    }
   ],
   "source": [
    "personas_2017.head()"
   ]
  },
  {
   "cell_type": "code",
   "execution_count": 5,
   "metadata": {},
   "outputs": [
    {
     "data": {
      "text/html": [
       "<div>\n",
       "<style scoped>\n",
       "    .dataframe tbody tr th:only-of-type {\n",
       "        vertical-align: middle;\n",
       "    }\n",
       "\n",
       "    .dataframe tbody tr th {\n",
       "        vertical-align: top;\n",
       "    }\n",
       "\n",
       "    .dataframe thead th {\n",
       "        text-align: right;\n",
       "    }\n",
       "</style>\n",
       "<table border=\"1\" class=\"dataframe\">\n",
       "  <thead>\n",
       "    <tr style=\"text-align: right;\">\n",
       "      <th></th>\n",
       "      <th>persona_id</th>\n",
       "      <th>edad</th>\n",
       "      <th>producciones_ult_anio</th>\n",
       "      <th>producciones_ult_2_anios</th>\n",
       "      <th>producciones_ult_3_anios</th>\n",
       "      <th>producciones_ult_4_anios</th>\n",
       "    </tr>\n",
       "  </thead>\n",
       "  <tbody>\n",
       "    <tr>\n",
       "      <th>0</th>\n",
       "      <td>1</td>\n",
       "      <td>42</td>\n",
       "      <td>0</td>\n",
       "      <td>0</td>\n",
       "      <td>0</td>\n",
       "      <td>1</td>\n",
       "    </tr>\n",
       "    <tr>\n",
       "      <th>1</th>\n",
       "      <td>5</td>\n",
       "      <td>54</td>\n",
       "      <td>1</td>\n",
       "      <td>4</td>\n",
       "      <td>6</td>\n",
       "      <td>8</td>\n",
       "    </tr>\n",
       "    <tr>\n",
       "      <th>2</th>\n",
       "      <td>7</td>\n",
       "      <td>36</td>\n",
       "      <td>9</td>\n",
       "      <td>12</td>\n",
       "      <td>16</td>\n",
       "      <td>20</td>\n",
       "    </tr>\n",
       "    <tr>\n",
       "      <th>3</th>\n",
       "      <td>9</td>\n",
       "      <td>67</td>\n",
       "      <td>0</td>\n",
       "      <td>0</td>\n",
       "      <td>0</td>\n",
       "      <td>6</td>\n",
       "    </tr>\n",
       "    <tr>\n",
       "      <th>4</th>\n",
       "      <td>10</td>\n",
       "      <td>57</td>\n",
       "      <td>4</td>\n",
       "      <td>5</td>\n",
       "      <td>6</td>\n",
       "      <td>9</td>\n",
       "    </tr>\n",
       "  </tbody>\n",
       "</table>\n",
       "</div>"
      ],
      "text/plain": [
       "   persona_id  edad  producciones_ult_anio  producciones_ult_2_anios  \\\n",
       "0           1    42                      0                         0   \n",
       "1           5    54                      1                         4   \n",
       "2           7    36                      9                        12   \n",
       "3           9    67                      0                         0   \n",
       "4          10    57                      4                         5   \n",
       "\n",
       "   producciones_ult_3_anios  producciones_ult_4_anios  \n",
       "0                         0                         1  \n",
       "1                         6                         8  \n",
       "2                        16                        20  \n",
       "3                         0                         6  \n",
       "4                         6                         9  "
      ]
     },
     "execution_count": 5,
     "metadata": {},
     "output_type": "execute_result"
    }
   ],
   "source": [
    "personas_2017[['persona_id','edad','producciones_ult_anio','producciones_ult_2_anios', 'producciones_ult_3_anios',\n",
    "       'producciones_ult_4_anios']].head()"
   ]
  },
  {
   "cell_type": "code",
   "execution_count": 6,
   "metadata": {},
   "outputs": [
    {
     "data": {
      "text/plain": [
       "(66685, 21)"
      ]
     },
     "execution_count": 6,
     "metadata": {},
     "output_type": "execute_result"
    }
   ],
   "source": [
    "personas_2017.shape"
   ]
  },
  {
   "cell_type": "code",
   "execution_count": 7,
   "metadata": {},
   "outputs": [
    {
     "data": {
      "text/plain": [
       "Index(['persona_id', 'anio', 'sexo_id', 'edad', 'maximo_grado_academico_id',\n",
       "       'disciplina_maximo_grado_academico_id', 'disciplina_titulo_grado_id',\n",
       "       'disciplina_experticia_id', 'tipo_personal_id', 'producciones_ult_anio',\n",
       "       'producciones_ult_2_anios', 'producciones_ult_3_anios',\n",
       "       'producciones_ult_4_anios', 'institucion_trabajo_id', 'seniority_level',\n",
       "       'categoria_conicet_id', 'categoria_incentivos',\n",
       "       'max_dedicacion_horaria_docente_id', 'institucion_cargo_docente_id',\n",
       "       'clase_cargo_docente_id', 'tipo_condicion_docente_id'],\n",
       "      dtype='object')"
      ]
     },
     "execution_count": 7,
     "metadata": {},
     "output_type": "execute_result"
    }
   ],
   "source": [
    "personas_2017.columns"
   ]
  },
  {
   "cell_type": "markdown",
   "metadata": {},
   "source": [
    "#### 2. Unión de la tabla Personas 2017 con las tablas de referencias"
   ]
  },
  {
   "cell_type": "markdown",
   "metadata": {},
   "source": [
    "La base de datos original tiene la mayoría de sus datos con códigos, para poder interpretar a qué corresponde cada código se cuenta con tablas de referencias que los describen. Se procede a unir cada código con su identificación."
   ]
  },
  {
   "cell_type": "code",
   "execution_count": 8,
   "metadata": {},
   "outputs": [
    {
     "data": {
      "text/html": [
       "<div>\n",
       "<style scoped>\n",
       "    .dataframe tbody tr th:only-of-type {\n",
       "        vertical-align: middle;\n",
       "    }\n",
       "\n",
       "    .dataframe tbody tr th {\n",
       "        vertical-align: top;\n",
       "    }\n",
       "\n",
       "    .dataframe thead th {\n",
       "        text-align: right;\n",
       "    }\n",
       "</style>\n",
       "<table border=\"1\" class=\"dataframe\">\n",
       "  <thead>\n",
       "    <tr style=\"text-align: right;\">\n",
       "      <th></th>\n",
       "      <th>sexo_id</th>\n",
       "      <th>sexo_descripcion</th>\n",
       "    </tr>\n",
       "  </thead>\n",
       "  <tbody>\n",
       "    <tr>\n",
       "      <th>0</th>\n",
       "      <td>1</td>\n",
       "      <td>FEMENINO</td>\n",
       "    </tr>\n",
       "    <tr>\n",
       "      <th>1</th>\n",
       "      <td>2</td>\n",
       "      <td>MASCULINO</td>\n",
       "    </tr>\n",
       "  </tbody>\n",
       "</table>\n",
       "</div>"
      ],
      "text/plain": [
       "   sexo_id sexo_descripcion\n",
       "0        1         FEMENINO\n",
       "1        2        MASCULINO"
      ]
     },
     "execution_count": 8,
     "metadata": {},
     "output_type": "execute_result"
    }
   ],
   "source": [
    "#Analizamos las referencias de sexo:\n",
    "sexo=pd.read_csv('ref_sexo.csv',sep=\";\")\n",
    "sexo"
   ]
  },
  {
   "cell_type": "code",
   "execution_count": 9,
   "metadata": {},
   "outputs": [
    {
     "data": {
      "text/html": [
       "<div>\n",
       "<style scoped>\n",
       "    .dataframe tbody tr th:only-of-type {\n",
       "        vertical-align: middle;\n",
       "    }\n",
       "\n",
       "    .dataframe tbody tr th {\n",
       "        vertical-align: top;\n",
       "    }\n",
       "\n",
       "    .dataframe thead th {\n",
       "        text-align: right;\n",
       "    }\n",
       "</style>\n",
       "<table border=\"1\" class=\"dataframe\">\n",
       "  <thead>\n",
       "    <tr style=\"text-align: right;\">\n",
       "      <th></th>\n",
       "      <th>persona_id</th>\n",
       "      <th>anio</th>\n",
       "      <th>sexo</th>\n",
       "      <th>edad</th>\n",
       "      <th>maximo_grado_academico_id</th>\n",
       "      <th>disciplina_maximo_grado_academico_id</th>\n",
       "      <th>disciplina_titulo_grado_id</th>\n",
       "      <th>disciplina_experticia_id</th>\n",
       "      <th>tipo_personal_id</th>\n",
       "      <th>producciones_ult_anio</th>\n",
       "      <th>...</th>\n",
       "      <th>producciones_ult_3_anios</th>\n",
       "      <th>producciones_ult_4_anios</th>\n",
       "      <th>institucion_trabajo_id</th>\n",
       "      <th>seniority_level</th>\n",
       "      <th>categoria_conicet_id</th>\n",
       "      <th>categoria_incentivos</th>\n",
       "      <th>max_dedicacion_horaria_docente_id</th>\n",
       "      <th>institucion_cargo_docente_id</th>\n",
       "      <th>clase_cargo_docente_id</th>\n",
       "      <th>tipo_condicion_docente_id</th>\n",
       "    </tr>\n",
       "  </thead>\n",
       "  <tbody>\n",
       "    <tr>\n",
       "      <th>0</th>\n",
       "      <td>1</td>\n",
       "      <td>2017</td>\n",
       "      <td>M</td>\n",
       "      <td>42</td>\n",
       "      <td>-1</td>\n",
       "      <td>-1</td>\n",
       "      <td>-1</td>\n",
       "      <td>64</td>\n",
       "      <td>1</td>\n",
       "      <td>0</td>\n",
       "      <td>...</td>\n",
       "      <td>0</td>\n",
       "      <td>1</td>\n",
       "      <td>4488</td>\n",
       "      <td>D</td>\n",
       "      <td>11.0</td>\n",
       "      <td>-1.0</td>\n",
       "      <td>3.0</td>\n",
       "      <td>116.0</td>\n",
       "      <td>22.0</td>\n",
       "      <td>1.0</td>\n",
       "    </tr>\n",
       "    <tr>\n",
       "      <th>1</th>\n",
       "      <td>5</td>\n",
       "      <td>2017</td>\n",
       "      <td>F</td>\n",
       "      <td>54</td>\n",
       "      <td>1</td>\n",
       "      <td>255</td>\n",
       "      <td>255</td>\n",
       "      <td>255</td>\n",
       "      <td>3</td>\n",
       "      <td>1</td>\n",
       "      <td>...</td>\n",
       "      <td>6</td>\n",
       "      <td>8</td>\n",
       "      <td>118</td>\n",
       "      <td>B</td>\n",
       "      <td>3.0</td>\n",
       "      <td>3.0</td>\n",
       "      <td>3.0</td>\n",
       "      <td>118.0</td>\n",
       "      <td>17.0</td>\n",
       "      <td>2.0</td>\n",
       "    </tr>\n",
       "    <tr>\n",
       "      <th>2</th>\n",
       "      <td>7</td>\n",
       "      <td>2017</td>\n",
       "      <td>M</td>\n",
       "      <td>36</td>\n",
       "      <td>1</td>\n",
       "      <td>158</td>\n",
       "      <td>111</td>\n",
       "      <td>158</td>\n",
       "      <td>3</td>\n",
       "      <td>9</td>\n",
       "      <td>...</td>\n",
       "      <td>16</td>\n",
       "      <td>20</td>\n",
       "      <td>587</td>\n",
       "      <td>C</td>\n",
       "      <td>1.0</td>\n",
       "      <td>-1.0</td>\n",
       "      <td>2.0</td>\n",
       "      <td>3507.0</td>\n",
       "      <td>20.0</td>\n",
       "      <td>2.0</td>\n",
       "    </tr>\n",
       "    <tr>\n",
       "      <th>3</th>\n",
       "      <td>9</td>\n",
       "      <td>2017</td>\n",
       "      <td>M</td>\n",
       "      <td>67</td>\n",
       "      <td>1</td>\n",
       "      <td>256</td>\n",
       "      <td>256</td>\n",
       "      <td>157</td>\n",
       "      <td>3</td>\n",
       "      <td>0</td>\n",
       "      <td>...</td>\n",
       "      <td>0</td>\n",
       "      <td>6</td>\n",
       "      <td>5191</td>\n",
       "      <td>B</td>\n",
       "      <td>NaN</td>\n",
       "      <td>NaN</td>\n",
       "      <td>NaN</td>\n",
       "      <td>NaN</td>\n",
       "      <td>NaN</td>\n",
       "      <td>NaN</td>\n",
       "    </tr>\n",
       "    <tr>\n",
       "      <th>4</th>\n",
       "      <td>10</td>\n",
       "      <td>2017</td>\n",
       "      <td>M</td>\n",
       "      <td>57</td>\n",
       "      <td>5</td>\n",
       "      <td>248</td>\n",
       "      <td>248</td>\n",
       "      <td>29</td>\n",
       "      <td>3</td>\n",
       "      <td>4</td>\n",
       "      <td>...</td>\n",
       "      <td>6</td>\n",
       "      <td>9</td>\n",
       "      <td>44</td>\n",
       "      <td>C</td>\n",
       "      <td>-1.0</td>\n",
       "      <td>4.0</td>\n",
       "      <td>3.0</td>\n",
       "      <td>101.0</td>\n",
       "      <td>21.0</td>\n",
       "      <td>1.0</td>\n",
       "    </tr>\n",
       "  </tbody>\n",
       "</table>\n",
       "<p>5 rows × 21 columns</p>\n",
       "</div>"
      ],
      "text/plain": [
       "   persona_id  anio sexo  edad  maximo_grado_academico_id  \\\n",
       "0           1  2017    M    42                         -1   \n",
       "1           5  2017    F    54                          1   \n",
       "2           7  2017    M    36                          1   \n",
       "3           9  2017    M    67                          1   \n",
       "4          10  2017    M    57                          5   \n",
       "\n",
       "   disciplina_maximo_grado_academico_id  disciplina_titulo_grado_id  \\\n",
       "0                                    -1                          -1   \n",
       "1                                   255                         255   \n",
       "2                                   158                         111   \n",
       "3                                   256                         256   \n",
       "4                                   248                         248   \n",
       "\n",
       "   disciplina_experticia_id  tipo_personal_id  producciones_ult_anio  \\\n",
       "0                        64                 1                      0   \n",
       "1                       255                 3                      1   \n",
       "2                       158                 3                      9   \n",
       "3                       157                 3                      0   \n",
       "4                        29                 3                      4   \n",
       "\n",
       "             ...              producciones_ult_3_anios  \\\n",
       "0            ...                                     0   \n",
       "1            ...                                     6   \n",
       "2            ...                                    16   \n",
       "3            ...                                     0   \n",
       "4            ...                                     6   \n",
       "\n",
       "   producciones_ult_4_anios  institucion_trabajo_id  seniority_level  \\\n",
       "0                         1                    4488              D     \n",
       "1                         8                     118              B     \n",
       "2                        20                     587              C     \n",
       "3                         6                    5191              B     \n",
       "4                         9                      44              C     \n",
       "\n",
       "  categoria_conicet_id  categoria_incentivos  \\\n",
       "0                 11.0                  -1.0   \n",
       "1                  3.0                   3.0   \n",
       "2                  1.0                  -1.0   \n",
       "3                  NaN                   NaN   \n",
       "4                 -1.0                   4.0   \n",
       "\n",
       "   max_dedicacion_horaria_docente_id  institucion_cargo_docente_id  \\\n",
       "0                                3.0                         116.0   \n",
       "1                                3.0                         118.0   \n",
       "2                                2.0                        3507.0   \n",
       "3                                NaN                           NaN   \n",
       "4                                3.0                         101.0   \n",
       "\n",
       "   clase_cargo_docente_id  tipo_condicion_docente_id  \n",
       "0                    22.0                        1.0  \n",
       "1                    17.0                        2.0  \n",
       "2                    20.0                        2.0  \n",
       "3                     NaN                        NaN  \n",
       "4                    21.0                        1.0  \n",
       "\n",
       "[5 rows x 21 columns]"
      ]
     },
     "execution_count": 9,
     "metadata": {},
     "output_type": "execute_result"
    }
   ],
   "source": [
    "#Se cambian los números por \"F\" y \"M\" para hacer más simple la identificación de dummies\n",
    "personas_2017['sexo_id']= personas_2017['sexo_id'].apply(lambda x: 'F' if x ==1 else 'M')\n",
    "personas_2017.rename(columns={\"sexo_id\": \"sexo\"},inplace=True)\n",
    "personas_2017.head()"
   ]
  },
  {
   "cell_type": "code",
   "execution_count": 10,
   "metadata": {},
   "outputs": [
    {
     "data": {
      "text/html": [
       "<div>\n",
       "<style scoped>\n",
       "    .dataframe tbody tr th:only-of-type {\n",
       "        vertical-align: middle;\n",
       "    }\n",
       "\n",
       "    .dataframe tbody tr th {\n",
       "        vertical-align: top;\n",
       "    }\n",
       "\n",
       "    .dataframe thead th {\n",
       "        text-align: right;\n",
       "    }\n",
       "</style>\n",
       "<table border=\"1\" class=\"dataframe\">\n",
       "  <thead>\n",
       "    <tr style=\"text-align: right;\">\n",
       "      <th></th>\n",
       "      <th>grado_academico_id</th>\n",
       "      <th>descripcion</th>\n",
       "    </tr>\n",
       "  </thead>\n",
       "  <tbody>\n",
       "    <tr>\n",
       "      <th>0</th>\n",
       "      <td>-1</td>\n",
       "      <td>Sin datos</td>\n",
       "    </tr>\n",
       "    <tr>\n",
       "      <th>1</th>\n",
       "      <td>1</td>\n",
       "      <td>Universitario de posgrado/doctorado</td>\n",
       "    </tr>\n",
       "    <tr>\n",
       "      <th>2</th>\n",
       "      <td>2</td>\n",
       "      <td>Universitario de posgrado/maestría</td>\n",
       "    </tr>\n",
       "    <tr>\n",
       "      <th>3</th>\n",
       "      <td>3</td>\n",
       "      <td>Universitario de posgrado/especialización</td>\n",
       "    </tr>\n",
       "    <tr>\n",
       "      <th>4</th>\n",
       "      <td>4</td>\n",
       "      <td>Universitario de posgrado/perfeccionamiento</td>\n",
       "    </tr>\n",
       "    <tr>\n",
       "      <th>5</th>\n",
       "      <td>5</td>\n",
       "      <td>Universitario de grado</td>\n",
       "    </tr>\n",
       "    <tr>\n",
       "      <th>6</th>\n",
       "      <td>6</td>\n",
       "      <td>Terciario no universitario</td>\n",
       "    </tr>\n",
       "    <tr>\n",
       "      <th>7</th>\n",
       "      <td>7</td>\n",
       "      <td>Medio</td>\n",
       "    </tr>\n",
       "    <tr>\n",
       "      <th>8</th>\n",
       "      <td>8</td>\n",
       "      <td>Básico</td>\n",
       "    </tr>\n",
       "    <tr>\n",
       "      <th>9</th>\n",
       "      <td>9</td>\n",
       "      <td>Universitario de posdoctorado</td>\n",
       "    </tr>\n",
       "  </tbody>\n",
       "</table>\n",
       "</div>"
      ],
      "text/plain": [
       "   grado_academico_id                                  descripcion\n",
       "0                  -1                                    Sin datos\n",
       "1                   1          Universitario de posgrado/doctorado\n",
       "2                   2           Universitario de posgrado/maestría\n",
       "3                   3    Universitario de posgrado/especialización\n",
       "4                   4  Universitario de posgrado/perfeccionamiento\n",
       "5                   5                       Universitario de grado\n",
       "6                   6                   Terciario no universitario\n",
       "7                   7                                        Medio\n",
       "8                   8                                       Básico\n",
       "9                   9                Universitario de posdoctorado"
      ]
     },
     "execution_count": 10,
     "metadata": {},
     "output_type": "execute_result"
    }
   ],
   "source": [
    "#Analizamos las referencias de grado académico\n",
    "grado=pd.read_csv('ref_grado_academico.csv',sep=\";\")\n",
    "grado"
   ]
  },
  {
   "cell_type": "code",
   "execution_count": 11,
   "metadata": {},
   "outputs": [],
   "source": [
    "#Se hace un merge con la tabla original\n",
    "personas_2017=pd.merge(personas_2017, grado, how='left',left_on='maximo_grado_academico_id',right_on='grado_academico_id')\n",
    "#Se Se renombra la columna \"descripcion\" para mejor interpretación\n",
    "personas_2017.rename(columns={\"descripcion\": \"max_grado_academico\"},inplace=True)\n",
    "#Se eliminan las columnas que ya no se necesitan\n",
    "personas_2017.drop(columns=['maximo_grado_academico_id','grado_academico_id'],inplace=True)"
   ]
  },
  {
   "cell_type": "code",
   "execution_count": 12,
   "metadata": {},
   "outputs": [
    {
     "data": {
      "text/html": [
       "<div>\n",
       "<style scoped>\n",
       "    .dataframe tbody tr th:only-of-type {\n",
       "        vertical-align: middle;\n",
       "    }\n",
       "\n",
       "    .dataframe tbody tr th {\n",
       "        vertical-align: top;\n",
       "    }\n",
       "\n",
       "    .dataframe thead th {\n",
       "        text-align: right;\n",
       "    }\n",
       "</style>\n",
       "<table border=\"1\" class=\"dataframe\">\n",
       "  <thead>\n",
       "    <tr style=\"text-align: right;\">\n",
       "      <th></th>\n",
       "      <th>disciplina_id</th>\n",
       "      <th>gran_area_codigo</th>\n",
       "      <th>gran_area_descripcion</th>\n",
       "      <th>area_codigo</th>\n",
       "      <th>area_descripcion</th>\n",
       "      <th>disciplina_codigo</th>\n",
       "      <th>disciplina_descripcion</th>\n",
       "    </tr>\n",
       "  </thead>\n",
       "  <tbody>\n",
       "    <tr>\n",
       "      <th>0</th>\n",
       "      <td>-1</td>\n",
       "      <td>-1</td>\n",
       "      <td>SIN DATOS</td>\n",
       "      <td>-1.0</td>\n",
       "      <td>SIN DATOS</td>\n",
       "      <td>-1</td>\n",
       "      <td>SIN DATOS</td>\n",
       "    </tr>\n",
       "    <tr>\n",
       "      <th>1</th>\n",
       "      <td>1</td>\n",
       "      <td>1</td>\n",
       "      <td>CIENCIAS NATURALES Y EXACTAS</td>\n",
       "      <td>1.0</td>\n",
       "      <td>SIN DATOS</td>\n",
       "      <td>1.0.0</td>\n",
       "      <td>SIN DATOS</td>\n",
       "    </tr>\n",
       "    <tr>\n",
       "      <th>2</th>\n",
       "      <td>2</td>\n",
       "      <td>1</td>\n",
       "      <td>CIENCIAS NATURALES Y EXACTAS</td>\n",
       "      <td>1.1</td>\n",
       "      <td>Matemáticas</td>\n",
       "      <td>1.1.0</td>\n",
       "      <td>SIN DATOS</td>\n",
       "    </tr>\n",
       "    <tr>\n",
       "      <th>3</th>\n",
       "      <td>3</td>\n",
       "      <td>1</td>\n",
       "      <td>CIENCIAS NATURALES Y EXACTAS</td>\n",
       "      <td>1.1</td>\n",
       "      <td>Matemáticas</td>\n",
       "      <td>1.1.1</td>\n",
       "      <td>Matemática Pura</td>\n",
       "    </tr>\n",
       "    <tr>\n",
       "      <th>4</th>\n",
       "      <td>4</td>\n",
       "      <td>1</td>\n",
       "      <td>CIENCIAS NATURALES Y EXACTAS</td>\n",
       "      <td>1.1</td>\n",
       "      <td>Matemáticas</td>\n",
       "      <td>1.1.2</td>\n",
       "      <td>Matemática Aplicada</td>\n",
       "    </tr>\n",
       "  </tbody>\n",
       "</table>\n",
       "</div>"
      ],
      "text/plain": [
       "   disciplina_id  gran_area_codigo         gran_area_descripcion  area_codigo  \\\n",
       "0             -1                -1                     SIN DATOS         -1.0   \n",
       "1              1                 1  CIENCIAS NATURALES Y EXACTAS          1.0   \n",
       "2              2                 1  CIENCIAS NATURALES Y EXACTAS          1.1   \n",
       "3              3                 1  CIENCIAS NATURALES Y EXACTAS          1.1   \n",
       "4              4                 1  CIENCIAS NATURALES Y EXACTAS          1.1   \n",
       "\n",
       "  area_descripcion disciplina_codigo disciplina_descripcion  \n",
       "0        SIN DATOS                -1              SIN DATOS  \n",
       "1        SIN DATOS             1.0.0              SIN DATOS  \n",
       "2      Matemáticas             1.1.0              SIN DATOS  \n",
       "3      Matemáticas             1.1.1        Matemática Pura  \n",
       "4      Matemáticas             1.1.2    Matemática Aplicada  "
      ]
     },
     "execution_count": 12,
     "metadata": {},
     "output_type": "execute_result"
    }
   ],
   "source": [
    "#Analizamos las referenicas de diciplinas\n",
    "disciplina=pd.read_csv('ref_disciplina.csv',sep=\";\")\n",
    "disciplina.head()"
   ]
  },
  {
   "cell_type": "code",
   "execution_count": 13,
   "metadata": {},
   "outputs": [
    {
     "data": {
      "text/html": [
       "<div>\n",
       "<style scoped>\n",
       "    .dataframe tbody tr th:only-of-type {\n",
       "        vertical-align: middle;\n",
       "    }\n",
       "\n",
       "    .dataframe tbody tr th {\n",
       "        vertical-align: top;\n",
       "    }\n",
       "\n",
       "    .dataframe thead th {\n",
       "        text-align: right;\n",
       "    }\n",
       "</style>\n",
       "<table border=\"1\" class=\"dataframe\">\n",
       "  <thead>\n",
       "    <tr style=\"text-align: right;\">\n",
       "      <th></th>\n",
       "      <th>disciplina_id</th>\n",
       "      <th>gran_area_descripcion</th>\n",
       "    </tr>\n",
       "  </thead>\n",
       "  <tbody>\n",
       "    <tr>\n",
       "      <th>0</th>\n",
       "      <td>-1</td>\n",
       "      <td>SIN DATOS</td>\n",
       "    </tr>\n",
       "    <tr>\n",
       "      <th>1</th>\n",
       "      <td>1</td>\n",
       "      <td>CIENCIAS NATURALES Y EXACTAS</td>\n",
       "    </tr>\n",
       "    <tr>\n",
       "      <th>2</th>\n",
       "      <td>2</td>\n",
       "      <td>CIENCIAS NATURALES Y EXACTAS</td>\n",
       "    </tr>\n",
       "    <tr>\n",
       "      <th>3</th>\n",
       "      <td>3</td>\n",
       "      <td>CIENCIAS NATURALES Y EXACTAS</td>\n",
       "    </tr>\n",
       "    <tr>\n",
       "      <th>4</th>\n",
       "      <td>4</td>\n",
       "      <td>CIENCIAS NATURALES Y EXACTAS</td>\n",
       "    </tr>\n",
       "  </tbody>\n",
       "</table>\n",
       "</div>"
      ],
      "text/plain": [
       "   disciplina_id         gran_area_descripcion\n",
       "0             -1                     SIN DATOS\n",
       "1              1  CIENCIAS NATURALES Y EXACTAS\n",
       "2              2  CIENCIAS NATURALES Y EXACTAS\n",
       "3              3  CIENCIAS NATURALES Y EXACTAS\n",
       "4              4  CIENCIAS NATURALES Y EXACTAS"
      ]
     },
     "execution_count": 13,
     "metadata": {},
     "output_type": "execute_result"
    }
   ],
   "source": [
    "#Nos quedamos con Gran Área expertis\n",
    "disciplina=disciplina[['disciplina_id','gran_area_descripcion']]\n",
    "disciplina.head()"
   ]
  },
  {
   "cell_type": "code",
   "execution_count": 14,
   "metadata": {},
   "outputs": [
    {
     "data": {
      "text/plain": [
       "CIENCIAS MÉDICAS Y DE LA SALUD    70\n",
       "INGENIERÍAS Y TECNOLOGÍAS         65\n",
       "CIENCIAS NATURALES Y EXACTAS      59\n",
       "CIENCIAS SOCIALES                 42\n",
       "HUMANIDADES                       28\n",
       "CIENCIAS AGRÍCOLAS                24\n",
       "SIN DATOS                          1\n",
       "Name: gran_area_descripcion, dtype: int64"
      ]
     },
     "execution_count": 14,
     "metadata": {},
     "output_type": "execute_result"
    }
   ],
   "source": [
    "disciplina['gran_area_descripcion'].value_counts()"
   ]
  },
  {
   "cell_type": "code",
   "execution_count": 15,
   "metadata": {},
   "outputs": [],
   "source": [
    "#Hacemos merge con disciplina_experticia_id, renombramos columnas y eliminamos las que no se necesitan\n",
    "personas_2017=pd.merge(personas_2017, disciplina, how='left',left_on='disciplina_experticia_id',right_on='disciplina_id')\n",
    "personas_2017.rename(columns={\"gran_area_descripcion\": \"gran_area_experticia\"},inplace=True)\n",
    "personas_2017.drop(columns=['disciplina_experticia_id','disciplina_id'],inplace=True)"
   ]
  },
  {
   "cell_type": "code",
   "execution_count": 16,
   "metadata": {},
   "outputs": [
    {
     "data": {
      "text/html": [
       "<div>\n",
       "<style scoped>\n",
       "    .dataframe tbody tr th:only-of-type {\n",
       "        vertical-align: middle;\n",
       "    }\n",
       "\n",
       "    .dataframe tbody tr th {\n",
       "        vertical-align: top;\n",
       "    }\n",
       "\n",
       "    .dataframe thead th {\n",
       "        text-align: right;\n",
       "    }\n",
       "</style>\n",
       "<table border=\"1\" class=\"dataframe\">\n",
       "  <thead>\n",
       "    <tr style=\"text-align: right;\">\n",
       "      <th></th>\n",
       "      <th>tipo_personal_id</th>\n",
       "      <th>tipo_personal_descripcion</th>\n",
       "    </tr>\n",
       "  </thead>\n",
       "  <tbody>\n",
       "    <tr>\n",
       "      <th>0</th>\n",
       "      <td>-1</td>\n",
       "      <td>SIN DATOS</td>\n",
       "    </tr>\n",
       "    <tr>\n",
       "      <th>1</th>\n",
       "      <td>1</td>\n",
       "      <td>BECARIO DE I+D</td>\n",
       "    </tr>\n",
       "    <tr>\n",
       "      <th>2</th>\n",
       "      <td>2</td>\n",
       "      <td>OTRO PERSONAL DE LA INSTITUCION</td>\n",
       "    </tr>\n",
       "    <tr>\n",
       "      <th>3</th>\n",
       "      <td>3</td>\n",
       "      <td>INVESTIGADOR</td>\n",
       "    </tr>\n",
       "    <tr>\n",
       "      <th>4</th>\n",
       "      <td>4</td>\n",
       "      <td>DOCENTE</td>\n",
       "    </tr>\n",
       "  </tbody>\n",
       "</table>\n",
       "</div>"
      ],
      "text/plain": [
       "   tipo_personal_id        tipo_personal_descripcion\n",
       "0                -1                        SIN DATOS\n",
       "1                 1                   BECARIO DE I+D\n",
       "2                 2  OTRO PERSONAL DE LA INSTITUCION\n",
       "3                 3                     INVESTIGADOR\n",
       "4                 4                          DOCENTE"
      ]
     },
     "execution_count": 16,
     "metadata": {},
     "output_type": "execute_result"
    }
   ],
   "source": [
    "#Analizamos las referencias de tipo de personal\n",
    "personal=pd.read_csv('ref_tipo_personal.csv',sep=\";\")\n",
    "personal"
   ]
  },
  {
   "cell_type": "code",
   "execution_count": 17,
   "metadata": {},
   "outputs": [],
   "source": [
    "#Se hace un merge con la tabla original\n",
    "personas_2017=pd.merge(personas_2017, personal, how='left',left_on='tipo_personal_id',right_on='tipo_personal_id')\n",
    "#Se Se renombra la columna \"Tipo_personal_descripcion\" para simplificar\n",
    "personas_2017.rename(columns={\"tipo_personal_descripcion\": \"tipo_personal\"},inplace=True)\n",
    "#Se eliminan las columnas que ya no se necesitan\n",
    "personas_2017.drop(columns='tipo_personal_id',inplace=True)"
   ]
  },
  {
   "cell_type": "code",
   "execution_count": 18,
   "metadata": {},
   "outputs": [
    {
     "data": {
      "text/html": [
       "<div>\n",
       "<style scoped>\n",
       "    .dataframe tbody tr th:only-of-type {\n",
       "        vertical-align: middle;\n",
       "    }\n",
       "\n",
       "    .dataframe tbody tr th {\n",
       "        vertical-align: top;\n",
       "    }\n",
       "\n",
       "    .dataframe thead th {\n",
       "        text-align: right;\n",
       "    }\n",
       "</style>\n",
       "<table border=\"1\" class=\"dataframe\">\n",
       "  <thead>\n",
       "    <tr style=\"text-align: right;\">\n",
       "      <th></th>\n",
       "      <th>tipo_condicion_docente_id</th>\n",
       "      <th>tipo_condicion_docente_descripcion</th>\n",
       "    </tr>\n",
       "  </thead>\n",
       "  <tbody>\n",
       "    <tr>\n",
       "      <th>0</th>\n",
       "      <td>-1</td>\n",
       "      <td>Sin datos</td>\n",
       "    </tr>\n",
       "    <tr>\n",
       "      <th>1</th>\n",
       "      <td>1</td>\n",
       "      <td>Regular o por concurso</td>\n",
       "    </tr>\n",
       "    <tr>\n",
       "      <th>2</th>\n",
       "      <td>2</td>\n",
       "      <td>Interino</td>\n",
       "    </tr>\n",
       "    <tr>\n",
       "      <th>3</th>\n",
       "      <td>3</td>\n",
       "      <td>Por contrato</td>\n",
       "    </tr>\n",
       "  </tbody>\n",
       "</table>\n",
       "</div>"
      ],
      "text/plain": [
       "   tipo_condicion_docente_id tipo_condicion_docente_descripcion\n",
       "0                         -1                          Sin datos\n",
       "1                          1             Regular o por concurso\n",
       "2                          2                           Interino\n",
       "3                          3                       Por contrato"
      ]
     },
     "execution_count": 18,
     "metadata": {},
     "output_type": "execute_result"
    }
   ],
   "source": [
    "#Analizamos las referencias de tipo condicion docente\n",
    "condicion=pd.read_csv('ref_tipo_condicion_docente.csv',sep=\";\")\n",
    "condicion.head()"
   ]
  },
  {
   "cell_type": "code",
   "execution_count": 19,
   "metadata": {},
   "outputs": [],
   "source": [
    "#Hacemos merge con tipo_condicion_docente_id, renombramos columnas y eliminamos las que no se necesitan\n",
    "personas_2017=pd.merge(personas_2017, condicion, how='left',left_on='tipo_condicion_docente_id',right_on='tipo_condicion_docente_id')\n",
    "personas_2017.rename(columns={\"tipo_condicion_docente_descripcion\": \"condicion_docente\"},inplace=True)\n",
    "personas_2017.drop(columns=['tipo_condicion_docente_id'],inplace=True)"
   ]
  },
  {
   "cell_type": "code",
   "execution_count": 20,
   "metadata": {},
   "outputs": [
    {
     "data": {
      "text/html": [
       "<div>\n",
       "<style scoped>\n",
       "    .dataframe tbody tr th:only-of-type {\n",
       "        vertical-align: middle;\n",
       "    }\n",
       "\n",
       "    .dataframe tbody tr th {\n",
       "        vertical-align: top;\n",
       "    }\n",
       "\n",
       "    .dataframe thead th {\n",
       "        text-align: right;\n",
       "    }\n",
       "</style>\n",
       "<table border=\"1\" class=\"dataframe\">\n",
       "  <thead>\n",
       "    <tr style=\"text-align: right;\">\n",
       "      <th></th>\n",
       "      <th>tipo_dedicacion_horaria_semanal_id</th>\n",
       "      <th>tipo_dedicacion_horaria_semanal_descripcion</th>\n",
       "    </tr>\n",
       "  </thead>\n",
       "  <tbody>\n",
       "    <tr>\n",
       "      <th>0</th>\n",
       "      <td>-1</td>\n",
       "      <td>Sin datos</td>\n",
       "    </tr>\n",
       "    <tr>\n",
       "      <th>1</th>\n",
       "      <td>1</td>\n",
       "      <td>40 horas o más</td>\n",
       "    </tr>\n",
       "    <tr>\n",
       "      <th>2</th>\n",
       "      <td>2</td>\n",
       "      <td>De 20 hasta 39 horas</td>\n",
       "    </tr>\n",
       "    <tr>\n",
       "      <th>3</th>\n",
       "      <td>3</td>\n",
       "      <td>De 0 hasta 19 horas</td>\n",
       "    </tr>\n",
       "  </tbody>\n",
       "</table>\n",
       "</div>"
      ],
      "text/plain": [
       "   tipo_dedicacion_horaria_semanal_id  \\\n",
       "0                                  -1   \n",
       "1                                   1   \n",
       "2                                   2   \n",
       "3                                   3   \n",
       "\n",
       "  tipo_dedicacion_horaria_semanal_descripcion  \n",
       "0                                   Sin datos  \n",
       "1                              40 horas o más  \n",
       "2                        De 20 hasta 39 horas  \n",
       "3                         De 0 hasta 19 horas  "
      ]
     },
     "execution_count": 20,
     "metadata": {},
     "output_type": "execute_result"
    }
   ],
   "source": [
    "#Analizamos dedicacion horaria semanal\n",
    "dedicacion=pd.read_csv('ref_dedicacion_horaria.csv',sep=\";\")\n",
    "dedicacion"
   ]
  },
  {
   "cell_type": "code",
   "execution_count": 21,
   "metadata": {},
   "outputs": [],
   "source": [
    "#Hacemos merge con tipo_max_dedicacion_horaria_dicente_id, renombramos columnas y eliminamos las que no se necesitan\n",
    "personas_2017=pd.merge(personas_2017, dedicacion, how='left',left_on='max_dedicacion_horaria_docente_id',right_on='tipo_dedicacion_horaria_semanal_id')\n",
    "personas_2017.rename(columns={\"tipo_dedicacion_horaria_semanal_descripcion\": \"ded_horaria_docente\"},inplace=True)\n",
    "personas_2017.drop(columns=['max_dedicacion_horaria_docente_id','tipo_dedicacion_horaria_semanal_id'],inplace=True)"
   ]
  },
  {
   "cell_type": "code",
   "execution_count": 22,
   "metadata": {},
   "outputs": [
    {
     "data": {
      "text/html": [
       "<div>\n",
       "<style scoped>\n",
       "    .dataframe tbody tr th:only-of-type {\n",
       "        vertical-align: middle;\n",
       "    }\n",
       "\n",
       "    .dataframe tbody tr th {\n",
       "        vertical-align: top;\n",
       "    }\n",
       "\n",
       "    .dataframe thead th {\n",
       "        text-align: right;\n",
       "    }\n",
       "</style>\n",
       "<table border=\"1\" class=\"dataframe\">\n",
       "  <thead>\n",
       "    <tr style=\"text-align: right;\">\n",
       "      <th></th>\n",
       "      <th>clase_cargo_id</th>\n",
       "      <th>tipo_cargo_descripcion</th>\n",
       "      <th>grupo_cargo_descripcion</th>\n",
       "      <th>clase_cargo_descripcion</th>\n",
       "      <th>equivalencia_cargo_docente_descripcion</th>\n",
       "    </tr>\n",
       "  </thead>\n",
       "  <tbody>\n",
       "    <tr>\n",
       "      <th>0</th>\n",
       "      <td>1</td>\n",
       "      <td>VACIO/NULO</td>\n",
       "      <td>VACIO/NULO</td>\n",
       "      <td>VACIO/NULO</td>\n",
       "      <td>NaN</td>\n",
       "    </tr>\n",
       "    <tr>\n",
       "      <th>1</th>\n",
       "      <td>2</td>\n",
       "      <td>ERRONEO</td>\n",
       "      <td>ERRONEO</td>\n",
       "      <td>ERRONEO</td>\n",
       "      <td>NaN</td>\n",
       "    </tr>\n",
       "    <tr>\n",
       "      <th>2</th>\n",
       "      <td>3</td>\n",
       "      <td>Docente nivel superior universitario y/o posgrado</td>\n",
       "      <td>Cargos docentes de nivel superior universitari...</td>\n",
       "      <td>VACIO/NULO</td>\n",
       "      <td>NaN</td>\n",
       "    </tr>\n",
       "    <tr>\n",
       "      <th>3</th>\n",
       "      <td>4</td>\n",
       "      <td>Cargos de I+D - En organismos científico-tecno...</td>\n",
       "      <td>Cargos de I+D en OCTs - CONICET</td>\n",
       "      <td>Investigador asistente</td>\n",
       "      <td>NaN</td>\n",
       "    </tr>\n",
       "    <tr>\n",
       "      <th>4</th>\n",
       "      <td>5</td>\n",
       "      <td>Cargos de I+D - En organismos científico-tecno...</td>\n",
       "      <td>Cargos de I+D en OCTs - CONICET</td>\n",
       "      <td>Investigador adjunto</td>\n",
       "      <td>NaN</td>\n",
       "    </tr>\n",
       "  </tbody>\n",
       "</table>\n",
       "</div>"
      ],
      "text/plain": [
       "   clase_cargo_id                             tipo_cargo_descripcion  \\\n",
       "0               1                                         VACIO/NULO   \n",
       "1               2                                            ERRONEO   \n",
       "2               3  Docente nivel superior universitario y/o posgrado   \n",
       "3               4  Cargos de I+D - En organismos científico-tecno...   \n",
       "4               5  Cargos de I+D - En organismos científico-tecno...   \n",
       "\n",
       "                             grupo_cargo_descripcion clase_cargo_descripcion  \\\n",
       "0                                         VACIO/NULO              VACIO/NULO   \n",
       "1                                            ERRONEO                 ERRONEO   \n",
       "2  Cargos docentes de nivel superior universitari...              VACIO/NULO   \n",
       "3                    Cargos de I+D en OCTs - CONICET  Investigador asistente   \n",
       "4                    Cargos de I+D en OCTs - CONICET    Investigador adjunto   \n",
       "\n",
       "  equivalencia_cargo_docente_descripcion  \n",
       "0                                    NaN  \n",
       "1                                    NaN  \n",
       "2                                    NaN  \n",
       "3                                    NaN  \n",
       "4                                    NaN  "
      ]
     },
     "execution_count": 22,
     "metadata": {},
     "output_type": "execute_result"
    }
   ],
   "source": [
    "#Analizamos el cargo docente\n",
    "cargo=pd.read_csv('ref_clase_cargo.csv',sep=\";\")\n",
    "cargo.head()"
   ]
  },
  {
   "cell_type": "code",
   "execution_count": 23,
   "metadata": {},
   "outputs": [],
   "source": [
    "#Nos quedamos con tipo, grupo y clase de cargo\n",
    "cargo=cargo[['clase_cargo_id','tipo_cargo_descripcion','grupo_cargo_descripcion','clase_cargo_descripcion']]"
   ]
  },
  {
   "cell_type": "code",
   "execution_count": 24,
   "metadata": {},
   "outputs": [],
   "source": [
    "#Hacemos merge con clase_cargo_docente_id, renombramos columnas y eliminamos las que no se necesitan\n",
    "personas_2017=pd.merge(personas_2017, cargo, how='left',left_on='clase_cargo_docente_id',right_on='clase_cargo_id')\n",
    "personas_2017.rename(columns={'tipo_cargo_descripcion':'tipo_cargo_docente','grupo_cargo_descripcion': 'grupo_cargo_docente',\n",
    "                  'clase_cargo_descripcion':'clase_cargo_docente'},inplace=True)\n",
    "personas_2017.drop(columns=['clase_cargo_docente_id','clase_cargo_id'],inplace=True)"
   ]
  },
  {
   "cell_type": "code",
   "execution_count": 25,
   "metadata": {},
   "outputs": [
    {
     "data": {
      "text/html": [
       "<div>\n",
       "<style scoped>\n",
       "    .dataframe tbody tr th:only-of-type {\n",
       "        vertical-align: middle;\n",
       "    }\n",
       "\n",
       "    .dataframe tbody tr th {\n",
       "        vertical-align: top;\n",
       "    }\n",
       "\n",
       "    .dataframe thead th {\n",
       "        text-align: right;\n",
       "    }\n",
       "</style>\n",
       "<table border=\"1\" class=\"dataframe\">\n",
       "  <thead>\n",
       "    <tr style=\"text-align: right;\">\n",
       "      <th></th>\n",
       "      <th>categoria_conicet_id</th>\n",
       "      <th>categoria_conicet_descripcion</th>\n",
       "    </tr>\n",
       "  </thead>\n",
       "  <tbody>\n",
       "    <tr>\n",
       "      <th>0</th>\n",
       "      <td>-1</td>\n",
       "      <td>No pertenece a Conicet</td>\n",
       "    </tr>\n",
       "    <tr>\n",
       "      <th>1</th>\n",
       "      <td>1</td>\n",
       "      <td>Investigador asistente</td>\n",
       "    </tr>\n",
       "    <tr>\n",
       "      <th>2</th>\n",
       "      <td>2</td>\n",
       "      <td>Investigador adjunto</td>\n",
       "    </tr>\n",
       "    <tr>\n",
       "      <th>3</th>\n",
       "      <td>3</td>\n",
       "      <td>Investigador independiente</td>\n",
       "    </tr>\n",
       "    <tr>\n",
       "      <th>4</th>\n",
       "      <td>4</td>\n",
       "      <td>Investigador principal</td>\n",
       "    </tr>\n",
       "    <tr>\n",
       "      <th>5</th>\n",
       "      <td>5</td>\n",
       "      <td>Investigador superior</td>\n",
       "    </tr>\n",
       "    <tr>\n",
       "      <th>6</th>\n",
       "      <td>6</td>\n",
       "      <td>Becario doctoral</td>\n",
       "    </tr>\n",
       "    <tr>\n",
       "      <th>7</th>\n",
       "      <td>7</td>\n",
       "      <td>Becario postdoctoral</td>\n",
       "    </tr>\n",
       "    <tr>\n",
       "      <th>8</th>\n",
       "      <td>8</td>\n",
       "      <td>Personal de apoyo</td>\n",
       "    </tr>\n",
       "    <tr>\n",
       "      <th>9</th>\n",
       "      <td>9</td>\n",
       "      <td>Gestión CyT</td>\n",
       "    </tr>\n",
       "    <tr>\n",
       "      <th>10</th>\n",
       "      <td>10</td>\n",
       "      <td>Pasante</td>\n",
       "    </tr>\n",
       "    <tr>\n",
       "      <th>11</th>\n",
       "      <td>11</td>\n",
       "      <td>Otro personal Conicet</td>\n",
       "    </tr>\n",
       "    <tr>\n",
       "      <th>12</th>\n",
       "      <td>12</td>\n",
       "      <td>Investigador correspondiente</td>\n",
       "    </tr>\n",
       "    <tr>\n",
       "      <th>13</th>\n",
       "      <td>13</td>\n",
       "      <td>Investigador superior emérito</td>\n",
       "    </tr>\n",
       "  </tbody>\n",
       "</table>\n",
       "</div>"
      ],
      "text/plain": [
       "    categoria_conicet_id  categoria_conicet_descripcion\n",
       "0                     -1         No pertenece a Conicet\n",
       "1                      1         Investigador asistente\n",
       "2                      2           Investigador adjunto\n",
       "3                      3     Investigador independiente\n",
       "4                      4         Investigador principal\n",
       "5                      5          Investigador superior\n",
       "6                      6               Becario doctoral\n",
       "7                      7           Becario postdoctoral\n",
       "8                      8              Personal de apoyo\n",
       "9                      9                    Gestión CyT\n",
       "10                    10                        Pasante\n",
       "11                    11          Otro personal Conicet\n",
       "12                    12   Investigador correspondiente\n",
       "13                    13  Investigador superior emérito"
      ]
     },
     "execution_count": 25,
     "metadata": {},
     "output_type": "execute_result"
    }
   ],
   "source": [
    "#Analizamos categoria conicet\n",
    "conicet=pd.read_csv('ref_categoria_conicet.csv',sep=\";\")\n",
    "conicet"
   ]
  },
  {
   "cell_type": "code",
   "execution_count": 26,
   "metadata": {},
   "outputs": [],
   "source": [
    "#Hacemos merge con categoria_conicet_id renombramos columnas y eliminamos las que no se necesitan\n",
    "personas_2017=pd.merge(personas_2017, conicet, how='left',left_on='categoria_conicet_id',right_on='categoria_conicet_id')\n",
    "personas_2017.rename(columns={\"categoria_conicet_descripcion\": \"categoria_conicet\"},inplace=True)\n",
    "personas_2017.drop(columns=['categoria_conicet_id'],inplace=True)"
   ]
  },
  {
   "cell_type": "markdown",
   "metadata": {},
   "source": [
    "#### 3. Se lleva la edad a rangos de edades"
   ]
  },
  {
   "cell_type": "code",
   "execution_count": 27,
   "metadata": {},
   "outputs": [],
   "source": [
    "personas_2017['rango_edad']=pd.cut(personas_2017['edad'],[0,10,20,30,40,50,60,70,80,90,100])\n",
    "personas_2017.drop(columns='edad',inplace=True)"
   ]
  },
  {
   "cell_type": "markdown",
   "metadata": {},
   "source": [
    "#### 4. Transformación de los datos de producciones de los últimos años"
   ]
  },
  {
   "cell_type": "markdown",
   "metadata": {},
   "source": [
    "Los datos de producciones de los último 2, 3 y 4 años incluyen las producciones del último año. Como lo que se busca es determinar si una persona hará una producción durante el transcurso del año, hay que restarle a los datos mencionados anteriormente  las producciones del último año."
   ]
  },
  {
   "cell_type": "code",
   "execution_count": 28,
   "metadata": {},
   "outputs": [
    {
     "name": "stdout",
     "output_type": "stream",
     "text": [
      "Tipo de datos:  int64\n",
      "Nan:  False    66685\n",
      "Name: producciones_ult_anio, dtype: int64\n",
      "Cantidad valores negativos:  (4686, 23)\n",
      "Valores negativos:  [-1]\n"
     ]
    }
   ],
   "source": [
    "#Primero se analizan los datos de cada columnas para ver si hay errores\n",
    "#Producciones último año. \n",
    "#Son todos int, no hay NaN, pero se identifican 4686 valores negativos. Se detecta que son todos -1\n",
    "print('Tipo de datos: ',personas_2017['producciones_ult_anio'].dtypes)\n",
    "print('Nan: ',personas_2017['producciones_ult_anio'].isnull().value_counts())\n",
    "print('Cantidad valores negativos: ',personas_2017.loc[personas_2017['producciones_ult_anio']<0].shape)\n",
    "print('Valores negativos: ',personas_2017.loc[personas_2017['producciones_ult_anio']<0].producciones_ult_anio.unique())\n"
   ]
  },
  {
   "cell_type": "code",
   "execution_count": 29,
   "metadata": {},
   "outputs": [
    {
     "name": "stdout",
     "output_type": "stream",
     "text": [
      "\n",
      " Nan producciones_ult_2_anios:  False    66685\n",
      "Name: producciones_ult_2_anios, dtype: int64 \n",
      " Nan producciones_ult_3_anios:  False    66685\n",
      "Name: producciones_ult_3_anios, dtype: int64 \n",
      " Nan producciones_ult_4_anios:  False    66685\n",
      "Name: producciones_ult_4_anios, dtype: int64 \n",
      "\n",
      "Cantidad valores negativos:\n",
      " producciones_ult_2_anios:  (4686, 23) \n",
      " producciones_ult_3_anios:  (4686, 23) \n",
      " producciones_ult_4_anios:  (4686, 23) \n",
      "\n",
      "Valores negativos: \n",
      " producciones_ult_2_anios:  [-1] \n",
      " producciones_ult_3_anios:  [-1] \n",
      " producciones_ult_4_anios:  [-1] \n",
      "\n"
     ]
    }
   ],
   "source": [
    "#Producciones últimos 2, 3 y 4 años \n",
    "#Son todos int, no hay NaN, y se identifican la misma cantidad de valores negativos. Además son todos -1\n",
    "\n",
    "print('\\n Nan producciones_ult_2_anios: ',personas_2017['producciones_ult_2_anios'].isnull().value_counts(),\n",
    "      '\\n Nan producciones_ult_3_anios: ',personas_2017['producciones_ult_3_anios'].isnull().value_counts(),\n",
    "      '\\n Nan producciones_ult_4_anios: ',personas_2017['producciones_ult_4_anios'].isnull().value_counts(),'\\n')\n",
    "\n",
    "\n",
    "print('Cantidad valores negativos:\\n',\n",
    "      'producciones_ult_2_anios: ',personas_2017.loc[personas_2017['producciones_ult_2_anios']<0].shape,'\\n',\n",
    "      'producciones_ult_3_anios: ',personas_2017.loc[personas_2017['producciones_ult_3_anios']<0].shape,'\\n',\n",
    "      'producciones_ult_4_anios: ',personas_2017.loc[personas_2017['producciones_ult_4_anios']<0].shape,'\\n')\n",
    "\n",
    "\n",
    "print('Valores negativos: \\n',\n",
    "      'producciones_ult_2_anios: ',personas_2017.loc[personas_2017['producciones_ult_2_anios']<0].producciones_ult_2_anios.unique(),'\\n',\n",
    "      'producciones_ult_3_anios: ',personas_2017.loc[personas_2017['producciones_ult_3_anios']<0].producciones_ult_3_anios.unique(),'\\n',\n",
    "      'producciones_ult_4_anios: ',personas_2017.loc[personas_2017['producciones_ult_4_anios']<0].producciones_ult_4_anios.unique(),'\\n')\n",
    "    "
   ]
  },
  {
   "cell_type": "code",
   "execution_count": 30,
   "metadata": {},
   "outputs": [
    {
     "data": {
      "text/plain": [
       "(4686, 23)"
      ]
     },
     "execution_count": 30,
     "metadata": {},
     "output_type": "execute_result"
    }
   ],
   "source": [
    "#Se comprueba que los valores negativos son todos de los mismo registros:\n",
    "personas_2017.loc[(personas_2017['producciones_ult_anio']<0) &\n",
    "       (personas_2017['producciones_ult_2_anios']<0) &\n",
    "       (personas_2017['producciones_ult_3_anios']<0) &\n",
    "       (personas_2017['producciones_ult_4_anios']<0)].shape"
   ]
  },
  {
   "cell_type": "code",
   "execution_count": 31,
   "metadata": {},
   "outputs": [],
   "source": [
    "#Se asume que son 0 producciones y se cambian los datos\n",
    "personas_2017['producciones_ult_anio']= personas_2017['producciones_ult_anio'].apply(lambda x: x if x >=0 else 0)\n",
    "personas_2017['producciones_ult_2_anios']= personas_2017['producciones_ult_2_anios'].apply(lambda x: x if x >=0 else 0)\n",
    "personas_2017['producciones_ult_3_anios']= personas_2017['producciones_ult_3_anios'].apply(lambda x: x if x >=0 else 0)\n",
    "personas_2017['producciones_ult_4_anios']= personas_2017['producciones_ult_4_anios'].apply(lambda x: x if x >=0 else 0)"
   ]
  },
  {
   "cell_type": "code",
   "execution_count": 32,
   "metadata": {},
   "outputs": [
    {
     "name": "stdout",
     "output_type": "stream",
     "text": [
      "Cantidad valores negativos producciones_ult_anio:  (0, 23)\n",
      "Cantidad valores negativos:\n",
      " producciones_ult_2_anios:  (0, 23) \n",
      " producciones_ult_3_anios:  (0, 23) \n",
      " producciones_ult_4_anios:  (0, 23) \n",
      "\n"
     ]
    }
   ],
   "source": [
    "#Se comprueba que se hayan eliminado los valores negativos\n",
    "print('Cantidad valores negativos producciones_ult_anio: ',personas_2017.loc[personas_2017['producciones_ult_anio']<0].shape)\n",
    "print('Cantidad valores negativos:\\n',\n",
    "      'producciones_ult_2_anios: ',personas_2017.loc[personas_2017['producciones_ult_2_anios']<0].shape,'\\n',\n",
    "      'producciones_ult_3_anios: ',personas_2017.loc[personas_2017['producciones_ult_3_anios']<0].shape,'\\n',\n",
    "      'producciones_ult_4_anios: ',personas_2017.loc[personas_2017['producciones_ult_4_anios']<0].shape,'\\n')"
   ]
  },
  {
   "cell_type": "code",
   "execution_count": 33,
   "metadata": {},
   "outputs": [],
   "source": [
    "#Se le resta a cada año las producciones de los otros años\n",
    "\n",
    "personas_2017['producciones_ult_4_anios']=personas_2017['producciones_ult_4_anios']-personas_2017['producciones_ult_3_anios']\n",
    "personas_2017['producciones_ult_3_anios']=personas_2017['producciones_ult_3_anios']-personas_2017['producciones_ult_2_anios']\n",
    "personas_2017['producciones_ult_2_anios']=personas_2017['producciones_ult_2_anios']-personas_2017['producciones_ult_anio']\n",
    "\n",
    "#se renombran las columnas\n",
    "\n",
    "personas_2017.rename(columns={\"producciones_ult_4_anios\": \"prod_3_años_ant\",\n",
    "                              \"producciones_ult_3_anios\": \"prod_2_años_ant\",\n",
    "                             \"producciones_ult_2_anios\": \"prod_año_ant\",\n",
    "                             \"producciones_ult_anio\": \"prod_ultimo_año\"},inplace=True)"
   ]
  },
  {
   "cell_type": "code",
   "execution_count": 34,
   "metadata": {},
   "outputs": [
    {
     "name": "stdout",
     "output_type": "stream",
     "text": [
      "134292\n",
      "122306\n",
      "100920\n",
      "81372\n"
     ]
    }
   ],
   "source": [
    "print(personas_2017[\"prod_3_años_ant\"].sum())\n",
    "print(personas_2017[\"prod_2_años_ant\"].sum())\n",
    "print(personas_2017[\"prod_año_ant\"].sum())\n",
    "print(personas_2017[\"prod_ultimo_año\"].sum())"
   ]
  },
  {
   "cell_type": "code",
   "execution_count": 35,
   "metadata": {},
   "outputs": [
    {
     "data": {
      "text/plain": [
       "438890"
      ]
     },
     "execution_count": 35,
     "metadata": {},
     "output_type": "execute_result"
    }
   ],
   "source": [
    "134292+122306+100920+81372\n"
   ]
  },
  {
   "cell_type": "markdown",
   "metadata": {},
   "source": [
    "#### 5. Se eliminan columnas que no se usarán"
   ]
  },
  {
   "cell_type": "code",
   "execution_count": 36,
   "metadata": {},
   "outputs": [],
   "source": [
    "personas_2017=personas_2017.drop(columns=['anio','disciplina_maximo_grado_academico_id',\n",
    "       'disciplina_titulo_grado_id','institucion_cargo_docente_id','categoria_incentivos','institucion_trabajo_id'])"
   ]
  },
  {
   "cell_type": "markdown",
   "metadata": {},
   "source": [
    "#### 5. Análisis de NaN y valores erróneos"
   ]
  },
  {
   "cell_type": "code",
   "execution_count": 37,
   "metadata": {},
   "outputs": [
    {
     "data": {
      "text/plain": [
       "F    38628\n",
       "M    28057\n",
       "Name: sexo, dtype: int64"
      ]
     },
     "execution_count": 37,
     "metadata": {},
     "output_type": "execute_result"
    }
   ],
   "source": [
    "#Sexo. No se identifican NaN ni valores erróneos\n",
    "personas_2017['sexo'].value_counts()"
   ]
  },
  {
   "cell_type": "code",
   "execution_count": 38,
   "metadata": {},
   "outputs": [
    {
     "data": {
      "text/plain": [
       "False    66685\n",
       "Name: sexo, dtype: int64"
      ]
     },
     "execution_count": 38,
     "metadata": {},
     "output_type": "execute_result"
    }
   ],
   "source": [
    "personas_2017['sexo'].isnull().value_counts()"
   ]
  },
  {
   "cell_type": "code",
   "execution_count": 39,
   "metadata": {},
   "outputs": [
    {
     "data": {
      "text/plain": [
       "(30, 40]     20478\n",
       "(40, 50]     16061\n",
       "(50, 60]     14285\n",
       "(20, 30]      8123\n",
       "(60, 70]      6592\n",
       "(70, 80]      1034\n",
       "(80, 90]        81\n",
       "(10, 20]        28\n",
       "(90, 100]        2\n",
       "(0, 10]          0\n",
       "Name: rango_edad, dtype: int64"
      ]
     },
     "execution_count": 39,
     "metadata": {},
     "output_type": "execute_result"
    }
   ],
   "source": [
    "#Edad. No hay valores erróneos\n",
    "personas_2017['rango_edad'].value_counts()"
   ]
  },
  {
   "cell_type": "code",
   "execution_count": 40,
   "metadata": {},
   "outputs": [
    {
     "data": {
      "text/plain": [
       "False    66684\n",
       "True         1\n",
       "Name: rango_edad, dtype: int64"
      ]
     },
     "execution_count": 40,
     "metadata": {},
     "output_type": "execute_result"
    }
   ],
   "source": [
    "#Se identifica 1 NaN\n",
    "personas_2017['rango_edad'].isnull().value_counts()"
   ]
  },
  {
   "cell_type": "code",
   "execution_count": 41,
   "metadata": {},
   "outputs": [],
   "source": [
    "#Se elimina, es un solo registro\n",
    "personas_2017=personas_2017.loc[personas_2017['rango_edad'].isnull()==False]"
   ]
  },
  {
   "cell_type": "code",
   "execution_count": 42,
   "metadata": {},
   "outputs": [
    {
     "data": {
      "text/plain": [
       "False    66684\n",
       "Name: seniority_level, dtype: int64"
      ]
     },
     "execution_count": 42,
     "metadata": {},
     "output_type": "execute_result"
    }
   ],
   "source": [
    "#Se analiza seniority, no se identifican NaN\n",
    "personas_2017['seniority_level'].isnull().value_counts()"
   ]
  },
  {
   "cell_type": "code",
   "execution_count": 43,
   "metadata": {
    "scrolled": true
   },
   "outputs": [
    {
     "data": {
      "text/plain": [
       "       29179\n",
       "C      13939\n",
       "D       7817\n",
       "S/D     5795\n",
       "B       5713\n",
       "A       4241\n",
       "Name: seniority_level, dtype: int64"
      ]
     },
     "execution_count": 43,
     "metadata": {},
     "output_type": "execute_result"
    }
   ],
   "source": [
    "#Se analizan los datos y se ve que hay muchos faltantes, se analizan\n",
    "personas_2017['seniority_level'].value_counts()"
   ]
  },
  {
   "cell_type": "code",
   "execution_count": 44,
   "metadata": {},
   "outputs": [],
   "source": [
    "#Se elimina la columna seniority level porque hay muchos registros sin datos\n",
    "personas_2017.drop(columns='seniority_level',inplace=True)"
   ]
  },
  {
   "cell_type": "code",
   "execution_count": 45,
   "metadata": {},
   "outputs": [
    {
     "data": {
      "text/plain": [
       "False    66684\n",
       "Name: max_grado_academico, dtype: int64"
      ]
     },
     "execution_count": 45,
     "metadata": {},
     "output_type": "execute_result"
    }
   ],
   "source": [
    "#Se analiza max_grado_academico, No hay Null pero hay 760 registros sin datos. \n",
    "personas_2017['max_grado_academico'].isnull().value_counts()"
   ]
  },
  {
   "cell_type": "code",
   "execution_count": 46,
   "metadata": {},
   "outputs": [
    {
     "data": {
      "text/plain": [
       "Universitario de grado                       23925\n",
       "Universitario de posgrado/doctorado          23057\n",
       "Universitario de posgrado/maestría            9217\n",
       "Universitario de posgrado/especialización     8166\n",
       "Medio                                         1119\n",
       "Sin datos                                      760\n",
       "Terciario no universitario                     421\n",
       "Básico                                          19\n",
       "Name: max_grado_academico, dtype: int64"
      ]
     },
     "execution_count": 46,
     "metadata": {},
     "output_type": "execute_result"
    }
   ],
   "source": [
    "personas_2017['max_grado_academico'].value_counts()"
   ]
  },
  {
   "cell_type": "code",
   "execution_count": 47,
   "metadata": {},
   "outputs": [],
   "source": [
    "#Se decide eliminar esos registros\n",
    "personas_2017=personas_2017.loc[(personas_2017['max_grado_academico'] !='Sin datos')]"
   ]
  },
  {
   "cell_type": "code",
   "execution_count": 48,
   "metadata": {},
   "outputs": [
    {
     "data": {
      "text/plain": [
       "False    65924\n",
       "Name: tipo_personal, dtype: int64"
      ]
     },
     "execution_count": 48,
     "metadata": {},
     "output_type": "execute_result"
    }
   ],
   "source": [
    "#Se analiza tipo_personal. No hay NaN ni valores erróneos\n",
    "personas_2017['tipo_personal'].isnull().value_counts()"
   ]
  },
  {
   "cell_type": "code",
   "execution_count": 49,
   "metadata": {},
   "outputs": [
    {
     "data": {
      "text/plain": [
       "INVESTIGADOR                       26948\n",
       "DOCENTE                            26146\n",
       "BECARIO DE I+D                     10326\n",
       "OTRO PERSONAL DE LA INSTITUCION     2504\n",
       "Name: tipo_personal, dtype: int64"
      ]
     },
     "execution_count": 49,
     "metadata": {},
     "output_type": "execute_result"
    }
   ],
   "source": [
    "personas_2017['tipo_personal'].value_counts()"
   ]
  },
  {
   "cell_type": "code",
   "execution_count": 50,
   "metadata": {},
   "outputs": [
    {
     "data": {
      "text/plain": [
       "CIENCIAS SOCIALES                 18741\n",
       "CIENCIAS NATURALES Y EXACTAS      18122\n",
       "HUMANIDADES                        8835\n",
       "INGENIERÍAS Y TECNOLOGÍAS          7539\n",
       "CIENCIAS MÉDICAS Y DE LA SALUD     6848\n",
       "CIENCIAS AGRÍCOLAS                 4636\n",
       "SIN DATOS                          1203\n",
       "Name: gran_area_experticia, dtype: int64"
      ]
     },
     "execution_count": 50,
     "metadata": {},
     "output_type": "execute_result"
    }
   ],
   "source": [
    "#Gran area experticia. No hay Nan pero hay 1203 registros sin datos\n",
    "personas_2017['gran_area_experticia'].value_counts()"
   ]
  },
  {
   "cell_type": "code",
   "execution_count": 51,
   "metadata": {},
   "outputs": [],
   "source": [
    "#Se eliminan los 1203 casos en los que no hay datos\n",
    "personas_2017=personas_2017.loc[(personas_2017['gran_area_experticia']!=\"SIN DATOS\")]"
   ]
  },
  {
   "cell_type": "code",
   "execution_count": 52,
   "metadata": {},
   "outputs": [
    {
     "name": "stdout",
     "output_type": "stream",
     "text": [
      "False    64721\n",
      "Name: gran_area_experticia, dtype: int64\n"
     ]
    }
   ],
   "source": [
    "#Analizamos si hay NaN en areas experticia. No se detecta ninguno\n",
    "print(personas_2017['gran_area_experticia'].isnull().value_counts())\n"
   ]
  },
  {
   "cell_type": "code",
   "execution_count": 53,
   "metadata": {
    "scrolled": true
   },
   "outputs": [
    {
     "data": {
      "text/plain": [
       "Regular o por concurso    29616\n",
       "Interino                  20994\n",
       "Por contrato               5655\n",
       "Sin datos                    58\n",
       "Name: condicion_docente, dtype: int64"
      ]
     },
     "execution_count": 53,
     "metadata": {},
     "output_type": "execute_result"
    }
   ],
   "source": [
    "#Analizamos condición docente. Hay 58 registros sin datos.\n",
    "personas_2017['condicion_docente'].value_counts()"
   ]
  },
  {
   "cell_type": "code",
   "execution_count": 54,
   "metadata": {},
   "outputs": [],
   "source": [
    "#Se eliminan ya que no es un valor representativo\n",
    "personas_2017=personas_2017.loc[personas_2017['condicion_docente']!=\"Sin datos\"]"
   ]
  },
  {
   "cell_type": "code",
   "execution_count": 55,
   "metadata": {},
   "outputs": [
    {
     "data": {
      "text/plain": [
       "False    56265\n",
       "True      8398\n",
       "Name: condicion_docente, dtype: int64"
      ]
     },
     "execution_count": 55,
     "metadata": {},
     "output_type": "execute_result"
    }
   ],
   "source": [
    "#Analizamos los NaN. Son 8398 datos NaN.\n",
    "personas_2017['condicion_docente'].isnull().value_counts()"
   ]
  },
  {
   "cell_type": "code",
   "execution_count": 56,
   "metadata": {},
   "outputs": [
    {
     "data": {
      "text/plain": [
       "(8398, 6)"
      ]
     },
     "execution_count": 56,
     "metadata": {},
     "output_type": "execute_result"
    }
   ],
   "source": [
    "#Se detecta que hay la misma cantidad de Null en condicion docente, dedicacion horaria docente, tipo cargo docente,\n",
    "#grupo cargo docente y clase cargo docente. \n",
    "personas_2017[['tipo_personal', 'condicion_docente',\n",
    "       'ded_horaria_docente', 'tipo_cargo_docente', 'grupo_cargo_docente',\n",
    "       'clase_cargo_docente']].loc[\n",
    "    (personas_2017['condicion_docente'].isnull()==True) &\n",
    "    (personas_2017['ded_horaria_docente'].isnull()==True) &\n",
    "    (personas_2017['tipo_cargo_docente'].isnull()==True) &\n",
    "    (personas_2017['grupo_cargo_docente'].isnull()==True) &\n",
    "    (personas_2017['clase_cargo_docente'].isnull()==True)].shape\n",
    "    "
   ]
  },
  {
   "cell_type": "code",
   "execution_count": 57,
   "metadata": {},
   "outputs": [
    {
     "data": {
      "text/plain": [
       "BECARIO DE I+D                     3243\n",
       "INVESTIGADOR                       2701\n",
       "OTRO PERSONAL DE LA INSTITUCION    2454\n",
       "Name: tipo_personal, dtype: int64"
      ]
     },
     "execution_count": 57,
     "metadata": {},
     "output_type": "execute_result"
    }
   ],
   "source": [
    "#Se analiza el tipo de personal y se detecta que se trata de casos que no son docentes\n",
    "personas_2017[['tipo_personal', 'condicion_docente',\n",
    "       'ded_horaria_docente', 'tipo_cargo_docente', 'grupo_cargo_docente',\n",
    "       'clase_cargo_docente']].loc[\n",
    "    personas_2017['condicion_docente'].isnull()==True]['tipo_personal'].value_counts()"
   ]
  },
  {
   "cell_type": "code",
   "execution_count": 58,
   "metadata": {},
   "outputs": [],
   "source": [
    "#Se le asigna a esos NaN el dato: \"no docente\"\n",
    "personas_2017.fillna({'condicion_docente':'no docente',\n",
    "           'ded_horaria_docente':0,\n",
    "           'tipo_cargo_docente':'no docente',\n",
    "           'grupo_cargo_docente':'no docente',\n",
    "           'clase_cargo_docente':'no docente'},inplace=True)"
   ]
  },
  {
   "cell_type": "code",
   "execution_count": 59,
   "metadata": {},
   "outputs": [
    {
     "data": {
      "text/plain": [
       "De 0 hasta 19 horas     29496\n",
       "40 horas o más          14123\n",
       "De 20 hasta 39 horas    12646\n",
       "0                        8398\n",
       "Name: ded_horaria_docente, dtype: int64"
      ]
     },
     "execution_count": 59,
     "metadata": {},
     "output_type": "execute_result"
    }
   ],
   "source": [
    "#Se analizan los datos de ded_horaria_docente. No hay datos erróneos\n",
    "personas_2017['ded_horaria_docente'].value_counts()"
   ]
  },
  {
   "cell_type": "code",
   "execution_count": 60,
   "metadata": {},
   "outputs": [
    {
     "data": {
      "text/plain": [
       "Docente nivel superior universitario y/o posgrado    56265\n",
       "no docente                                            8398\n",
       "Name: tipo_cargo_docente, dtype: int64"
      ]
     },
     "execution_count": 60,
     "metadata": {},
     "output_type": "execute_result"
    }
   ],
   "source": [
    "#Se analizan los datos de tipo_cargo_docente. No hay datos erróneos\n",
    "personas_2017['tipo_cargo_docente'].value_counts()"
   ]
  },
  {
   "cell_type": "code",
   "execution_count": 61,
   "metadata": {},
   "outputs": [],
   "source": [
    "#Tipo cargo docente no aporta demasiada información, se decide eliminar la columna\n",
    "personas_2017.drop(columns='tipo_cargo_docente',inplace=True)"
   ]
  },
  {
   "cell_type": "code",
   "execution_count": 62,
   "metadata": {},
   "outputs": [
    {
     "data": {
      "text/plain": [
       "Cargos docentes de nivel superior universitario y/o posgrado    56265\n",
       "no docente                                                       8398\n",
       "Name: grupo_cargo_docente, dtype: int64"
      ]
     },
     "execution_count": 62,
     "metadata": {},
     "output_type": "execute_result"
    }
   ],
   "source": [
    "#Se analizan los datos de grupo_cargo_docente. No hay datos erróneos\n",
    "personas_2017['grupo_cargo_docente'].value_counts()"
   ]
  },
  {
   "cell_type": "code",
   "execution_count": 63,
   "metadata": {},
   "outputs": [],
   "source": [
    "#Grupo cargo docente no aporta demasiada información, se decide eliminar la columna\n",
    "personas_2017.drop(columns='grupo_cargo_docente',inplace=True)"
   ]
  },
  {
   "cell_type": "code",
   "execution_count": 64,
   "metadata": {},
   "outputs": [
    {
     "data": {
      "text/plain": [
       "Profesor adjunto                             15270\n",
       "Jefe de trabajos prácticos                   12876\n",
       "Profesor titular                              9415\n",
       "no docente                                    8398\n",
       "Ayudante de primera                           6715\n",
       "Profesor asociado                             2509\n",
       "Ayudante diplomado                            1923\n",
       "Ayudante de segunda                            974\n",
       "Auxiliar de primera categoría                  748\n",
       "Docente autorizado                             641\n",
       "Profesor contratado                            557\n",
       "Otro de nivel superior                         432\n",
       "Ayudante alumno                                423\n",
       "Auxiliar docente de primera categoría          408\n",
       "Ayudante Docente A                             296\n",
       "Asistente de docencia                          288\n",
       "Ayudante de trabajos prácticos de primera      272\n",
       "Asistente docente                              255\n",
       "Profesor invitado                              250\n",
       "Profesor instructor                            217\n",
       "Ayudante de cátedra                            198\n",
       "Docente libre                                  187\n",
       "Asistente principal                            126\n",
       "Auxiliar docente graduado                      113\n",
       "Profesor visitante                             110\n",
       "Profesor consulto                              107\n",
       "Ayudante de docencia                           104\n",
       "Asistente de primera                           103\n",
       "Auxiliar docente de segunda categoría           98\n",
       "Profesor emérito                                85\n",
       "Docente Adscripto                               82\n",
       "Auxiliar de segunda categoría                   74\n",
       "Auxiliar académico                              60\n",
       "Auxiliar docente                                46\n",
       "Profesor por convenio                           44\n",
       "Ayudante docente                                37\n",
       "Profesor honorario                              31\n",
       "Ayudante Docente B                              26\n",
       "Docente invitado                                25\n",
       "Auxiliar docente adscripto                      21\n",
       "Ayudante adscripto                              21\n",
       "Ayudante de trabajos prácticos de segunda       20\n",
       "Asistente nivel D-1                             12\n",
       "Profesor titular plenario                       11\n",
       "Profesor libre                                  11\n",
       "Auxiliares de primera categoría                  8\n",
       "Asistente de segunda                             6\n",
       "Ayudante estudiantil                             5\n",
       "Asistente nivel D-2                              5\n",
       "Auxiliares de segunda categoría                  4\n",
       "Profesor nivel B                                 3\n",
       "Instructor                                       3\n",
       "Docente universitario libre                      3\n",
       "Profesor nivel C                                 2\n",
       "Asistente nivel D-3                              1\n",
       "Docente técnico especializado                    1\n",
       "Profesor extraordinario                          1\n",
       "Docente técnico principal                        1\n",
       "Jefe de laboratorio                              1\n",
       "Name: clase_cargo_docente, dtype: int64"
      ]
     },
     "execution_count": 64,
     "metadata": {},
     "output_type": "execute_result"
    }
   ],
   "source": [
    "#Se analizan los datos de clase_cargo_docente. No hay datos erróneos\n",
    "personas_2017['clase_cargo_docente'].value_counts()"
   ]
  },
  {
   "cell_type": "code",
   "execution_count": 65,
   "metadata": {},
   "outputs": [
    {
     "data": {
      "text/plain": [
       "False    56265\n",
       "True      8398\n",
       "Name: categoria_conicet, dtype: int64"
      ]
     },
     "execution_count": 65,
     "metadata": {},
     "output_type": "execute_result"
    }
   ],
   "source": [
    "#Se analiza la categoría conicet. Hay 8398 registros Null, se asume que no pertenecen a Conicet\n",
    "personas_2017['categoria_conicet'].isnull().value_counts()"
   ]
  },
  {
   "cell_type": "code",
   "execution_count": 66,
   "metadata": {},
   "outputs": [],
   "source": [
    "#Se asume que no poseen categoría Conicet\n",
    "personas_2017.fillna({'categoria_conicet':'No pertenece a Conicet'},inplace =True)"
   ]
  },
  {
   "cell_type": "code",
   "execution_count": 67,
   "metadata": {},
   "outputs": [
    {
     "data": {
      "text/plain": [
       "No pertenece a Conicet          51524\n",
       "Becario doctoral                 3158\n",
       "Investigador adjunto             2625\n",
       "Investigador asistente           2324\n",
       "Investigador independiente       1860\n",
       "Becario postdoctoral             1617\n",
       "Investigador principal            873\n",
       "Personal de apoyo                 445\n",
       "Investigador superior             224\n",
       "Otro personal Conicet              12\n",
       "Investigador correspondiente        1\n",
       "Name: categoria_conicet, dtype: int64"
      ]
     },
     "execution_count": 67,
     "metadata": {},
     "output_type": "execute_result"
    }
   ],
   "source": [
    "#Se analizan los datos de la categoría conicet. No hay valores erróneos\n",
    "personas_2017['categoria_conicet'].value_counts()"
   ]
  },
  {
   "cell_type": "code",
   "execution_count": 68,
   "metadata": {},
   "outputs": [
    {
     "name": "stdout",
     "output_type": "stream",
     "text": [
      "Se eliminaron:  2022 registros. El  0.03 % de los registros totales.\n"
     ]
    }
   ],
   "source": [
    "print('Se eliminaron: ',personas_2017_original.shape[0]-personas_2017.shape[0],'registros. El ',\n",
    "      round((personas_2017_original.shape[0]-personas_2017.shape[0])/personas_2017_original.shape[0],2),'% de los registros totales.')"
   ]
  },
  {
   "cell_type": "code",
   "execution_count": 69,
   "metadata": {},
   "outputs": [
    {
     "data": {
      "text/plain": [
       "(64663, 14)"
      ]
     },
     "execution_count": 69,
     "metadata": {},
     "output_type": "execute_result"
    }
   ],
   "source": [
    "personas_2017.shape"
   ]
  },
  {
   "cell_type": "markdown",
   "metadata": {},
   "source": [
    "#### 7. Lectura e interpretación de la personas_indicadores_genero_2017"
   ]
  },
  {
   "cell_type": "code",
   "execution_count": 70,
   "metadata": {},
   "outputs": [],
   "source": [
    "ind_gen_2017=pd.read_csv('personas_indicadores_genero_2017.csv',sep=\";\")"
   ]
  },
  {
   "cell_type": "code",
   "execution_count": 71,
   "metadata": {},
   "outputs": [
    {
     "data": {
      "text/html": [
       "<div>\n",
       "<style scoped>\n",
       "    .dataframe tbody tr th:only-of-type {\n",
       "        vertical-align: middle;\n",
       "    }\n",
       "\n",
       "    .dataframe tbody tr th {\n",
       "        vertical-align: top;\n",
       "    }\n",
       "\n",
       "    .dataframe thead th {\n",
       "        text-align: right;\n",
       "    }\n",
       "</style>\n",
       "<table border=\"1\" class=\"dataframe\">\n",
       "  <thead>\n",
       "    <tr style=\"text-align: right;\">\n",
       "      <th></th>\n",
       "      <th>persona_id</th>\n",
       "      <th>anio_id</th>\n",
       "      <th>movilidad_posgrado_exterior</th>\n",
       "      <th>movilidad_estancias_exterior</th>\n",
       "      <th>produccion_cantidad_articulos_total</th>\n",
       "      <th>produccion_cantidad_articulos_SJR_Q1</th>\n",
       "      <th>produccion_cantidad_articulos_SJR_Q2</th>\n",
       "      <th>produccion_cantidad_articulos_SJR_Q3</th>\n",
       "      <th>produccion_cantidad_articulos_SJR_Q4</th>\n",
       "      <th>produccion_cantidad_articulos_NBR</th>\n",
       "      <th>...</th>\n",
       "      <th>actividad_evaluacion_comite_editorial_internacional</th>\n",
       "      <th>actividad_evaluacion_referato_internacional</th>\n",
       "      <th>actividad_evaluacion_proyectos</th>\n",
       "      <th>proyectos_direccion</th>\n",
       "      <th>formacion_participacion_taller</th>\n",
       "      <th>formacion_participacion_conferencia</th>\n",
       "      <th>produccion_publicacion_congreso</th>\n",
       "      <th>membresia_asociaciones_cyt</th>\n",
       "      <th>movilidad_posdoctorado_exterior</th>\n",
       "      <th>proyectos_financiamiento_externo</th>\n",
       "    </tr>\n",
       "  </thead>\n",
       "  <tbody>\n",
       "    <tr>\n",
       "      <th>0</th>\n",
       "      <td>1</td>\n",
       "      <td>2017</td>\n",
       "      <td>0</td>\n",
       "      <td>0</td>\n",
       "      <td>0</td>\n",
       "      <td>0</td>\n",
       "      <td>0</td>\n",
       "      <td>0</td>\n",
       "      <td>0</td>\n",
       "      <td>0</td>\n",
       "      <td>...</td>\n",
       "      <td>0</td>\n",
       "      <td>0</td>\n",
       "      <td>0</td>\n",
       "      <td>0</td>\n",
       "      <td>0</td>\n",
       "      <td>0</td>\n",
       "      <td>0</td>\n",
       "      <td>0</td>\n",
       "      <td>0</td>\n",
       "      <td>0</td>\n",
       "    </tr>\n",
       "    <tr>\n",
       "      <th>1</th>\n",
       "      <td>5</td>\n",
       "      <td>2017</td>\n",
       "      <td>0</td>\n",
       "      <td>0</td>\n",
       "      <td>5</td>\n",
       "      <td>1</td>\n",
       "      <td>0</td>\n",
       "      <td>1</td>\n",
       "      <td>0</td>\n",
       "      <td>0</td>\n",
       "      <td>...</td>\n",
       "      <td>0</td>\n",
       "      <td>1</td>\n",
       "      <td>1</td>\n",
       "      <td>0</td>\n",
       "      <td>0</td>\n",
       "      <td>0</td>\n",
       "      <td>0</td>\n",
       "      <td>0</td>\n",
       "      <td>0</td>\n",
       "      <td>0</td>\n",
       "    </tr>\n",
       "    <tr>\n",
       "      <th>2</th>\n",
       "      <td>7</td>\n",
       "      <td>2017</td>\n",
       "      <td>0</td>\n",
       "      <td>1</td>\n",
       "      <td>15</td>\n",
       "      <td>7</td>\n",
       "      <td>0</td>\n",
       "      <td>0</td>\n",
       "      <td>0</td>\n",
       "      <td>0</td>\n",
       "      <td>...</td>\n",
       "      <td>0</td>\n",
       "      <td>1</td>\n",
       "      <td>0</td>\n",
       "      <td>0</td>\n",
       "      <td>0</td>\n",
       "      <td>0</td>\n",
       "      <td>0</td>\n",
       "      <td>1</td>\n",
       "      <td>0</td>\n",
       "      <td>1</td>\n",
       "    </tr>\n",
       "    <tr>\n",
       "      <th>3</th>\n",
       "      <td>9</td>\n",
       "      <td>2017</td>\n",
       "      <td>0</td>\n",
       "      <td>0</td>\n",
       "      <td>5</td>\n",
       "      <td>2</td>\n",
       "      <td>2</td>\n",
       "      <td>0</td>\n",
       "      <td>0</td>\n",
       "      <td>1</td>\n",
       "      <td>...</td>\n",
       "      <td>0</td>\n",
       "      <td>0</td>\n",
       "      <td>1</td>\n",
       "      <td>0</td>\n",
       "      <td>0</td>\n",
       "      <td>0</td>\n",
       "      <td>0</td>\n",
       "      <td>0</td>\n",
       "      <td>0</td>\n",
       "      <td>0</td>\n",
       "    </tr>\n",
       "    <tr>\n",
       "      <th>4</th>\n",
       "      <td>10</td>\n",
       "      <td>2017</td>\n",
       "      <td>0</td>\n",
       "      <td>0</td>\n",
       "      <td>9</td>\n",
       "      <td>5</td>\n",
       "      <td>1</td>\n",
       "      <td>0</td>\n",
       "      <td>0</td>\n",
       "      <td>0</td>\n",
       "      <td>...</td>\n",
       "      <td>0</td>\n",
       "      <td>0</td>\n",
       "      <td>1</td>\n",
       "      <td>0</td>\n",
       "      <td>0</td>\n",
       "      <td>0</td>\n",
       "      <td>0</td>\n",
       "      <td>0</td>\n",
       "      <td>0</td>\n",
       "      <td>0</td>\n",
       "    </tr>\n",
       "  </tbody>\n",
       "</table>\n",
       "<p>5 rows × 31 columns</p>\n",
       "</div>"
      ],
      "text/plain": [
       "   persona_id  anio_id  movilidad_posgrado_exterior  \\\n",
       "0           1     2017                            0   \n",
       "1           5     2017                            0   \n",
       "2           7     2017                            0   \n",
       "3           9     2017                            0   \n",
       "4          10     2017                            0   \n",
       "\n",
       "   movilidad_estancias_exterior  produccion_cantidad_articulos_total  \\\n",
       "0                             0                                    0   \n",
       "1                             0                                    5   \n",
       "2                             1                                   15   \n",
       "3                             0                                    5   \n",
       "4                             0                                    9   \n",
       "\n",
       "   produccion_cantidad_articulos_SJR_Q1  produccion_cantidad_articulos_SJR_Q2  \\\n",
       "0                                     0                                     0   \n",
       "1                                     1                                     0   \n",
       "2                                     7                                     0   \n",
       "3                                     2                                     2   \n",
       "4                                     5                                     1   \n",
       "\n",
       "   produccion_cantidad_articulos_SJR_Q3  produccion_cantidad_articulos_SJR_Q4  \\\n",
       "0                                     0                                     0   \n",
       "1                                     1                                     0   \n",
       "2                                     0                                     0   \n",
       "3                                     0                                     0   \n",
       "4                                     0                                     0   \n",
       "\n",
       "   produccion_cantidad_articulos_NBR                ...                 \\\n",
       "0                                  0                ...                  \n",
       "1                                  0                ...                  \n",
       "2                                  0                ...                  \n",
       "3                                  1                ...                  \n",
       "4                                  0                ...                  \n",
       "\n",
       "   actividad_evaluacion_comite_editorial_internacional  \\\n",
       "0                                                  0     \n",
       "1                                                  0     \n",
       "2                                                  0     \n",
       "3                                                  0     \n",
       "4                                                  0     \n",
       "\n",
       "   actividad_evaluacion_referato_internacional  \\\n",
       "0                                            0   \n",
       "1                                            1   \n",
       "2                                            1   \n",
       "3                                            0   \n",
       "4                                            0   \n",
       "\n",
       "   actividad_evaluacion_proyectos  proyectos_direccion  \\\n",
       "0                               0                    0   \n",
       "1                               1                    0   \n",
       "2                               0                    0   \n",
       "3                               1                    0   \n",
       "4                               1                    0   \n",
       "\n",
       "   formacion_participacion_taller  formacion_participacion_conferencia  \\\n",
       "0                               0                                    0   \n",
       "1                               0                                    0   \n",
       "2                               0                                    0   \n",
       "3                               0                                    0   \n",
       "4                               0                                    0   \n",
       "\n",
       "   produccion_publicacion_congreso  membresia_asociaciones_cyt  \\\n",
       "0                                0                           0   \n",
       "1                                0                           0   \n",
       "2                                0                           1   \n",
       "3                                0                           0   \n",
       "4                                0                           0   \n",
       "\n",
       "   movilidad_posdoctorado_exterior  proyectos_financiamiento_externo  \n",
       "0                                0                                 0  \n",
       "1                                0                                 0  \n",
       "2                                0                                 1  \n",
       "3                                0                                 0  \n",
       "4                                0                                 0  \n",
       "\n",
       "[5 rows x 31 columns]"
      ]
     },
     "execution_count": 71,
     "metadata": {},
     "output_type": "execute_result"
    }
   ],
   "source": [
    "ind_gen_2017.head()"
   ]
  },
  {
   "cell_type": "markdown",
   "metadata": {},
   "source": [
    "#### 8. Análisis de valores erróneos o nulos"
   ]
  },
  {
   "cell_type": "code",
   "execution_count": 72,
   "metadata": {},
   "outputs": [
    {
     "data": {
      "text/html": [
       "<div>\n",
       "<style scoped>\n",
       "    .dataframe tbody tr th:only-of-type {\n",
       "        vertical-align: middle;\n",
       "    }\n",
       "\n",
       "    .dataframe tbody tr th {\n",
       "        vertical-align: top;\n",
       "    }\n",
       "\n",
       "    .dataframe thead th {\n",
       "        text-align: right;\n",
       "    }\n",
       "</style>\n",
       "<table border=\"1\" class=\"dataframe\">\n",
       "  <thead>\n",
       "    <tr style=\"text-align: right;\">\n",
       "      <th></th>\n",
       "      <th>actividad_evaluacion_comite_editorial</th>\n",
       "      <th>actividad_evaluacion_comite_editorial_nacional</th>\n",
       "      <th>actividad_evaluacion_comite_editorial_internacional</th>\n",
       "    </tr>\n",
       "  </thead>\n",
       "  <tbody>\n",
       "    <tr>\n",
       "      <th>4004</th>\n",
       "      <td>1</td>\n",
       "      <td>1</td>\n",
       "      <td>1</td>\n",
       "    </tr>\n",
       "    <tr>\n",
       "      <th>6052</th>\n",
       "      <td>1</td>\n",
       "      <td>1</td>\n",
       "      <td>1</td>\n",
       "    </tr>\n",
       "    <tr>\n",
       "      <th>18172</th>\n",
       "      <td>1</td>\n",
       "      <td>1</td>\n",
       "      <td>1</td>\n",
       "    </tr>\n",
       "    <tr>\n",
       "      <th>26977</th>\n",
       "      <td>1</td>\n",
       "      <td>1</td>\n",
       "      <td>1</td>\n",
       "    </tr>\n",
       "    <tr>\n",
       "      <th>27264</th>\n",
       "      <td>1</td>\n",
       "      <td>1</td>\n",
       "      <td>1</td>\n",
       "    </tr>\n",
       "    <tr>\n",
       "      <th>28225</th>\n",
       "      <td>1</td>\n",
       "      <td>1</td>\n",
       "      <td>1</td>\n",
       "    </tr>\n",
       "    <tr>\n",
       "      <th>37107</th>\n",
       "      <td>1</td>\n",
       "      <td>1</td>\n",
       "      <td>1</td>\n",
       "    </tr>\n",
       "    <tr>\n",
       "      <th>55414</th>\n",
       "      <td>1</td>\n",
       "      <td>1</td>\n",
       "      <td>1</td>\n",
       "    </tr>\n",
       "    <tr>\n",
       "      <th>64348</th>\n",
       "      <td>1</td>\n",
       "      <td>1</td>\n",
       "      <td>1</td>\n",
       "    </tr>\n",
       "  </tbody>\n",
       "</table>\n",
       "</div>"
      ],
      "text/plain": [
       "       actividad_evaluacion_comite_editorial  \\\n",
       "4004                                       1   \n",
       "6052                                       1   \n",
       "18172                                      1   \n",
       "26977                                      1   \n",
       "27264                                      1   \n",
       "28225                                      1   \n",
       "37107                                      1   \n",
       "55414                                      1   \n",
       "64348                                      1   \n",
       "\n",
       "       actividad_evaluacion_comite_editorial_nacional  \\\n",
       "4004                                                1   \n",
       "6052                                                1   \n",
       "18172                                               1   \n",
       "26977                                               1   \n",
       "27264                                               1   \n",
       "28225                                               1   \n",
       "37107                                               1   \n",
       "55414                                               1   \n",
       "64348                                               1   \n",
       "\n",
       "       actividad_evaluacion_comite_editorial_internacional  \n",
       "4004                                                   1    \n",
       "6052                                                   1    \n",
       "18172                                                  1    \n",
       "26977                                                  1    \n",
       "27264                                                  1    \n",
       "28225                                                  1    \n",
       "37107                                                  1    \n",
       "55414                                                  1    \n",
       "64348                                                  1    "
      ]
     },
     "execution_count": 72,
     "metadata": {},
     "output_type": "execute_result"
    }
   ],
   "source": [
    "#La columna actividad_evaluacion_comite_editorial debería ser la suma de las columnas\n",
    "# actividad_evaluacion_comite_editorial_internacional y actividad_evaluacion_comite_editorial_nacional\n",
    "#Se comprueba si hay casos que no lo sean\n",
    "\n",
    "ind_gen_2017[['actividad_evaluacion_comite_editorial',\n",
    "              'actividad_evaluacion_comite_editorial_nacional',\n",
    "             'actividad_evaluacion_comite_editorial_internacional']].loc[ind_gen_2017['actividad_evaluacion_comite_editorial']!=\n",
    "                (ind_gen_2017['actividad_evaluacion_comite_editorial_nacional'] +\n",
    "                 ind_gen_2017['actividad_evaluacion_comite_editorial_internacional'])]"
   ]
  },
  {
   "cell_type": "code",
   "execution_count": 73,
   "metadata": {},
   "outputs": [],
   "source": [
    "#Hay 9 casos que no coinciden, se eliminan porque no hay forma de saber cuál es el correcto\n",
    "ind_gen_2017=ind_gen_2017.loc[ind_gen_2017['actividad_evaluacion_comite_editorial']==\n",
    "                (ind_gen_2017['actividad_evaluacion_comite_editorial_nacional'] +\n",
    "                 ind_gen_2017['actividad_evaluacion_comite_editorial_internacional'])]"
   ]
  },
  {
   "cell_type": "code",
   "execution_count": 74,
   "metadata": {},
   "outputs": [],
   "source": [
    "#Se elimina la columna actividad_evaluacion_comite_editorial porque es la suma de las otras dos\n",
    "ind_gen_2017.drop(columns='actividad_evaluacion_comite_editorial',inplace=True)"
   ]
  },
  {
   "cell_type": "code",
   "execution_count": 75,
   "metadata": {},
   "outputs": [],
   "source": [
    "#Se elimina la columna actividad_evaluacion_referato porque es la suma de las otras dos\n",
    "ind_gen_2017.drop(columns='actividad_evaluacion_referato',inplace=True)"
   ]
  },
  {
   "cell_type": "code",
   "execution_count": 76,
   "metadata": {},
   "outputs": [
    {
     "name": "stdout",
     "output_type": "stream",
     "text": [
      "0    65333\n",
      "1       14\n",
      "Name: actividad_evaluacion_comite_editorial_internacional, dtype: int64\n",
      "False    65347\n",
      "Name: actividad_evaluacion_comite_editorial_internacional, dtype: int64\n"
     ]
    }
   ],
   "source": [
    "#Se analizan NaN\n",
    "print(ind_gen_2017['actividad_evaluacion_comite_editorial_internacional'].value_counts())\n",
    "print(ind_gen_2017['actividad_evaluacion_comite_editorial_internacional'].isnull().value_counts())"
   ]
  },
  {
   "cell_type": "code",
   "execution_count": 77,
   "metadata": {},
   "outputs": [
    {
     "name": "stdout",
     "output_type": "stream",
     "text": [
      "0    65285\n",
      "1       62\n",
      "Name: actividad_evaluacion_comite_editorial_nacional, dtype: int64\n",
      "False    65347\n",
      "Name: actividad_evaluacion_comite_editorial_nacional, dtype: int64\n"
     ]
    }
   ],
   "source": [
    "print(ind_gen_2017['actividad_evaluacion_comite_editorial_nacional'].value_counts())\n",
    "print(ind_gen_2017['actividad_evaluacion_comite_editorial_nacional'].isnull().value_counts())"
   ]
  },
  {
   "cell_type": "code",
   "execution_count": 78,
   "metadata": {},
   "outputs": [
    {
     "name": "stdout",
     "output_type": "stream",
     "text": [
      "0    54655\n",
      "1    10692\n",
      "Name: actividad_evaluacion_proyectos, dtype: int64\n",
      "False    65347\n",
      "Name: actividad_evaluacion_proyectos, dtype: int64\n"
     ]
    }
   ],
   "source": [
    "print(ind_gen_2017['actividad_evaluacion_proyectos'].value_counts())\n",
    "print(ind_gen_2017['actividad_evaluacion_proyectos'].isnull().value_counts())"
   ]
  },
  {
   "cell_type": "code",
   "execution_count": 79,
   "metadata": {},
   "outputs": [
    {
     "name": "stdout",
     "output_type": "stream",
     "text": [
      "0    51974\n",
      "1    13373\n",
      "Name: actividad_evaluacion_referato_internacional, dtype: int64\n",
      "False    65347\n",
      "Name: actividad_evaluacion_referato_internacional, dtype: int64\n"
     ]
    }
   ],
   "source": [
    "print(ind_gen_2017['actividad_evaluacion_referato_internacional'].value_counts())\n",
    "print(ind_gen_2017['actividad_evaluacion_referato_internacional'].isnull().value_counts())"
   ]
  },
  {
   "cell_type": "code",
   "execution_count": 80,
   "metadata": {},
   "outputs": [
    {
     "name": "stdout",
     "output_type": "stream",
     "text": [
      "0    60924\n",
      "1     4423\n",
      "Name: actividad_evaluacion_rrhh_becarios, dtype: int64\n",
      "False    65347\n",
      "Name: actividad_evaluacion_rrhh_becarios, dtype: int64\n"
     ]
    }
   ],
   "source": [
    "print(ind_gen_2017['actividad_evaluacion_rrhh_becarios'].value_counts())\n",
    "print(ind_gen_2017['actividad_evaluacion_rrhh_becarios'].isnull().value_counts())"
   ]
  },
  {
   "cell_type": "code",
   "execution_count": 81,
   "metadata": {},
   "outputs": [
    {
     "name": "stdout",
     "output_type": "stream",
     "text": [
      "0    59185\n",
      "1     6162\n",
      "Name: actividad_evaluacion_rrhh_investigadores, dtype: int64\n",
      "False    65347\n",
      "Name: actividad_evaluacion_rrhh_investigadores, dtype: int64\n"
     ]
    }
   ],
   "source": [
    "print(ind_gen_2017['actividad_evaluacion_rrhh_investigadores'].value_counts())\n",
    "print(ind_gen_2017['actividad_evaluacion_rrhh_investigadores'].isnull().value_counts())"
   ]
  },
  {
   "cell_type": "code",
   "execution_count": 82,
   "metadata": {},
   "outputs": [
    {
     "name": "stdout",
     "output_type": "stream",
     "text": [
      "0    62654\n",
      "1     2693\n",
      "Name: actividad_evaluacion_rrhh_premios, dtype: int64\n",
      "False    65347\n",
      "Name: actividad_evaluacion_rrhh_premios, dtype: int64\n"
     ]
    }
   ],
   "source": [
    "print(ind_gen_2017['actividad_evaluacion_rrhh_premios'].value_counts())\n",
    "print(ind_gen_2017['actividad_evaluacion_rrhh_premios'].isnull().value_counts())"
   ]
  },
  {
   "cell_type": "code",
   "execution_count": 83,
   "metadata": {},
   "outputs": [
    {
     "name": "stdout",
     "output_type": "stream",
     "text": [
      "0    64612\n",
      "1      735\n",
      "Name: formacion_participacion_conferencia, dtype: int64\n",
      "False    65347\n",
      "Name: formacion_participacion_conferencia, dtype: int64\n"
     ]
    }
   ],
   "source": [
    "print(ind_gen_2017['formacion_participacion_conferencia'].value_counts())\n",
    "print(ind_gen_2017['formacion_participacion_conferencia'].isnull().value_counts())"
   ]
  },
  {
   "cell_type": "code",
   "execution_count": 84,
   "metadata": {},
   "outputs": [
    {
     "name": "stdout",
     "output_type": "stream",
     "text": [
      "0    64308\n",
      "1     1039\n",
      "Name: formacion_participacion_taller, dtype: int64\n",
      "False    65347\n",
      "Name: formacion_participacion_taller, dtype: int64\n"
     ]
    }
   ],
   "source": [
    "print(ind_gen_2017['formacion_participacion_taller'].value_counts())\n",
    "print(ind_gen_2017['formacion_participacion_taller'].isnull().value_counts())"
   ]
  },
  {
   "cell_type": "code",
   "execution_count": 85,
   "metadata": {},
   "outputs": [
    {
     "name": "stdout",
     "output_type": "stream",
     "text": [
      "0    45933\n",
      "1    19414\n",
      "Name: membresia_asociaciones_cyt, dtype: int64\n",
      "False    65347\n",
      "Name: membresia_asociaciones_cyt, dtype: int64\n"
     ]
    }
   ],
   "source": [
    "print(ind_gen_2017['membresia_asociaciones_cyt'].value_counts())\n",
    "print(ind_gen_2017['membresia_asociaciones_cyt'].isnull().value_counts())"
   ]
  },
  {
   "cell_type": "code",
   "execution_count": 86,
   "metadata": {},
   "outputs": [
    {
     "name": "stdout",
     "output_type": "stream",
     "text": [
      "0    60322\n",
      "1     5025\n",
      "Name: movilidad_estancias_exterior, dtype: int64\n",
      "False    65347\n",
      "Name: movilidad_estancias_exterior, dtype: int64\n"
     ]
    }
   ],
   "source": [
    "print(ind_gen_2017['movilidad_estancias_exterior'].value_counts())\n",
    "print(ind_gen_2017['movilidad_estancias_exterior'].isnull().value_counts())"
   ]
  },
  {
   "cell_type": "code",
   "execution_count": 87,
   "metadata": {},
   "outputs": [
    {
     "name": "stdout",
     "output_type": "stream",
     "text": [
      "0    61125\n",
      "1     4222\n",
      "Name: movilidad_posdoctorado_exterior, dtype: int64\n",
      "False    65347\n",
      "Name: movilidad_posdoctorado_exterior, dtype: int64\n"
     ]
    }
   ],
   "source": [
    "print(ind_gen_2017['movilidad_posdoctorado_exterior'].value_counts())\n",
    "print(ind_gen_2017['movilidad_posdoctorado_exterior'].isnull().value_counts())"
   ]
  },
  {
   "cell_type": "code",
   "execution_count": 88,
   "metadata": {},
   "outputs": [
    {
     "name": "stdout",
     "output_type": "stream",
     "text": [
      "0    60278\n",
      "1     5069\n",
      "Name: movilidad_posgrado_exterior, dtype: int64\n",
      "False    65347\n",
      "Name: movilidad_posgrado_exterior, dtype: int64\n"
     ]
    }
   ],
   "source": [
    "print(ind_gen_2017['movilidad_posgrado_exterior'].value_counts())\n",
    "print(ind_gen_2017['movilidad_posgrado_exterior'].isnull().value_counts())"
   ]
  },
  {
   "cell_type": "code",
   "execution_count": 89,
   "metadata": {},
   "outputs": [
    {
     "name": "stdout",
     "output_type": "stream",
     "text": [
      "0     54526\n",
      "1      6525\n",
      "2      2299\n",
      "3       916\n",
      "4       463\n",
      "5       245\n",
      "6       143\n",
      "7        83\n",
      "8        44\n",
      "9        34\n",
      "10       19\n",
      "11       14\n",
      "15        6\n",
      "18        5\n",
      "14        4\n",
      "12        3\n",
      "13        3\n",
      "17        3\n",
      "16        2\n",
      "20        2\n",
      "22        2\n",
      "24        2\n",
      "26        1\n",
      "23        1\n",
      "32        1\n",
      "27        1\n",
      "Name: produccion_cantidad_libros, dtype: int64\n",
      "False    65347\n",
      "Name: produccion_cantidad_libros, dtype: int64\n"
     ]
    }
   ],
   "source": [
    "print(ind_gen_2017['produccion_cantidad_libros'].value_counts())\n",
    "print(ind_gen_2017['produccion_cantidad_libros'].isnull().value_counts())"
   ]
  },
  {
   "cell_type": "code",
   "execution_count": 90,
   "metadata": {},
   "outputs": [
    {
     "name": "stdout",
     "output_type": "stream",
     "text": [
      "0    65229\n",
      "1      118\n",
      "Name: produccion_patentes_otorgadas, dtype: int64\n",
      "False    65347\n",
      "Name: produccion_patentes_otorgadas, dtype: int64\n"
     ]
    }
   ],
   "source": [
    "print(ind_gen_2017['produccion_patentes_otorgadas'].value_counts())\n",
    "print(ind_gen_2017['produccion_patentes_otorgadas'].isnull().value_counts())"
   ]
  },
  {
   "cell_type": "code",
   "execution_count": 91,
   "metadata": {},
   "outputs": [
    {
     "name": "stdout",
     "output_type": "stream",
     "text": [
      "0    64701\n",
      "1      646\n",
      "Name: produccion_patentes_solicitadas, dtype: int64\n",
      "False    65347\n",
      "Name: produccion_patentes_solicitadas, dtype: int64\n"
     ]
    }
   ],
   "source": [
    "print(ind_gen_2017['produccion_patentes_solicitadas'].value_counts())\n",
    "print(ind_gen_2017['produccion_patentes_solicitadas'].isnull().value_counts())"
   ]
  },
  {
   "cell_type": "code",
   "execution_count": 92,
   "metadata": {},
   "outputs": [
    {
     "name": "stdout",
     "output_type": "stream",
     "text": [
      "0    59873\n",
      "1     5474\n",
      "Name: produccion_publicacion_congreso, dtype: int64\n",
      "False    65347\n",
      "Name: produccion_publicacion_congreso, dtype: int64\n"
     ]
    }
   ],
   "source": [
    "print(ind_gen_2017['produccion_publicacion_congreso'].value_counts())\n",
    "print(ind_gen_2017['produccion_publicacion_congreso'].isnull().value_counts())"
   ]
  },
  {
   "cell_type": "code",
   "execution_count": 93,
   "metadata": {},
   "outputs": [
    {
     "name": "stdout",
     "output_type": "stream",
     "text": [
      "0    64674\n",
      "1      673\n",
      "Name: proyectos_direccion, dtype: int64\n",
      "False    65347\n",
      "Name: proyectos_direccion, dtype: int64\n"
     ]
    }
   ],
   "source": [
    "print(ind_gen_2017['proyectos_direccion'].value_counts())\n",
    "print(ind_gen_2017['proyectos_direccion'].isnull().value_counts())"
   ]
  },
  {
   "cell_type": "code",
   "execution_count": 94,
   "metadata": {},
   "outputs": [
    {
     "name": "stdout",
     "output_type": "stream",
     "text": [
      "0    62256\n",
      "1     3091\n",
      "Name: proyectos_financiamiento_externo, dtype: int64\n",
      "False    65347\n",
      "Name: proyectos_financiamiento_externo, dtype: int64\n"
     ]
    }
   ],
   "source": [
    "print(ind_gen_2017['proyectos_financiamiento_externo'].value_counts())\n",
    "print(ind_gen_2017['proyectos_financiamiento_externo'].isnull().value_counts())"
   ]
  },
  {
   "cell_type": "code",
   "execution_count": 95,
   "metadata": {},
   "outputs": [],
   "source": [
    "#No se encontraron valores nulos o erróneos. "
   ]
  },
  {
   "cell_type": "code",
   "execution_count": 96,
   "metadata": {},
   "outputs": [
    {
     "data": {
      "text/plain": [
       "Index(['persona_id', 'anio_id', 'movilidad_posgrado_exterior',\n",
       "       'movilidad_estancias_exterior', 'produccion_cantidad_articulos_total',\n",
       "       'produccion_cantidad_articulos_SJR_Q1',\n",
       "       'produccion_cantidad_articulos_SJR_Q2',\n",
       "       'produccion_cantidad_articulos_SJR_Q3',\n",
       "       'produccion_cantidad_articulos_SJR_Q4',\n",
       "       'produccion_cantidad_articulos_NBR',\n",
       "       'produccion_cantidad_capitulos_libro', 'produccion_cantidad_libros',\n",
       "       'produccion_patentes_solicitadas', 'produccion_patentes_otorgadas',\n",
       "       'actividad_evaluacion_rrhh_becarios',\n",
       "       'actividad_evaluacion_rrhh_investigadores',\n",
       "       'actividad_evaluacion_rrhh_premios',\n",
       "       'actividad_evaluacion_comite_editorial_nacional',\n",
       "       'actividad_evaluacion_referato_nacional',\n",
       "       'actividad_evaluacion_comite_editorial_internacional',\n",
       "       'actividad_evaluacion_referato_internacional',\n",
       "       'actividad_evaluacion_proyectos', 'proyectos_direccion',\n",
       "       'formacion_participacion_taller', 'formacion_participacion_conferencia',\n",
       "       'produccion_publicacion_congreso', 'membresia_asociaciones_cyt',\n",
       "       'movilidad_posdoctorado_exterior', 'proyectos_financiamiento_externo'],\n",
       "      dtype='object')"
      ]
     },
     "execution_count": 96,
     "metadata": {},
     "output_type": "execute_result"
    }
   ],
   "source": [
    "ind_gen_2017.columns"
   ]
  },
  {
   "cell_type": "code",
   "execution_count": 97,
   "metadata": {},
   "outputs": [],
   "source": [
    "#Se eliminan columnas que no se utilizarán\n",
    "ind_gen_2017.drop(columns=['anio_id','produccion_cantidad_capitulos_libro',\n",
    "                          'produccion_cantidad_articulos_SJR_Q1',\n",
    "       'produccion_cantidad_articulos_SJR_Q2',\n",
    "       'produccion_cantidad_articulos_SJR_Q3',\n",
    "       'produccion_cantidad_articulos_SJR_Q4',\n",
    "       'produccion_cantidad_articulos_NBR','produccion_cantidad_articulos_total'],inplace=True)"
   ]
  },
  {
   "cell_type": "markdown",
   "metadata": {},
   "source": [
    "#Se hace un merge con personas_2017"
   ]
  },
  {
   "cell_type": "code",
   "execution_count": 98,
   "metadata": {},
   "outputs": [],
   "source": [
    "personas_2017=pd.merge(ind_gen_2017, personas_2017, how='left',left_on='persona_id',right_on='persona_id')"
   ]
  },
  {
   "cell_type": "code",
   "execution_count": 99,
   "metadata": {},
   "outputs": [
    {
     "data": {
      "text/plain": [
       "sexo                    2794\n",
       "prod_ultimo_año         2794\n",
       "prod_año_ant            2794\n",
       "prod_2_años_ant         2794\n",
       "prod_3_años_ant         2794\n",
       "max_grado_academico     2794\n",
       "gran_area_experticia    2794\n",
       "tipo_personal           2794\n",
       "condicion_docente       2794\n",
       "ded_horaria_docente     2794\n",
       "clase_cargo_docente     2794\n",
       "categoria_conicet       2794\n",
       "rango_edad              2794\n",
       "dtype: int64"
      ]
     },
     "execution_count": 99,
     "metadata": {},
     "output_type": "execute_result"
    }
   ],
   "source": [
    "#revisamos si se encontraron todas las personas. Hay 2794 personas que estaban en la base de ind_gen_2017 que no se\n",
    "#encontraron en la base de personas 2017. \n",
    "null_columns=personas_2017.columns[personas_2017.isnull().any()]\n",
    "personas_2017[null_columns].isnull().sum()"
   ]
  },
  {
   "cell_type": "code",
   "execution_count": 100,
   "metadata": {},
   "outputs": [
    {
     "data": {
      "text/plain": [
       "(65347, 34)"
      ]
     },
     "execution_count": 100,
     "metadata": {},
     "output_type": "execute_result"
    }
   ],
   "source": [
    "personas_2017.shape"
   ]
  },
  {
   "cell_type": "code",
   "execution_count": 101,
   "metadata": {},
   "outputs": [],
   "source": [
    "#Se eliminan\n",
    "personas_2017=personas_2017.dropna()"
   ]
  },
  {
   "cell_type": "code",
   "execution_count": 102,
   "metadata": {},
   "outputs": [
    {
     "data": {
      "text/plain": [
       "(62553, 34)"
      ]
     },
     "execution_count": 102,
     "metadata": {},
     "output_type": "execute_result"
    }
   ],
   "source": [
    "personas_2017.shape"
   ]
  },
  {
   "cell_type": "code",
   "execution_count": 103,
   "metadata": {},
   "outputs": [],
   "source": [
    "#Se lee la tabla de personas 2012 para comparar las columnas y ver si están en el mismo orden\n",
    "personas_2012=pd.read_csv('personas_2012_2016.csv',sep=\",\")"
   ]
  },
  {
   "cell_type": "code",
   "execution_count": 104,
   "metadata": {},
   "outputs": [
    {
     "data": {
      "text/html": [
       "<div>\n",
       "<style scoped>\n",
       "    .dataframe tbody tr th:only-of-type {\n",
       "        vertical-align: middle;\n",
       "    }\n",
       "\n",
       "    .dataframe tbody tr th {\n",
       "        vertical-align: top;\n",
       "    }\n",
       "\n",
       "    .dataframe thead th {\n",
       "        text-align: right;\n",
       "    }\n",
       "</style>\n",
       "<table border=\"1\" class=\"dataframe\">\n",
       "  <thead>\n",
       "    <tr style=\"text-align: right;\">\n",
       "      <th></th>\n",
       "      <th>Unnamed: 0</th>\n",
       "      <th>persona_id</th>\n",
       "      <th>publico_articulos</th>\n",
       "      <th>cant_articulos_prestigio</th>\n",
       "      <th>publico_prestigio</th>\n",
       "      <th>produccion_cantidad_articulos_total</th>\n",
       "      <th>movilidad_posgrado_exterior</th>\n",
       "      <th>movilidad_estancias_exterior</th>\n",
       "      <th>produccion_cantidad_libros</th>\n",
       "      <th>produccion_patentes_solicitadas</th>\n",
       "      <th>...</th>\n",
       "      <th>prod_2_años_ant</th>\n",
       "      <th>prod_3_años_ant</th>\n",
       "      <th>max_grado_academico</th>\n",
       "      <th>gran_area_experticia</th>\n",
       "      <th>tipo_personal</th>\n",
       "      <th>condicion_docente</th>\n",
       "      <th>ded_horaria_docente</th>\n",
       "      <th>clase_cargo_docente</th>\n",
       "      <th>categoria_conicet</th>\n",
       "      <th>rango_edad</th>\n",
       "    </tr>\n",
       "  </thead>\n",
       "  <tbody>\n",
       "    <tr>\n",
       "      <th>0</th>\n",
       "      <td>2</td>\n",
       "      <td>7</td>\n",
       "      <td>1</td>\n",
       "      <td>7</td>\n",
       "      <td>1</td>\n",
       "      <td>8</td>\n",
       "      <td>0.0</td>\n",
       "      <td>0.0</td>\n",
       "      <td>0.0</td>\n",
       "      <td>0.0</td>\n",
       "      <td>...</td>\n",
       "      <td>2.0</td>\n",
       "      <td>0.0</td>\n",
       "      <td>Universitario de grado</td>\n",
       "      <td>CIENCIAS MÉDICAS Y DE LA SALUD</td>\n",
       "      <td>BECARIO DE I+D</td>\n",
       "      <td>no docente</td>\n",
       "      <td>0</td>\n",
       "      <td>no docente</td>\n",
       "      <td>No pertenece a Conicet</td>\n",
       "      <td>(30, 40]</td>\n",
       "    </tr>\n",
       "    <tr>\n",
       "      <th>1</th>\n",
       "      <td>3</td>\n",
       "      <td>9</td>\n",
       "      <td>1</td>\n",
       "      <td>8</td>\n",
       "      <td>1</td>\n",
       "      <td>8</td>\n",
       "      <td>0.0</td>\n",
       "      <td>0.0</td>\n",
       "      <td>0.0</td>\n",
       "      <td>0.0</td>\n",
       "      <td>...</td>\n",
       "      <td>9.0</td>\n",
       "      <td>2.0</td>\n",
       "      <td>Universitario de posgrado/doctorado</td>\n",
       "      <td>CIENCIAS MÉDICAS Y DE LA SALUD</td>\n",
       "      <td>INVESTIGADOR</td>\n",
       "      <td>no docente</td>\n",
       "      <td>0</td>\n",
       "      <td>no docente</td>\n",
       "      <td>No pertenece a Conicet</td>\n",
       "      <td>(60, 70]</td>\n",
       "    </tr>\n",
       "    <tr>\n",
       "      <th>2</th>\n",
       "      <td>4</td>\n",
       "      <td>10</td>\n",
       "      <td>1</td>\n",
       "      <td>7</td>\n",
       "      <td>1</td>\n",
       "      <td>8</td>\n",
       "      <td>0.0</td>\n",
       "      <td>0.0</td>\n",
       "      <td>0.0</td>\n",
       "      <td>0.0</td>\n",
       "      <td>...</td>\n",
       "      <td>1.0</td>\n",
       "      <td>2.0</td>\n",
       "      <td>Universitario de grado</td>\n",
       "      <td>CIENCIAS NATURALES Y EXACTAS</td>\n",
       "      <td>DOCENTE</td>\n",
       "      <td>Regular o por concurso</td>\n",
       "      <td>De 0 hasta 19 horas</td>\n",
       "      <td>Ayudante de primera</td>\n",
       "      <td>No pertenece a Conicet</td>\n",
       "      <td>(50, 60]</td>\n",
       "    </tr>\n",
       "    <tr>\n",
       "      <th>3</th>\n",
       "      <td>6</td>\n",
       "      <td>12</td>\n",
       "      <td>1</td>\n",
       "      <td>1</td>\n",
       "      <td>1</td>\n",
       "      <td>1</td>\n",
       "      <td>0.0</td>\n",
       "      <td>0.0</td>\n",
       "      <td>0.0</td>\n",
       "      <td>0.0</td>\n",
       "      <td>...</td>\n",
       "      <td>1.0</td>\n",
       "      <td>0.0</td>\n",
       "      <td>Universitario de posgrado/doctorado</td>\n",
       "      <td>INGENIERÍAS Y TECNOLOGÍAS</td>\n",
       "      <td>DOCENTE</td>\n",
       "      <td>Regular o por concurso</td>\n",
       "      <td>40 horas o más</td>\n",
       "      <td>Profesor asociado</td>\n",
       "      <td>No pertenece a Conicet</td>\n",
       "      <td>(40, 50]</td>\n",
       "    </tr>\n",
       "    <tr>\n",
       "      <th>4</th>\n",
       "      <td>7</td>\n",
       "      <td>13</td>\n",
       "      <td>1</td>\n",
       "      <td>0</td>\n",
       "      <td>0</td>\n",
       "      <td>1</td>\n",
       "      <td>0.0</td>\n",
       "      <td>0.0</td>\n",
       "      <td>0.0</td>\n",
       "      <td>0.0</td>\n",
       "      <td>...</td>\n",
       "      <td>0.0</td>\n",
       "      <td>0.0</td>\n",
       "      <td>Universitario de grado</td>\n",
       "      <td>CIENCIAS SOCIALES</td>\n",
       "      <td>DOCENTE</td>\n",
       "      <td>Regular o por concurso</td>\n",
       "      <td>De 0 hasta 19 horas</td>\n",
       "      <td>Ayudante de primera</td>\n",
       "      <td>No pertenece a Conicet</td>\n",
       "      <td>(40, 50]</td>\n",
       "    </tr>\n",
       "  </tbody>\n",
       "</table>\n",
       "<p>5 rows × 39 columns</p>\n",
       "</div>"
      ],
      "text/plain": [
       "   Unnamed: 0  persona_id  publico_articulos  cant_articulos_prestigio  \\\n",
       "0           2           7                  1                         7   \n",
       "1           3           9                  1                         8   \n",
       "2           4          10                  1                         7   \n",
       "3           6          12                  1                         1   \n",
       "4           7          13                  1                         0   \n",
       "\n",
       "   publico_prestigio  produccion_cantidad_articulos_total  \\\n",
       "0                  1                                    8   \n",
       "1                  1                                    8   \n",
       "2                  1                                    8   \n",
       "3                  1                                    1   \n",
       "4                  0                                    1   \n",
       "\n",
       "   movilidad_posgrado_exterior  movilidad_estancias_exterior  \\\n",
       "0                          0.0                           0.0   \n",
       "1                          0.0                           0.0   \n",
       "2                          0.0                           0.0   \n",
       "3                          0.0                           0.0   \n",
       "4                          0.0                           0.0   \n",
       "\n",
       "   produccion_cantidad_libros  produccion_patentes_solicitadas     ...      \\\n",
       "0                         0.0                              0.0     ...       \n",
       "1                         0.0                              0.0     ...       \n",
       "2                         0.0                              0.0     ...       \n",
       "3                         0.0                              0.0     ...       \n",
       "4                         0.0                              0.0     ...       \n",
       "\n",
       "   prod_2_años_ant  prod_3_años_ant                  max_grado_academico  \\\n",
       "0              2.0              0.0               Universitario de grado   \n",
       "1              9.0              2.0  Universitario de posgrado/doctorado   \n",
       "2              1.0              2.0               Universitario de grado   \n",
       "3              1.0              0.0  Universitario de posgrado/doctorado   \n",
       "4              0.0              0.0               Universitario de grado   \n",
       "\n",
       "             gran_area_experticia   tipo_personal       condicion_docente  \\\n",
       "0  CIENCIAS MÉDICAS Y DE LA SALUD  BECARIO DE I+D              no docente   \n",
       "1  CIENCIAS MÉDICAS Y DE LA SALUD    INVESTIGADOR              no docente   \n",
       "2    CIENCIAS NATURALES Y EXACTAS         DOCENTE  Regular o por concurso   \n",
       "3       INGENIERÍAS Y TECNOLOGÍAS         DOCENTE  Regular o por concurso   \n",
       "4               CIENCIAS SOCIALES         DOCENTE  Regular o por concurso   \n",
       "\n",
       "   ded_horaria_docente  clase_cargo_docente       categoria_conicet  \\\n",
       "0                    0           no docente  No pertenece a Conicet   \n",
       "1                    0           no docente  No pertenece a Conicet   \n",
       "2  De 0 hasta 19 horas  Ayudante de primera  No pertenece a Conicet   \n",
       "3       40 horas o más    Profesor asociado  No pertenece a Conicet   \n",
       "4  De 0 hasta 19 horas  Ayudante de primera  No pertenece a Conicet   \n",
       "\n",
       "   rango_edad  \n",
       "0    (30, 40]  \n",
       "1    (60, 70]  \n",
       "2    (50, 60]  \n",
       "3    (40, 50]  \n",
       "4    (40, 50]  \n",
       "\n",
       "[5 rows x 39 columns]"
      ]
     },
     "execution_count": 104,
     "metadata": {},
     "output_type": "execute_result"
    }
   ],
   "source": [
    "personas_2012.head()"
   ]
  },
  {
   "cell_type": "code",
   "execution_count": 105,
   "metadata": {},
   "outputs": [
    {
     "data": {
      "text/plain": [
       "(56052, 39)"
      ]
     },
     "execution_count": 105,
     "metadata": {},
     "output_type": "execute_result"
    }
   ],
   "source": [
    "personas_2012.shape"
   ]
  },
  {
   "cell_type": "code",
   "execution_count": 106,
   "metadata": {},
   "outputs": [
    {
     "data": {
      "text/plain": [
       "Index(['persona_id', 'movilidad_posgrado_exterior',\n",
       "       'movilidad_estancias_exterior', 'produccion_cantidad_libros',\n",
       "       'produccion_patentes_solicitadas', 'produccion_patentes_otorgadas',\n",
       "       'actividad_evaluacion_rrhh_becarios',\n",
       "       'actividad_evaluacion_rrhh_investigadores',\n",
       "       'actividad_evaluacion_rrhh_premios',\n",
       "       'actividad_evaluacion_comite_editorial_nacional',\n",
       "       'actividad_evaluacion_referato_nacional',\n",
       "       'actividad_evaluacion_comite_editorial_internacional',\n",
       "       'actividad_evaluacion_referato_internacional',\n",
       "       'actividad_evaluacion_proyectos', 'proyectos_direccion',\n",
       "       'formacion_participacion_taller', 'formacion_participacion_conferencia',\n",
       "       'produccion_publicacion_congreso', 'membresia_asociaciones_cyt',\n",
       "       'movilidad_posdoctorado_exterior', 'proyectos_financiamiento_externo',\n",
       "       'sexo', 'prod_ultimo_año', 'prod_año_ant', 'prod_2_años_ant',\n",
       "       'prod_3_años_ant', 'max_grado_academico', 'gran_area_experticia',\n",
       "       'tipo_personal', 'condicion_docente', 'ded_horaria_docente',\n",
       "       'clase_cargo_docente', 'categoria_conicet', 'rango_edad'],\n",
       "      dtype='object')"
      ]
     },
     "execution_count": 106,
     "metadata": {},
     "output_type": "execute_result"
    }
   ],
   "source": [
    "personas_2017.columns"
   ]
  },
  {
   "cell_type": "code",
   "execution_count": 107,
   "metadata": {},
   "outputs": [
    {
     "data": {
      "text/plain": [
       "(62553, 34)"
      ]
     },
     "execution_count": 107,
     "metadata": {},
     "output_type": "execute_result"
    }
   ],
   "source": [
    "personas_2017.shape"
   ]
  },
  {
   "cell_type": "code",
   "execution_count": 108,
   "metadata": {},
   "outputs": [
    {
     "data": {
      "text/plain": [
       "(56052, 39)"
      ]
     },
     "execution_count": 108,
     "metadata": {},
     "output_type": "execute_result"
    }
   ],
   "source": [
    "personas_2012.shape"
   ]
  },
  {
   "cell_type": "code",
   "execution_count": 109,
   "metadata": {},
   "outputs": [
    {
     "data": {
      "text/plain": [
       "Index(['Unnamed: 0', 'persona_id', 'publico_articulos',\n",
       "       'cant_articulos_prestigio', 'publico_prestigio',\n",
       "       'produccion_cantidad_articulos_total', 'movilidad_posgrado_exterior',\n",
       "       'movilidad_estancias_exterior', 'produccion_cantidad_libros',\n",
       "       'produccion_patentes_solicitadas', 'produccion_patentes_otorgadas',\n",
       "       'actividad_evaluacion_rrhh_becarios',\n",
       "       'actividad_evaluacion_rrhh_investigadores',\n",
       "       'actividad_evaluacion_rrhh_premios',\n",
       "       'actividad_evaluacion_comite_editorial_nacional',\n",
       "       'actividad_evaluacion_referato_nacional',\n",
       "       'actividad_evaluacion_comite_editorial_internacional',\n",
       "       'actividad_evaluacion_referato_internacional',\n",
       "       'actividad_evaluacion_proyectos', 'proyectos_direccion',\n",
       "       'formacion_participacion_taller', 'formacion_participacion_conferencia',\n",
       "       'produccion_publicacion_congreso', 'membresia_asociaciones_cyt',\n",
       "       'movilidad_posdoctorado_exterior', 'proyectos_financiamiento_externo',\n",
       "       'sexo', 'prod_ultimo_año', 'prod_año_ant', 'prod_2_años_ant',\n",
       "       'prod_3_años_ant', 'max_grado_academico', 'gran_area_experticia',\n",
       "       'tipo_personal', 'condicion_docente', 'ded_horaria_docente',\n",
       "       'clase_cargo_docente', 'categoria_conicet', 'rango_edad'],\n",
       "      dtype='object')"
      ]
     },
     "execution_count": 109,
     "metadata": {},
     "output_type": "execute_result"
    }
   ],
   "source": [
    "personas_2012.columns"
   ]
  },
  {
   "cell_type": "code",
   "execution_count": 110,
   "metadata": {},
   "outputs": [],
   "source": [
    "#Las columnas son las mismas, sólo se diferencias en las target que, para el caso de la estimación, no las necesitaremos.\n",
    "#Se generan las dummies\n",
    "df=personas_2017"
   ]
  },
  {
   "cell_type": "code",
   "execution_count": 111,
   "metadata": {},
   "outputs": [],
   "source": [
    "#Se generan dummies para sexo \n",
    "df_dummies = pd.get_dummies(df['sexo'], prefix='sexo',drop_first=True)\n",
    "df=pd.concat([df,df_dummies], axis=1)\n",
    "df.drop(columns='sexo',inplace=True)"
   ]
  },
  {
   "cell_type": "code",
   "execution_count": 112,
   "metadata": {},
   "outputs": [],
   "source": [
    "#Se generan dummies para rango_edad \n",
    "df_dummies = pd.get_dummies(df['rango_edad'], prefix='edad',drop_first=True)\n",
    "df=pd.concat([df,df_dummies], axis=1)\n",
    "df.drop(columns='rango_edad',inplace=True)"
   ]
  },
  {
   "cell_type": "code",
   "execution_count": 113,
   "metadata": {},
   "outputs": [],
   "source": [
    "#Se generan dummies para tipo_personal\n",
    "df_dummies = pd.get_dummies(df['tipo_personal'], prefix='t_personal',drop_first=True)\n",
    "df=pd.concat([df,df_dummies], axis=1)\n",
    "df.drop(columns='tipo_personal',inplace=True)"
   ]
  },
  {
   "cell_type": "code",
   "execution_count": 114,
   "metadata": {},
   "outputs": [],
   "source": [
    "#Se generan dummies para condicion_docente\n",
    "df_dummies = pd.get_dummies(df['condicion_docente'], prefix='cond_docente',drop_first=True)\n",
    "df=pd.concat([df,df_dummies], axis=1)\n",
    "df.drop(columns='condicion_docente',inplace=True)"
   ]
  },
  {
   "cell_type": "code",
   "execution_count": 115,
   "metadata": {},
   "outputs": [],
   "source": [
    "#Se generan dummies para ded_horaria_docente\n",
    "df_dummies = pd.get_dummies(df['ded_horaria_docente'], prefix='ded_horaria',drop_first=True)\n",
    "df=pd.concat([df,df_dummies], axis=1)\n",
    "df.drop(columns='ded_horaria_docente',inplace=True)"
   ]
  },
  {
   "cell_type": "code",
   "execution_count": 116,
   "metadata": {},
   "outputs": [],
   "source": [
    "#Se generan dummies para max_grado_academico\n",
    "df_dummies = pd.get_dummies(df['max_grado_academico'], prefix='grado_acad',drop_first=True)\n",
    "df=pd.concat([df,df_dummies], axis=1)\n",
    "df.drop(columns='max_grado_academico',inplace=True)"
   ]
  },
  {
   "cell_type": "code",
   "execution_count": 117,
   "metadata": {},
   "outputs": [],
   "source": [
    "#Se generan dummies para categoria_conicet\n",
    "df_dummies = pd.get_dummies(df['categoria_conicet'], prefix='cat_conicet',drop_first=True)\n",
    "df=pd.concat([df,df_dummies], axis=1)\n",
    "df.drop(columns='categoria_conicet',inplace=True)"
   ]
  },
  {
   "cell_type": "code",
   "execution_count": 118,
   "metadata": {},
   "outputs": [],
   "source": [
    "#Se generan dummies para clase_cargo_docente\n",
    "df_dummies = pd.get_dummies(df['clase_cargo_docente'], prefix='clase_cargo_docente',drop_first=True)\n",
    "df=pd.concat([df,df_dummies], axis=1)\n",
    "df.drop(columns='clase_cargo_docente',inplace=True)"
   ]
  },
  {
   "cell_type": "code",
   "execution_count": 119,
   "metadata": {},
   "outputs": [],
   "source": [
    "#Se generan dummies para 'gran_area_experticia'\n",
    "df_dummies = pd.get_dummies(df['gran_area_experticia'], prefix='area_exp',drop_first=True)\n",
    "df=pd.concat([df,df_dummies], axis=1)\n",
    "df.drop(columns='gran_area_experticia',inplace=True)"
   ]
  },
  {
   "cell_type": "code",
   "execution_count": 120,
   "metadata": {},
   "outputs": [
    {
     "data": {
      "text/html": [
       "<div>\n",
       "<style scoped>\n",
       "    .dataframe tbody tr th:only-of-type {\n",
       "        vertical-align: middle;\n",
       "    }\n",
       "\n",
       "    .dataframe tbody tr th {\n",
       "        vertical-align: top;\n",
       "    }\n",
       "\n",
       "    .dataframe thead th {\n",
       "        text-align: right;\n",
       "    }\n",
       "</style>\n",
       "<table border=\"1\" class=\"dataframe\">\n",
       "  <thead>\n",
       "    <tr style=\"text-align: right;\">\n",
       "      <th></th>\n",
       "      <th>persona_id</th>\n",
       "      <th>movilidad_posgrado_exterior</th>\n",
       "      <th>movilidad_estancias_exterior</th>\n",
       "      <th>produccion_cantidad_libros</th>\n",
       "      <th>produccion_patentes_solicitadas</th>\n",
       "      <th>produccion_patentes_otorgadas</th>\n",
       "      <th>actividad_evaluacion_rrhh_becarios</th>\n",
       "      <th>actividad_evaluacion_rrhh_investigadores</th>\n",
       "      <th>actividad_evaluacion_rrhh_premios</th>\n",
       "      <th>actividad_evaluacion_comite_editorial_nacional</th>\n",
       "      <th>...</th>\n",
       "      <th>clase_cargo_docente_Profesor por convenio</th>\n",
       "      <th>clase_cargo_docente_Profesor titular</th>\n",
       "      <th>clase_cargo_docente_Profesor titular plenario</th>\n",
       "      <th>clase_cargo_docente_Profesor visitante</th>\n",
       "      <th>clase_cargo_docente_no docente</th>\n",
       "      <th>area_exp_CIENCIAS MÉDICAS Y DE LA SALUD</th>\n",
       "      <th>area_exp_CIENCIAS NATURALES Y EXACTAS</th>\n",
       "      <th>area_exp_CIENCIAS SOCIALES</th>\n",
       "      <th>area_exp_HUMANIDADES</th>\n",
       "      <th>area_exp_INGENIERÍAS Y TECNOLOGÍAS</th>\n",
       "    </tr>\n",
       "  </thead>\n",
       "  <tbody>\n",
       "    <tr>\n",
       "      <th>1</th>\n",
       "      <td>5</td>\n",
       "      <td>0</td>\n",
       "      <td>0</td>\n",
       "      <td>0</td>\n",
       "      <td>0</td>\n",
       "      <td>0</td>\n",
       "      <td>0</td>\n",
       "      <td>0</td>\n",
       "      <td>0</td>\n",
       "      <td>0</td>\n",
       "      <td>...</td>\n",
       "      <td>0</td>\n",
       "      <td>1</td>\n",
       "      <td>0</td>\n",
       "      <td>0</td>\n",
       "      <td>0</td>\n",
       "      <td>0</td>\n",
       "      <td>1</td>\n",
       "      <td>0</td>\n",
       "      <td>0</td>\n",
       "      <td>0</td>\n",
       "    </tr>\n",
       "    <tr>\n",
       "      <th>2</th>\n",
       "      <td>7</td>\n",
       "      <td>0</td>\n",
       "      <td>1</td>\n",
       "      <td>0</td>\n",
       "      <td>0</td>\n",
       "      <td>0</td>\n",
       "      <td>0</td>\n",
       "      <td>0</td>\n",
       "      <td>1</td>\n",
       "      <td>0</td>\n",
       "      <td>...</td>\n",
       "      <td>0</td>\n",
       "      <td>0</td>\n",
       "      <td>0</td>\n",
       "      <td>0</td>\n",
       "      <td>0</td>\n",
       "      <td>1</td>\n",
       "      <td>0</td>\n",
       "      <td>0</td>\n",
       "      <td>0</td>\n",
       "      <td>0</td>\n",
       "    </tr>\n",
       "    <tr>\n",
       "      <th>3</th>\n",
       "      <td>9</td>\n",
       "      <td>0</td>\n",
       "      <td>0</td>\n",
       "      <td>0</td>\n",
       "      <td>0</td>\n",
       "      <td>0</td>\n",
       "      <td>0</td>\n",
       "      <td>1</td>\n",
       "      <td>0</td>\n",
       "      <td>0</td>\n",
       "      <td>...</td>\n",
       "      <td>0</td>\n",
       "      <td>0</td>\n",
       "      <td>0</td>\n",
       "      <td>0</td>\n",
       "      <td>1</td>\n",
       "      <td>1</td>\n",
       "      <td>0</td>\n",
       "      <td>0</td>\n",
       "      <td>0</td>\n",
       "      <td>0</td>\n",
       "    </tr>\n",
       "    <tr>\n",
       "      <th>4</th>\n",
       "      <td>10</td>\n",
       "      <td>0</td>\n",
       "      <td>0</td>\n",
       "      <td>0</td>\n",
       "      <td>0</td>\n",
       "      <td>0</td>\n",
       "      <td>0</td>\n",
       "      <td>0</td>\n",
       "      <td>0</td>\n",
       "      <td>0</td>\n",
       "      <td>...</td>\n",
       "      <td>0</td>\n",
       "      <td>0</td>\n",
       "      <td>0</td>\n",
       "      <td>0</td>\n",
       "      <td>0</td>\n",
       "      <td>0</td>\n",
       "      <td>1</td>\n",
       "      <td>0</td>\n",
       "      <td>0</td>\n",
       "      <td>0</td>\n",
       "    </tr>\n",
       "    <tr>\n",
       "      <th>5</th>\n",
       "      <td>11</td>\n",
       "      <td>0</td>\n",
       "      <td>0</td>\n",
       "      <td>0</td>\n",
       "      <td>0</td>\n",
       "      <td>0</td>\n",
       "      <td>0</td>\n",
       "      <td>0</td>\n",
       "      <td>0</td>\n",
       "      <td>0</td>\n",
       "      <td>...</td>\n",
       "      <td>0</td>\n",
       "      <td>1</td>\n",
       "      <td>0</td>\n",
       "      <td>0</td>\n",
       "      <td>0</td>\n",
       "      <td>0</td>\n",
       "      <td>0</td>\n",
       "      <td>1</td>\n",
       "      <td>0</td>\n",
       "      <td>0</td>\n",
       "    </tr>\n",
       "  </tbody>\n",
       "</table>\n",
       "<p>5 rows × 123 columns</p>\n",
       "</div>"
      ],
      "text/plain": [
       "   persona_id  movilidad_posgrado_exterior  movilidad_estancias_exterior  \\\n",
       "1           5                            0                             0   \n",
       "2           7                            0                             1   \n",
       "3           9                            0                             0   \n",
       "4          10                            0                             0   \n",
       "5          11                            0                             0   \n",
       "\n",
       "   produccion_cantidad_libros  produccion_patentes_solicitadas  \\\n",
       "1                           0                                0   \n",
       "2                           0                                0   \n",
       "3                           0                                0   \n",
       "4                           0                                0   \n",
       "5                           0                                0   \n",
       "\n",
       "   produccion_patentes_otorgadas  actividad_evaluacion_rrhh_becarios  \\\n",
       "1                              0                                   0   \n",
       "2                              0                                   0   \n",
       "3                              0                                   0   \n",
       "4                              0                                   0   \n",
       "5                              0                                   0   \n",
       "\n",
       "   actividad_evaluacion_rrhh_investigadores  \\\n",
       "1                                         0   \n",
       "2                                         0   \n",
       "3                                         1   \n",
       "4                                         0   \n",
       "5                                         0   \n",
       "\n",
       "   actividad_evaluacion_rrhh_premios  \\\n",
       "1                                  0   \n",
       "2                                  1   \n",
       "3                                  0   \n",
       "4                                  0   \n",
       "5                                  0   \n",
       "\n",
       "   actividad_evaluacion_comite_editorial_nacional  \\\n",
       "1                                               0   \n",
       "2                                               0   \n",
       "3                                               0   \n",
       "4                                               0   \n",
       "5                                               0   \n",
       "\n",
       "                  ...                  \\\n",
       "1                 ...                   \n",
       "2                 ...                   \n",
       "3                 ...                   \n",
       "4                 ...                   \n",
       "5                 ...                   \n",
       "\n",
       "   clase_cargo_docente_Profesor por convenio  \\\n",
       "1                                          0   \n",
       "2                                          0   \n",
       "3                                          0   \n",
       "4                                          0   \n",
       "5                                          0   \n",
       "\n",
       "   clase_cargo_docente_Profesor titular  \\\n",
       "1                                     1   \n",
       "2                                     0   \n",
       "3                                     0   \n",
       "4                                     0   \n",
       "5                                     1   \n",
       "\n",
       "   clase_cargo_docente_Profesor titular plenario  \\\n",
       "1                                              0   \n",
       "2                                              0   \n",
       "3                                              0   \n",
       "4                                              0   \n",
       "5                                              0   \n",
       "\n",
       "   clase_cargo_docente_Profesor visitante  clase_cargo_docente_no docente  \\\n",
       "1                                       0                               0   \n",
       "2                                       0                               0   \n",
       "3                                       0                               1   \n",
       "4                                       0                               0   \n",
       "5                                       0                               0   \n",
       "\n",
       "   area_exp_CIENCIAS MÉDICAS Y DE LA SALUD  \\\n",
       "1                                        0   \n",
       "2                                        1   \n",
       "3                                        1   \n",
       "4                                        0   \n",
       "5                                        0   \n",
       "\n",
       "   area_exp_CIENCIAS NATURALES Y EXACTAS  area_exp_CIENCIAS SOCIALES  \\\n",
       "1                                      1                           0   \n",
       "2                                      0                           0   \n",
       "3                                      0                           0   \n",
       "4                                      1                           0   \n",
       "5                                      0                           1   \n",
       "\n",
       "   area_exp_HUMANIDADES  area_exp_INGENIERÍAS Y TECNOLOGÍAS  \n",
       "1                     0                                   0  \n",
       "2                     0                                   0  \n",
       "3                     0                                   0  \n",
       "4                     0                                   0  \n",
       "5                     0                                   0  \n",
       "\n",
       "[5 rows x 123 columns]"
      ]
     },
     "execution_count": 120,
     "metadata": {},
     "output_type": "execute_result"
    }
   ],
   "source": [
    "df.head()"
   ]
  },
  {
   "cell_type": "code",
   "execution_count": 121,
   "metadata": {},
   "outputs": [
    {
     "data": {
      "text/plain": [
       "19546"
      ]
     },
     "execution_count": 121,
     "metadata": {},
     "output_type": "execute_result"
    }
   ],
   "source": [
    "df[\"produccion_cantidad_libros\"].sum()"
   ]
  },
  {
   "cell_type": "code",
   "execution_count": 123,
   "metadata": {},
   "outputs": [],
   "source": [
    "#se guarda nel archivo antes de estandarizan variables numericas\n",
    "personas_2017_sin_estandarizar=df\n",
    "personas_2017_sin_estandarizar.to_csv('personas_2017_sin_estandarizar.csv')"
   ]
  },
  {
   "cell_type": "code",
   "execution_count": null,
   "metadata": {},
   "outputs": [],
   "source": [
    "#Se estandarizan las variables numericas\n",
    "from sklearn.preprocessing import StandardScaler\n",
    "scaler = StandardScaler()\n",
    "df['prod_ultimo_año']=scaler.fit_transform(df[['prod_ultimo_año']])\n",
    "df['prod_año_ant']=scaler.fit_transform(df[['prod_año_ant']])\n",
    "df['prod_2_años_ant']=scaler.fit_transform(df[['prod_2_años_ant']])\n",
    "df['prod_3_años_ant']=scaler.fit_transform(df[['prod_3_años_ant']])\n",
    "df['produccion_cantidad_libros']=scaler.fit_transform(df[['produccion_cantidad_libros']])\n",
    "df['produccion_patentes_otorgadas']=scaler.fit_transform(df[['produccion_patentes_otorgadas']])\n",
    "df['produccion_patentes_solicitadas']=scaler.fit_transform(df[['produccion_patentes_solicitadas']])"
   ]
  },
  {
   "cell_type": "code",
   "execution_count": null,
   "metadata": {},
   "outputs": [],
   "source": [
    "personas_2017_para_estimar=df"
   ]
  },
  {
   "cell_type": "code",
   "execution_count": null,
   "metadata": {},
   "outputs": [],
   "source": [
    "personas_2017_para_estimar.shape"
   ]
  },
  {
   "cell_type": "code",
   "execution_count": null,
   "metadata": {},
   "outputs": [],
   "source": [
    "personas_2017_para_estimar.to_csv('personas_2017_para_estimar.csv')"
   ]
  },
  {
   "cell_type": "code",
   "execution_count": null,
   "metadata": {},
   "outputs": [],
   "source": []
  }
 ],
 "metadata": {
  "kernelspec": {
   "display_name": "Python 3",
   "language": "python",
   "name": "python3"
  },
  "language_info": {
   "codemirror_mode": {
    "name": "ipython",
    "version": 3
   },
   "file_extension": ".py",
   "mimetype": "text/x-python",
   "name": "python",
   "nbconvert_exporter": "python",
   "pygments_lexer": "ipython3",
   "version": "3.6.8"
  }
 },
 "nbformat": 4,
 "nbformat_minor": 2
}
